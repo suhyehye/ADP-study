{
 "cells": [
  {
   "cell_type": "code",
   "execution_count": 15,
   "id": "533dfc0d",
   "metadata": {},
   "outputs": [
    {
     "data": {
      "text/html": [
       "<div>\n",
       "<style scoped>\n",
       "    .dataframe tbody tr th:only-of-type {\n",
       "        vertical-align: middle;\n",
       "    }\n",
       "\n",
       "    .dataframe tbody tr th {\n",
       "        vertical-align: top;\n",
       "    }\n",
       "\n",
       "    .dataframe thead th {\n",
       "        text-align: right;\n",
       "    }\n",
       "</style>\n",
       "<table border=\"1\" class=\"dataframe\">\n",
       "  <thead>\n",
       "    <tr style=\"text-align: right;\">\n",
       "      <th></th>\n",
       "      <th>review</th>\n",
       "    </tr>\n",
       "  </thead>\n",
       "  <tbody>\n",
       "    <tr>\n",
       "      <th>0</th>\n",
       "      <td>별1개  준 사람들은   나베당임\\n</td>\n",
       "    </tr>\n",
       "    <tr>\n",
       "      <th>1</th>\n",
       "      <td>역쉬\\n</td>\n",
       "    </tr>\n",
       "    <tr>\n",
       "      <th>2</th>\n",
       "      <td>영화가 끝나고 가슴이 먹먹하고 답답햇습니다 너무나 충격적이었습니다..\\n</td>\n",
       "    </tr>\n",
       "    <tr>\n",
       "      <th>3</th>\n",
       "      <td>지금까지 나온 감독의 모든 작품이 압축되어있다는 느낌을 받음.  Bomb!!!\\n</td>\n",
       "    </tr>\n",
       "    <tr>\n",
       "      <th>4</th>\n",
       "      <td>대단한 영화. 몰입력 장난아님. 후아\\n</td>\n",
       "    </tr>\n",
       "  </tbody>\n",
       "</table>\n",
       "</div>"
      ],
      "text/plain": [
       "                                          review\n",
       "0                           별1개  준 사람들은   나베당임\\n\n",
       "1                                           역쉬\\n\n",
       "2       영화가 끝나고 가슴이 먹먹하고 답답햇습니다 너무나 충격적이었습니다..\\n\n",
       "3  지금까지 나온 감독의 모든 작품이 압축되어있다는 느낌을 받음.  Bomb!!!\\n\n",
       "4                         대단한 영화. 몰입력 장난아님. 후아\\n"
      ]
     },
     "execution_count": 15,
     "metadata": {},
     "output_type": "execute_result"
    }
   ],
   "source": [
    "import pandas as pd\n",
    "import numpy as np\n",
    "\n",
    "data = open('영화 기생충_review.txt')\n",
    "df = pd.DataFrame(data,columns = ['review'])\n",
    "df.head()"
   ]
  },
  {
   "cell_type": "markdown",
   "id": "2fef67b8",
   "metadata": {},
   "source": [
    "1. 데이터를 불러온 뒤, 숫자, 특수 문자 등을 제거하는 전처리 작업을 시행하시오. 그리고 '영화 기생충_review.txt'을 사전에 등록하시오"
   ]
  },
  {
   "cell_type": "code",
   "execution_count": 16,
   "id": "83e32ab1",
   "metadata": {},
   "outputs": [
    {
     "data": {
      "text/html": [
       "<div>\n",
       "<style scoped>\n",
       "    .dataframe tbody tr th:only-of-type {\n",
       "        vertical-align: middle;\n",
       "    }\n",
       "\n",
       "    .dataframe tbody tr th {\n",
       "        vertical-align: top;\n",
       "    }\n",
       "\n",
       "    .dataframe thead th {\n",
       "        text-align: right;\n",
       "    }\n",
       "</style>\n",
       "<table border=\"1\" class=\"dataframe\">\n",
       "  <thead>\n",
       "    <tr style=\"text-align: right;\">\n",
       "      <th></th>\n",
       "      <th>review</th>\n",
       "    </tr>\n",
       "  </thead>\n",
       "  <tbody>\n",
       "    <tr>\n",
       "      <th>0</th>\n",
       "      <td>별 개  준 사람들은   나베당임\\n</td>\n",
       "    </tr>\n",
       "    <tr>\n",
       "      <th>1</th>\n",
       "      <td>역쉬\\n</td>\n",
       "    </tr>\n",
       "    <tr>\n",
       "      <th>2</th>\n",
       "      <td>영화가 끝나고 가슴이 먹먹하고 답답햇습니다 너무나 충격적이었습니다  \\n</td>\n",
       "    </tr>\n",
       "    <tr>\n",
       "      <th>3</th>\n",
       "      <td>지금까지 나온 감독의 모든 작품이 압축되어있다는 느낌을 받음   Bomb   \\n</td>\n",
       "    </tr>\n",
       "    <tr>\n",
       "      <th>4</th>\n",
       "      <td>대단한 영화  몰입력 장난아님  후아\\n</td>\n",
       "    </tr>\n",
       "  </tbody>\n",
       "</table>\n",
       "</div>"
      ],
      "text/plain": [
       "                                          review\n",
       "0                           별 개  준 사람들은   나베당임\\n\n",
       "1                                           역쉬\\n\n",
       "2       영화가 끝나고 가슴이 먹먹하고 답답햇습니다 너무나 충격적이었습니다  \\n\n",
       "3  지금까지 나온 감독의 모든 작품이 압축되어있다는 느낌을 받음   Bomb   \\n\n",
       "4                         대단한 영화  몰입력 장난아님  후아\\n"
      ]
     },
     "execution_count": 16,
     "metadata": {},
     "output_type": "execute_result"
    }
   ],
   "source": [
    "import re\n",
    "df = df.fillna(' ')\n",
    "\n",
    "#숫자를 공백으로 변경\n",
    "df['review'] = df['review'].apply(lambda x: re.sub(r\"\\d+\", \" \", x))\n",
    "\n",
    "#특수문자를 공백으로 변환\n",
    "df['review'] = df['review'].apply(lambda x: re.sub('[-=+,#/\\?:^.@*\\\"※~ㆍ!』‘|\\(\\)\\[\\]`\\'…》\\”\\“\\’·]', ' ', x))\n",
    "\n",
    "df.head()"
   ]
  },
  {
   "cell_type": "markdown",
   "id": "3c58f705",
   "metadata": {},
   "source": [
    "2. TDM을 구축하고 빈도를 파악하고 시각화하시오. "
   ]
  },
  {
   "cell_type": "code",
   "execution_count": null,
   "id": "c8645f06",
   "metadata": {},
   "outputs": [],
   "source": []
  }
 ],
 "metadata": {
  "kernelspec": {
   "display_name": "Python 3",
   "language": "python",
   "name": "python3"
  },
  "language_info": {
   "codemirror_mode": {
    "name": "ipython",
    "version": 3
   },
   "file_extension": ".py",
   "mimetype": "text/x-python",
   "name": "python",
   "nbconvert_exporter": "python",
   "pygments_lexer": "ipython3",
   "version": "3.8.8"
  }
 },
 "nbformat": 4,
 "nbformat_minor": 5
}
