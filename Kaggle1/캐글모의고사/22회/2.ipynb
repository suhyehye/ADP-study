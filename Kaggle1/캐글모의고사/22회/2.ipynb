{
 "cells": [
  {
   "cell_type": "markdown",
   "metadata": {},
   "source": [
    "4. 제품에 금속 재질 함유량의 분산이 1.3을 넘으면 불량이라고 보고 있는데 제조사별로 차이가 난다고 제보를 받았으며, 분산에 대해 검정을 수행하시오.(유의확률 0.05)"
   ]
  },
  {
   "cell_type": "code",
   "execution_count": 1,
   "metadata": {},
   "outputs": [
    {
     "data": {
      "text/html": [
       "<div>\n",
       "<style scoped>\n",
       "    .dataframe tbody tr th:only-of-type {\n",
       "        vertical-align: middle;\n",
       "    }\n",
       "\n",
       "    .dataframe tbody tr th {\n",
       "        vertical-align: top;\n",
       "    }\n",
       "\n",
       "    .dataframe thead th {\n",
       "        text-align: right;\n",
       "    }\n",
       "</style>\n",
       "<table border=\"1\" class=\"dataframe\">\n",
       "  <thead>\n",
       "    <tr style=\"text-align: right;\">\n",
       "      <th></th>\n",
       "      <th>content</th>\n",
       "    </tr>\n",
       "  </thead>\n",
       "  <tbody>\n",
       "    <tr>\n",
       "      <th>0</th>\n",
       "      <td>97.995295</td>\n",
       "    </tr>\n",
       "    <tr>\n",
       "      <th>1</th>\n",
       "      <td>101.478315</td>\n",
       "    </tr>\n",
       "    <tr>\n",
       "      <th>2</th>\n",
       "      <td>102.284913</td>\n",
       "    </tr>\n",
       "    <tr>\n",
       "      <th>3</th>\n",
       "      <td>98.993634</td>\n",
       "    </tr>\n",
       "    <tr>\n",
       "      <th>4</th>\n",
       "      <td>104.635232</td>\n",
       "    </tr>\n",
       "  </tbody>\n",
       "</table>\n",
       "</div>"
      ],
      "text/plain": [
       "      content\n",
       "0   97.995295\n",
       "1  101.478315\n",
       "2  102.284913\n",
       "3   98.993634\n",
       "4  104.635232"
      ]
     },
     "execution_count": 1,
     "metadata": {},
     "output_type": "execute_result"
    }
   ],
   "source": [
    "import pandas as pd\n",
    "import numpy as np\n",
    "\n",
    "df = pd.read_csv('content.csv')\n",
    "df.head()"
   ]
  },
  {
   "cell_type": "code",
   "execution_count": 2,
   "metadata": {},
   "outputs": [
    {
     "name": "stdout",
     "output_type": "stream",
     "text": [
      "ShapiroResult(statistic=0.9930017590522766, pvalue=0.4605061113834381)\n"
     ]
    }
   ],
   "source": [
    "import scipy.stats as stats\n",
    "print(stats.shapiro(df['content']))"
   ]
  },
  {
   "cell_type": "markdown",
   "metadata": {},
   "source": [
    "귀무가설을 기각하지 못해 정규성을 띈다고 판단"
   ]
  },
  {
   "cell_type": "code",
   "execution_count": 3,
   "metadata": {},
   "outputs": [
    {
     "data": {
      "text/plain": [
       "array([101.47547132,  99.58759242,  99.21895037, 100.47407849,\n",
       "        98.22446663,  99.94960331, 101.28739995,  99.60077938,\n",
       "       100.14954224,  99.74058085, 100.19021593, 102.92564807,\n",
       "        98.92891683, 100.74147483, 100.61175765,  99.44245658,\n",
       "       100.10745402, 100.5209271 ,  99.72300248, 100.55114903,\n",
       "       100.78352481, 100.71969944, 100.31526267, 100.25092768,\n",
       "       102.03044344, 100.1958796 , 101.67837731,  99.73562473,\n",
       "       102.21455413, 100.07172654,  98.35651481, 101.53642179,\n",
       "       100.10767612, 100.3635882 , 103.82065242,  99.71712714,\n",
       "       101.75663248,  99.6018153 ,  98.26964546,  97.95415144,\n",
       "        99.88756807, 101.37137727, 102.55407948,  98.77137895,\n",
       "        99.87164413, 100.63200713,  98.3796994 , 100.85617096,\n",
       "        97.7237274 , 101.94587569, 101.02596257, 100.58045816,\n",
       "       100.09971586,  99.2819131 , 102.08481929, 100.97397987,\n",
       "        99.91936182, 101.16603746,  99.67777607, 101.57244026,\n",
       "       101.16957585, 100.76434466, 101.59123858,  99.25964741,\n",
       "       101.72541271, 101.06724273, 100.34600588, 102.26792049,\n",
       "       101.15887996, 100.95825784,  98.6059004 , 100.00790295,\n",
       "        98.17518612, 100.34080844,  98.87387358,  99.79428529,\n",
       "       100.32668205,  99.5131327 ,  99.78532729, 100.57421884,\n",
       "       100.15919179,  98.92100688, 100.95424717,  99.84654803,\n",
       "        99.55058667,  98.6019678 ,  99.66932171, 101.13148939,\n",
       "       100.07913779, 100.3103551 ,  98.54180662,  99.26323326,\n",
       "       101.60630498,  99.27430892,  98.93783783, 101.67373702,\n",
       "        98.40155058,  98.80854728,  99.77235117, 101.99941753,\n",
       "        99.84029196, 102.03930301,  99.84575684, 100.26423204,\n",
       "       101.84959478, 101.39730131, 100.58216378,  99.48114888,\n",
       "        98.91581064,  99.8162455 , 101.16050515, 100.34590762,\n",
       "       100.53241999,  99.83626691, 101.43089645, 101.41211654,\n",
       "        99.95717278,  98.93621405, 101.23820202, 100.5498    ,\n",
       "        98.62698761,  98.70435987,  99.10240305, 100.37484727,\n",
       "       100.51887449,  99.7914802 , 101.36388268, 101.37939626,\n",
       "       100.29966159, 102.88385451,  99.98485897,  99.09726201,\n",
       "       100.4890249 ,  99.30592753, 100.37038917,  99.54199989,\n",
       "        99.71333337, 101.08552129, 100.37182428, 100.07778821,\n",
       "       100.79641943, 100.38626854,  98.24581495,  99.70507263,\n",
       "       101.07753648,  98.74048682,  99.38985936,  99.28838096,\n",
       "        99.93637897, 102.03860327])"
      ]
     },
     "execution_count": 3,
     "metadata": {},
     "output_type": "execute_result"
    }
   ],
   "source": [
    "test = np.random.normal(df['content'].mean(),1.3**0.5, 150)\n",
    "test"
   ]
  },
  {
   "cell_type": "code",
   "execution_count": 5,
   "metadata": {},
   "outputs": [
    {
     "data": {
      "text/plain": [
       "LeveneResult(statistic=7.740837264758262, pvalue=0.005692900176785349)"
      ]
     },
     "execution_count": 5,
     "metadata": {},
     "output_type": "execute_result"
    }
   ],
   "source": [
    "stats.levene(df['content'],test)"
   ]
  },
  {
   "cell_type": "code",
   "execution_count": null,
   "metadata": {},
   "outputs": [],
   "source": []
  }
 ],
 "metadata": {
  "interpreter": {
   "hash": "29a5d830ee5eb5eabdb10511c29aaced43bbb583532fb9ecb44e50060afee3b8"
  },
  "kernelspec": {
   "display_name": "Python 3.10.5 64-bit (windows store)",
   "language": "python",
   "name": "python3"
  },
  "language_info": {
   "codemirror_mode": {
    "name": "ipython",
    "version": 3
   },
   "file_extension": ".py",
   "mimetype": "text/x-python",
   "name": "python",
   "nbconvert_exporter": "python",
   "pygments_lexer": "ipython3",
   "version": "3.10.5"
  },
  "orig_nbformat": 4
 },
 "nbformat": 4,
 "nbformat_minor": 2
}
