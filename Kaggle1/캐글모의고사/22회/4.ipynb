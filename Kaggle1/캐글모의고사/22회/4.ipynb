{
 "cells": [
  {
   "cell_type": "markdown",
   "metadata": {},
   "source": [
    "상품 a와 b가 있을 때 다음과 같은 구매 패턴이 있다고 한다. aa bb aaaa bbbb a b aa bb aa bbb aa bb a b 구매하는 패턴으로 보아 두 상품의 패턴이 임의적인지 확인하라\n",
    "\n"
   ]
  },
  {
   "cell_type": "markdown",
   "metadata": {},
   "source": [
    "1. 연구가설과 귀무가설 작성\n",
    "- H0 : 연속적인 관측값이 임의적이다. \n",
    "- H1 : 연속적인 관측값이 임의적이지 않다. "
   ]
  },
  {
   "cell_type": "code",
   "execution_count": 1,
   "metadata": {},
   "outputs": [
    {
     "name": "stdout",
     "output_type": "stream",
     "text": [
      "mean :  15.482758620689655 std :  2.6408030342821784\n"
     ]
    }
   ],
   "source": [
    "a = 14\n",
    "b = 15\n",
    "\n",
    "mean = 2*a*b/(a+b) +1\n",
    "std = (2*a*b*(2*a*b-a-b)/(a+b)**2/(a+b-1))**0.5\n",
    "print('mean : ',mean, 'std : ',std)"
   ]
  },
  {
   "cell_type": "code",
   "execution_count": 2,
   "metadata": {},
   "outputs": [
    {
     "data": {
      "text/plain": [
       "(-0.3721438547031917, 0.7097857460625617)"
      ]
     },
     "execution_count": 2,
     "metadata": {},
     "output_type": "execute_result"
    }
   ],
   "source": [
    "from statsmodels.sandbox.stats.runs import runstest_1samp\n",
    "\n",
    "#귀무가설 : 랜덤생성\n",
    "#대립가설 : 랜덤생성이 아님\n",
    "#데이터 이진 변환, 각 패턴들을 구분지을 필요없이 하나로 연결\n",
    "\n",
    "x = [1,1,0,0,1,1,1,1,0,0,0,0,1,0,1,1,0,0,1,1,0,0,0,1,1,0,0,1,0]\n",
    "\n",
    "runstest_1samp(x, cutoff='mean',correction=True)"
   ]
  },
  {
   "cell_type": "code",
   "execution_count": null,
   "metadata": {},
   "outputs": [],
   "source": []
  }
 ],
 "metadata": {
  "interpreter": {
   "hash": "29a5d830ee5eb5eabdb10511c29aaced43bbb583532fb9ecb44e50060afee3b8"
  },
  "kernelspec": {
   "display_name": "Python 3.10.5 64-bit (windows store)",
   "language": "python",
   "name": "python3"
  },
  "language_info": {
   "codemirror_mode": {
    "name": "ipython",
    "version": 3
   },
   "file_extension": ".py",
   "mimetype": "text/x-python",
   "name": "python",
   "nbconvert_exporter": "python",
   "pygments_lexer": "ipython3",
   "version": "3.10.5"
  },
  "orig_nbformat": 4
 },
 "nbformat": 4,
 "nbformat_minor": 2
}
