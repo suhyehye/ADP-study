{
 "cells": [
  {
   "cell_type": "code",
   "execution_count": 1,
   "metadata": {},
   "outputs": [
    {
     "data": {
      "text/html": [
       "<div>\n",
       "<style scoped>\n",
       "    .dataframe tbody tr th:only-of-type {\n",
       "        vertical-align: middle;\n",
       "    }\n",
       "\n",
       "    .dataframe tbody tr th {\n",
       "        vertical-align: top;\n",
       "    }\n",
       "\n",
       "    .dataframe thead th {\n",
       "        text-align: right;\n",
       "    }\n",
       "</style>\n",
       "<table border=\"1\" class=\"dataframe\">\n",
       "  <thead>\n",
       "    <tr style=\"text-align: right;\">\n",
       "      <th></th>\n",
       "      <th>TIMESTAMP</th>\n",
       "      <th>BIOGAS</th>\n",
       "      <th>BIOMASS</th>\n",
       "      <th>GEOTHERMAL</th>\n",
       "      <th>Hour</th>\n",
       "      <th>SMALL HYDRO</th>\n",
       "      <th>SOLAR</th>\n",
       "      <th>SOLAR PV</th>\n",
       "      <th>SOLAR THERMAL</th>\n",
       "      <th>WIND TOTAL</th>\n",
       "    </tr>\n",
       "  </thead>\n",
       "  <tbody>\n",
       "    <tr>\n",
       "      <th>0</th>\n",
       "      <td>2012-11-26 00:00:00</td>\n",
       "      <td>208.0</td>\n",
       "      <td>354.0</td>\n",
       "      <td>926.0</td>\n",
       "      <td>1.0</td>\n",
       "      <td>208.0</td>\n",
       "      <td>NaN</td>\n",
       "      <td>0.0</td>\n",
       "      <td>0.0</td>\n",
       "      <td>57.0</td>\n",
       "    </tr>\n",
       "    <tr>\n",
       "      <th>1</th>\n",
       "      <td>2012-11-26 01:00:00</td>\n",
       "      <td>207.0</td>\n",
       "      <td>354.0</td>\n",
       "      <td>927.0</td>\n",
       "      <td>2.0</td>\n",
       "      <td>207.0</td>\n",
       "      <td>NaN</td>\n",
       "      <td>0.0</td>\n",
       "      <td>0.0</td>\n",
       "      <td>76.0</td>\n",
       "    </tr>\n",
       "    <tr>\n",
       "      <th>2</th>\n",
       "      <td>2012-11-26 02:00:00</td>\n",
       "      <td>208.0</td>\n",
       "      <td>353.0</td>\n",
       "      <td>927.0</td>\n",
       "      <td>3.0</td>\n",
       "      <td>208.0</td>\n",
       "      <td>NaN</td>\n",
       "      <td>0.0</td>\n",
       "      <td>0.0</td>\n",
       "      <td>100.0</td>\n",
       "    </tr>\n",
       "    <tr>\n",
       "      <th>3</th>\n",
       "      <td>2012-11-26 03:00:00</td>\n",
       "      <td>208.0</td>\n",
       "      <td>350.0</td>\n",
       "      <td>927.0</td>\n",
       "      <td>4.0</td>\n",
       "      <td>209.0</td>\n",
       "      <td>NaN</td>\n",
       "      <td>0.0</td>\n",
       "      <td>0.0</td>\n",
       "      <td>111.0</td>\n",
       "    </tr>\n",
       "    <tr>\n",
       "      <th>4</th>\n",
       "      <td>2012-11-26 04:00:00</td>\n",
       "      <td>209.0</td>\n",
       "      <td>352.0</td>\n",
       "      <td>927.0</td>\n",
       "      <td>5.0</td>\n",
       "      <td>209.0</td>\n",
       "      <td>NaN</td>\n",
       "      <td>0.0</td>\n",
       "      <td>0.0</td>\n",
       "      <td>131.0</td>\n",
       "    </tr>\n",
       "  </tbody>\n",
       "</table>\n",
       "</div>"
      ],
      "text/plain": [
       "             TIMESTAMP  BIOGAS  BIOMASS  GEOTHERMAL  Hour  SMALL HYDRO  SOLAR  \\\n",
       "0  2012-11-26 00:00:00   208.0    354.0       926.0   1.0        208.0    NaN   \n",
       "1  2012-11-26 01:00:00   207.0    354.0       927.0   2.0        207.0    NaN   \n",
       "2  2012-11-26 02:00:00   208.0    353.0       927.0   3.0        208.0    NaN   \n",
       "3  2012-11-26 03:00:00   208.0    350.0       927.0   4.0        209.0    NaN   \n",
       "4  2012-11-26 04:00:00   209.0    352.0       927.0   5.0        209.0    NaN   \n",
       "\n",
       "   SOLAR PV  SOLAR THERMAL  WIND TOTAL  \n",
       "0       0.0            0.0        57.0  \n",
       "1       0.0            0.0        76.0  \n",
       "2       0.0            0.0       100.0  \n",
       "3       0.0            0.0       111.0  \n",
       "4       0.0            0.0       131.0  "
      ]
     },
     "execution_count": 1,
     "metadata": {},
     "output_type": "execute_result"
    }
   ],
   "source": [
    "import pandas as pd\n",
    "df = pd.read_csv('problem3.csv')\n",
    "df.head()"
   ]
  },
  {
   "cell_type": "markdown",
   "metadata": {},
   "source": [
    "데이터 셋 분할 및 결과 검증\n",
    "\n",
    "- 데이터셋 7:3 분할\n",
    "- 데이터 전처리 및 예측 모델 생성\n",
    "- 모델 성능 검증 : RMSE, R-square, 정확도로 구하여라.\n",
    "- 정확도 : 실제값 > 예측값인 경우 (1-예측값/실제값), 실제값 < 예측값인 경우 (1- 실제값/예측값) 으로 하고 이것들을 평균낸 후 1에서 뺀 값으로 한다.\n",
    "- 최종 결과 : 소수점 3째자리 반올림"
   ]
  },
  {
   "cell_type": "code",
   "execution_count": 2,
   "metadata": {},
   "outputs": [
    {
     "name": "stdout",
     "output_type": "stream",
     "text": [
      "<class 'pandas.core.frame.DataFrame'>\n",
      "RangeIndex: 44904 entries, 0 to 44903\n",
      "Data columns (total 10 columns):\n",
      " #   Column         Non-Null Count  Dtype  \n",
      "---  ------         --------------  -----  \n",
      " 0   TIMESTAMP      44904 non-null  object \n",
      " 1   BIOGAS         44904 non-null  float64\n",
      " 2   BIOMASS        44904 non-null  float64\n",
      " 3   GEOTHERMAL     44904 non-null  float64\n",
      " 4   Hour           44904 non-null  float64\n",
      " 5   SMALL HYDRO    44904 non-null  float64\n",
      " 6   SOLAR          0 non-null      float64\n",
      " 7   SOLAR PV       44904 non-null  float64\n",
      " 8   SOLAR THERMAL  44904 non-null  float64\n",
      " 9   WIND TOTAL     44904 non-null  float64\n",
      "dtypes: float64(9), object(1)\n",
      "memory usage: 3.4+ MB\n"
     ]
    }
   ],
   "source": [
    "df.info()"
   ]
  },
  {
   "cell_type": "code",
   "execution_count": 3,
   "metadata": {},
   "outputs": [
    {
     "data": {
      "text/plain": [
       "TIMESTAMP            0\n",
       "BIOGAS               0\n",
       "BIOMASS              0\n",
       "GEOTHERMAL           0\n",
       "Hour                 0\n",
       "SMALL HYDRO          0\n",
       "SOLAR            44904\n",
       "SOLAR PV             0\n",
       "SOLAR THERMAL        0\n",
       "WIND TOTAL           0\n",
       "dtype: int64"
      ]
     },
     "execution_count": 3,
     "metadata": {},
     "output_type": "execute_result"
    }
   ],
   "source": [
    "df.isna().sum()"
   ]
  },
  {
   "cell_type": "markdown",
   "metadata": {},
   "source": [
    "SOLAR 컬럼에만 결측치가 존재하는 것을 확인(모든 컬럼 결측치)\n",
    "\n",
    "-> SOLAR 컬럼 삭제\n",
    "\n",
    "시계열 분석이 아닌 회귀분석을 진행하기 위해 TIMESTAMP 컬럼 또한 삭제"
   ]
  },
  {
   "cell_type": "code",
   "execution_count": 8,
   "metadata": {},
   "outputs": [
    {
     "data": {
      "text/html": [
       "<div>\n",
       "<style scoped>\n",
       "    .dataframe tbody tr th:only-of-type {\n",
       "        vertical-align: middle;\n",
       "    }\n",
       "\n",
       "    .dataframe tbody tr th {\n",
       "        vertical-align: top;\n",
       "    }\n",
       "\n",
       "    .dataframe thead th {\n",
       "        text-align: right;\n",
       "    }\n",
       "</style>\n",
       "<table border=\"1\" class=\"dataframe\">\n",
       "  <thead>\n",
       "    <tr style=\"text-align: right;\">\n",
       "      <th></th>\n",
       "      <th>BIOGAS</th>\n",
       "      <th>BIOMASS</th>\n",
       "      <th>GEOTHERMAL</th>\n",
       "      <th>Hour</th>\n",
       "      <th>SMALL HYDRO</th>\n",
       "      <th>SOLAR PV</th>\n",
       "      <th>SOLAR THERMAL</th>\n",
       "      <th>WIND TOTAL</th>\n",
       "    </tr>\n",
       "  </thead>\n",
       "  <tbody>\n",
       "    <tr>\n",
       "      <th>0</th>\n",
       "      <td>208.0</td>\n",
       "      <td>354.0</td>\n",
       "      <td>926.0</td>\n",
       "      <td>1.0</td>\n",
       "      <td>208.0</td>\n",
       "      <td>0.0</td>\n",
       "      <td>0.0</td>\n",
       "      <td>57.0</td>\n",
       "    </tr>\n",
       "    <tr>\n",
       "      <th>1</th>\n",
       "      <td>207.0</td>\n",
       "      <td>354.0</td>\n",
       "      <td>927.0</td>\n",
       "      <td>2.0</td>\n",
       "      <td>207.0</td>\n",
       "      <td>0.0</td>\n",
       "      <td>0.0</td>\n",
       "      <td>76.0</td>\n",
       "    </tr>\n",
       "    <tr>\n",
       "      <th>2</th>\n",
       "      <td>208.0</td>\n",
       "      <td>353.0</td>\n",
       "      <td>927.0</td>\n",
       "      <td>3.0</td>\n",
       "      <td>208.0</td>\n",
       "      <td>0.0</td>\n",
       "      <td>0.0</td>\n",
       "      <td>100.0</td>\n",
       "    </tr>\n",
       "    <tr>\n",
       "      <th>3</th>\n",
       "      <td>208.0</td>\n",
       "      <td>350.0</td>\n",
       "      <td>927.0</td>\n",
       "      <td>4.0</td>\n",
       "      <td>209.0</td>\n",
       "      <td>0.0</td>\n",
       "      <td>0.0</td>\n",
       "      <td>111.0</td>\n",
       "    </tr>\n",
       "    <tr>\n",
       "      <th>4</th>\n",
       "      <td>209.0</td>\n",
       "      <td>352.0</td>\n",
       "      <td>927.0</td>\n",
       "      <td>5.0</td>\n",
       "      <td>209.0</td>\n",
       "      <td>0.0</td>\n",
       "      <td>0.0</td>\n",
       "      <td>131.0</td>\n",
       "    </tr>\n",
       "  </tbody>\n",
       "</table>\n",
       "</div>"
      ],
      "text/plain": [
       "   BIOGAS  BIOMASS  GEOTHERMAL  Hour  SMALL HYDRO  SOLAR PV  SOLAR THERMAL  \\\n",
       "0   208.0    354.0       926.0   1.0        208.0       0.0            0.0   \n",
       "1   207.0    354.0       927.0   2.0        207.0       0.0            0.0   \n",
       "2   208.0    353.0       927.0   3.0        208.0       0.0            0.0   \n",
       "3   208.0    350.0       927.0   4.0        209.0       0.0            0.0   \n",
       "4   209.0    352.0       927.0   5.0        209.0       0.0            0.0   \n",
       "\n",
       "   WIND TOTAL  \n",
       "0        57.0  \n",
       "1        76.0  \n",
       "2       100.0  \n",
       "3       111.0  \n",
       "4       131.0  "
      ]
     },
     "execution_count": 8,
     "metadata": {},
     "output_type": "execute_result"
    }
   ],
   "source": [
    "df = df.drop(columns=['TIMESTAMP','SOLAR'])\n",
    "df.head()"
   ]
  },
  {
   "cell_type": "code",
   "execution_count": 9,
   "metadata": {},
   "outputs": [
    {
     "data": {
      "text/html": [
       "<div>\n",
       "<style scoped>\n",
       "    .dataframe tbody tr th:only-of-type {\n",
       "        vertical-align: middle;\n",
       "    }\n",
       "\n",
       "    .dataframe tbody tr th {\n",
       "        vertical-align: top;\n",
       "    }\n",
       "\n",
       "    .dataframe thead th {\n",
       "        text-align: right;\n",
       "    }\n",
       "</style>\n",
       "<table border=\"1\" class=\"dataframe\">\n",
       "  <thead>\n",
       "    <tr style=\"text-align: right;\">\n",
       "      <th></th>\n",
       "      <th>BIOGAS</th>\n",
       "      <th>BIOMASS</th>\n",
       "      <th>GEOTHERMAL</th>\n",
       "      <th>Hour</th>\n",
       "      <th>SMALL HYDRO</th>\n",
       "      <th>SOLAR PV</th>\n",
       "      <th>SOLAR THERMAL</th>\n",
       "      <th>WIND TOTAL</th>\n",
       "    </tr>\n",
       "  </thead>\n",
       "  <tbody>\n",
       "    <tr>\n",
       "      <th>count</th>\n",
       "      <td>44904.000000</td>\n",
       "      <td>44904.000000</td>\n",
       "      <td>44904.000000</td>\n",
       "      <td>44904.000000</td>\n",
       "      <td>44904.000000</td>\n",
       "      <td>44904.000000</td>\n",
       "      <td>44904.000000</td>\n",
       "      <td>44904.000000</td>\n",
       "    </tr>\n",
       "    <tr>\n",
       "      <th>mean</th>\n",
       "      <td>185.700405</td>\n",
       "      <td>283.616604</td>\n",
       "      <td>945.298882</td>\n",
       "      <td>12.500000</td>\n",
       "      <td>284.281200</td>\n",
       "      <td>1647.195706</td>\n",
       "      <td>117.254521</td>\n",
       "      <td>1478.654262</td>\n",
       "    </tr>\n",
       "    <tr>\n",
       "      <th>std</th>\n",
       "      <td>19.947924</td>\n",
       "      <td>59.600559</td>\n",
       "      <td>89.507178</td>\n",
       "      <td>6.922264</td>\n",
       "      <td>132.114683</td>\n",
       "      <td>2390.975782</td>\n",
       "      <td>188.736880</td>\n",
       "      <td>1135.239178</td>\n",
       "    </tr>\n",
       "    <tr>\n",
       "      <th>min</th>\n",
       "      <td>0.000000</td>\n",
       "      <td>0.000000</td>\n",
       "      <td>0.000000</td>\n",
       "      <td>1.000000</td>\n",
       "      <td>0.000000</td>\n",
       "      <td>0.000000</td>\n",
       "      <td>0.000000</td>\n",
       "      <td>0.000000</td>\n",
       "    </tr>\n",
       "    <tr>\n",
       "      <th>25%</th>\n",
       "      <td>172.000000</td>\n",
       "      <td>237.000000</td>\n",
       "      <td>883.000000</td>\n",
       "      <td>6.750000</td>\n",
       "      <td>176.000000</td>\n",
       "      <td>0.000000</td>\n",
       "      <td>0.000000</td>\n",
       "      <td>413.750000</td>\n",
       "    </tr>\n",
       "    <tr>\n",
       "      <th>50%</th>\n",
       "      <td>187.000000</td>\n",
       "      <td>283.000000</td>\n",
       "      <td>928.000000</td>\n",
       "      <td>12.500000</td>\n",
       "      <td>272.000000</td>\n",
       "      <td>3.000000</td>\n",
       "      <td>0.000000</td>\n",
       "      <td>1301.000000</td>\n",
       "    </tr>\n",
       "    <tr>\n",
       "      <th>75%</th>\n",
       "      <td>199.000000</td>\n",
       "      <td>332.000000</td>\n",
       "      <td>1011.000000</td>\n",
       "      <td>18.250000</td>\n",
       "      <td>374.000000</td>\n",
       "      <td>2955.000000</td>\n",
       "      <td>213.000000</td>\n",
       "      <td>2374.000000</td>\n",
       "    </tr>\n",
       "    <tr>\n",
       "      <th>max</th>\n",
       "      <td>248.000000</td>\n",
       "      <td>423.000000</td>\n",
       "      <td>1230.000000</td>\n",
       "      <td>24.000000</td>\n",
       "      <td>678.000000</td>\n",
       "      <td>9373.000000</td>\n",
       "      <td>725.000000</td>\n",
       "      <td>4914.000000</td>\n",
       "    </tr>\n",
       "  </tbody>\n",
       "</table>\n",
       "</div>"
      ],
      "text/plain": [
       "             BIOGAS       BIOMASS    GEOTHERMAL          Hour   SMALL HYDRO  \\\n",
       "count  44904.000000  44904.000000  44904.000000  44904.000000  44904.000000   \n",
       "mean     185.700405    283.616604    945.298882     12.500000    284.281200   \n",
       "std       19.947924     59.600559     89.507178      6.922264    132.114683   \n",
       "min        0.000000      0.000000      0.000000      1.000000      0.000000   \n",
       "25%      172.000000    237.000000    883.000000      6.750000    176.000000   \n",
       "50%      187.000000    283.000000    928.000000     12.500000    272.000000   \n",
       "75%      199.000000    332.000000   1011.000000     18.250000    374.000000   \n",
       "max      248.000000    423.000000   1230.000000     24.000000    678.000000   \n",
       "\n",
       "           SOLAR PV  SOLAR THERMAL    WIND TOTAL  \n",
       "count  44904.000000   44904.000000  44904.000000  \n",
       "mean    1647.195706     117.254521   1478.654262  \n",
       "std     2390.975782     188.736880   1135.239178  \n",
       "min        0.000000       0.000000      0.000000  \n",
       "25%        0.000000       0.000000    413.750000  \n",
       "50%        3.000000       0.000000   1301.000000  \n",
       "75%     2955.000000     213.000000   2374.000000  \n",
       "max     9373.000000     725.000000   4914.000000  "
      ]
     },
     "execution_count": 9,
     "metadata": {},
     "output_type": "execute_result"
    }
   ],
   "source": [
    "df.describe()"
   ]
  },
  {
   "cell_type": "code",
   "execution_count": 10,
   "metadata": {},
   "outputs": [
    {
     "data": {
      "image/png": "[encoded data removed]",
      "text/plain": [
       "<Figure size 1440x720 with 8 Axes>"
      ]
     },
     "metadata": {
      "needs_background": "light"
     },
     "output_type": "display_data"
    }
   ],
   "source": [
    "#이상치 확인\n",
    "import matplotlib.pyplot as plt\n",
    "\n",
    "df.plot(kind='box',subplots=True,layout=(2,4),figsize=(20,10))\n",
    "plt.tight_layout()\n",
    "plt.show()"
   ]
  },
  {
   "cell_type": "code",
   "execution_count": 11,
   "metadata": {},
   "outputs": [
    {
     "data": {
      "image/png": "[encoded data removed]",
      "text/plain": [
       "<Figure size 432x288 with 2 Axes>"
      ]
     },
     "metadata": {
      "needs_background": "light"
     },
     "output_type": "display_data"
    }
   ],
   "source": [
    "import seaborn as sns\n",
    "\n",
    "df_corr = df.drop(columns='SOLAR PV').corr(method='pearson')\n",
    "sns.heatmap(df_corr,xticklabels=df_corr.columns, yticklabels=df_corr.columns,\n",
    "            cmap='RdBu_r',annot=True)\n",
    "plt.show()"
   ]
  },
  {
   "cell_type": "markdown",
   "metadata": {},
   "source": [
    "변수들 간의 상관관계는 존재하지 않는 것으로 확인"
   ]
  },
  {
   "cell_type": "code",
   "execution_count": 12,
   "metadata": {},
   "outputs": [
    {
     "name": "stdout",
     "output_type": "stream",
     "text": [
      "(31432, 7) (13472, 7)\n",
      "(31432,) (13472,)\n"
     ]
    }
   ],
   "source": [
    "from sklearn.model_selection import train_test_split\n",
    "\n",
    "x = df.drop(columns = 'SOLAR PV')\n",
    "y = df['SOLAR PV']\n",
    "\n",
    "x_train, x_test, y_train, y_test = train_test_split(x,y,test_size=0.3)\n",
    "print(x_train.shape, x_test.shape)\n",
    "print(y_train.shape, y_test.shape)"
   ]
  },
  {
   "cell_type": "code",
   "execution_count": 13,
   "metadata": {},
   "outputs": [],
   "source": [
    "from sklearn.preprocessing import StandardScaler\n",
    "sc = StandardScaler()\n",
    "x_sc_train = sc.fit_transform(x_train)\n",
    "x_sc_test = sc.transform(x_test)"
   ]
  },
  {
   "cell_type": "code",
   "execution_count": 14,
   "metadata": {},
   "outputs": [
    {
     "name": "stderr",
     "output_type": "stream",
     "text": [
      "C:\\Users\\suhye\\AppData\\Local\\Packages\\PythonSoftwareFoundation.Python.3.10_qbz5n2kfra8p0\\LocalCache\\local-packages\\Python310\\site-packages\\sklearn\\base.py:443: UserWarning: X has feature names, but RandomForestRegressor was fitted without feature names\n",
      "  warnings.warn(\n"
     ]
    },
    {
     "data": {
      "text/html": [
       "<div>\n",
       "<style scoped>\n",
       "    .dataframe tbody tr th:only-of-type {\n",
       "        vertical-align: middle;\n",
       "    }\n",
       "\n",
       "    .dataframe tbody tr th {\n",
       "        vertical-align: top;\n",
       "    }\n",
       "\n",
       "    .dataframe thead th {\n",
       "        text-align: right;\n",
       "    }\n",
       "</style>\n",
       "<table border=\"1\" class=\"dataframe\">\n",
       "  <thead>\n",
       "    <tr style=\"text-align: right;\">\n",
       "      <th></th>\n",
       "      <th>y_test</th>\n",
       "      <th>pred</th>\n",
       "    </tr>\n",
       "  </thead>\n",
       "  <tbody>\n",
       "    <tr>\n",
       "      <th>6745</th>\n",
       "      <td>0.0</td>\n",
       "      <td>1505.75</td>\n",
       "    </tr>\n",
       "    <tr>\n",
       "      <th>40238</th>\n",
       "      <td>8566.0</td>\n",
       "      <td>3520.37</td>\n",
       "    </tr>\n",
       "    <tr>\n",
       "      <th>9173</th>\n",
       "      <td>0.0</td>\n",
       "      <td>1505.75</td>\n",
       "    </tr>\n",
       "    <tr>\n",
       "      <th>2351</th>\n",
       "      <td>0.0</td>\n",
       "      <td>1505.75</td>\n",
       "    </tr>\n",
       "    <tr>\n",
       "      <th>36941</th>\n",
       "      <td>0.0</td>\n",
       "      <td>1505.75</td>\n",
       "    </tr>\n",
       "  </tbody>\n",
       "</table>\n",
       "</div>"
      ],
      "text/plain": [
       "       y_test     pred\n",
       "6745      0.0  1505.75\n",
       "40238  8566.0  3520.37\n",
       "9173      0.0  1505.75\n",
       "2351      0.0  1505.75\n",
       "36941     0.0  1505.75"
      ]
     },
     "execution_count": 14,
     "metadata": {},
     "output_type": "execute_result"
    }
   ],
   "source": [
    "from sklearn.ensemble import RandomForestRegressor\n",
    "from sklearn.metrics import mean_squared_error, r2_score, accuracy_score\n",
    "import numpy as np\n",
    "\n",
    "rf = RandomForestRegressor()\n",
    "rf.fit(x_sc_train,y_train)\n",
    "pred = rf.predict(x_test)\n",
    "\n",
    "results = pd.DataFrame()\n",
    "results['y_test'] = y_test\n",
    "results['pred'] = pred\n",
    "results.head()\n"
   ]
  },
  {
   "cell_type": "code",
   "execution_count": 21,
   "metadata": {},
   "outputs": [],
   "source": [
    "accuracy_list = []\n",
    "for i, j in zip(results['y_test'],results['pred']):\n",
    "    if i==0 or j == 0:\n",
    "        ac = 0.5\n",
    "        accuracy_list.append(ac)\n",
    "         \n",
    "    elif i > j:\n",
    "        ac = 1 - j/i\n",
    "        accuracy_list.append(ac)\n",
    "        \n",
    "    else:\n",
    "        ac = 1 - i/j\n",
    "        accuracy_list.append(ac)"
   ]
  },
  {
   "cell_type": "code",
   "execution_count": 22,
   "metadata": {},
   "outputs": [
    {
     "data": {
      "text/html": [
       "<div>\n",
       "<style scoped>\n",
       "    .dataframe tbody tr th:only-of-type {\n",
       "        vertical-align: middle;\n",
       "    }\n",
       "\n",
       "    .dataframe tbody tr th {\n",
       "        vertical-align: top;\n",
       "    }\n",
       "\n",
       "    .dataframe thead th {\n",
       "        text-align: right;\n",
       "    }\n",
       "</style>\n",
       "<table border=\"1\" class=\"dataframe\">\n",
       "  <thead>\n",
       "    <tr style=\"text-align: right;\">\n",
       "      <th></th>\n",
       "      <th>y_test</th>\n",
       "      <th>pred</th>\n",
       "      <th>accuarcy_score</th>\n",
       "    </tr>\n",
       "  </thead>\n",
       "  <tbody>\n",
       "    <tr>\n",
       "      <th>6745</th>\n",
       "      <td>0.0</td>\n",
       "      <td>1505.75</td>\n",
       "      <td>0.500000</td>\n",
       "    </tr>\n",
       "    <tr>\n",
       "      <th>40238</th>\n",
       "      <td>8566.0</td>\n",
       "      <td>3520.37</td>\n",
       "      <td>0.589030</td>\n",
       "    </tr>\n",
       "    <tr>\n",
       "      <th>9173</th>\n",
       "      <td>0.0</td>\n",
       "      <td>1505.75</td>\n",
       "      <td>0.500000</td>\n",
       "    </tr>\n",
       "    <tr>\n",
       "      <th>2351</th>\n",
       "      <td>0.0</td>\n",
       "      <td>1505.75</td>\n",
       "      <td>0.500000</td>\n",
       "    </tr>\n",
       "    <tr>\n",
       "      <th>36941</th>\n",
       "      <td>0.0</td>\n",
       "      <td>1505.75</td>\n",
       "      <td>0.500000</td>\n",
       "    </tr>\n",
       "    <tr>\n",
       "      <th>...</th>\n",
       "      <td>...</td>\n",
       "      <td>...</td>\n",
       "      <td>...</td>\n",
       "    </tr>\n",
       "    <tr>\n",
       "      <th>33327</th>\n",
       "      <td>3764.0</td>\n",
       "      <td>3520.37</td>\n",
       "      <td>0.064726</td>\n",
       "    </tr>\n",
       "    <tr>\n",
       "      <th>10076</th>\n",
       "      <td>0.0</td>\n",
       "      <td>1505.75</td>\n",
       "      <td>0.500000</td>\n",
       "    </tr>\n",
       "    <tr>\n",
       "      <th>2919</th>\n",
       "      <td>1080.0</td>\n",
       "      <td>3520.37</td>\n",
       "      <td>0.693214</td>\n",
       "    </tr>\n",
       "    <tr>\n",
       "      <th>23740</th>\n",
       "      <td>0.0</td>\n",
       "      <td>1505.75</td>\n",
       "      <td>0.500000</td>\n",
       "    </tr>\n",
       "    <tr>\n",
       "      <th>21182</th>\n",
       "      <td>5226.0</td>\n",
       "      <td>3520.37</td>\n",
       "      <td>0.326374</td>\n",
       "    </tr>\n",
       "  </tbody>\n",
       "</table>\n",
       "<p>13472 rows × 3 columns</p>\n",
       "</div>"
      ],
      "text/plain": [
       "       y_test     pred  accuarcy_score\n",
       "6745      0.0  1505.75        0.500000\n",
       "40238  8566.0  3520.37        0.589030\n",
       "9173      0.0  1505.75        0.500000\n",
       "2351      0.0  1505.75        0.500000\n",
       "36941     0.0  1505.75        0.500000\n",
       "...       ...      ...             ...\n",
       "33327  3764.0  3520.37        0.064726\n",
       "10076     0.0  1505.75        0.500000\n",
       "2919   1080.0  3520.37        0.693214\n",
       "23740     0.0  1505.75        0.500000\n",
       "21182  5226.0  3520.37        0.326374\n",
       "\n",
       "[13472 rows x 3 columns]"
      ]
     },
     "execution_count": 22,
     "metadata": {},
     "output_type": "execute_result"
    }
   ],
   "source": [
    "results['accuarcy_score'] = accuracy_list\n",
    "results"
   ]
  },
  {
   "cell_type": "code",
   "execution_count": 27,
   "metadata": {},
   "outputs": [
    {
     "name": "stdout",
     "output_type": "stream",
     "text": [
      "RMSE\t3800610.195\n",
      "Accuracy score\t0.482\n"
     ]
    }
   ],
   "source": [
    "mse = mean_squared_error(y_test,pred)\n",
    "rmse = np.sqrt(mse)\n",
    "ac_score = results['accuarcy_score'].mean()\n",
    "\n",
    "print(\"RMSE\\t{}\".format(round(mse,3)))\n",
    "print('Accuracy score\\t{}'.format(round(ac_score,3)))"
   ]
  },
  {
   "cell_type": "code",
   "execution_count": null,
   "metadata": {},
   "outputs": [],
   "source": []
  }
 ],
 "metadata": {
  "interpreter": {
   "hash": "29a5d830ee5eb5eabdb10511c29aaced43bbb583532fb9ecb44e50060afee3b8"
  },
  "kernelspec": {
   "display_name": "Python 3.10.4 64-bit (windows store)",
   "language": "python",
   "name": "python3"
  },
  "language_info": {
   "codemirror_mode": {
    "name": "ipython",
    "version": 3
   },
   "file_extension": ".py",
   "mimetype": "text/x-python",
   "name": "python",
   "nbconvert_exporter": "python",
   "pygments_lexer": "ipython3",
   "version": "3.10.4"
  },
  "orig_nbformat": 4
 },
 "nbformat": 4,
 "nbformat_minor": 2
}
