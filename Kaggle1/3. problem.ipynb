{
 "cells": [
  {
   "cell_type": "markdown",
   "id": "8e738717",
   "metadata": {},
   "source": [
    "1. 데이터는 일자별 각 나라의 일일 확진자수를 나타낸다. 각 나라의 일자별 누적확진자 수를 나타내는 데이터 프레임을 생성하라."
   ]
  },
  {
   "cell_type": "code",
   "execution_count": 2,
   "id": "fb85fb1a",
   "metadata": {},
   "outputs": [
    {
     "data": {
      "text/html": [
       "<div>\n",
       "<style scoped>\n",
       "    .dataframe tbody tr th:only-of-type {\n",
       "        vertical-align: middle;\n",
       "    }\n",
       "\n",
       "    .dataframe tbody tr th {\n",
       "        vertical-align: top;\n",
       "    }\n",
       "\n",
       "    .dataframe thead th {\n",
       "        text-align: right;\n",
       "    }\n",
       "</style>\n",
       "<table border=\"1\" class=\"dataframe\">\n",
       "  <thead>\n",
       "    <tr style=\"text-align: right;\">\n",
       "      <th></th>\n",
       "      <th>location</th>\n",
       "      <th>date</th>\n",
       "      <th>new_cases</th>\n",
       "    </tr>\n",
       "  </thead>\n",
       "  <tbody>\n",
       "    <tr>\n",
       "      <th>0</th>\n",
       "      <td>Austria</td>\n",
       "      <td>2021-01-01</td>\n",
       "      <td>2096.0</td>\n",
       "    </tr>\n",
       "    <tr>\n",
       "      <th>1</th>\n",
       "      <td>Austria</td>\n",
       "      <td>2021-01-02</td>\n",
       "      <td>1391.0</td>\n",
       "    </tr>\n",
       "    <tr>\n",
       "      <th>2</th>\n",
       "      <td>Austria</td>\n",
       "      <td>2021-01-03</td>\n",
       "      <td>1466.0</td>\n",
       "    </tr>\n",
       "    <tr>\n",
       "      <th>3</th>\n",
       "      <td>Austria</td>\n",
       "      <td>2021-01-04</td>\n",
       "      <td>1642.0</td>\n",
       "    </tr>\n",
       "    <tr>\n",
       "      <th>4</th>\n",
       "      <td>Austria</td>\n",
       "      <td>2021-01-05</td>\n",
       "      <td>2311.0</td>\n",
       "    </tr>\n",
       "  </tbody>\n",
       "</table>\n",
       "</div>"
      ],
      "text/plain": [
       "  location        date  new_cases\n",
       "0  Austria  2021-01-01     2096.0\n",
       "1  Austria  2021-01-02     1391.0\n",
       "2  Austria  2021-01-03     1466.0\n",
       "3  Austria  2021-01-04     1642.0\n",
       "4  Austria  2021-01-05     2311.0"
      ]
     },
     "execution_count": 2,
     "metadata": {},
     "output_type": "execute_result"
    }
   ],
   "source": [
    "import pandas as pd\n",
    "import numpy as np\n",
    "\n",
    "df = pd.read_csv(\"problem3_covid2.csv\")\n",
    "df.head()"
   ]
  },
  {
   "cell_type": "code",
   "execution_count": 4,
   "id": "40625293",
   "metadata": {},
   "outputs": [
    {
     "data": {
      "text/html": [
       "<div>\n",
       "<style scoped>\n",
       "    .dataframe tbody tr th:only-of-type {\n",
       "        vertical-align: middle;\n",
       "    }\n",
       "\n",
       "    .dataframe tbody tr th {\n",
       "        vertical-align: top;\n",
       "    }\n",
       "\n",
       "    .dataframe thead th {\n",
       "        text-align: right;\n",
       "    }\n",
       "</style>\n",
       "<table border=\"1\" class=\"dataframe\">\n",
       "  <thead>\n",
       "    <tr style=\"text-align: right;\">\n",
       "      <th></th>\n",
       "      <th>location</th>\n",
       "      <th>date</th>\n",
       "      <th>cumulative sum</th>\n",
       "    </tr>\n",
       "  </thead>\n",
       "  <tbody>\n",
       "    <tr>\n",
       "      <th>0</th>\n",
       "      <td>Austria</td>\n",
       "      <td>2021-01-01</td>\n",
       "      <td>2096.0</td>\n",
       "    </tr>\n",
       "    <tr>\n",
       "      <th>1</th>\n",
       "      <td>Austria</td>\n",
       "      <td>2021-01-02</td>\n",
       "      <td>3487.0</td>\n",
       "    </tr>\n",
       "    <tr>\n",
       "      <th>2</th>\n",
       "      <td>Austria</td>\n",
       "      <td>2021-01-03</td>\n",
       "      <td>4953.0</td>\n",
       "    </tr>\n",
       "    <tr>\n",
       "      <th>3</th>\n",
       "      <td>Austria</td>\n",
       "      <td>2021-01-04</td>\n",
       "      <td>6595.0</td>\n",
       "    </tr>\n",
       "    <tr>\n",
       "      <th>4</th>\n",
       "      <td>Austria</td>\n",
       "      <td>2021-01-05</td>\n",
       "      <td>8906.0</td>\n",
       "    </tr>\n",
       "    <tr>\n",
       "      <th>...</th>\n",
       "      <td>...</td>\n",
       "      <td>...</td>\n",
       "      <td>...</td>\n",
       "    </tr>\n",
       "    <tr>\n",
       "      <th>11890</th>\n",
       "      <td>Vanuatu</td>\n",
       "      <td>2021-10-28</td>\n",
       "      <td>5.0</td>\n",
       "    </tr>\n",
       "    <tr>\n",
       "      <th>11891</th>\n",
       "      <td>Vanuatu</td>\n",
       "      <td>2021-10-29</td>\n",
       "      <td>5.0</td>\n",
       "    </tr>\n",
       "    <tr>\n",
       "      <th>11892</th>\n",
       "      <td>Vanuatu</td>\n",
       "      <td>2021-10-30</td>\n",
       "      <td>5.0</td>\n",
       "    </tr>\n",
       "    <tr>\n",
       "      <th>11893</th>\n",
       "      <td>Vanuatu</td>\n",
       "      <td>2021-10-31</td>\n",
       "      <td>5.0</td>\n",
       "    </tr>\n",
       "    <tr>\n",
       "      <th>11894</th>\n",
       "      <td>Vanuatu</td>\n",
       "      <td>2021-11-01</td>\n",
       "      <td>5.0</td>\n",
       "    </tr>\n",
       "  </tbody>\n",
       "</table>\n",
       "<p>11895 rows × 3 columns</p>\n",
       "</div>"
      ],
      "text/plain": [
       "      location        date  cumulative sum\n",
       "0      Austria  2021-01-01          2096.0\n",
       "1      Austria  2021-01-02          3487.0\n",
       "2      Austria  2021-01-03          4953.0\n",
       "3      Austria  2021-01-04          6595.0\n",
       "4      Austria  2021-01-05          8906.0\n",
       "...        ...         ...             ...\n",
       "11890  Vanuatu  2021-10-28             5.0\n",
       "11891  Vanuatu  2021-10-29             5.0\n",
       "11892  Vanuatu  2021-10-30             5.0\n",
       "11893  Vanuatu  2021-10-31             5.0\n",
       "11894  Vanuatu  2021-11-01             5.0\n",
       "\n",
       "[11895 rows x 3 columns]"
      ]
     },
     "execution_count": 4,
     "metadata": {},
     "output_type": "execute_result"
    }
   ],
   "source": [
    "target = df.groupby(['location','date']).sum().groupby(level=0).cumsum()\n",
    "target.columns = ['cumulative sum']\n",
    "target = target.reset_index()\n",
    "target"
   ]
  },
  {
   "cell_type": "markdown",
   "id": "ce553dab",
   "metadata": {},
   "source": [
    "2. 1에서 구한 데이터를 각 나라별로 acf 값을 구하고 lag는 50개까지 구하고, 첫번째 값을 제외하라. 국가를 기준으로 유클라디안 거리를 기준으로 클러스터링을 진행 후 계층적 군집 분석을 위해 덴드로그램을 작성하시오."
   ]
  },
  {
   "cell_type": "code",
   "execution_count": 5,
   "id": "c79ca08c",
   "metadata": {},
   "outputs": [],
   "source": [
    "from scipy.spatial import distance\n",
    "import statsmodels.api as sm\n",
    "\n",
    "name = []\n",
    "for lo in target.location.unique():\n",
    "    v = sm.tsa.stattools.acf(target[target.location==lo]['cumulative sum'],\n",
    "                            nlags=50, fft = False)\n",
    "    name.append([lo]+list(v[1:]))\n",
    "\n",
    "v = pd.DataFrame(name)"
   ]
  },
  {
   "cell_type": "code",
   "execution_count": 10,
   "id": "73b9ce45",
   "metadata": {},
   "outputs": [
    {
     "data": {
      "image/png": "[encoded data removed]",
      "text/plain": [
       "<Figure size 1224x720 with 1 Axes>"
      ]
     },
     "metadata": {
      "needs_background": "light"
     },
     "output_type": "display_data"
    }
   ],
   "source": [
    "import seaborn as sns\n",
    "import scipy\n",
    "import matplotlib.pyplot as plt\n",
    "import scipy.cluster.hierarchy as sch\n",
    "\n",
    "data = v.set_index(0)\n",
    "label = np.array(data.index)\n",
    "\n",
    "data_value = data.values\n",
    "fig = plt.figure(figsize = (17,10))\n",
    "\n",
    "ax3 = fig.add_subplot(1,1,1)\n",
    "dend3 = sch.linkage(data_value,method = 'average',metric = 'euclidean')\n",
    "\n",
    "cutoff = 0.3*max(dend3[:,2])\n",
    "dend_res3 = sch.dendrogram(dend3,color_threshold = cutoff)\n",
    "ax3.set_xticklabels(label[dend_res3['leaves']],minor=False)\n",
    "\n",
    "plt.show()"
   ]
  },
  {
   "cell_type": "code",
   "execution_count": null,
   "id": "7eda49be",
   "metadata": {},
   "outputs": [],
   "source": []
  }
 ],
 "metadata": {
  "kernelspec": {
   "display_name": "Python 3",
   "language": "python",
   "name": "python3"
  },
  "language_info": {
   "codemirror_mode": {
    "name": "ipython",
    "version": 3
   },
   "file_extension": ".py",
   "mimetype": "text/x-python",
   "name": "python",
   "nbconvert_exporter": "python",
   "pygments_lexer": "ipython3",
   "version": "3.8.8"
  }
 },
 "nbformat": 4,
 "nbformat_minor": 5
}
