{
 "cells": [
  {
   "cell_type": "markdown",
   "id": "d571f8f6",
   "metadata": {},
   "source": [
    "## 2. 공장에서는 진공관 수명이 1만 시간이라고 주장하여 품질관리팀에서 12개 샘플을 뽑았음. 유의 수준 5%에서 부호 검정"
   ]
  },
  {
   "cell_type": "markdown",
   "id": "a60c9393",
   "metadata": {},
   "source": [
    "2-1. 귀무가설, 연구가설 세우기"
   ]
  },
  {
   "cell_type": "markdown",
   "id": "64e8c694",
   "metadata": {},
   "source": [
    "- H0 : 데이터의 중위수는 1만시간이다. \n",
    "- H1 : 데이터의 중위수는 1만시간이 아니다. "
   ]
  },
  {
   "cell_type": "markdown",
   "id": "b233196b",
   "metadata": {},
   "source": [
    "2-2. 유효한 데이터의 개수는?"
   ]
  },
  {
   "cell_type": "code",
   "execution_count": 2,
   "id": "55dc93f2",
   "metadata": {},
   "outputs": [
    {
     "data": {
      "text/html": [
       "<div>\n",
       "<style scoped>\n",
       "    .dataframe tbody tr th:only-of-type {\n",
       "        vertical-align: middle;\n",
       "    }\n",
       "\n",
       "    .dataframe tbody tr th {\n",
       "        vertical-align: top;\n",
       "    }\n",
       "\n",
       "    .dataframe thead th {\n",
       "        text-align: right;\n",
       "    }\n",
       "</style>\n",
       "<table border=\"1\" class=\"dataframe\">\n",
       "  <thead>\n",
       "    <tr style=\"text-align: right;\">\n",
       "      <th></th>\n",
       "      <th>name</th>\n",
       "      <th>life span</th>\n",
       "    </tr>\n",
       "  </thead>\n",
       "  <tbody>\n",
       "    <tr>\n",
       "      <th>0</th>\n",
       "      <td>sample1</td>\n",
       "      <td>10000</td>\n",
       "    </tr>\n",
       "    <tr>\n",
       "      <th>1</th>\n",
       "      <td>sample2</td>\n",
       "      <td>9000</td>\n",
       "    </tr>\n",
       "    <tr>\n",
       "      <th>2</th>\n",
       "      <td>sample3</td>\n",
       "      <td>9500</td>\n",
       "    </tr>\n",
       "    <tr>\n",
       "      <th>3</th>\n",
       "      <td>sample4</td>\n",
       "      <td>10000</td>\n",
       "    </tr>\n",
       "    <tr>\n",
       "      <th>4</th>\n",
       "      <td>sample5</td>\n",
       "      <td>10000</td>\n",
       "    </tr>\n",
       "  </tbody>\n",
       "</table>\n",
       "</div>"
      ],
      "text/plain": [
       "      name  life span\n",
       "0  sample1      10000\n",
       "1  sample2       9000\n",
       "2  sample3       9500\n",
       "3  sample4      10000\n",
       "4  sample5      10000"
      ]
     },
     "execution_count": 2,
     "metadata": {},
     "output_type": "execute_result"
    }
   ],
   "source": [
    "import pandas as pd\n",
    "import numpy as np\n",
    "\n",
    "data = pd.read_csv(\"problem2.csv\")\n",
    "data.head()"
   ]
  },
  {
   "cell_type": "code",
   "execution_count": 4,
   "id": "3c75da89",
   "metadata": {},
   "outputs": [
    {
     "data": {
      "text/plain": [
       "(12, 2)"
      ]
     },
     "execution_count": 4,
     "metadata": {},
     "output_type": "execute_result"
    }
   ],
   "source": [
    "data.shape"
   ]
  },
  {
   "cell_type": "code",
   "execution_count": 7,
   "id": "f3c43ad2",
   "metadata": {},
   "outputs": [
    {
     "data": {
      "text/plain": [
       "10000.0"
      ]
     },
     "execution_count": 7,
     "metadata": {},
     "output_type": "execute_result"
    }
   ],
   "source": [
    "data['life span'].median()"
   ]
  },
  {
   "cell_type": "code",
   "execution_count": 8,
   "id": "004cf983",
   "metadata": {},
   "outputs": [
    {
     "name": "stdout",
     "output_type": "stream",
     "text": [
      "중위수와 동일한 값은 순위 부호 검정에서 불필요함\n",
      "불필요한 값 :  4\n"
     ]
    }
   ],
   "source": [
    "print('중위수와 동일한 값은 순위 부호 검정에서 불필요함')\n",
    "print('불필요한 값 : ',data[data['life span'] == 10000].shape[0])\n",
    "\n",
    "df_filter = data[data['life span'] != 10000]"
   ]
  },
  {
   "cell_type": "markdown",
   "id": "fd9cfb85",
   "metadata": {},
   "source": [
    "3. 검정통계량 및 연구가설 채택 여부를 작성하라"
   ]
  },
  {
   "cell_type": "code",
   "execution_count": 9,
   "id": "20902602",
   "metadata": {},
   "outputs": [
    {
     "data": {
      "text/plain": [
       "WilcoxonResult(statistic=8.5, pvalue=0.1953125)"
      ]
     },
     "execution_count": 9,
     "metadata": {},
     "output_type": "execute_result"
    }
   ],
   "source": [
    "from scipy.stats import wilcoxon\n",
    "wilcoxon(df_filter['life span'] - 10000)"
   ]
  },
  {
   "cell_type": "markdown",
   "id": "e36df258",
   "metadata": {},
   "source": [
    "- p-value는 0.195로 유의 수준 5%에서 귀무가설을 채택한다. 따라서 데이터의 중위수는 1만시간이라고 판단한다."
   ]
  },
  {
   "cell_type": "code",
   "execution_count": null,
   "id": "3bb2e349",
   "metadata": {},
   "outputs": [],
   "source": []
  }
 ],
 "metadata": {
  "kernelspec": {
   "display_name": "Python 3",
   "language": "python",
   "name": "python3"
  },
  "language_info": {
   "codemirror_mode": {
    "name": "ipython",
    "version": 3
   },
   "file_extension": ".py",
   "mimetype": "text/x-python",
   "name": "python",
   "nbconvert_exporter": "python",
   "pygments_lexer": "ipython3",
   "version": "3.8.8"
  }
 },
 "nbformat": 4,
 "nbformat_minor": 5
}
