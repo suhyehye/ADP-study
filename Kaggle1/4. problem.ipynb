{
 "cells": [
  {
   "cell_type": "markdown",
   "id": "248f5e0a",
   "metadata": {},
   "source": [
    "### 1. 귀무가설, 연구가설"
   ]
  },
  {
   "cell_type": "markdown",
   "id": "0102e70d",
   "metadata": {},
   "source": [
    "H0 : 학과와 성적은 관련이 없다. \n",
    "H1 : 학과와 성적은 관련이 있다. "
   ]
  },
  {
   "cell_type": "code",
   "execution_count": 3,
   "id": "c9604ef8",
   "metadata": {},
   "outputs": [
    {
     "data": {
      "text/html": [
       "<div>\n",
       "<style scoped>\n",
       "    .dataframe tbody tr th:only-of-type {\n",
       "        vertical-align: middle;\n",
       "    }\n",
       "\n",
       "    .dataframe tbody tr th {\n",
       "        vertical-align: top;\n",
       "    }\n",
       "\n",
       "    .dataframe thead th {\n",
       "        text-align: right;\n",
       "    }\n",
       "</style>\n",
       "<table border=\"1\" class=\"dataframe\">\n",
       "  <thead>\n",
       "    <tr style=\"text-align: right;\">\n",
       "      <th></th>\n",
       "      <th>사회과학</th>\n",
       "      <th>자연과학</th>\n",
       "      <th>공학</th>\n",
       "    </tr>\n",
       "  </thead>\n",
       "  <tbody>\n",
       "    <tr>\n",
       "      <th>1.5-2.5</th>\n",
       "      <td>15</td>\n",
       "      <td>25</td>\n",
       "      <td>10</td>\n",
       "    </tr>\n",
       "    <tr>\n",
       "      <th>2.5-3.5</th>\n",
       "      <td>60</td>\n",
       "      <td>69</td>\n",
       "      <td>77</td>\n",
       "    </tr>\n",
       "    <tr>\n",
       "      <th>3.5-4.5</th>\n",
       "      <td>24</td>\n",
       "      <td>5</td>\n",
       "      <td>13</td>\n",
       "    </tr>\n",
       "  </tbody>\n",
       "</table>\n",
       "</div>"
      ],
      "text/plain": [
       "         사회과학  자연과학  공학\n",
       "1.5-2.5    15    25  10\n",
       "2.5-3.5    60    69  77\n",
       "3.5-4.5    24     5  13"
      ]
     },
     "execution_count": 3,
     "metadata": {},
     "output_type": "execute_result"
    }
   ],
   "source": [
    "import pandas as pd\n",
    "df = pd.DataFrame({'사회과학':[15,60,24],'자연과학':[25,69,5],'공학':[10,77,13]})\n",
    "df.index = ['1.5-2.5','2.5-3.5','3.5-4.5']\n",
    "df"
   ]
  },
  {
   "cell_type": "markdown",
   "id": "7bc7ad60",
   "metadata": {},
   "source": [
    "### 학과와 성적이 독립인 경우의 기댓값"
   ]
  },
  {
   "cell_type": "code",
   "execution_count": 6,
   "id": "7b530603",
   "metadata": {},
   "outputs": [
    {
     "name": "stdout",
     "output_type": "stream",
     "text": [
      "[[16.61073826 16.61073826 16.77852349]\n",
      " [68.43624161 68.43624161 69.12751678]\n",
      " [13.95302013 13.95302013 14.09395973]]\n"
     ]
    }
   ],
   "source": [
    "from scipy.stats import chi2_contingency,fisher_exact\n",
    "chi2, p, dof, expected = chi2_contingency(df)\n",
    "print(expected)"
   ]
  },
  {
   "cell_type": "markdown",
   "id": "29bb8073",
   "metadata": {},
   "source": [
    "### 검정 통계량 구하고, 연구 가설의 채택 여부 작성"
   ]
  },
  {
   "cell_type": "code",
   "execution_count": 8,
   "id": "eeb6199c",
   "metadata": {},
   "outputs": [
    {
     "name": "stdout",
     "output_type": "stream",
     "text": [
      "0.00018822647762421383\n"
     ]
    }
   ],
   "source": [
    "print(p)"
   ]
  },
  {
   "cell_type": "markdown",
   "id": "b049a81c",
   "metadata": {},
   "source": [
    "카이 제곱 검정시 p-value는 0.00018로 귀무가설을 기각한다. 따라서, 학과와 성적은 관련이 있다. "
   ]
  },
  {
   "cell_type": "code",
   "execution_count": null,
   "id": "7a93ef2d",
   "metadata": {},
   "outputs": [],
   "source": []
  }
 ],
 "metadata": {
  "kernelspec": {
   "display_name": "Python 3",
   "language": "python",
   "name": "python3"
  },
  "language_info": {
   "codemirror_mode": {
    "name": "ipython",
    "version": 3
   },
   "file_extension": ".py",
   "mimetype": "text/x-python",
   "name": "python",
   "nbconvert_exporter": "python",
   "pygments_lexer": "ipython3",
   "version": "3.8.8"
  }
 },
 "nbformat": 4,
 "nbformat_minor": 5
}
