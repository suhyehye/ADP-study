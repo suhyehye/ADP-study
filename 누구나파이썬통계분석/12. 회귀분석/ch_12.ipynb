{
 "cells": [
  {
   "cell_type": "code",
   "execution_count": 1,
   "metadata": {},
   "outputs": [],
   "source": [
    "import numpy as np\n",
    "import pandas as pd\n",
    "import matplotlib.pyplot as plt\n",
    "from scipy import stats\n",
    "import statsmodels.formula.api as smf\n",
    "\n",
    "%precision 3\n",
    "%matplotlib inline"
   ]
  },
  {
   "cell_type": "code",
   "execution_count": 2,
   "metadata": {},
   "outputs": [
    {
     "name": "stdout",
     "output_type": "stream",
     "text": [
      "20\n"
     ]
    },
    {
     "data": {
      "text/html": [
       "<div>\n",
       "<style scoped>\n",
       "    .dataframe tbody tr th:only-of-type {\n",
       "        vertical-align: middle;\n",
       "    }\n",
       "\n",
       "    .dataframe tbody tr th {\n",
       "        vertical-align: top;\n",
       "    }\n",
       "\n",
       "    .dataframe thead th {\n",
       "        text-align: right;\n",
       "    }\n",
       "</style>\n",
       "<table border=\"1\" class=\"dataframe\">\n",
       "  <thead>\n",
       "    <tr style=\"text-align: right;\">\n",
       "      <th></th>\n",
       "      <th>quiz</th>\n",
       "      <th>final_test</th>\n",
       "      <th>sleep_time</th>\n",
       "      <th>school_method</th>\n",
       "    </tr>\n",
       "  </thead>\n",
       "  <tbody>\n",
       "    <tr>\n",
       "      <th>0</th>\n",
       "      <td>4.2</td>\n",
       "      <td>67</td>\n",
       "      <td>7.2</td>\n",
       "      <td>bus</td>\n",
       "    </tr>\n",
       "    <tr>\n",
       "      <th>1</th>\n",
       "      <td>7.2</td>\n",
       "      <td>71</td>\n",
       "      <td>7.9</td>\n",
       "      <td>bicycle</td>\n",
       "    </tr>\n",
       "    <tr>\n",
       "      <th>2</th>\n",
       "      <td>0.0</td>\n",
       "      <td>19</td>\n",
       "      <td>5.3</td>\n",
       "      <td>bus</td>\n",
       "    </tr>\n",
       "    <tr>\n",
       "      <th>3</th>\n",
       "      <td>3.0</td>\n",
       "      <td>35</td>\n",
       "      <td>6.8</td>\n",
       "      <td>walk</td>\n",
       "    </tr>\n",
       "    <tr>\n",
       "      <th>4</th>\n",
       "      <td>1.5</td>\n",
       "      <td>35</td>\n",
       "      <td>7.5</td>\n",
       "      <td>walk</td>\n",
       "    </tr>\n",
       "  </tbody>\n",
       "</table>\n",
       "</div>"
      ],
      "text/plain": [
       "   quiz  final_test  sleep_time school_method\n",
       "0   4.2          67         7.2           bus\n",
       "1   7.2          71         7.9       bicycle\n",
       "2   0.0          19         5.3           bus\n",
       "3   3.0          35         6.8          walk\n",
       "4   1.5          35         7.5          walk"
      ]
     },
     "execution_count": 2,
     "metadata": {},
     "output_type": "execute_result"
    }
   ],
   "source": [
    "df = pd.read_csv('../data/ch12_scores_reg.csv')\n",
    "n = len(df)\n",
    "print(n)\n",
    "df.head()"
   ]
  },
  {
   "cell_type": "markdown",
   "metadata": {},
   "source": [
    "1. 단순 회귀 모형"
   ]
  },
  {
   "cell_type": "code",
   "execution_count": 3,
   "metadata": {},
   "outputs": [],
   "source": [
    "x = np.array(df['quiz'])\n",
    "y = np.array(df['final_test'])\n",
    "p = 1"
   ]
  },
  {
   "cell_type": "code",
   "execution_count": 4,
   "metadata": {},
   "outputs": [
    {
     "data": {
      "image/png": "[encoded data removed]",
      "text/plain": [
       "<Figure size 1000x600 with 1 Axes>"
      ]
     },
     "metadata": {},
     "output_type": "display_data"
    }
   ],
   "source": [
    "poly_fit = np.polyfit(x,y,1)\n",
    "poly_1d = np.poly1d(poly_fit)\n",
    "\n",
    "xs = np.linspace(x.min(), x.max())\n",
    "ys = poly_1d(xs)\n",
    "\n",
    "fig = plt.figure(figsize=(10, 6))\n",
    "ax = fig.add_subplot(111)\n",
    "ax.set_xlabel('quiz')\n",
    "ax.plot(xs, ys, color='gray',\n",
    "        label=f'{poly_fit[1]:.2f}+{poly_fit[0]:.2f}x')\n",
    "ax.scatter(x,y)\n",
    "ax.legend()\n",
    "plt.show()"
   ]
  },
  {
   "cell_type": "markdown",
   "metadata": {},
   "source": [
    "- 1-2. statsmodels에 의한 회귀분석"
   ]
  },
  {
   "cell_type": "code",
   "execution_count": 5,
   "metadata": {},
   "outputs": [
    {
     "data": {
      "text/html": [
       "<table class=\"simpletable\">\n",
       "<caption>OLS Regression Results</caption>\n",
       "<tr>\n",
       "  <th>Dep. Variable:</th>       <td>final_test</td>    <th>  R-squared:         </th> <td>   0.676</td>\n",
       "</tr>\n",
       "<tr>\n",
       "  <th>Model:</th>                   <td>OLS</td>       <th>  Adj. R-squared:    </th> <td>   0.658</td>\n",
       "</tr>\n",
       "<tr>\n",
       "  <th>Method:</th>             <td>Least Squares</td>  <th>  F-statistic:       </th> <td>   37.61</td>\n",
       "</tr>\n",
       "<tr>\n",
       "  <th>Date:</th>             <td>Thu, 15 Sep 2022</td> <th>  Prob (F-statistic):</th> <td>8.59e-06</td>\n",
       "</tr>\n",
       "<tr>\n",
       "  <th>Time:</th>                 <td>03:24:21</td>     <th>  Log-Likelihood:    </th> <td> -76.325</td>\n",
       "</tr>\n",
       "<tr>\n",
       "  <th>No. Observations:</th>      <td>    20</td>      <th>  AIC:               </th> <td>   156.7</td>\n",
       "</tr>\n",
       "<tr>\n",
       "  <th>Df Residuals:</th>          <td>    18</td>      <th>  BIC:               </th> <td>   158.6</td>\n",
       "</tr>\n",
       "<tr>\n",
       "  <th>Df Model:</th>              <td>     1</td>      <th>                     </th>     <td> </td>   \n",
       "</tr>\n",
       "<tr>\n",
       "  <th>Covariance Type:</th>      <td>nonrobust</td>    <th>                     </th>     <td> </td>   \n",
       "</tr>\n",
       "</table>\n",
       "<table class=\"simpletable\">\n",
       "<tr>\n",
       "      <td></td>         <th>coef</th>     <th>std err</th>      <th>t</th>      <th>P>|t|</th>  <th>[0.025</th>    <th>0.975]</th>  \n",
       "</tr>\n",
       "<tr>\n",
       "  <th>Intercept</th> <td>   23.6995</td> <td>    4.714</td> <td>    5.028</td> <td> 0.000</td> <td>   13.796</td> <td>   33.603</td>\n",
       "</tr>\n",
       "<tr>\n",
       "  <th>quiz</th>      <td>    6.5537</td> <td>    1.069</td> <td>    6.133</td> <td> 0.000</td> <td>    4.309</td> <td>    8.799</td>\n",
       "</tr>\n",
       "</table>\n",
       "<table class=\"simpletable\">\n",
       "<tr>\n",
       "  <th>Omnibus:</th>       <td> 2.139</td> <th>  Durbin-Watson:     </th> <td>   1.478</td>\n",
       "</tr>\n",
       "<tr>\n",
       "  <th>Prob(Omnibus):</th> <td> 0.343</td> <th>  Jarque-Bera (JB):  </th> <td>   1.773</td>\n",
       "</tr>\n",
       "<tr>\n",
       "  <th>Skew:</th>          <td> 0.670</td> <th>  Prob(JB):          </th> <td>   0.412</td>\n",
       "</tr>\n",
       "<tr>\n",
       "  <th>Kurtosis:</th>      <td> 2.422</td> <th>  Cond. No.          </th> <td>    8.32</td>\n",
       "</tr>\n",
       "</table><br/><br/>Notes:<br/>[1] Standard Errors assume that the covariance matrix of the errors is correctly specified."
      ],
      "text/plain": [
       "<class 'statsmodels.iolib.summary.Summary'>\n",
       "\"\"\"\n",
       "                            OLS Regression Results                            \n",
       "==============================================================================\n",
       "Dep. Variable:             final_test   R-squared:                       0.676\n",
       "Model:                            OLS   Adj. R-squared:                  0.658\n",
       "Method:                 Least Squares   F-statistic:                     37.61\n",
       "Date:                Thu, 15 Sep 2022   Prob (F-statistic):           8.59e-06\n",
       "Time:                        03:24:21   Log-Likelihood:                -76.325\n",
       "No. Observations:                  20   AIC:                             156.7\n",
       "Df Residuals:                      18   BIC:                             158.6\n",
       "Df Model:                           1                                         \n",
       "Covariance Type:            nonrobust                                         \n",
       "==============================================================================\n",
       "                 coef    std err          t      P>|t|      [0.025      0.975]\n",
       "------------------------------------------------------------------------------\n",
       "Intercept     23.6995      4.714      5.028      0.000      13.796      33.603\n",
       "quiz           6.5537      1.069      6.133      0.000       4.309       8.799\n",
       "==============================================================================\n",
       "Omnibus:                        2.139   Durbin-Watson:                   1.478\n",
       "Prob(Omnibus):                  0.343   Jarque-Bera (JB):                1.773\n",
       "Skew:                           0.670   Prob(JB):                        0.412\n",
       "Kurtosis:                       2.422   Cond. No.                         8.32\n",
       "==============================================================================\n",
       "\n",
       "Notes:\n",
       "[1] Standard Errors assume that the covariance matrix of the errors is correctly specified.\n",
       "\"\"\""
      ]
     },
     "execution_count": 5,
     "metadata": {},
     "output_type": "execute_result"
    }
   ],
   "source": [
    "formula = 'final_test ~ quiz'\n",
    "result = smf.ols(formula, df).fit()\n",
    "result.summary()"
   ]
  },
  {
   "cell_type": "code",
   "execution_count": 6,
   "metadata": {},
   "outputs": [
    {
     "data": {
      "text/plain": [
       "array([[1. , 4.2],\n",
       "       [1. , 7.2],\n",
       "       [1. , 0. ],\n",
       "       [1. , 3. ],\n",
       "       [1. , 1.5],\n",
       "       [1. , 0.9],\n",
       "       [1. , 1.9],\n",
       "       [1. , 3.5],\n",
       "       [1. , 4. ],\n",
       "       [1. , 5.4],\n",
       "       [1. , 4.2],\n",
       "       [1. , 6.9],\n",
       "       [1. , 2. ],\n",
       "       [1. , 8.8],\n",
       "       [1. , 0.3],\n",
       "       [1. , 6.7],\n",
       "       [1. , 4.2],\n",
       "       [1. , 5.6],\n",
       "       [1. , 1.4],\n",
       "       [1. , 2. ]])"
      ]
     },
     "execution_count": 6,
     "metadata": {},
     "output_type": "execute_result"
    }
   ],
   "source": [
    "# 첫 번째 열은 1, 두 번째 열은 x인 행렬 생성\n",
    "\n",
    "X = np.array([np.ones_like(x), x]).T\n",
    "X"
   ]
  },
  {
   "cell_type": "code",
   "execution_count": 7,
   "metadata": {},
   "outputs": [
    {
     "name": "stderr",
     "output_type": "stream",
     "text": [
      "/var/folders/7n/pm50m3212tq_hg29f8q2fdh00000gn/T/ipykernel_15953/1960601886.py:3: FutureWarning: `rcond` parameter will change to the default of machine precision times ``max(M, N)`` where M and N are the input matrix dimensions.\n",
      "To use the future default and silence this warning we advise to pass `rcond=None`, to keep using the old, explicitly pass `rcond=-1`.\n",
      "  beta0_hat, beta1_hat = np.linalg.lstsq(X,y)[0]\n"
     ]
    },
    {
     "data": {
      "text/plain": [
       "(23.699, 6.554)"
      ]
     },
     "execution_count": 7,
     "metadata": {},
     "output_type": "execute_result"
    }
   ],
   "source": [
    "# 최소 제곱법\n",
    "\n",
    "beta0_hat, beta1_hat = np.linalg.lstsq(X,y)[0]\n",
    "beta0_hat,beta1_hat"
   ]
  },
  {
   "cell_type": "code",
   "execution_count": 9,
   "metadata": {},
   "outputs": [],
   "source": [
    "# 잔차 계산\n",
    "\n",
    "y_hat = beta0_hat + beta1_hat * x\n",
    "eps_hat = y - y_hat"
   ]
  },
  {
   "cell_type": "code",
   "execution_count": 10,
   "metadata": {},
   "outputs": [
    {
     "data": {
      "text/plain": [
       "134.290"
      ]
     },
     "execution_count": 10,
     "metadata": {},
     "output_type": "execute_result"
    }
   ],
   "source": [
    "# 회귀계수의 수가 2이므로 자유도는 n-2\n",
    "\n",
    "s_var = np.var(eps_hat, ddof=p+1)\n",
    "s_var"
   ]
  },
  {
   "cell_type": "code",
   "execution_count": 12,
   "metadata": {},
   "outputs": [],
   "source": [
    "# 구간 추정\n",
    "\n",
    "C0, C1 = np.diag(np.linalg.pinv(np.dot(X.T, X)))"
   ]
  },
  {
   "cell_type": "code",
   "execution_count": 14,
   "metadata": {},
   "outputs": [
    {
     "data": {
      "text/plain": [
       "(4.714, 1.069)"
      ]
     },
     "execution_count": 14,
     "metadata": {},
     "output_type": "execute_result"
    }
   ],
   "source": [
    "# 표본 오차\n",
    "\n",
    "np.sqrt(s_var * C0), np.sqrt(s_var*C1)"
   ]
  },
  {
   "cell_type": "code",
   "execution_count": 16,
   "metadata": {},
   "outputs": [
    {
     "data": {
      "text/plain": [
       "(13.796, 33.603)"
      ]
     },
     "execution_count": 16,
     "metadata": {},
     "output_type": "execute_result"
    }
   ],
   "source": [
    "# 95% 신뢰구간\n",
    "\n",
    "rv = stats.t(n-2)\n",
    "\n",
    "lcl = beta0_hat - rv.isf(0.025)*np.sqrt(s_var * C0)\n",
    "hcl = beta0_hat - rv.isf(0.975) * np.sqrt(s_var * C0)\n",
    "lcl, hcl"
   ]
  },
  {
   "cell_type": "code",
   "execution_count": null,
   "metadata": {},
   "outputs": [],
   "source": []
  }
 ],
 "metadata": {
  "kernelspec": {
   "display_name": "Python 3.9.13 ('base')",
   "language": "python",
   "name": "python3"
  },
  "language_info": {
   "codemirror_mode": {
    "name": "ipython",
    "version": 3
   },
   "file_extension": ".py",
   "mimetype": "text/x-python",
   "name": "python",
   "nbconvert_exporter": "python",
   "pygments_lexer": "ipython3",
   "version": "3.9.13"
  },
  "orig_nbformat": 4,
  "vscode": {
   "interpreter": {
    "hash": "52818dd643fc9f5a8fce08c8b039dd81d49395af727292e49f8c7c99a8916ae9"
   }
  }
 },
 "nbformat": 4,
 "nbformat_minor": 2
}
