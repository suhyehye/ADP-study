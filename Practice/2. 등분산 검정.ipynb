{
 "cells": [
  {
   "cell_type": "code",
   "execution_count": 2,
   "id": "39e48e7a",
   "metadata": {},
   "outputs": [
    {
     "name": "stdout",
     "output_type": "stream",
     "text": [
      "0.9798646878774735 0.9587155266482157\n"
     ]
    },
    {
     "data": {
      "text/plain": [
       "(0.026358763059111594, 0.871043651164278)"
      ]
     },
     "execution_count": 2,
     "metadata": {},
     "output_type": "execute_result"
    }
   ],
   "source": [
    "from scipy.stats import levene\n",
    "import numpy as np\n",
    "a = np.random.normal(100,1,1000)\n",
    "b = np.random.normal(100,1,1000)\n",
    "\n",
    "print(np.var(a),np.var(b))\n",
    "stat, p = levene(a,b)\n",
    "stat,p"
   ]
  },
  {
   "cell_type": "code",
   "execution_count": 3,
   "id": "3115ba67",
   "metadata": {},
   "outputs": [],
   "source": [
    "# p-value가 낮아야 두 집단의 분산 차이가 존재한다고 판단"
   ]
  },
  {
   "cell_type": "code",
   "execution_count": 4,
   "id": "621608d0",
   "metadata": {},
   "outputs": [
    {
     "name": "stdout",
     "output_type": "stream",
     "text": [
      "0.9564683102602743 98.80824781936704 0.9767138681590258\n"
     ]
    },
    {
     "data": {
      "text/plain": [
       "(1438.4415153411292, 0.0)"
      ]
     },
     "execution_count": 4,
     "metadata": {},
     "output_type": "execute_result"
    }
   ],
   "source": [
    "a = np.random.normal(100,1,1000)\n",
    "b = np.random.normal(100,10,1000)\n",
    "c = np.random.normal(100,1,1000)\n",
    "\n",
    "print(np.var(a),np.var(b),np.var(c))\n",
    "stat, p = levene(a,b,c)\n",
    "stat, p"
   ]
  },
  {
   "cell_type": "code",
   "execution_count": null,
   "id": "63356ce7",
   "metadata": {},
   "outputs": [],
   "source": []
  }
 ],
 "metadata": {
  "kernelspec": {
   "display_name": "Python 3",
   "language": "python",
   "name": "python3"
  },
  "language_info": {
   "codemirror_mode": {
    "name": "ipython",
    "version": 3
   },
   "file_extension": ".py",
   "mimetype": "text/x-python",
   "name": "python",
   "nbconvert_exporter": "python",
   "pygments_lexer": "ipython3",
   "version": "3.8.8"
  }
 },
 "nbformat": 4,
 "nbformat_minor": 5
}
