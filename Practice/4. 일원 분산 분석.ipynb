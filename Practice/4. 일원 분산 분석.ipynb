{
 "cells": [
  {
   "cell_type": "code",
   "execution_count": 2,
   "id": "8abc4236",
   "metadata": {},
   "outputs": [],
   "source": [
    "import pandas as pd\n",
    "import numpy as np\n",
    "import statsmodels.formula.api as smf\n",
    "import statsmodels.api as sm\n",
    "from statsmodels.stats.anova import AnovaRM\n",
    "from scipy import stats"
   ]
  },
  {
   "cell_type": "code",
   "execution_count": 5,
   "id": "e4d239c0",
   "metadata": {},
   "outputs": [],
   "source": [
    "group_list = ['a','b','c']\n",
    "subs_list = ['01','02','03','04','05','06','07','08','09','10']\n",
    "\n",
    "df_1way = pd.DataFrame(columns = ['group','my_value'])\n",
    "my_row = 0\n",
    "for ind_g, group in enumerate(group_list):\n",
    "    for sub in subs_list:\n",
    "        my_val = np.random.normal(ind_g,1,1)[0]\n",
    "        df_1way.loc[my_row] = [group,my_val]\n",
    "        my_row = my_row+1"
   ]
  },
  {
   "cell_type": "code",
   "execution_count": 6,
   "id": "496934c1",
   "metadata": {},
   "outputs": [
    {
     "data": {
      "text/html": [
       "<div>\n",
       "<style scoped>\n",
       "    .dataframe tbody tr th:only-of-type {\n",
       "        vertical-align: middle;\n",
       "    }\n",
       "\n",
       "    .dataframe tbody tr th {\n",
       "        vertical-align: top;\n",
       "    }\n",
       "\n",
       "    .dataframe thead th {\n",
       "        text-align: right;\n",
       "    }\n",
       "</style>\n",
       "<table border=\"1\" class=\"dataframe\">\n",
       "  <thead>\n",
       "    <tr style=\"text-align: right;\">\n",
       "      <th></th>\n",
       "      <th>group</th>\n",
       "      <th>my_value</th>\n",
       "    </tr>\n",
       "  </thead>\n",
       "  <tbody>\n",
       "    <tr>\n",
       "      <th>0</th>\n",
       "      <td>a</td>\n",
       "      <td>-0.835997</td>\n",
       "    </tr>\n",
       "    <tr>\n",
       "      <th>1</th>\n",
       "      <td>a</td>\n",
       "      <td>-2.500304</td>\n",
       "    </tr>\n",
       "    <tr>\n",
       "      <th>2</th>\n",
       "      <td>a</td>\n",
       "      <td>-0.057559</td>\n",
       "    </tr>\n",
       "    <tr>\n",
       "      <th>3</th>\n",
       "      <td>a</td>\n",
       "      <td>-0.813128</td>\n",
       "    </tr>\n",
       "    <tr>\n",
       "      <th>4</th>\n",
       "      <td>a</td>\n",
       "      <td>-0.482569</td>\n",
       "    </tr>\n",
       "  </tbody>\n",
       "</table>\n",
       "</div>"
      ],
      "text/plain": [
       "  group  my_value\n",
       "0     a -0.835997\n",
       "1     a -2.500304\n",
       "2     a -0.057559\n",
       "3     a -0.813128\n",
       "4     a -0.482569"
      ]
     },
     "execution_count": 6,
     "metadata": {},
     "output_type": "execute_result"
    }
   ],
   "source": [
    "df_1way.head()"
   ]
  },
  {
   "cell_type": "code",
   "execution_count": 7,
   "id": "e39f0951",
   "metadata": {},
   "outputs": [
    {
     "name": "stdout",
     "output_type": "stream",
     "text": [
      "             sum_sq    df          F    PR(>F)\n",
      "group     25.320130   2.0  13.294976  0.000096\n",
      "Residual  25.710596  27.0        NaN       NaN\n"
     ]
    }
   ],
   "source": [
    "my_model = smf.ols(formula = 'my_value ~ group',data = df_1way)\n",
    "\n",
    "my_model_fit = my_model.fit()\n",
    "\n",
    "anova = sm.stats.anova_lm(my_model_fit,typ=2)\n",
    "print(anova)"
   ]
  },
  {
   "cell_type": "markdown",
   "id": "d22a14b0",
   "metadata": {},
   "source": [
    "## scipy stats활용"
   ]
  },
  {
   "cell_type": "code",
   "execution_count": 9,
   "id": "3fff9dd3",
   "metadata": {},
   "outputs": [
    {
     "name": "stdout",
     "output_type": "stream",
     "text": [
      "13.294975667485598 9.567212498195346e-05\n"
     ]
    }
   ],
   "source": [
    "F, p = stats.f_oneway(df_1way[df_1way['group'] == 'a'].my_value, df_1way[df_1way['group'] == 'b'].my_value,df_1way[df_1way['group'] == 'c'].my_value)\n",
    "print(F,p)"
   ]
  },
  {
   "cell_type": "markdown",
   "id": "59a74979",
   "metadata": {},
   "source": [
    "## 정규성 검정 실패시 "
   ]
  },
  {
   "cell_type": "code",
   "execution_count": 10,
   "id": "5c6a9504",
   "metadata": {},
   "outputs": [
    {
     "data": {
      "text/plain": [
       "KruskalResult(statistic=0.2727272727272734, pvalue=0.6015081344405895)"
      ]
     },
     "execution_count": 10,
     "metadata": {},
     "output_type": "execute_result"
    }
   ],
   "source": [
    "from scipy import stats\n",
    "x = [1,3,5,7,9]\n",
    "y = [2,4,6,8,10]\n",
    "stats.kruskal(x,y)"
   ]
  },
  {
   "cell_type": "code",
   "execution_count": 11,
   "id": "97ff67f5",
   "metadata": {},
   "outputs": [
    {
     "data": {
      "text/plain": [
       "KruskalResult(statistic=0.0, pvalue=1.0)"
      ]
     },
     "execution_count": 11,
     "metadata": {},
     "output_type": "execute_result"
    }
   ],
   "source": [
    "x = [1,2,3,4,5]\n",
    "y = [1,2,3,4,5]\n",
    "z = [1,2,3,4,5]\n",
    "\n",
    "stats.kruskal(x,y,z)"
   ]
  },
  {
   "cell_type": "code",
   "execution_count": null,
   "id": "699e56cf",
   "metadata": {},
   "outputs": [],
   "source": []
  }
 ],
 "metadata": {
  "kernelspec": {
   "display_name": "Python 3",
   "language": "python",
   "name": "python3"
  },
  "language_info": {
   "codemirror_mode": {
    "name": "ipython",
    "version": 3
   },
   "file_extension": ".py",
   "mimetype": "text/x-python",
   "name": "python",
   "nbconvert_exporter": "python",
   "pygments_lexer": "ipython3",
   "version": "3.8.8"
  }
 },
 "nbformat": 4,
 "nbformat_minor": 5
}
