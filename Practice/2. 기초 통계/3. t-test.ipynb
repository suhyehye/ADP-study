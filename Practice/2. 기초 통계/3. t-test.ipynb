{
 "cells": [
  {
   "cell_type": "markdown",
   "id": "000ef6ae",
   "metadata": {},
   "source": [
    "## 등분산성 검정"
   ]
  },
  {
   "cell_type": "code",
   "execution_count": 1,
   "id": "619b4968",
   "metadata": {},
   "outputs": [
    {
     "name": "stdout",
     "output_type": "stream",
     "text": [
      "a 분산 : 0.9105 , b 분산 : 0.8902\n"
     ]
    }
   ],
   "source": [
    "import numpy as np\n",
    "from scipy.stats import levene\n",
    "\n",
    "a = np.random.normal(10,1,100)\n",
    "b = np.random.normal(10,1,100)\n",
    "\n",
    "print(\"a 분산 : {0:.4f} , b 분산 : {1:.4f}\".format(np.var(a),np.var(b)))"
   ]
  },
  {
   "cell_type": "code",
   "execution_count": 2,
   "id": "c11f867a",
   "metadata": {},
   "outputs": [
    {
     "name": "stdout",
     "output_type": "stream",
     "text": [
      "LeveneResult(statistic=0.2517646562949163, pvalue=0.6163927332128407)\n"
     ]
    }
   ],
   "source": [
    "print(levene(a,b))"
   ]
  },
  {
   "cell_type": "markdown",
   "id": "97062ecf",
   "metadata": {},
   "source": [
    "## 정규성 검정"
   ]
  },
  {
   "cell_type": "code",
   "execution_count": 4,
   "id": "fab5e16e",
   "metadata": {},
   "outputs": [
    {
     "name": "stdout",
     "output_type": "stream",
     "text": [
      "a의 정규성 :  NormaltestResult(statistic=3.27451003221876, pvalue=0.1945132458648881)\n",
      "b의 정규성 :  NormaltestResult(statistic=0.650096710357406, pvalue=0.7224924165474705)\n"
     ]
    }
   ],
   "source": [
    "from scipy import stats\n",
    "\n",
    "print('a의 정규성 : ',stats.normaltest(a))\n",
    "print('b의 정규성 : ',stats.normaltest(b))"
   ]
  },
  {
   "cell_type": "markdown",
   "id": "86c4007e",
   "metadata": {},
   "source": [
    "## 독립표본 t-test"
   ]
  },
  {
   "cell_type": "markdown",
   "id": "61e49627",
   "metadata": {},
   "source": [
    "두 집단의 등 분산성 검정을 반드시 한 후 수행"
   ]
  },
  {
   "cell_type": "code",
   "execution_count": 5,
   "id": "5e99820d",
   "metadata": {},
   "outputs": [
    {
     "data": {
      "text/plain": [
       "Ttest_indResult(statistic=1.3780989692784416, pvalue=0.16972808018655003)"
      ]
     },
     "execution_count": 5,
     "metadata": {},
     "output_type": "execute_result"
    }
   ],
   "source": [
    "stats.ttest_ind(a,b,equal_var=True)"
   ]
  },
  {
   "cell_type": "code",
   "execution_count": 6,
   "id": "d5155bcc",
   "metadata": {},
   "outputs": [
    {
     "data": {
      "text/plain": [
       "Ttest_indResult(statistic=1.3780989692784416, pvalue=0.1697282781522803)"
      ]
     },
     "execution_count": 6,
     "metadata": {},
     "output_type": "execute_result"
    }
   ],
   "source": [
    "stats.ttest_ind(a,b,equal_var = False)"
   ]
  },
  {
   "cell_type": "markdown",
   "id": "912b465f",
   "metadata": {},
   "source": [
    "## 대응 표본 t-test"
   ]
  },
  {
   "cell_type": "code",
   "execution_count": 8,
   "id": "69f44598",
   "metadata": {},
   "outputs": [
    {
     "data": {
      "text/plain": [
       "Ttest_relResult(statistic=-0.35033600203358695, pvalue=0.7268308427795804)"
      ]
     },
     "execution_count": 8,
     "metadata": {},
     "output_type": "execute_result"
    }
   ],
   "source": [
    "a = np.random.normal(10,1,100)\n",
    "b = a + np.random.normal(0,1,100)\n",
    "\n",
    "stats.ttest_rel(a,b)"
   ]
  },
  {
   "cell_type": "code",
   "execution_count": null,
   "id": "d5c2a94f",
   "metadata": {},
   "outputs": [],
   "source": []
  }
 ],
 "metadata": {
  "kernelspec": {
   "display_name": "Python 3",
   "language": "python",
   "name": "python3"
  },
  "language_info": {
   "codemirror_mode": {
    "name": "ipython",
    "version": 3
   },
   "file_extension": ".py",
   "mimetype": "text/x-python",
   "name": "python",
   "nbconvert_exporter": "python",
   "pygments_lexer": "ipython3",
   "version": "3.8.8"
  }
 },
 "nbformat": 4,
 "nbformat_minor": 5
}
