{
 "cells": [
  {
   "cell_type": "code",
   "execution_count": 1,
   "id": "c32315e6",
   "metadata": {},
   "outputs": [],
   "source": [
    "import pandas as pd\n",
    "import numpy as np\n",
    "import statsmodels.formula.api as smf\n",
    "import statsmodels.api as sm\n",
    "from statsmodels.stats.anova import AnovaRM\n",
    "from scipy import stats"
   ]
  },
  {
   "cell_type": "code",
   "execution_count": 4,
   "id": "5e9bbc9b",
   "metadata": {},
   "outputs": [
    {
     "data": {
      "text/html": [
       "<div>\n",
       "<style scoped>\n",
       "    .dataframe tbody tr th:only-of-type {\n",
       "        vertical-align: middle;\n",
       "    }\n",
       "\n",
       "    .dataframe tbody tr th {\n",
       "        vertical-align: top;\n",
       "    }\n",
       "\n",
       "    .dataframe thead th {\n",
       "        text-align: right;\n",
       "    }\n",
       "</style>\n",
       "<table border=\"1\" class=\"dataframe\">\n",
       "  <thead>\n",
       "    <tr style=\"text-align: right;\">\n",
       "      <th></th>\n",
       "      <th>group</th>\n",
       "      <th>language</th>\n",
       "      <th>my_value</th>\n",
       "    </tr>\n",
       "  </thead>\n",
       "  <tbody>\n",
       "    <tr>\n",
       "      <th>0</th>\n",
       "      <td>control</td>\n",
       "      <td>English</td>\n",
       "      <td>-0.132527</td>\n",
       "    </tr>\n",
       "    <tr>\n",
       "      <th>1</th>\n",
       "      <td>control</td>\n",
       "      <td>English</td>\n",
       "      <td>-1.223149</td>\n",
       "    </tr>\n",
       "    <tr>\n",
       "      <th>2</th>\n",
       "      <td>control</td>\n",
       "      <td>English</td>\n",
       "      <td>-0.066892</td>\n",
       "    </tr>\n",
       "    <tr>\n",
       "      <th>3</th>\n",
       "      <td>control</td>\n",
       "      <td>English</td>\n",
       "      <td>-1.306431</td>\n",
       "    </tr>\n",
       "    <tr>\n",
       "      <th>4</th>\n",
       "      <td>control</td>\n",
       "      <td>English</td>\n",
       "      <td>1.310128</td>\n",
       "    </tr>\n",
       "  </tbody>\n",
       "</table>\n",
       "</div>"
      ],
      "text/plain": [
       "     group language  my_value\n",
       "0  control  English -0.132527\n",
       "1  control  English -1.223149\n",
       "2  control  English -0.066892\n",
       "3  control  English -1.306431\n",
       "4  control  English  1.310128"
      ]
     },
     "execution_count": 4,
     "metadata": {},
     "output_type": "execute_result"
    }
   ],
   "source": [
    "group_list = ['control','patient1','patient2']\n",
    "language_list = ['English','German','French']\n",
    "subs_list = ['01','02','03','04','05','06','07','08','09','10']\n",
    "\n",
    "df_2way = pd.DataFrame(columns = ['group','language','my_value'])\n",
    "my_row = 0\n",
    "for ind_g, group in enumerate(group_list):\n",
    "    for ind_l, lan in enumerate(language_list):\n",
    "        for sub in subs_list:\n",
    "            my_val = np.random.normal(ind_g+ind_l,1,1)[0]\n",
    "            df_2way.loc[my_row] = [group, lan, my_val]\n",
    "            my_row = my_row+1\n",
    "            \n",
    "            \n",
    "df_2way.head()"
   ]
  },
  {
   "cell_type": "code",
   "execution_count": 6,
   "id": "6ff75955",
   "metadata": {},
   "outputs": [
    {
     "name": "stdout",
     "output_type": "stream",
     "text": [
      "                   sum_sq    df          F        PR(>F)\n",
      "group           59.309431   2.0  29.845917  1.944254e-10\n",
      "language        72.639898   2.0  36.554126  4.860653e-12\n",
      "group:language   3.659349   4.0   0.920736  4.560730e-01\n",
      "Residual        80.481090  81.0        NaN           NaN\n"
     ]
    }
   ],
   "source": [
    "my_model_fit = smf.ols(formula = 'my_value~group*language',data = df_2way).fit()\n",
    "\n",
    "print(sm.stats.anova_lm(my_model_fit,typ=2))\n"
   ]
  },
  {
   "cell_type": "markdown",
   "id": "2689f15c",
   "metadata": {},
   "source": [
    "group, language는 유효\n",
    "\n",
    "group*language의 p-value는 0.25로 유효하지 않음 => 교호작용 X"
   ]
  },
  {
   "cell_type": "code",
   "execution_count": null,
   "id": "0ffeb6bc",
   "metadata": {},
   "outputs": [],
   "source": []
  }
 ],
 "metadata": {
  "kernelspec": {
   "display_name": "Python 3",
   "language": "python",
   "name": "python3"
  },
  "language_info": {
   "codemirror_mode": {
    "name": "ipython",
    "version": 3
   },
   "file_extension": ".py",
   "mimetype": "text/x-python",
   "name": "python",
   "nbconvert_exporter": "python",
   "pygments_lexer": "ipython3",
   "version": "3.8.8"
  }
 },
 "nbformat": 4,
 "nbformat_minor": 5
}
