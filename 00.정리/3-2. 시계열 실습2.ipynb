{
 "cells": [
  {
   "cell_type": "code",
   "execution_count": 1,
   "metadata": {},
   "outputs": [],
   "source": [
    "import pandas as pd\n",
    "import numpy as np\n",
    "import seaborn as sns\n",
    "import matplotlib\n",
    "import matplotlib.pyplot as plt\n",
    "plt.style.use('seaborn-whitegrid')\n",
    "%matplotlib inline\n",
    "pd.options.display.max_columns = None\n",
    "\n",
    "import os\n",
    "\n",
    "from sklearn.model_selection import train_test_split\n",
    "from sklearn.metrics import r2_score\n",
    "\n",
    "import statsmodels.api as sm\n",
    "from statsmodels.graphics.tsaplots import plot_acf, plot_pacf\n",
    "from statsmodels.tsa.arima_model import ARIMA\n",
    "from statsmodels.tsa.statespace.sarimax import SARIMAX\n",
    "from pmdarima.arima import auto_arima\n",
    "\n",
    "import itertools"
   ]
  },
  {
   "cell_type": "code",
   "execution_count": 2,
   "metadata": {},
   "outputs": [],
   "source": [
    "# 그래프 한글 깨짐 방지\n",
    "from matplotlib import font_manager, rc\n",
    "path = 'C:/Windows/Fonts/malgun.ttf'\n",
    "font_name = font_manager.FontProperties(fname=path).get_name()\n",
    "rc('font', family=font_name)"
   ]
  },
  {
   "cell_type": "code",
   "execution_count": 3,
   "metadata": {},
   "outputs": [
    {
     "data": {
      "text/html": [
       "<div>\n",
       "<style scoped>\n",
       "    .dataframe tbody tr th:only-of-type {\n",
       "        vertical-align: middle;\n",
       "    }\n",
       "\n",
       "    .dataframe tbody tr th {\n",
       "        vertical-align: top;\n",
       "    }\n",
       "\n",
       "    .dataframe thead th {\n",
       "        text-align: right;\n",
       "    }\n",
       "</style>\n",
       "<table border=\"1\" class=\"dataframe\">\n",
       "  <thead>\n",
       "    <tr style=\"text-align: right;\">\n",
       "      <th></th>\n",
       "      <th>datetime</th>\n",
       "      <th>season</th>\n",
       "      <th>holiday</th>\n",
       "      <th>workingday</th>\n",
       "      <th>weather</th>\n",
       "      <th>temp</th>\n",
       "      <th>atemp</th>\n",
       "      <th>humidity</th>\n",
       "      <th>windspeed</th>\n",
       "      <th>casual</th>\n",
       "      <th>registered</th>\n",
       "      <th>count</th>\n",
       "    </tr>\n",
       "  </thead>\n",
       "  <tbody>\n",
       "    <tr>\n",
       "      <th>0</th>\n",
       "      <td>2011-01-01 0:00</td>\n",
       "      <td>A</td>\n",
       "      <td>0</td>\n",
       "      <td>0</td>\n",
       "      <td>1</td>\n",
       "      <td>9.84</td>\n",
       "      <td>14.395</td>\n",
       "      <td>81</td>\n",
       "      <td>0.0</td>\n",
       "      <td>3</td>\n",
       "      <td>13</td>\n",
       "      <td>16</td>\n",
       "    </tr>\n",
       "    <tr>\n",
       "      <th>1</th>\n",
       "      <td>2011-01-01 1:00</td>\n",
       "      <td>A</td>\n",
       "      <td>0</td>\n",
       "      <td>0</td>\n",
       "      <td>1</td>\n",
       "      <td>9.02</td>\n",
       "      <td>13.635</td>\n",
       "      <td>80</td>\n",
       "      <td>0.0</td>\n",
       "      <td>8</td>\n",
       "      <td>32</td>\n",
       "      <td>40</td>\n",
       "    </tr>\n",
       "    <tr>\n",
       "      <th>2</th>\n",
       "      <td>2011-01-01 2:00</td>\n",
       "      <td>A</td>\n",
       "      <td>0</td>\n",
       "      <td>0</td>\n",
       "      <td>1</td>\n",
       "      <td>9.02</td>\n",
       "      <td>13.635</td>\n",
       "      <td>80</td>\n",
       "      <td>0.0</td>\n",
       "      <td>5</td>\n",
       "      <td>27</td>\n",
       "      <td>32</td>\n",
       "    </tr>\n",
       "    <tr>\n",
       "      <th>3</th>\n",
       "      <td>2011-01-01 3:00</td>\n",
       "      <td>A</td>\n",
       "      <td>0</td>\n",
       "      <td>0</td>\n",
       "      <td>1</td>\n",
       "      <td>9.84</td>\n",
       "      <td>14.395</td>\n",
       "      <td>75</td>\n",
       "      <td>0.0</td>\n",
       "      <td>3</td>\n",
       "      <td>10</td>\n",
       "      <td>13</td>\n",
       "    </tr>\n",
       "    <tr>\n",
       "      <th>4</th>\n",
       "      <td>2011-01-01 4:00</td>\n",
       "      <td>A</td>\n",
       "      <td>0</td>\n",
       "      <td>0</td>\n",
       "      <td>1</td>\n",
       "      <td>9.84</td>\n",
       "      <td>14.395</td>\n",
       "      <td>75</td>\n",
       "      <td>0.0</td>\n",
       "      <td>0</td>\n",
       "      <td>1</td>\n",
       "      <td>1</td>\n",
       "    </tr>\n",
       "  </tbody>\n",
       "</table>\n",
       "</div>"
      ],
      "text/plain": [
       "          datetime season  holiday  workingday  weather  temp   atemp  \\\n",
       "0  2011-01-01 0:00      A        0           0        1  9.84  14.395   \n",
       "1  2011-01-01 1:00      A        0           0        1  9.02  13.635   \n",
       "2  2011-01-01 2:00      A        0           0        1  9.02  13.635   \n",
       "3  2011-01-01 3:00      A        0           0        1  9.84  14.395   \n",
       "4  2011-01-01 4:00      A        0           0        1  9.84  14.395   \n",
       "\n",
       "   humidity  windspeed  casual  registered  count  \n",
       "0        81        0.0       3          13     16  \n",
       "1        80        0.0       8          32     40  \n",
       "2        80        0.0       5          27     32  \n",
       "3        75        0.0       3          10     13  \n",
       "4        75        0.0       0           1      1  "
      ]
     },
     "execution_count": 3,
     "metadata": {},
     "output_type": "execute_result"
    }
   ],
   "source": [
    "df = pd.read_csv('./data/bikeshare.csv')\n",
    "df.head()"
   ]
  },
  {
   "cell_type": "code",
   "execution_count": 4,
   "metadata": {},
   "outputs": [
    {
     "data": {
      "text/html": [
       "<div>\n",
       "<style scoped>\n",
       "    .dataframe tbody tr th:only-of-type {\n",
       "        vertical-align: middle;\n",
       "    }\n",
       "\n",
       "    .dataframe tbody tr th {\n",
       "        vertical-align: top;\n",
       "    }\n",
       "\n",
       "    .dataframe thead th {\n",
       "        text-align: right;\n",
       "    }\n",
       "</style>\n",
       "<table border=\"1\" class=\"dataframe\">\n",
       "  <thead>\n",
       "    <tr style=\"text-align: right;\">\n",
       "      <th></th>\n",
       "      <th>datetime</th>\n",
       "      <th>season</th>\n",
       "      <th>holiday</th>\n",
       "      <th>workingday</th>\n",
       "      <th>weather</th>\n",
       "      <th>temp</th>\n",
       "      <th>atemp</th>\n",
       "      <th>humidity</th>\n",
       "      <th>windspeed</th>\n",
       "      <th>casual</th>\n",
       "      <th>registered</th>\n",
       "      <th>count</th>\n",
       "    </tr>\n",
       "  </thead>\n",
       "  <tbody>\n",
       "    <tr>\n",
       "      <th>10881</th>\n",
       "      <td>2012-12-19 19:00</td>\n",
       "      <td>D</td>\n",
       "      <td>0</td>\n",
       "      <td>1</td>\n",
       "      <td>1</td>\n",
       "      <td>15.58</td>\n",
       "      <td>19.695</td>\n",
       "      <td>50</td>\n",
       "      <td>26.0027</td>\n",
       "      <td>7</td>\n",
       "      <td>329</td>\n",
       "      <td>336</td>\n",
       "    </tr>\n",
       "    <tr>\n",
       "      <th>10882</th>\n",
       "      <td>2012-12-19 20:00</td>\n",
       "      <td>D</td>\n",
       "      <td>0</td>\n",
       "      <td>1</td>\n",
       "      <td>1</td>\n",
       "      <td>14.76</td>\n",
       "      <td>17.425</td>\n",
       "      <td>57</td>\n",
       "      <td>15.0013</td>\n",
       "      <td>10</td>\n",
       "      <td>231</td>\n",
       "      <td>241</td>\n",
       "    </tr>\n",
       "    <tr>\n",
       "      <th>10883</th>\n",
       "      <td>2012-12-19 21:00</td>\n",
       "      <td>D</td>\n",
       "      <td>0</td>\n",
       "      <td>1</td>\n",
       "      <td>1</td>\n",
       "      <td>13.94</td>\n",
       "      <td>15.910</td>\n",
       "      <td>61</td>\n",
       "      <td>15.0013</td>\n",
       "      <td>4</td>\n",
       "      <td>164</td>\n",
       "      <td>168</td>\n",
       "    </tr>\n",
       "    <tr>\n",
       "      <th>10884</th>\n",
       "      <td>2012-12-19 22:00</td>\n",
       "      <td>D</td>\n",
       "      <td>0</td>\n",
       "      <td>1</td>\n",
       "      <td>1</td>\n",
       "      <td>13.94</td>\n",
       "      <td>17.425</td>\n",
       "      <td>61</td>\n",
       "      <td>6.0032</td>\n",
       "      <td>12</td>\n",
       "      <td>117</td>\n",
       "      <td>129</td>\n",
       "    </tr>\n",
       "    <tr>\n",
       "      <th>10885</th>\n",
       "      <td>2012-12-19 23:00</td>\n",
       "      <td>D</td>\n",
       "      <td>0</td>\n",
       "      <td>1</td>\n",
       "      <td>1</td>\n",
       "      <td>13.12</td>\n",
       "      <td>16.665</td>\n",
       "      <td>66</td>\n",
       "      <td>8.9981</td>\n",
       "      <td>4</td>\n",
       "      <td>84</td>\n",
       "      <td>88</td>\n",
       "    </tr>\n",
       "  </tbody>\n",
       "</table>\n",
       "</div>"
      ],
      "text/plain": [
       "               datetime season  holiday  workingday  weather   temp   atemp  \\\n",
       "10881  2012-12-19 19:00      D        0           1        1  15.58  19.695   \n",
       "10882  2012-12-19 20:00      D        0           1        1  14.76  17.425   \n",
       "10883  2012-12-19 21:00      D        0           1        1  13.94  15.910   \n",
       "10884  2012-12-19 22:00      D        0           1        1  13.94  17.425   \n",
       "10885  2012-12-19 23:00      D        0           1        1  13.12  16.665   \n",
       "\n",
       "       humidity  windspeed  casual  registered  count  \n",
       "10881        50    26.0027       7         329    336  \n",
       "10882        57    15.0013      10         231    241  \n",
       "10883        61    15.0013       4         164    168  \n",
       "10884        61     6.0032      12         117    129  \n",
       "10885        66     8.9981       4          84     88  "
      ]
     },
     "execution_count": 4,
     "metadata": {},
     "output_type": "execute_result"
    }
   ],
   "source": [
    "df.tail()"
   ]
  },
  {
   "cell_type": "code",
   "execution_count": 5,
   "metadata": {},
   "outputs": [
    {
     "data": {
      "text/plain": [
       "(10886, 12)"
      ]
     },
     "execution_count": 5,
     "metadata": {},
     "output_type": "execute_result"
    }
   ],
   "source": [
    "df.shape"
   ]
  },
  {
   "cell_type": "code",
   "execution_count": 6,
   "metadata": {},
   "outputs": [
    {
     "name": "stdout",
     "output_type": "stream",
     "text": [
      "<class 'pandas.core.frame.DataFrame'>\n",
      "RangeIndex: 10886 entries, 0 to 10885\n",
      "Data columns (total 12 columns):\n",
      " #   Column      Non-Null Count  Dtype  \n",
      "---  ------      --------------  -----  \n",
      " 0   datetime    10886 non-null  object \n",
      " 1   season      10886 non-null  object \n",
      " 2   holiday     10886 non-null  int64  \n",
      " 3   workingday  10886 non-null  int64  \n",
      " 4   weather     10886 non-null  int64  \n",
      " 5   temp        10886 non-null  float64\n",
      " 6   atemp       10886 non-null  float64\n",
      " 7   humidity    10886 non-null  int64  \n",
      " 8   windspeed   10886 non-null  float64\n",
      " 9   casual      10886 non-null  int64  \n",
      " 10  registered  10886 non-null  int64  \n",
      " 11  count       10886 non-null  int64  \n",
      "dtypes: float64(3), int64(7), object(2)\n",
      "memory usage: 1020.7+ KB\n"
     ]
    }
   ],
   "source": [
    "df.info()"
   ]
  },
  {
   "cell_type": "code",
   "execution_count": 7,
   "metadata": {},
   "outputs": [],
   "source": [
    "# 날짜 데이터를 Timestamp 형식으로 변환\n",
    "# 날짜 형식이 연, 월, 일, 시, 분, 초 형태일때\n",
    "\n",
    "df['datetime'] = pd.to_datetime(df['datetime'])"
   ]
  },
  {
   "cell_type": "code",
   "execution_count": 8,
   "metadata": {},
   "outputs": [
    {
     "name": "stdout",
     "output_type": "stream",
     "text": [
      "2016-05-17 13:55:58 <class 'datetime.datetime'>\n",
      "2016-05-17 13:55:58 <class 'pandas._libs.tslibs.timestamps.Timestamp'>\n"
     ]
    }
   ],
   "source": [
    "# 13자리 숫자일 때\n",
    "import datetime\n",
    "timestamp = 1463460958000\n",
    "datetimeobj = datetime.datetime.fromtimestamp(timestamp/1000)\n",
    "print(datetimeobj, type(datetimeobj))\n",
    "\n",
    "a = pd.to_datetime(datetimeobj)\n",
    "print(a, type(a))"
   ]
  },
  {
   "cell_type": "code",
   "execution_count": 9,
   "metadata": {},
   "outputs": [
    {
     "data": {
      "text/plain": [
       "1463460958.0"
      ]
     },
     "execution_count": 9,
     "metadata": {},
     "output_type": "execute_result"
    }
   ],
   "source": [
    "# datetime to timestamp\n",
    "import time\n",
    "timestamp = time.mktime(datetimeobj.timetuple())\n",
    "timestamp"
   ]
  },
  {
   "cell_type": "code",
   "execution_count": 10,
   "metadata": {},
   "outputs": [
    {
     "data": {
      "text/plain": [
       "datetime.date(2019, 10, 1)"
      ]
     },
     "execution_count": 10,
     "metadata": {},
     "output_type": "execute_result"
    }
   ],
   "source": [
    "import datetime\n",
    "datetime.date(year=2019, month=10, day=1)"
   ]
  },
  {
   "cell_type": "markdown",
   "metadata": {},
   "source": [
    "날짜 데이터로부터 연, 월, 일, 시, 요일 데이터 추출"
   ]
  },
  {
   "cell_type": "code",
   "execution_count": 11,
   "metadata": {},
   "outputs": [
    {
     "data": {
      "text/html": [
       "<div>\n",
       "<style scoped>\n",
       "    .dataframe tbody tr th:only-of-type {\n",
       "        vertical-align: middle;\n",
       "    }\n",
       "\n",
       "    .dataframe tbody tr th {\n",
       "        vertical-align: top;\n",
       "    }\n",
       "\n",
       "    .dataframe thead th {\n",
       "        text-align: right;\n",
       "    }\n",
       "</style>\n",
       "<table border=\"1\" class=\"dataframe\">\n",
       "  <thead>\n",
       "    <tr style=\"text-align: right;\">\n",
       "      <th></th>\n",
       "      <th>datetime</th>\n",
       "      <th>season</th>\n",
       "      <th>holiday</th>\n",
       "      <th>workingday</th>\n",
       "      <th>weather</th>\n",
       "      <th>temp</th>\n",
       "      <th>atemp</th>\n",
       "      <th>humidity</th>\n",
       "      <th>windspeed</th>\n",
       "      <th>casual</th>\n",
       "      <th>registered</th>\n",
       "      <th>count</th>\n",
       "      <th>year</th>\n",
       "      <th>month</th>\n",
       "      <th>day</th>\n",
       "      <th>hour</th>\n",
       "      <th>dayofweek</th>\n",
       "    </tr>\n",
       "  </thead>\n",
       "  <tbody>\n",
       "    <tr>\n",
       "      <th>0</th>\n",
       "      <td>2011-01-01 00:00:00</td>\n",
       "      <td>A</td>\n",
       "      <td>0</td>\n",
       "      <td>0</td>\n",
       "      <td>1</td>\n",
       "      <td>9.84</td>\n",
       "      <td>14.395</td>\n",
       "      <td>81</td>\n",
       "      <td>0.0</td>\n",
       "      <td>3</td>\n",
       "      <td>13</td>\n",
       "      <td>16</td>\n",
       "      <td>2011</td>\n",
       "      <td>1</td>\n",
       "      <td>1</td>\n",
       "      <td>0</td>\n",
       "      <td>5</td>\n",
       "    </tr>\n",
       "    <tr>\n",
       "      <th>1</th>\n",
       "      <td>2011-01-01 01:00:00</td>\n",
       "      <td>A</td>\n",
       "      <td>0</td>\n",
       "      <td>0</td>\n",
       "      <td>1</td>\n",
       "      <td>9.02</td>\n",
       "      <td>13.635</td>\n",
       "      <td>80</td>\n",
       "      <td>0.0</td>\n",
       "      <td>8</td>\n",
       "      <td>32</td>\n",
       "      <td>40</td>\n",
       "      <td>2011</td>\n",
       "      <td>1</td>\n",
       "      <td>1</td>\n",
       "      <td>1</td>\n",
       "      <td>5</td>\n",
       "    </tr>\n",
       "    <tr>\n",
       "      <th>2</th>\n",
       "      <td>2011-01-01 02:00:00</td>\n",
       "      <td>A</td>\n",
       "      <td>0</td>\n",
       "      <td>0</td>\n",
       "      <td>1</td>\n",
       "      <td>9.02</td>\n",
       "      <td>13.635</td>\n",
       "      <td>80</td>\n",
       "      <td>0.0</td>\n",
       "      <td>5</td>\n",
       "      <td>27</td>\n",
       "      <td>32</td>\n",
       "      <td>2011</td>\n",
       "      <td>1</td>\n",
       "      <td>1</td>\n",
       "      <td>2</td>\n",
       "      <td>5</td>\n",
       "    </tr>\n",
       "    <tr>\n",
       "      <th>3</th>\n",
       "      <td>2011-01-01 03:00:00</td>\n",
       "      <td>A</td>\n",
       "      <td>0</td>\n",
       "      <td>0</td>\n",
       "      <td>1</td>\n",
       "      <td>9.84</td>\n",
       "      <td>14.395</td>\n",
       "      <td>75</td>\n",
       "      <td>0.0</td>\n",
       "      <td>3</td>\n",
       "      <td>10</td>\n",
       "      <td>13</td>\n",
       "      <td>2011</td>\n",
       "      <td>1</td>\n",
       "      <td>1</td>\n",
       "      <td>3</td>\n",
       "      <td>5</td>\n",
       "    </tr>\n",
       "    <tr>\n",
       "      <th>4</th>\n",
       "      <td>2011-01-01 04:00:00</td>\n",
       "      <td>A</td>\n",
       "      <td>0</td>\n",
       "      <td>0</td>\n",
       "      <td>1</td>\n",
       "      <td>9.84</td>\n",
       "      <td>14.395</td>\n",
       "      <td>75</td>\n",
       "      <td>0.0</td>\n",
       "      <td>0</td>\n",
       "      <td>1</td>\n",
       "      <td>1</td>\n",
       "      <td>2011</td>\n",
       "      <td>1</td>\n",
       "      <td>1</td>\n",
       "      <td>4</td>\n",
       "      <td>5</td>\n",
       "    </tr>\n",
       "  </tbody>\n",
       "</table>\n",
       "</div>"
      ],
      "text/plain": [
       "             datetime season  holiday  workingday  weather  temp   atemp  \\\n",
       "0 2011-01-01 00:00:00      A        0           0        1  9.84  14.395   \n",
       "1 2011-01-01 01:00:00      A        0           0        1  9.02  13.635   \n",
       "2 2011-01-01 02:00:00      A        0           0        1  9.02  13.635   \n",
       "3 2011-01-01 03:00:00      A        0           0        1  9.84  14.395   \n",
       "4 2011-01-01 04:00:00      A        0           0        1  9.84  14.395   \n",
       "\n",
       "   humidity  windspeed  casual  registered  count  year  month  day  hour  \\\n",
       "0        81        0.0       3          13     16  2011      1    1     0   \n",
       "1        80        0.0       8          32     40  2011      1    1     1   \n",
       "2        80        0.0       5          27     32  2011      1    1     2   \n",
       "3        75        0.0       3          10     13  2011      1    1     3   \n",
       "4        75        0.0       0           1      1  2011      1    1     4   \n",
       "\n",
       "   dayofweek  \n",
       "0          5  \n",
       "1          5  \n",
       "2          5  \n",
       "3          5  \n",
       "4          5  "
      ]
     },
     "execution_count": 11,
     "metadata": {},
     "output_type": "execute_result"
    }
   ],
   "source": [
    "df['year'] = df['datetime'].map(lambda x:x.year)\n",
    "df['month'] = df['datetime'].map(lambda x:x.month)\n",
    "df['day'] = df['datetime'].map(lambda x:x.day)\n",
    "df['hour'] = df['datetime'].map(lambda x:x.hour)\n",
    "df['dayofweek'] = df['datetime'].map(lambda x:x.dayofweek)\n",
    "\n",
    "df.head()"
   ]
  },
  {
   "cell_type": "markdown",
   "metadata": {},
   "source": [
    "날짜 데이터를 시 기준으로 그룹핑 (다른 데이터는 평균값 계산) 후 인덱스로 설정"
   ]
  },
  {
   "cell_type": "code",
   "execution_count": 12,
   "metadata": {},
   "outputs": [
    {
     "name": "stderr",
     "output_type": "stream",
     "text": [
      "C:\\Users\\wagar\\AppData\\Local\\Temp\\ipykernel_37660\\321129136.py:1: FutureWarning: Indexing with multiple keys (implicitly converted to a tuple of keys) will be deprecated, use a list instead.\n",
      "  df = df.groupby(['year', 'month','day', 'hour'])['temp', 'humidity', 'windspeed', 'count'].mean().reset_index()\n"
     ]
    }
   ],
   "source": [
    "df = df.groupby(['year', 'month','day', 'hour'])['temp', 'humidity', 'windspeed', 'count'].mean().reset_index()"
   ]
  },
  {
   "cell_type": "code",
   "execution_count": 13,
   "metadata": {},
   "outputs": [
    {
     "data": {
      "text/html": [
       "<div>\n",
       "<style scoped>\n",
       "    .dataframe tbody tr th:only-of-type {\n",
       "        vertical-align: middle;\n",
       "    }\n",
       "\n",
       "    .dataframe tbody tr th {\n",
       "        vertical-align: top;\n",
       "    }\n",
       "\n",
       "    .dataframe thead th {\n",
       "        text-align: right;\n",
       "    }\n",
       "</style>\n",
       "<table border=\"1\" class=\"dataframe\">\n",
       "  <thead>\n",
       "    <tr style=\"text-align: right;\">\n",
       "      <th></th>\n",
       "      <th>year</th>\n",
       "      <th>month</th>\n",
       "      <th>day</th>\n",
       "      <th>hour</th>\n",
       "      <th>temp</th>\n",
       "      <th>humidity</th>\n",
       "      <th>windspeed</th>\n",
       "      <th>count</th>\n",
       "    </tr>\n",
       "  </thead>\n",
       "  <tbody>\n",
       "    <tr>\n",
       "      <th>0</th>\n",
       "      <td>2011</td>\n",
       "      <td>1</td>\n",
       "      <td>1</td>\n",
       "      <td>0</td>\n",
       "      <td>9.84</td>\n",
       "      <td>81.0</td>\n",
       "      <td>0.0</td>\n",
       "      <td>16.0</td>\n",
       "    </tr>\n",
       "    <tr>\n",
       "      <th>1</th>\n",
       "      <td>2011</td>\n",
       "      <td>1</td>\n",
       "      <td>1</td>\n",
       "      <td>1</td>\n",
       "      <td>9.02</td>\n",
       "      <td>80.0</td>\n",
       "      <td>0.0</td>\n",
       "      <td>40.0</td>\n",
       "    </tr>\n",
       "    <tr>\n",
       "      <th>2</th>\n",
       "      <td>2011</td>\n",
       "      <td>1</td>\n",
       "      <td>1</td>\n",
       "      <td>2</td>\n",
       "      <td>9.02</td>\n",
       "      <td>80.0</td>\n",
       "      <td>0.0</td>\n",
       "      <td>32.0</td>\n",
       "    </tr>\n",
       "    <tr>\n",
       "      <th>3</th>\n",
       "      <td>2011</td>\n",
       "      <td>1</td>\n",
       "      <td>1</td>\n",
       "      <td>3</td>\n",
       "      <td>9.84</td>\n",
       "      <td>75.0</td>\n",
       "      <td>0.0</td>\n",
       "      <td>13.0</td>\n",
       "    </tr>\n",
       "    <tr>\n",
       "      <th>4</th>\n",
       "      <td>2011</td>\n",
       "      <td>1</td>\n",
       "      <td>1</td>\n",
       "      <td>4</td>\n",
       "      <td>9.84</td>\n",
       "      <td>75.0</td>\n",
       "      <td>0.0</td>\n",
       "      <td>1.0</td>\n",
       "    </tr>\n",
       "  </tbody>\n",
       "</table>\n",
       "</div>"
      ],
      "text/plain": [
       "   year  month  day  hour  temp  humidity  windspeed  count\n",
       "0  2011      1    1     0  9.84      81.0        0.0   16.0\n",
       "1  2011      1    1     1  9.02      80.0        0.0   40.0\n",
       "2  2011      1    1     2  9.02      80.0        0.0   32.0\n",
       "3  2011      1    1     3  9.84      75.0        0.0   13.0\n",
       "4  2011      1    1     4  9.84      75.0        0.0    1.0"
      ]
     },
     "execution_count": 13,
     "metadata": {},
     "output_type": "execute_result"
    }
   ],
   "source": [
    "df.head()"
   ]
  },
  {
   "cell_type": "code",
   "execution_count": 14,
   "metadata": {},
   "outputs": [],
   "source": [
    "# 다시 date 컬럼 만들기\n",
    "df['date'] = df['year'].astype('str') + '-' + df['month'].astype('str') + '-' + df['day'].astype('str') + '-' + df['hour'].astype('str')\n",
    "\n",
    "#date 컬럼 형식 변경 -> datetime\n",
    "df['date'] = pd.to_datetime(df['date'], format='%Y-%m-%d-%H')"
   ]
  },
  {
   "cell_type": "code",
   "execution_count": 15,
   "metadata": {},
   "outputs": [
    {
     "data": {
      "text/html": [
       "<div>\n",
       "<style scoped>\n",
       "    .dataframe tbody tr th:only-of-type {\n",
       "        vertical-align: middle;\n",
       "    }\n",
       "\n",
       "    .dataframe tbody tr th {\n",
       "        vertical-align: top;\n",
       "    }\n",
       "\n",
       "    .dataframe thead th {\n",
       "        text-align: right;\n",
       "    }\n",
       "</style>\n",
       "<table border=\"1\" class=\"dataframe\">\n",
       "  <thead>\n",
       "    <tr style=\"text-align: right;\">\n",
       "      <th></th>\n",
       "      <th>year</th>\n",
       "      <th>month</th>\n",
       "      <th>day</th>\n",
       "      <th>hour</th>\n",
       "      <th>temp</th>\n",
       "      <th>humidity</th>\n",
       "      <th>windspeed</th>\n",
       "      <th>count</th>\n",
       "    </tr>\n",
       "    <tr>\n",
       "      <th>date</th>\n",
       "      <th></th>\n",
       "      <th></th>\n",
       "      <th></th>\n",
       "      <th></th>\n",
       "      <th></th>\n",
       "      <th></th>\n",
       "      <th></th>\n",
       "      <th></th>\n",
       "    </tr>\n",
       "  </thead>\n",
       "  <tbody>\n",
       "    <tr>\n",
       "      <th>2011-01-01 00:00:00</th>\n",
       "      <td>2011</td>\n",
       "      <td>1</td>\n",
       "      <td>1</td>\n",
       "      <td>0</td>\n",
       "      <td>9.84</td>\n",
       "      <td>81.0</td>\n",
       "      <td>0.0</td>\n",
       "      <td>16.0</td>\n",
       "    </tr>\n",
       "    <tr>\n",
       "      <th>2011-01-01 01:00:00</th>\n",
       "      <td>2011</td>\n",
       "      <td>1</td>\n",
       "      <td>1</td>\n",
       "      <td>1</td>\n",
       "      <td>9.02</td>\n",
       "      <td>80.0</td>\n",
       "      <td>0.0</td>\n",
       "      <td>40.0</td>\n",
       "    </tr>\n",
       "    <tr>\n",
       "      <th>2011-01-01 02:00:00</th>\n",
       "      <td>2011</td>\n",
       "      <td>1</td>\n",
       "      <td>1</td>\n",
       "      <td>2</td>\n",
       "      <td>9.02</td>\n",
       "      <td>80.0</td>\n",
       "      <td>0.0</td>\n",
       "      <td>32.0</td>\n",
       "    </tr>\n",
       "    <tr>\n",
       "      <th>2011-01-01 03:00:00</th>\n",
       "      <td>2011</td>\n",
       "      <td>1</td>\n",
       "      <td>1</td>\n",
       "      <td>3</td>\n",
       "      <td>9.84</td>\n",
       "      <td>75.0</td>\n",
       "      <td>0.0</td>\n",
       "      <td>13.0</td>\n",
       "    </tr>\n",
       "    <tr>\n",
       "      <th>2011-01-01 04:00:00</th>\n",
       "      <td>2011</td>\n",
       "      <td>1</td>\n",
       "      <td>1</td>\n",
       "      <td>4</td>\n",
       "      <td>9.84</td>\n",
       "      <td>75.0</td>\n",
       "      <td>0.0</td>\n",
       "      <td>1.0</td>\n",
       "    </tr>\n",
       "  </tbody>\n",
       "</table>\n",
       "</div>"
      ],
      "text/plain": [
       "                     year  month  day  hour  temp  humidity  windspeed  count\n",
       "date                                                                         \n",
       "2011-01-01 00:00:00  2011      1    1     0  9.84      81.0        0.0   16.0\n",
       "2011-01-01 01:00:00  2011      1    1     1  9.02      80.0        0.0   40.0\n",
       "2011-01-01 02:00:00  2011      1    1     2  9.02      80.0        0.0   32.0\n",
       "2011-01-01 03:00:00  2011      1    1     3  9.84      75.0        0.0   13.0\n",
       "2011-01-01 04:00:00  2011      1    1     4  9.84      75.0        0.0    1.0"
      ]
     },
     "execution_count": 15,
     "metadata": {},
     "output_type": "execute_result"
    }
   ],
   "source": [
    "df = df.set_index('date')\n",
    "df.head()"
   ]
  },
  {
   "cell_type": "code",
   "execution_count": 16,
   "metadata": {},
   "outputs": [
    {
     "data": {
      "text/html": [
       "<div>\n",
       "<style scoped>\n",
       "    .dataframe tbody tr th:only-of-type {\n",
       "        vertical-align: middle;\n",
       "    }\n",
       "\n",
       "    .dataframe tbody tr th {\n",
       "        vertical-align: top;\n",
       "    }\n",
       "\n",
       "    .dataframe thead th {\n",
       "        text-align: right;\n",
       "    }\n",
       "</style>\n",
       "<table border=\"1\" class=\"dataframe\">\n",
       "  <thead>\n",
       "    <tr style=\"text-align: right;\">\n",
       "      <th></th>\n",
       "      <th>temp</th>\n",
       "      <th>humidity</th>\n",
       "      <th>windspeed</th>\n",
       "      <th>count</th>\n",
       "    </tr>\n",
       "    <tr>\n",
       "      <th>date</th>\n",
       "      <th></th>\n",
       "      <th></th>\n",
       "      <th></th>\n",
       "      <th></th>\n",
       "    </tr>\n",
       "  </thead>\n",
       "  <tbody>\n",
       "    <tr>\n",
       "      <th>2011-01-01 00:00:00</th>\n",
       "      <td>9.84</td>\n",
       "      <td>81.0</td>\n",
       "      <td>0.0</td>\n",
       "      <td>16.0</td>\n",
       "    </tr>\n",
       "    <tr>\n",
       "      <th>2011-01-01 01:00:00</th>\n",
       "      <td>9.02</td>\n",
       "      <td>80.0</td>\n",
       "      <td>0.0</td>\n",
       "      <td>40.0</td>\n",
       "    </tr>\n",
       "    <tr>\n",
       "      <th>2011-01-01 02:00:00</th>\n",
       "      <td>9.02</td>\n",
       "      <td>80.0</td>\n",
       "      <td>0.0</td>\n",
       "      <td>32.0</td>\n",
       "    </tr>\n",
       "    <tr>\n",
       "      <th>2011-01-01 03:00:00</th>\n",
       "      <td>9.84</td>\n",
       "      <td>75.0</td>\n",
       "      <td>0.0</td>\n",
       "      <td>13.0</td>\n",
       "    </tr>\n",
       "    <tr>\n",
       "      <th>2011-01-01 04:00:00</th>\n",
       "      <td>9.84</td>\n",
       "      <td>75.0</td>\n",
       "      <td>0.0</td>\n",
       "      <td>1.0</td>\n",
       "    </tr>\n",
       "  </tbody>\n",
       "</table>\n",
       "</div>"
      ],
      "text/plain": [
       "                     temp  humidity  windspeed  count\n",
       "date                                                 \n",
       "2011-01-01 00:00:00  9.84      81.0        0.0   16.0\n",
       "2011-01-01 01:00:00  9.02      80.0        0.0   40.0\n",
       "2011-01-01 02:00:00  9.02      80.0        0.0   32.0\n",
       "2011-01-01 03:00:00  9.84      75.0        0.0   13.0\n",
       "2011-01-01 04:00:00  9.84      75.0        0.0    1.0"
      ]
     },
     "execution_count": 16,
     "metadata": {},
     "output_type": "execute_result"
    }
   ],
   "source": [
    "# 필요 컬럼만 선택\n",
    "df = df[['temp', 'humidity', 'windspeed', 'count']]\n",
    "df.head()"
   ]
  },
  {
   "cell_type": "code",
   "execution_count": 17,
   "metadata": {},
   "outputs": [],
   "source": [
    "# 시계열용 데이터는 따로 뺴둠\n",
    "dfts = pd.DataFrame(df['count'])"
   ]
  },
  {
   "cell_type": "code",
   "execution_count": 18,
   "metadata": {},
   "outputs": [
    {
     "data": {
      "text/html": [
       "<div>\n",
       "<style scoped>\n",
       "    .dataframe tbody tr th:only-of-type {\n",
       "        vertical-align: middle;\n",
       "    }\n",
       "\n",
       "    .dataframe tbody tr th {\n",
       "        vertical-align: top;\n",
       "    }\n",
       "\n",
       "    .dataframe thead th {\n",
       "        text-align: right;\n",
       "    }\n",
       "</style>\n",
       "<table border=\"1\" class=\"dataframe\">\n",
       "  <thead>\n",
       "    <tr style=\"text-align: right;\">\n",
       "      <th></th>\n",
       "      <th>count</th>\n",
       "    </tr>\n",
       "    <tr>\n",
       "      <th>date</th>\n",
       "      <th></th>\n",
       "    </tr>\n",
       "  </thead>\n",
       "  <tbody>\n",
       "    <tr>\n",
       "      <th>2011-01-01 00:00:00</th>\n",
       "      <td>16.0</td>\n",
       "    </tr>\n",
       "    <tr>\n",
       "      <th>2011-01-01 01:00:00</th>\n",
       "      <td>40.0</td>\n",
       "    </tr>\n",
       "    <tr>\n",
       "      <th>2011-01-01 02:00:00</th>\n",
       "      <td>32.0</td>\n",
       "    </tr>\n",
       "    <tr>\n",
       "      <th>2011-01-01 03:00:00</th>\n",
       "      <td>13.0</td>\n",
       "    </tr>\n",
       "    <tr>\n",
       "      <th>2011-01-01 04:00:00</th>\n",
       "      <td>1.0</td>\n",
       "    </tr>\n",
       "    <tr>\n",
       "      <th>...</th>\n",
       "      <td>...</td>\n",
       "    </tr>\n",
       "    <tr>\n",
       "      <th>2012-12-19 19:00:00</th>\n",
       "      <td>336.0</td>\n",
       "    </tr>\n",
       "    <tr>\n",
       "      <th>2012-12-19 20:00:00</th>\n",
       "      <td>241.0</td>\n",
       "    </tr>\n",
       "    <tr>\n",
       "      <th>2012-12-19 21:00:00</th>\n",
       "      <td>168.0</td>\n",
       "    </tr>\n",
       "    <tr>\n",
       "      <th>2012-12-19 22:00:00</th>\n",
       "      <td>129.0</td>\n",
       "    </tr>\n",
       "    <tr>\n",
       "      <th>2012-12-19 23:00:00</th>\n",
       "      <td>88.0</td>\n",
       "    </tr>\n",
       "  </tbody>\n",
       "</table>\n",
       "<p>10886 rows × 1 columns</p>\n",
       "</div>"
      ],
      "text/plain": [
       "                     count\n",
       "date                      \n",
       "2011-01-01 00:00:00   16.0\n",
       "2011-01-01 01:00:00   40.0\n",
       "2011-01-01 02:00:00   32.0\n",
       "2011-01-01 03:00:00   13.0\n",
       "2011-01-01 04:00:00    1.0\n",
       "...                    ...\n",
       "2012-12-19 19:00:00  336.0\n",
       "2012-12-19 20:00:00  241.0\n",
       "2012-12-19 21:00:00  168.0\n",
       "2012-12-19 22:00:00  129.0\n",
       "2012-12-19 23:00:00   88.0\n",
       "\n",
       "[10886 rows x 1 columns]"
      ]
     },
     "execution_count": 18,
     "metadata": {},
     "output_type": "execute_result"
    }
   ],
   "source": [
    "dfts"
   ]
  },
  {
   "cell_type": "markdown",
   "metadata": {},
   "source": [
    "y값 이외에 독립변수가 더 있을 경우\n",
    "\n",
    "데이터 타입 맞춰주기"
   ]
  },
  {
   "cell_type": "code",
   "execution_count": 19,
   "metadata": {},
   "outputs": [
    {
     "data": {
      "text/plain": [
       "Index(['temp', 'humidity', 'windspeed', 'count'], dtype='object')"
      ]
     },
     "execution_count": 19,
     "metadata": {},
     "output_type": "execute_result"
    }
   ],
   "source": [
    "df.columns"
   ]
  },
  {
   "cell_type": "code",
   "execution_count": 20,
   "metadata": {},
   "outputs": [],
   "source": [
    "col_id = []\n",
    "col_cat = []\n",
    "col_int = []\n",
    "col_float = ['temp', 'humidity', 'windspeed', 'count']\n",
    "col_bool = []\n",
    "col_num = col_int + col_float\n",
    "\n",
    "df[col_cat] = df[col_cat].astype('str')\n",
    "df[col_int] = df[col_int].astype('int', errors='ignore')\n",
    "df[col_float] = df[col_float].astype('float')"
   ]
  },
  {
   "cell_type": "markdown",
   "metadata": {},
   "source": [
    "DQ Chechk (빈도 분석, 분포 분석)\n",
    "\n",
    "연속형 변수"
   ]
  },
  {
   "cell_type": "code",
   "execution_count": 21,
   "metadata": {},
   "outputs": [],
   "source": [
    "def DA(data):\n",
    "    da = data.describe([0.05, 0.1, 0.25, 0.5, 0.75, 0.9, 0.95])\n",
    "    da = da.T\n",
    "    df1 = data.isna().sum()\n",
    "    df1.name = 'missing'\n",
    "    df2 = data.median()\n",
    "    df2.name = 'median'\n",
    "    df3 = np.var(data)\n",
    "    df3.name = 'variance'\n",
    "    df4 = data.skew()\n",
    "    df4.name = 'skewness'\n",
    "    df5 = data.kurtosis()\n",
    "    df5.name = 'kurtosis'\n",
    "    \n",
    "    da = pd.concat([da, df1, df2, df3, df4, df5], axis=1)\n",
    "    da['total'] = da['count'] + da['missing']\n",
    "    \n",
    "    col_nm = da.columns.tolist()\n",
    "    order = ['total', 'count', 'missing','mean','median', 'std', 'variance', 'skewness', 'kurtosis',\n",
    "             'min', '5%', '10%', '25%','50%', '75%', '90%', '95%', 'max']\n",
    "    \n",
    "    col_nm_new = []\n",
    "    for i in order : \n",
    "        col_nm_new.append(i)\n",
    "        \n",
    "    da = da[col_nm_new]\n",
    "    da = da.round(2)\n",
    "    return da"
   ]
  },
  {
   "cell_type": "code",
   "execution_count": 22,
   "metadata": {},
   "outputs": [
    {
     "data": {
      "text/html": [
       "<div>\n",
       "<style scoped>\n",
       "    .dataframe tbody tr th:only-of-type {\n",
       "        vertical-align: middle;\n",
       "    }\n",
       "\n",
       "    .dataframe tbody tr th {\n",
       "        vertical-align: top;\n",
       "    }\n",
       "\n",
       "    .dataframe thead th {\n",
       "        text-align: right;\n",
       "    }\n",
       "</style>\n",
       "<table border=\"1\" class=\"dataframe\">\n",
       "  <thead>\n",
       "    <tr style=\"text-align: right;\">\n",
       "      <th></th>\n",
       "      <th>total</th>\n",
       "      <th>count</th>\n",
       "      <th>missing</th>\n",
       "      <th>mean</th>\n",
       "      <th>median</th>\n",
       "      <th>std</th>\n",
       "      <th>variance</th>\n",
       "      <th>skewness</th>\n",
       "      <th>kurtosis</th>\n",
       "      <th>min</th>\n",
       "      <th>5%</th>\n",
       "      <th>10%</th>\n",
       "      <th>25%</th>\n",
       "      <th>50%</th>\n",
       "      <th>75%</th>\n",
       "      <th>90%</th>\n",
       "      <th>95%</th>\n",
       "      <th>max</th>\n",
       "    </tr>\n",
       "  </thead>\n",
       "  <tbody>\n",
       "    <tr>\n",
       "      <th>temp</th>\n",
       "      <td>10886.0</td>\n",
       "      <td>10886.0</td>\n",
       "      <td>0</td>\n",
       "      <td>20.23</td>\n",
       "      <td>20.5</td>\n",
       "      <td>7.79</td>\n",
       "      <td>60.70</td>\n",
       "      <td>0.00</td>\n",
       "      <td>-0.91</td>\n",
       "      <td>0.82</td>\n",
       "      <td>8.2</td>\n",
       "      <td>9.84</td>\n",
       "      <td>13.94</td>\n",
       "      <td>20.5</td>\n",
       "      <td>26.24</td>\n",
       "      <td>30.34</td>\n",
       "      <td>32.80</td>\n",
       "      <td>41.0</td>\n",
       "    </tr>\n",
       "    <tr>\n",
       "      <th>humidity</th>\n",
       "      <td>10886.0</td>\n",
       "      <td>10886.0</td>\n",
       "      <td>0</td>\n",
       "      <td>61.89</td>\n",
       "      <td>62.0</td>\n",
       "      <td>19.25</td>\n",
       "      <td>370.34</td>\n",
       "      <td>-0.09</td>\n",
       "      <td>-0.76</td>\n",
       "      <td>0.00</td>\n",
       "      <td>31.0</td>\n",
       "      <td>37.00</td>\n",
       "      <td>47.00</td>\n",
       "      <td>62.0</td>\n",
       "      <td>77.00</td>\n",
       "      <td>88.00</td>\n",
       "      <td>93.00</td>\n",
       "      <td>100.0</td>\n",
       "    </tr>\n",
       "    <tr>\n",
       "      <th>windspeed</th>\n",
       "      <td>10886.0</td>\n",
       "      <td>10886.0</td>\n",
       "      <td>0</td>\n",
       "      <td>12.80</td>\n",
       "      <td>13.0</td>\n",
       "      <td>8.16</td>\n",
       "      <td>66.65</td>\n",
       "      <td>0.59</td>\n",
       "      <td>0.63</td>\n",
       "      <td>0.00</td>\n",
       "      <td>0.0</td>\n",
       "      <td>0.00</td>\n",
       "      <td>7.00</td>\n",
       "      <td>13.0</td>\n",
       "      <td>17.00</td>\n",
       "      <td>24.00</td>\n",
       "      <td>28.00</td>\n",
       "      <td>57.0</td>\n",
       "    </tr>\n",
       "    <tr>\n",
       "      <th>count</th>\n",
       "      <td>10886.0</td>\n",
       "      <td>10886.0</td>\n",
       "      <td>0</td>\n",
       "      <td>191.57</td>\n",
       "      <td>145.0</td>\n",
       "      <td>181.14</td>\n",
       "      <td>32810.30</td>\n",
       "      <td>1.24</td>\n",
       "      <td>1.30</td>\n",
       "      <td>1.00</td>\n",
       "      <td>5.0</td>\n",
       "      <td>9.00</td>\n",
       "      <td>42.00</td>\n",
       "      <td>145.0</td>\n",
       "      <td>284.00</td>\n",
       "      <td>452.00</td>\n",
       "      <td>563.75</td>\n",
       "      <td>977.0</td>\n",
       "    </tr>\n",
       "  </tbody>\n",
       "</table>\n",
       "</div>"
      ],
      "text/plain": [
       "             total    count  missing    mean  median     std  variance  \\\n",
       "temp       10886.0  10886.0        0   20.23    20.5    7.79     60.70   \n",
       "humidity   10886.0  10886.0        0   61.89    62.0   19.25    370.34   \n",
       "windspeed  10886.0  10886.0        0   12.80    13.0    8.16     66.65   \n",
       "count      10886.0  10886.0        0  191.57   145.0  181.14  32810.30   \n",
       "\n",
       "           skewness  kurtosis   min    5%    10%    25%    50%     75%  \\\n",
       "temp           0.00     -0.91  0.82   8.2   9.84  13.94   20.5   26.24   \n",
       "humidity      -0.09     -0.76  0.00  31.0  37.00  47.00   62.0   77.00   \n",
       "windspeed      0.59      0.63  0.00   0.0   0.00   7.00   13.0   17.00   \n",
       "count          1.24      1.30  1.00   5.0   9.00  42.00  145.0  284.00   \n",
       "\n",
       "              90%     95%    max  \n",
       "temp        30.34   32.80   41.0  \n",
       "humidity    88.00   93.00  100.0  \n",
       "windspeed   24.00   28.00   57.0  \n",
       "count      452.00  563.75  977.0  "
      ]
     },
     "execution_count": 22,
     "metadata": {},
     "output_type": "execute_result"
    }
   ],
   "source": [
    "DA1 = DA(df[col_num])\n",
    "DA1"
   ]
  },
  {
   "cell_type": "markdown",
   "metadata": {},
   "source": [
    "범주형 변수"
   ]
  },
  {
   "cell_type": "code",
   "execution_count": 23,
   "metadata": {},
   "outputs": [],
   "source": [
    "def DA_cat(data, col_cat):\n",
    "    DA_cat = pd.DataFrame()\n",
    "    \n",
    "    for i in col_cat:\n",
    "        a = data[i].value_counts(dropna=False).to_frame().sort_index().rename(columns={i:'count'}).reset_index()\n",
    "        a['col_nm'] = i\n",
    "        a = a.rename(columns={'index':'class'})\n",
    "        a = a[['col_nm', 'class', 'count']]\n",
    "        \n",
    "        b = data[i].value_counts(dropna=False, normalize=True).to_frame().sort_index().rename(columns={i:'ratio'}).reset_index()\n",
    "        b = b['ratio'].to_frame()\n",
    "        \n",
    "        c = pd.concat([a,b], axis=1)\n",
    "        DA_cat = pd.concat([DA_cat,c], axis=0)\n",
    "        \n",
    "    DA_cat = DA_cat.reset_index(drop=True)\n",
    "    return DA_cat"
   ]
  },
  {
   "cell_type": "code",
   "execution_count": 24,
   "metadata": {},
   "outputs": [
    {
     "data": {
      "text/html": [
       "<div>\n",
       "<style scoped>\n",
       "    .dataframe tbody tr th:only-of-type {\n",
       "        vertical-align: middle;\n",
       "    }\n",
       "\n",
       "    .dataframe tbody tr th {\n",
       "        vertical-align: top;\n",
       "    }\n",
       "\n",
       "    .dataframe thead th {\n",
       "        text-align: right;\n",
       "    }\n",
       "</style>\n",
       "<table border=\"1\" class=\"dataframe\">\n",
       "  <thead>\n",
       "    <tr style=\"text-align: right;\">\n",
       "      <th></th>\n",
       "    </tr>\n",
       "  </thead>\n",
       "  <tbody>\n",
       "  </tbody>\n",
       "</table>\n",
       "</div>"
      ],
      "text/plain": [
       "Empty DataFrame\n",
       "Columns: []\n",
       "Index: []"
      ]
     },
     "execution_count": 24,
     "metadata": {},
     "output_type": "execute_result"
    }
   ],
   "source": [
    "DA2 = DA_cat(df, col_cat+col_bool)\n",
    "DA2"
   ]
  },
  {
   "cell_type": "markdown",
   "metadata": {},
   "source": [
    "전처리 (중복값, 결측치, 이상치 처리)\n",
    "\n",
    "중복값"
   ]
  },
  {
   "cell_type": "code",
   "execution_count": 25,
   "metadata": {},
   "outputs": [
    {
     "data": {
      "text/html": [
       "<div>\n",
       "<style scoped>\n",
       "    .dataframe tbody tr th:only-of-type {\n",
       "        vertical-align: middle;\n",
       "    }\n",
       "\n",
       "    .dataframe tbody tr th {\n",
       "        vertical-align: top;\n",
       "    }\n",
       "\n",
       "    .dataframe thead th {\n",
       "        text-align: right;\n",
       "    }\n",
       "</style>\n",
       "<table border=\"1\" class=\"dataframe\">\n",
       "  <thead>\n",
       "    <tr style=\"text-align: right;\">\n",
       "      <th></th>\n",
       "      <th>temp</th>\n",
       "      <th>humidity</th>\n",
       "      <th>windspeed</th>\n",
       "      <th>count</th>\n",
       "    </tr>\n",
       "    <tr>\n",
       "      <th>date</th>\n",
       "      <th></th>\n",
       "      <th></th>\n",
       "      <th></th>\n",
       "      <th></th>\n",
       "    </tr>\n",
       "  </thead>\n",
       "  <tbody>\n",
       "    <tr>\n",
       "      <th>2012-01-04 02:00:00</th>\n",
       "      <td>0.82</td>\n",
       "      <td>34.0</td>\n",
       "      <td>19.0012</td>\n",
       "      <td>1.0</td>\n",
       "    </tr>\n",
       "    <tr>\n",
       "      <th>2012-01-04 03:00:00</th>\n",
       "      <td>0.82</td>\n",
       "      <td>34.0</td>\n",
       "      <td>19.0012</td>\n",
       "      <td>1.0</td>\n",
       "    </tr>\n",
       "    <tr>\n",
       "      <th>2011-01-09 04:00:00</th>\n",
       "      <td>3.28</td>\n",
       "      <td>53.0</td>\n",
       "      <td>12.9980</td>\n",
       "      <td>1.0</td>\n",
       "    </tr>\n",
       "    <tr>\n",
       "      <th>2011-01-09 05:00:00</th>\n",
       "      <td>3.28</td>\n",
       "      <td>53.0</td>\n",
       "      <td>12.9980</td>\n",
       "      <td>1.0</td>\n",
       "    </tr>\n",
       "    <tr>\n",
       "      <th>2011-02-10 05:00:00</th>\n",
       "      <td>4.92</td>\n",
       "      <td>50.0</td>\n",
       "      <td>15.0013</td>\n",
       "      <td>6.0</td>\n",
       "    </tr>\n",
       "    <tr>\n",
       "      <th>...</th>\n",
       "      <td>...</td>\n",
       "      <td>...</td>\n",
       "      <td>...</td>\n",
       "      <td>...</td>\n",
       "    </tr>\n",
       "    <tr>\n",
       "      <th>2012-08-08 03:00:00</th>\n",
       "      <td>28.70</td>\n",
       "      <td>84.0</td>\n",
       "      <td>0.0000</td>\n",
       "      <td>7.0</td>\n",
       "    </tr>\n",
       "    <tr>\n",
       "      <th>2012-08-08 04:00:00</th>\n",
       "      <td>28.70</td>\n",
       "      <td>84.0</td>\n",
       "      <td>0.0000</td>\n",
       "      <td>7.0</td>\n",
       "    </tr>\n",
       "    <tr>\n",
       "      <th>2011-08-07 05:00:00</th>\n",
       "      <td>28.70</td>\n",
       "      <td>89.0</td>\n",
       "      <td>12.9980</td>\n",
       "      <td>5.0</td>\n",
       "    </tr>\n",
       "    <tr>\n",
       "      <th>2012-07-09 02:00:00</th>\n",
       "      <td>28.70</td>\n",
       "      <td>89.0</td>\n",
       "      <td>12.9980</td>\n",
       "      <td>5.0</td>\n",
       "    </tr>\n",
       "    <tr>\n",
       "      <th>2012-07-09 03:00:00</th>\n",
       "      <td>28.70</td>\n",
       "      <td>89.0</td>\n",
       "      <td>12.9980</td>\n",
       "      <td>5.0</td>\n",
       "    </tr>\n",
       "  </tbody>\n",
       "</table>\n",
       "<p>161 rows × 4 columns</p>\n",
       "</div>"
      ],
      "text/plain": [
       "                      temp  humidity  windspeed  count\n",
       "date                                                  \n",
       "2012-01-04 02:00:00   0.82      34.0    19.0012    1.0\n",
       "2012-01-04 03:00:00   0.82      34.0    19.0012    1.0\n",
       "2011-01-09 04:00:00   3.28      53.0    12.9980    1.0\n",
       "2011-01-09 05:00:00   3.28      53.0    12.9980    1.0\n",
       "2011-02-10 05:00:00   4.92      50.0    15.0013    6.0\n",
       "...                    ...       ...        ...    ...\n",
       "2012-08-08 03:00:00  28.70      84.0     0.0000    7.0\n",
       "2012-08-08 04:00:00  28.70      84.0     0.0000    7.0\n",
       "2011-08-07 05:00:00  28.70      89.0    12.9980    5.0\n",
       "2012-07-09 02:00:00  28.70      89.0    12.9980    5.0\n",
       "2012-07-09 03:00:00  28.70      89.0    12.9980    5.0\n",
       "\n",
       "[161 rows x 4 columns]"
      ]
     },
     "execution_count": 25,
     "metadata": {},
     "output_type": "execute_result"
    }
   ],
   "source": [
    "df[df.duplicated(keep=False)].sort_values(['temp','humidity', 'windspeed','count'])"
   ]
  },
  {
   "cell_type": "code",
   "execution_count": 26,
   "metadata": {},
   "outputs": [
    {
     "data": {
      "text/html": [
       "<div>\n",
       "<style scoped>\n",
       "    .dataframe tbody tr th:only-of-type {\n",
       "        vertical-align: middle;\n",
       "    }\n",
       "\n",
       "    .dataframe tbody tr th {\n",
       "        vertical-align: top;\n",
       "    }\n",
       "\n",
       "    .dataframe thead th {\n",
       "        text-align: right;\n",
       "    }\n",
       "</style>\n",
       "<table border=\"1\" class=\"dataframe\">\n",
       "  <thead>\n",
       "    <tr style=\"text-align: right;\">\n",
       "      <th></th>\n",
       "      <th>temp</th>\n",
       "      <th>humidity</th>\n",
       "      <th>windspeed</th>\n",
       "      <th>count</th>\n",
       "    </tr>\n",
       "    <tr>\n",
       "      <th>date</th>\n",
       "      <th></th>\n",
       "      <th></th>\n",
       "      <th></th>\n",
       "      <th></th>\n",
       "    </tr>\n",
       "  </thead>\n",
       "  <tbody>\n",
       "    <tr>\n",
       "      <th>2011-01-01 00:00:00</th>\n",
       "      <td>9.84</td>\n",
       "      <td>81.0</td>\n",
       "      <td>0.0000</td>\n",
       "      <td>16.0</td>\n",
       "    </tr>\n",
       "    <tr>\n",
       "      <th>2011-01-01 01:00:00</th>\n",
       "      <td>9.02</td>\n",
       "      <td>80.0</td>\n",
       "      <td>0.0000</td>\n",
       "      <td>40.0</td>\n",
       "    </tr>\n",
       "    <tr>\n",
       "      <th>2011-01-01 02:00:00</th>\n",
       "      <td>9.02</td>\n",
       "      <td>80.0</td>\n",
       "      <td>0.0000</td>\n",
       "      <td>32.0</td>\n",
       "    </tr>\n",
       "    <tr>\n",
       "      <th>2011-01-01 03:00:00</th>\n",
       "      <td>9.84</td>\n",
       "      <td>75.0</td>\n",
       "      <td>0.0000</td>\n",
       "      <td>13.0</td>\n",
       "    </tr>\n",
       "    <tr>\n",
       "      <th>2011-01-01 04:00:00</th>\n",
       "      <td>9.84</td>\n",
       "      <td>75.0</td>\n",
       "      <td>0.0000</td>\n",
       "      <td>1.0</td>\n",
       "    </tr>\n",
       "    <tr>\n",
       "      <th>...</th>\n",
       "      <td>...</td>\n",
       "      <td>...</td>\n",
       "      <td>...</td>\n",
       "      <td>...</td>\n",
       "    </tr>\n",
       "    <tr>\n",
       "      <th>2012-12-19 19:00:00</th>\n",
       "      <td>15.58</td>\n",
       "      <td>50.0</td>\n",
       "      <td>26.0027</td>\n",
       "      <td>336.0</td>\n",
       "    </tr>\n",
       "    <tr>\n",
       "      <th>2012-12-19 20:00:00</th>\n",
       "      <td>14.76</td>\n",
       "      <td>57.0</td>\n",
       "      <td>15.0013</td>\n",
       "      <td>241.0</td>\n",
       "    </tr>\n",
       "    <tr>\n",
       "      <th>2012-12-19 21:00:00</th>\n",
       "      <td>13.94</td>\n",
       "      <td>61.0</td>\n",
       "      <td>15.0013</td>\n",
       "      <td>168.0</td>\n",
       "    </tr>\n",
       "    <tr>\n",
       "      <th>2012-12-19 22:00:00</th>\n",
       "      <td>13.94</td>\n",
       "      <td>61.0</td>\n",
       "      <td>6.0032</td>\n",
       "      <td>129.0</td>\n",
       "    </tr>\n",
       "    <tr>\n",
       "      <th>2012-12-19 23:00:00</th>\n",
       "      <td>13.12</td>\n",
       "      <td>66.0</td>\n",
       "      <td>8.9981</td>\n",
       "      <td>88.0</td>\n",
       "    </tr>\n",
       "  </tbody>\n",
       "</table>\n",
       "<p>10805 rows × 4 columns</p>\n",
       "</div>"
      ],
      "text/plain": [
       "                      temp  humidity  windspeed  count\n",
       "date                                                  \n",
       "2011-01-01 00:00:00   9.84      81.0     0.0000   16.0\n",
       "2011-01-01 01:00:00   9.02      80.0     0.0000   40.0\n",
       "2011-01-01 02:00:00   9.02      80.0     0.0000   32.0\n",
       "2011-01-01 03:00:00   9.84      75.0     0.0000   13.0\n",
       "2011-01-01 04:00:00   9.84      75.0     0.0000    1.0\n",
       "...                    ...       ...        ...    ...\n",
       "2012-12-19 19:00:00  15.58      50.0    26.0027  336.0\n",
       "2012-12-19 20:00:00  14.76      57.0    15.0013  241.0\n",
       "2012-12-19 21:00:00  13.94      61.0    15.0013  168.0\n",
       "2012-12-19 22:00:00  13.94      61.0     6.0032  129.0\n",
       "2012-12-19 23:00:00  13.12      66.0     8.9981   88.0\n",
       "\n",
       "[10805 rows x 4 columns]"
      ]
     },
     "execution_count": 26,
     "metadata": {},
     "output_type": "execute_result"
    }
   ],
   "source": [
    "df.drop_duplicates()"
   ]
  },
  {
   "cell_type": "code",
   "execution_count": 27,
   "metadata": {},
   "outputs": [
    {
     "data": {
      "text/plain": [
       "temp         0\n",
       "humidity     0\n",
       "windspeed    0\n",
       "count        0\n",
       "dtype: int64"
      ]
     },
     "execution_count": 27,
     "metadata": {},
     "output_type": "execute_result"
    }
   ],
   "source": [
    "df.isna().sum()"
   ]
  },
  {
   "cell_type": "code",
   "execution_count": 28,
   "metadata": {},
   "outputs": [
    {
     "data": {
      "text/html": [
       "<div>\n",
       "<style scoped>\n",
       "    .dataframe tbody tr th:only-of-type {\n",
       "        vertical-align: middle;\n",
       "    }\n",
       "\n",
       "    .dataframe tbody tr th {\n",
       "        vertical-align: top;\n",
       "    }\n",
       "\n",
       "    .dataframe thead th {\n",
       "        text-align: right;\n",
       "    }\n",
       "</style>\n",
       "<table border=\"1\" class=\"dataframe\">\n",
       "  <thead>\n",
       "    <tr style=\"text-align: right;\">\n",
       "      <th></th>\n",
       "      <th>temp</th>\n",
       "      <th>humidity</th>\n",
       "      <th>windspeed</th>\n",
       "      <th>count</th>\n",
       "    </tr>\n",
       "    <tr>\n",
       "      <th>date</th>\n",
       "      <th></th>\n",
       "      <th></th>\n",
       "      <th></th>\n",
       "      <th></th>\n",
       "    </tr>\n",
       "  </thead>\n",
       "  <tbody>\n",
       "    <tr>\n",
       "      <th>2011-01-01 00:00:00</th>\n",
       "      <td>9.84</td>\n",
       "      <td>81.0</td>\n",
       "      <td>0.0000</td>\n",
       "      <td>16.0</td>\n",
       "    </tr>\n",
       "    <tr>\n",
       "      <th>2011-01-01 01:00:00</th>\n",
       "      <td>9.02</td>\n",
       "      <td>80.0</td>\n",
       "      <td>0.0000</td>\n",
       "      <td>40.0</td>\n",
       "    </tr>\n",
       "    <tr>\n",
       "      <th>2011-01-01 02:00:00</th>\n",
       "      <td>9.02</td>\n",
       "      <td>80.0</td>\n",
       "      <td>0.0000</td>\n",
       "      <td>32.0</td>\n",
       "    </tr>\n",
       "    <tr>\n",
       "      <th>2011-01-01 03:00:00</th>\n",
       "      <td>9.84</td>\n",
       "      <td>75.0</td>\n",
       "      <td>0.0000</td>\n",
       "      <td>13.0</td>\n",
       "    </tr>\n",
       "    <tr>\n",
       "      <th>2011-01-01 04:00:00</th>\n",
       "      <td>9.84</td>\n",
       "      <td>75.0</td>\n",
       "      <td>0.0000</td>\n",
       "      <td>1.0</td>\n",
       "    </tr>\n",
       "    <tr>\n",
       "      <th>...</th>\n",
       "      <td>...</td>\n",
       "      <td>...</td>\n",
       "      <td>...</td>\n",
       "      <td>...</td>\n",
       "    </tr>\n",
       "    <tr>\n",
       "      <th>2012-12-19 19:00:00</th>\n",
       "      <td>15.58</td>\n",
       "      <td>50.0</td>\n",
       "      <td>26.0027</td>\n",
       "      <td>336.0</td>\n",
       "    </tr>\n",
       "    <tr>\n",
       "      <th>2012-12-19 20:00:00</th>\n",
       "      <td>14.76</td>\n",
       "      <td>57.0</td>\n",
       "      <td>15.0013</td>\n",
       "      <td>241.0</td>\n",
       "    </tr>\n",
       "    <tr>\n",
       "      <th>2012-12-19 21:00:00</th>\n",
       "      <td>13.94</td>\n",
       "      <td>61.0</td>\n",
       "      <td>15.0013</td>\n",
       "      <td>168.0</td>\n",
       "    </tr>\n",
       "    <tr>\n",
       "      <th>2012-12-19 22:00:00</th>\n",
       "      <td>13.94</td>\n",
       "      <td>61.0</td>\n",
       "      <td>6.0032</td>\n",
       "      <td>129.0</td>\n",
       "    </tr>\n",
       "    <tr>\n",
       "      <th>2012-12-19 23:00:00</th>\n",
       "      <td>13.12</td>\n",
       "      <td>66.0</td>\n",
       "      <td>8.9981</td>\n",
       "      <td>88.0</td>\n",
       "    </tr>\n",
       "  </tbody>\n",
       "</table>\n",
       "<p>10886 rows × 4 columns</p>\n",
       "</div>"
      ],
      "text/plain": [
       "                      temp  humidity  windspeed  count\n",
       "date                                                  \n",
       "2011-01-01 00:00:00   9.84      81.0     0.0000   16.0\n",
       "2011-01-01 01:00:00   9.02      80.0     0.0000   40.0\n",
       "2011-01-01 02:00:00   9.02      80.0     0.0000   32.0\n",
       "2011-01-01 03:00:00   9.84      75.0     0.0000   13.0\n",
       "2011-01-01 04:00:00   9.84      75.0     0.0000    1.0\n",
       "...                    ...       ...        ...    ...\n",
       "2012-12-19 19:00:00  15.58      50.0    26.0027  336.0\n",
       "2012-12-19 20:00:00  14.76      57.0    15.0013  241.0\n",
       "2012-12-19 21:00:00  13.94      61.0    15.0013  168.0\n",
       "2012-12-19 22:00:00  13.94      61.0     6.0032  129.0\n",
       "2012-12-19 23:00:00  13.12      66.0     8.9981   88.0\n",
       "\n",
       "[10886 rows x 4 columns]"
      ]
     },
     "execution_count": 28,
     "metadata": {},
     "output_type": "execute_result"
    }
   ],
   "source": [
    "# na처리 \n",
    "df.dropna() # nan이 하나라도 들어간 행은 삭제\n",
    "df.dropna(how='all') # 데이터가 모두 nan인 행만 삭제 / 초기값 : any\n",
    "\n",
    "df.fillna(0) # na를 0으로 채우기\n",
    "\n",
    "new_data = {'a':0, 'b':1, 'c':-999}\n",
    "df.fillna(new_data)  # na 발생 시 a 열에는 0, b 열에는 1, c열에는 -999로 채움\n",
    "df.fillna(new_data, limit=2)    # 각 열별로 2개의  nan까지 대체\n",
    "df.fillna(method = 'ffill')     # 열 별로 바로 앞의 데이터로 채움\n",
    "df.fillna(method = 'bfill')     # 열 별로 바로 뒤의 데이터로 채움\n",
    "# ffill의 경우 첫 행이거나 앞의 데이터가 nan일 경우 nan 유지, bfill도 동일\n",
    "\n",
    "# 평균값, 중앙값으로 대치\n",
    "#df.loc[19, 'Leaflets'] = df['Leaflets'].mean()\n",
    "#df.loc[19, 'Leaflets'] = df['Leaflets'].median"
   ]
  },
  {
   "cell_type": "code",
   "execution_count": 29,
   "metadata": {},
   "outputs": [
    {
     "data": {
      "text/plain": [
       "<AxesSubplot:xlabel='windspeed'>"
      ]
     },
     "execution_count": 29,
     "metadata": {},
     "output_type": "execute_result"
    },
    {
     "data": {
      "image/png": "[encoded data removed]",
      "text/plain": [
       "<Figure size 432x288 with 1 Axes>"
      ]
     },
     "metadata": {
      "needs_background": "light"
     },
     "output_type": "display_data"
    }
   ],
   "source": [
    "tmp = 'windspeed'\n",
    "sns.boxplot(x=tmp, data=df, orient='h')"
   ]
  },
  {
   "cell_type": "code",
   "execution_count": 30,
   "metadata": {},
   "outputs": [
    {
     "name": "stdout",
     "output_type": "stream",
     "text": [
      "(227, 4)\n"
     ]
    },
    {
     "data": {
      "text/html": [
       "<div>\n",
       "<style scoped>\n",
       "    .dataframe tbody tr th:only-of-type {\n",
       "        vertical-align: middle;\n",
       "    }\n",
       "\n",
       "    .dataframe tbody tr th {\n",
       "        vertical-align: top;\n",
       "    }\n",
       "\n",
       "    .dataframe thead th {\n",
       "        text-align: right;\n",
       "    }\n",
       "</style>\n",
       "<table border=\"1\" class=\"dataframe\">\n",
       "  <thead>\n",
       "    <tr style=\"text-align: right;\">\n",
       "      <th></th>\n",
       "      <th>temp</th>\n",
       "      <th>humidity</th>\n",
       "      <th>windspeed</th>\n",
       "      <th>count</th>\n",
       "    </tr>\n",
       "    <tr>\n",
       "      <th>date</th>\n",
       "      <th></th>\n",
       "      <th></th>\n",
       "      <th></th>\n",
       "      <th></th>\n",
       "    </tr>\n",
       "  </thead>\n",
       "  <tbody>\n",
       "    <tr>\n",
       "      <th>2011-01-08 14:00:00</th>\n",
       "      <td>8.20</td>\n",
       "      <td>32.0</td>\n",
       "      <td>32.9975</td>\n",
       "      <td>95.0</td>\n",
       "    </tr>\n",
       "    <tr>\n",
       "      <th>2011-01-08 17:00:00</th>\n",
       "      <td>6.56</td>\n",
       "      <td>37.0</td>\n",
       "      <td>36.9974</td>\n",
       "      <td>69.0</td>\n",
       "    </tr>\n",
       "    <tr>\n",
       "      <th>2011-01-09 09:00:00</th>\n",
       "      <td>4.92</td>\n",
       "      <td>46.0</td>\n",
       "      <td>35.0008</td>\n",
       "      <td>19.0</td>\n",
       "    </tr>\n",
       "    <tr>\n",
       "      <th>2011-01-09 11:00:00</th>\n",
       "      <td>6.56</td>\n",
       "      <td>40.0</td>\n",
       "      <td>35.0008</td>\n",
       "      <td>49.0</td>\n",
       "    </tr>\n",
       "    <tr>\n",
       "      <th>2011-01-12 12:00:00</th>\n",
       "      <td>8.20</td>\n",
       "      <td>47.0</td>\n",
       "      <td>39.0007</td>\n",
       "      <td>55.0</td>\n",
       "    </tr>\n",
       "    <tr>\n",
       "      <th>...</th>\n",
       "      <td>...</td>\n",
       "      <td>...</td>\n",
       "      <td>...</td>\n",
       "      <td>...</td>\n",
       "    </tr>\n",
       "    <tr>\n",
       "      <th>2012-11-02 14:00:00</th>\n",
       "      <td>16.40</td>\n",
       "      <td>40.0</td>\n",
       "      <td>32.9975</td>\n",
       "      <td>262.0</td>\n",
       "    </tr>\n",
       "    <tr>\n",
       "      <th>2012-11-08 12:00:00</th>\n",
       "      <td>16.40</td>\n",
       "      <td>24.0</td>\n",
       "      <td>32.9975</td>\n",
       "      <td>235.0</td>\n",
       "    </tr>\n",
       "    <tr>\n",
       "      <th>2012-11-13 01:00:00</th>\n",
       "      <td>18.04</td>\n",
       "      <td>88.0</td>\n",
       "      <td>43.0006</td>\n",
       "      <td>5.0</td>\n",
       "    </tr>\n",
       "    <tr>\n",
       "      <th>2012-12-05 14:00:00</th>\n",
       "      <td>19.68</td>\n",
       "      <td>33.0</td>\n",
       "      <td>32.9975</td>\n",
       "      <td>218.0</td>\n",
       "    </tr>\n",
       "    <tr>\n",
       "      <th>2012-12-18 15:00:00</th>\n",
       "      <td>18.86</td>\n",
       "      <td>44.0</td>\n",
       "      <td>32.9975</td>\n",
       "      <td>246.0</td>\n",
       "    </tr>\n",
       "  </tbody>\n",
       "</table>\n",
       "<p>227 rows × 4 columns</p>\n",
       "</div>"
      ],
      "text/plain": [
       "                      temp  humidity  windspeed  count\n",
       "date                                                  \n",
       "2011-01-08 14:00:00   8.20      32.0    32.9975   95.0\n",
       "2011-01-08 17:00:00   6.56      37.0    36.9974   69.0\n",
       "2011-01-09 09:00:00   4.92      46.0    35.0008   19.0\n",
       "2011-01-09 11:00:00   6.56      40.0    35.0008   49.0\n",
       "2011-01-12 12:00:00   8.20      47.0    39.0007   55.0\n",
       "...                    ...       ...        ...    ...\n",
       "2012-11-02 14:00:00  16.40      40.0    32.9975  262.0\n",
       "2012-11-08 12:00:00  16.40      24.0    32.9975  235.0\n",
       "2012-11-13 01:00:00  18.04      88.0    43.0006    5.0\n",
       "2012-12-05 14:00:00  19.68      33.0    32.9975  218.0\n",
       "2012-12-18 15:00:00  18.86      44.0    32.9975  246.0\n",
       "\n",
       "[227 rows x 4 columns]"
      ]
     },
     "execution_count": 30,
     "metadata": {},
     "output_type": "execute_result"
    }
   ],
   "source": [
    "# IQR 활용\n",
    "q1 = df[tmp].quantile(.25)\n",
    "q3 = df[tmp].quantile(.75)\n",
    "iqr = q3 - q1\n",
    "\n",
    "min_iqr = q1 - 1.5*iqr\n",
    "max_iqr = q3 + 1.5*iqr\n",
    "\n",
    "min_from_all = df[tmp].min()\n",
    "max_from_all = df[tmp].max()\n",
    "\n",
    "if (min_iqr < min_from_all):\n",
    "    min_iqr = min_from_all\n",
    "    \n",
    "if (max_iqr > max_from_all):\n",
    "    max_iqr = max_from_all\n",
    "    \n",
    "outlier = df[(df[tmp] < min_iqr) | (df[tmp] > max_iqr)]     #  이상치 조회\n",
    "outlier_index = outlier.index\n",
    "print(outlier.shape)\n",
    "outlier"
   ]
  },
  {
   "cell_type": "code",
   "execution_count": 31,
   "metadata": {},
   "outputs": [],
   "source": [
    "# min/max값으로 보정\n",
    "df.loc[(df[tmp] < min_iqr), tmp] = min_iqr  # 이상치 보정 - 하한치로 보정\n",
    "df.loc[(df[tmp] > max_iqr), tmp] = max_iqr  # 이상치 보정 - 상한치로 보정"
   ]
  },
  {
   "cell_type": "code",
   "execution_count": 32,
   "metadata": {},
   "outputs": [
    {
     "data": {
      "text/plain": [
       "(10659, 4)"
      ]
     },
     "execution_count": 32,
     "metadata": {},
     "output_type": "execute_result"
    }
   ],
   "source": [
    "# 이상치 제거\n",
    "df = df.drop(outlier_index, axis=0)\n",
    "df.shape"
   ]
  },
  {
   "cell_type": "markdown",
   "metadata": {},
   "source": [
    "파생 변수 생성"
   ]
  },
  {
   "cell_type": "code",
   "execution_count": 33,
   "metadata": {},
   "outputs": [],
   "source": [
    "today = pd.to_datetime('2020-12-13')"
   ]
  },
  {
   "cell_type": "code",
   "execution_count": 34,
   "metadata": {},
   "outputs": [],
   "source": [
    "# Recency\n",
    "cond1 = (today - df.index) >= pd.Timedelta('3000 days')\n",
    "cond2 = ((today - df.index) < pd.Timedelta('3000 days')) & ((today - df.index) >= pd.Timedelta('2000 days'))\n",
    "cond3 = (today - df.index) < pd.Timedelta('2000 days')\n",
    "\n",
    "df.loc[cond1, 'Recency'] = 1\n",
    "df.loc[cond2, 'Recency'] = 2\n",
    "df.loc[cond3, 'Recency'] = 3"
   ]
  },
  {
   "cell_type": "code",
   "execution_count": 35,
   "metadata": {},
   "outputs": [],
   "source": [
    "# Frequency\n",
    "df.loc[df['count'] <= 10, 'Frequency'] = 1\n",
    "df.loc[(df['count'] > 10) & (df['count'] <= 20), 'Frequency'] = 2\n",
    "df.loc[df['count'] > 20, 'Frequency'] = 3"
   ]
  },
  {
   "cell_type": "code",
   "execution_count": 36,
   "metadata": {},
   "outputs": [],
   "source": [
    "# Monetary\n",
    "df['Monetary'] = df['count'] * df['temp']"
   ]
  },
  {
   "cell_type": "code",
   "execution_count": 37,
   "metadata": {},
   "outputs": [
    {
     "data": {
      "text/html": [
       "<div>\n",
       "<style scoped>\n",
       "    .dataframe tbody tr th:only-of-type {\n",
       "        vertical-align: middle;\n",
       "    }\n",
       "\n",
       "    .dataframe tbody tr th {\n",
       "        vertical-align: top;\n",
       "    }\n",
       "\n",
       "    .dataframe thead th {\n",
       "        text-align: right;\n",
       "    }\n",
       "</style>\n",
       "<table border=\"1\" class=\"dataframe\">\n",
       "  <thead>\n",
       "    <tr style=\"text-align: right;\">\n",
       "      <th></th>\n",
       "      <th>temp</th>\n",
       "      <th>humidity</th>\n",
       "      <th>windspeed</th>\n",
       "      <th>count</th>\n",
       "      <th>Recency</th>\n",
       "      <th>Frequency</th>\n",
       "      <th>Monetary</th>\n",
       "    </tr>\n",
       "    <tr>\n",
       "      <th>date</th>\n",
       "      <th></th>\n",
       "      <th></th>\n",
       "      <th></th>\n",
       "      <th></th>\n",
       "      <th></th>\n",
       "      <th></th>\n",
       "      <th></th>\n",
       "    </tr>\n",
       "  </thead>\n",
       "  <tbody>\n",
       "    <tr>\n",
       "      <th>2011-01-01 00:00:00</th>\n",
       "      <td>9.84</td>\n",
       "      <td>81.0</td>\n",
       "      <td>0.0</td>\n",
       "      <td>16.0</td>\n",
       "      <td>1.0</td>\n",
       "      <td>2.0</td>\n",
       "      <td>157.44</td>\n",
       "    </tr>\n",
       "    <tr>\n",
       "      <th>2011-01-01 01:00:00</th>\n",
       "      <td>9.02</td>\n",
       "      <td>80.0</td>\n",
       "      <td>0.0</td>\n",
       "      <td>40.0</td>\n",
       "      <td>1.0</td>\n",
       "      <td>3.0</td>\n",
       "      <td>360.80</td>\n",
       "    </tr>\n",
       "    <tr>\n",
       "      <th>2011-01-01 02:00:00</th>\n",
       "      <td>9.02</td>\n",
       "      <td>80.0</td>\n",
       "      <td>0.0</td>\n",
       "      <td>32.0</td>\n",
       "      <td>1.0</td>\n",
       "      <td>3.0</td>\n",
       "      <td>288.64</td>\n",
       "    </tr>\n",
       "    <tr>\n",
       "      <th>2011-01-01 03:00:00</th>\n",
       "      <td>9.84</td>\n",
       "      <td>75.0</td>\n",
       "      <td>0.0</td>\n",
       "      <td>13.0</td>\n",
       "      <td>1.0</td>\n",
       "      <td>2.0</td>\n",
       "      <td>127.92</td>\n",
       "    </tr>\n",
       "    <tr>\n",
       "      <th>2011-01-01 04:00:00</th>\n",
       "      <td>9.84</td>\n",
       "      <td>75.0</td>\n",
       "      <td>0.0</td>\n",
       "      <td>1.0</td>\n",
       "      <td>1.0</td>\n",
       "      <td>1.0</td>\n",
       "      <td>9.84</td>\n",
       "    </tr>\n",
       "  </tbody>\n",
       "</table>\n",
       "</div>"
      ],
      "text/plain": [
       "                     temp  humidity  windspeed  count  Recency  Frequency  \\\n",
       "date                                                                        \n",
       "2011-01-01 00:00:00  9.84      81.0        0.0   16.0      1.0        2.0   \n",
       "2011-01-01 01:00:00  9.02      80.0        0.0   40.0      1.0        3.0   \n",
       "2011-01-01 02:00:00  9.02      80.0        0.0   32.0      1.0        3.0   \n",
       "2011-01-01 03:00:00  9.84      75.0        0.0   13.0      1.0        2.0   \n",
       "2011-01-01 04:00:00  9.84      75.0        0.0    1.0      1.0        1.0   \n",
       "\n",
       "                     Monetary  \n",
       "date                           \n",
       "2011-01-01 00:00:00    157.44  \n",
       "2011-01-01 01:00:00    360.80  \n",
       "2011-01-01 02:00:00    288.64  \n",
       "2011-01-01 03:00:00    127.92  \n",
       "2011-01-01 04:00:00      9.84  "
      ]
     },
     "execution_count": 37,
     "metadata": {},
     "output_type": "execute_result"
    }
   ],
   "source": [
    "df.head()"
   ]
  },
  {
   "cell_type": "code",
   "execution_count": 38,
   "metadata": {},
   "outputs": [
    {
     "data": {
      "text/html": [
       "<div>\n",
       "<style scoped>\n",
       "    .dataframe tbody tr th:only-of-type {\n",
       "        vertical-align: middle;\n",
       "    }\n",
       "\n",
       "    .dataframe tbody tr th {\n",
       "        vertical-align: top;\n",
       "    }\n",
       "\n",
       "    .dataframe thead th {\n",
       "        text-align: right;\n",
       "    }\n",
       "</style>\n",
       "<table border=\"1\" class=\"dataframe\">\n",
       "  <thead>\n",
       "    <tr style=\"text-align: right;\">\n",
       "      <th></th>\n",
       "      <th>temp</th>\n",
       "      <th>humidity</th>\n",
       "      <th>windspeed</th>\n",
       "      <th>count</th>\n",
       "      <th>Recency</th>\n",
       "      <th>Frequency</th>\n",
       "      <th>Monetary</th>\n",
       "    </tr>\n",
       "    <tr>\n",
       "      <th>date</th>\n",
       "      <th></th>\n",
       "      <th></th>\n",
       "      <th></th>\n",
       "      <th></th>\n",
       "      <th></th>\n",
       "      <th></th>\n",
       "      <th></th>\n",
       "    </tr>\n",
       "  </thead>\n",
       "  <tbody>\n",
       "    <tr>\n",
       "      <th>2011-01-01 00:00:00</th>\n",
       "      <td>9.84</td>\n",
       "      <td>81.0</td>\n",
       "      <td>0.0000</td>\n",
       "      <td>16.0</td>\n",
       "      <td>1.0</td>\n",
       "      <td>2.0</td>\n",
       "      <td>157.44</td>\n",
       "    </tr>\n",
       "    <tr>\n",
       "      <th>2011-01-01 01:00:00</th>\n",
       "      <td>9.02</td>\n",
       "      <td>80.0</td>\n",
       "      <td>0.0000</td>\n",
       "      <td>40.0</td>\n",
       "      <td>1.0</td>\n",
       "      <td>3.0</td>\n",
       "      <td>360.80</td>\n",
       "    </tr>\n",
       "    <tr>\n",
       "      <th>2011-01-01 02:00:00</th>\n",
       "      <td>9.02</td>\n",
       "      <td>80.0</td>\n",
       "      <td>0.0000</td>\n",
       "      <td>32.0</td>\n",
       "      <td>1.0</td>\n",
       "      <td>3.0</td>\n",
       "      <td>288.64</td>\n",
       "    </tr>\n",
       "    <tr>\n",
       "      <th>2011-01-01 03:00:00</th>\n",
       "      <td>9.84</td>\n",
       "      <td>75.0</td>\n",
       "      <td>0.0000</td>\n",
       "      <td>13.0</td>\n",
       "      <td>1.0</td>\n",
       "      <td>2.0</td>\n",
       "      <td>127.92</td>\n",
       "    </tr>\n",
       "    <tr>\n",
       "      <th>2011-01-01 04:00:00</th>\n",
       "      <td>9.84</td>\n",
       "      <td>75.0</td>\n",
       "      <td>0.0000</td>\n",
       "      <td>1.0</td>\n",
       "      <td>1.0</td>\n",
       "      <td>1.0</td>\n",
       "      <td>9.84</td>\n",
       "    </tr>\n",
       "    <tr>\n",
       "      <th>...</th>\n",
       "      <td>...</td>\n",
       "      <td>...</td>\n",
       "      <td>...</td>\n",
       "      <td>...</td>\n",
       "      <td>...</td>\n",
       "      <td>...</td>\n",
       "      <td>...</td>\n",
       "    </tr>\n",
       "    <tr>\n",
       "      <th>2012-12-19 19:00:00</th>\n",
       "      <td>15.58</td>\n",
       "      <td>50.0</td>\n",
       "      <td>26.0027</td>\n",
       "      <td>336.0</td>\n",
       "      <td>2.0</td>\n",
       "      <td>3.0</td>\n",
       "      <td>5234.88</td>\n",
       "    </tr>\n",
       "    <tr>\n",
       "      <th>2012-12-19 20:00:00</th>\n",
       "      <td>14.76</td>\n",
       "      <td>57.0</td>\n",
       "      <td>15.0013</td>\n",
       "      <td>241.0</td>\n",
       "      <td>2.0</td>\n",
       "      <td>3.0</td>\n",
       "      <td>3557.16</td>\n",
       "    </tr>\n",
       "    <tr>\n",
       "      <th>2012-12-19 21:00:00</th>\n",
       "      <td>13.94</td>\n",
       "      <td>61.0</td>\n",
       "      <td>15.0013</td>\n",
       "      <td>168.0</td>\n",
       "      <td>2.0</td>\n",
       "      <td>3.0</td>\n",
       "      <td>2341.92</td>\n",
       "    </tr>\n",
       "    <tr>\n",
       "      <th>2012-12-19 22:00:00</th>\n",
       "      <td>13.94</td>\n",
       "      <td>61.0</td>\n",
       "      <td>6.0032</td>\n",
       "      <td>129.0</td>\n",
       "      <td>2.0</td>\n",
       "      <td>3.0</td>\n",
       "      <td>1798.26</td>\n",
       "    </tr>\n",
       "    <tr>\n",
       "      <th>2012-12-19 23:00:00</th>\n",
       "      <td>13.12</td>\n",
       "      <td>66.0</td>\n",
       "      <td>8.9981</td>\n",
       "      <td>88.0</td>\n",
       "      <td>2.0</td>\n",
       "      <td>3.0</td>\n",
       "      <td>1154.56</td>\n",
       "    </tr>\n",
       "  </tbody>\n",
       "</table>\n",
       "<p>10659 rows × 7 columns</p>\n",
       "</div>"
      ],
      "text/plain": [
       "                      temp  humidity  windspeed  count  Recency  Frequency  \\\n",
       "date                                                                         \n",
       "2011-01-01 00:00:00   9.84      81.0     0.0000   16.0      1.0        2.0   \n",
       "2011-01-01 01:00:00   9.02      80.0     0.0000   40.0      1.0        3.0   \n",
       "2011-01-01 02:00:00   9.02      80.0     0.0000   32.0      1.0        3.0   \n",
       "2011-01-01 03:00:00   9.84      75.0     0.0000   13.0      1.0        2.0   \n",
       "2011-01-01 04:00:00   9.84      75.0     0.0000    1.0      1.0        1.0   \n",
       "...                    ...       ...        ...    ...      ...        ...   \n",
       "2012-12-19 19:00:00  15.58      50.0    26.0027  336.0      2.0        3.0   \n",
       "2012-12-19 20:00:00  14.76      57.0    15.0013  241.0      2.0        3.0   \n",
       "2012-12-19 21:00:00  13.94      61.0    15.0013  168.0      2.0        3.0   \n",
       "2012-12-19 22:00:00  13.94      61.0     6.0032  129.0      2.0        3.0   \n",
       "2012-12-19 23:00:00  13.12      66.0     8.9981   88.0      2.0        3.0   \n",
       "\n",
       "                     Monetary  \n",
       "date                           \n",
       "2011-01-01 00:00:00    157.44  \n",
       "2011-01-01 01:00:00    360.80  \n",
       "2011-01-01 02:00:00    288.64  \n",
       "2011-01-01 03:00:00    127.92  \n",
       "2011-01-01 04:00:00      9.84  \n",
       "...                       ...  \n",
       "2012-12-19 19:00:00   5234.88  \n",
       "2012-12-19 20:00:00   3557.16  \n",
       "2012-12-19 21:00:00   2341.92  \n",
       "2012-12-19 22:00:00   1798.26  \n",
       "2012-12-19 23:00:00   1154.56  \n",
       "\n",
       "[10659 rows x 7 columns]"
      ]
     },
     "execution_count": 38,
     "metadata": {},
     "output_type": "execute_result"
    }
   ],
   "source": [
    "df"
   ]
  },
  {
   "cell_type": "markdown",
   "metadata": {},
   "source": [
    "데이터 마트 DQ Check, 변수 선택 및 EDA"
   ]
  },
  {
   "cell_type": "code",
   "execution_count": 39,
   "metadata": {},
   "outputs": [
    {
     "data": {
      "text/plain": [
       "Index(['temp', 'humidity', 'windspeed', 'count', 'Recency', 'Frequency',\n",
       "       'Monetary'],\n",
       "      dtype='object')"
      ]
     },
     "execution_count": 39,
     "metadata": {},
     "output_type": "execute_result"
    }
   ],
   "source": [
    "df.columns"
   ]
  },
  {
   "cell_type": "code",
   "execution_count": 40,
   "metadata": {},
   "outputs": [
    {
     "data": {
      "text/html": [
       "<div>\n",
       "<style scoped>\n",
       "    .dataframe tbody tr th:only-of-type {\n",
       "        vertical-align: middle;\n",
       "    }\n",
       "\n",
       "    .dataframe tbody tr th {\n",
       "        vertical-align: top;\n",
       "    }\n",
       "\n",
       "    .dataframe thead th {\n",
       "        text-align: right;\n",
       "    }\n",
       "</style>\n",
       "<table border=\"1\" class=\"dataframe\">\n",
       "  <thead>\n",
       "    <tr style=\"text-align: right;\">\n",
       "      <th></th>\n",
       "      <th>total</th>\n",
       "      <th>count</th>\n",
       "      <th>missing</th>\n",
       "      <th>mean</th>\n",
       "      <th>median</th>\n",
       "      <th>std</th>\n",
       "      <th>variance</th>\n",
       "      <th>skewness</th>\n",
       "      <th>kurtosis</th>\n",
       "      <th>min</th>\n",
       "      <th>5%</th>\n",
       "      <th>10%</th>\n",
       "      <th>25%</th>\n",
       "      <th>50%</th>\n",
       "      <th>75%</th>\n",
       "      <th>90%</th>\n",
       "      <th>95%</th>\n",
       "      <th>max</th>\n",
       "    </tr>\n",
       "  </thead>\n",
       "  <tbody>\n",
       "    <tr>\n",
       "      <th>temp</th>\n",
       "      <td>10659.0</td>\n",
       "      <td>10659.0</td>\n",
       "      <td>0</td>\n",
       "      <td>20.27</td>\n",
       "      <td>20.5</td>\n",
       "      <td>7.79</td>\n",
       "      <td>60.65</td>\n",
       "      <td>-0.00</td>\n",
       "      <td>-0.91</td>\n",
       "      <td>0.82</td>\n",
       "      <td>8.20</td>\n",
       "      <td>9.84</td>\n",
       "      <td>13.94</td>\n",
       "      <td>20.5</td>\n",
       "      <td>26.24</td>\n",
       "      <td>30.34</td>\n",
       "      <td>32.80</td>\n",
       "      <td>41.00</td>\n",
       "    </tr>\n",
       "    <tr>\n",
       "      <th>humidity</th>\n",
       "      <td>10659.0</td>\n",
       "      <td>10659.0</td>\n",
       "      <td>0</td>\n",
       "      <td>62.21</td>\n",
       "      <td>62.0</td>\n",
       "      <td>19.08</td>\n",
       "      <td>364.15</td>\n",
       "      <td>-0.09</td>\n",
       "      <td>-0.76</td>\n",
       "      <td>0.00</td>\n",
       "      <td>32.00</td>\n",
       "      <td>37.00</td>\n",
       "      <td>47.00</td>\n",
       "      <td>62.0</td>\n",
       "      <td>78.00</td>\n",
       "      <td>88.00</td>\n",
       "      <td>93.00</td>\n",
       "      <td>100.00</td>\n",
       "    </tr>\n",
       "    <tr>\n",
       "      <th>windspeed</th>\n",
       "      <td>10659.0</td>\n",
       "      <td>10659.0</td>\n",
       "      <td>0</td>\n",
       "      <td>12.29</td>\n",
       "      <td>11.0</td>\n",
       "      <td>7.44</td>\n",
       "      <td>55.36</td>\n",
       "      <td>0.23</td>\n",
       "      <td>-0.37</td>\n",
       "      <td>0.00</td>\n",
       "      <td>0.00</td>\n",
       "      <td>0.00</td>\n",
       "      <td>7.00</td>\n",
       "      <td>11.0</td>\n",
       "      <td>17.00</td>\n",
       "      <td>22.00</td>\n",
       "      <td>26.00</td>\n",
       "      <td>31.00</td>\n",
       "    </tr>\n",
       "    <tr>\n",
       "      <th>count</th>\n",
       "      <td>10659.0</td>\n",
       "      <td>10659.0</td>\n",
       "      <td>0</td>\n",
       "      <td>191.56</td>\n",
       "      <td>145.0</td>\n",
       "      <td>181.21</td>\n",
       "      <td>32834.49</td>\n",
       "      <td>1.24</td>\n",
       "      <td>1.29</td>\n",
       "      <td>1.00</td>\n",
       "      <td>5.00</td>\n",
       "      <td>9.00</td>\n",
       "      <td>42.00</td>\n",
       "      <td>145.0</td>\n",
       "      <td>285.00</td>\n",
       "      <td>453.00</td>\n",
       "      <td>563.00</td>\n",
       "      <td>977.00</td>\n",
       "    </tr>\n",
       "    <tr>\n",
       "      <th>Monetary</th>\n",
       "      <td>10659.0</td>\n",
       "      <td>10659.0</td>\n",
       "      <td>0</td>\n",
       "      <td>4435.16</td>\n",
       "      <td>2640.4</td>\n",
       "      <td>5020.56</td>\n",
       "      <td>25203704.77</td>\n",
       "      <td>1.66</td>\n",
       "      <td>2.88</td>\n",
       "      <td>0.82</td>\n",
       "      <td>63.96</td>\n",
       "      <td>139.40</td>\n",
       "      <td>610.08</td>\n",
       "      <td>2640.4</td>\n",
       "      <td>6519.82</td>\n",
       "      <td>11635.80</td>\n",
       "      <td>15150.65</td>\n",
       "      <td>30157.14</td>\n",
       "    </tr>\n",
       "  </tbody>\n",
       "</table>\n",
       "</div>"
      ],
      "text/plain": [
       "             total    count  missing     mean  median      std     variance  \\\n",
       "temp       10659.0  10659.0        0    20.27    20.5     7.79        60.65   \n",
       "humidity   10659.0  10659.0        0    62.21    62.0    19.08       364.15   \n",
       "windspeed  10659.0  10659.0        0    12.29    11.0     7.44        55.36   \n",
       "count      10659.0  10659.0        0   191.56   145.0   181.21     32834.49   \n",
       "Monetary   10659.0  10659.0        0  4435.16  2640.4  5020.56  25203704.77   \n",
       "\n",
       "           skewness  kurtosis   min     5%     10%     25%     50%      75%  \\\n",
       "temp          -0.00     -0.91  0.82   8.20    9.84   13.94    20.5    26.24   \n",
       "humidity      -0.09     -0.76  0.00  32.00   37.00   47.00    62.0    78.00   \n",
       "windspeed      0.23     -0.37  0.00   0.00    0.00    7.00    11.0    17.00   \n",
       "count          1.24      1.29  1.00   5.00    9.00   42.00   145.0   285.00   \n",
       "Monetary       1.66      2.88  0.82  63.96  139.40  610.08  2640.4  6519.82   \n",
       "\n",
       "                90%       95%       max  \n",
       "temp          30.34     32.80     41.00  \n",
       "humidity      88.00     93.00    100.00  \n",
       "windspeed     22.00     26.00     31.00  \n",
       "count        453.00    563.00    977.00  \n",
       "Monetary   11635.80  15150.65  30157.14  "
      ]
     },
     "execution_count": 40,
     "metadata": {},
     "output_type": "execute_result"
    }
   ],
   "source": [
    "col_num = ['temp', 'humidity','windspeed','count','Monetary']\n",
    "col_cat = ['Recency', 'Frequency']\n",
    "DA3 = DA(df[col_num])\n",
    "DA3"
   ]
  },
  {
   "cell_type": "code",
   "execution_count": 42,
   "metadata": {},
   "outputs": [
    {
     "data": {
      "text/html": [
       "<div>\n",
       "<style scoped>\n",
       "    .dataframe tbody tr th:only-of-type {\n",
       "        vertical-align: middle;\n",
       "    }\n",
       "\n",
       "    .dataframe tbody tr th {\n",
       "        vertical-align: top;\n",
       "    }\n",
       "\n",
       "    .dataframe thead th {\n",
       "        text-align: right;\n",
       "    }\n",
       "</style>\n",
       "<table border=\"1\" class=\"dataframe\">\n",
       "  <thead>\n",
       "    <tr style=\"text-align: right;\">\n",
       "      <th></th>\n",
       "      <th>col_nm</th>\n",
       "      <th>class</th>\n",
       "      <th>count</th>\n",
       "      <th>ratio</th>\n",
       "    </tr>\n",
       "  </thead>\n",
       "  <tbody>\n",
       "    <tr>\n",
       "      <th>0</th>\n",
       "      <td>Recency</td>\n",
       "      <td>1.0</td>\n",
       "      <td>9301</td>\n",
       "      <td>0.872596</td>\n",
       "    </tr>\n",
       "    <tr>\n",
       "      <th>1</th>\n",
       "      <td>Recency</td>\n",
       "      <td>2.0</td>\n",
       "      <td>1358</td>\n",
       "      <td>0.127404</td>\n",
       "    </tr>\n",
       "    <tr>\n",
       "      <th>2</th>\n",
       "      <td>Frequency</td>\n",
       "      <td>1.0</td>\n",
       "      <td>1209</td>\n",
       "      <td>0.113425</td>\n",
       "    </tr>\n",
       "    <tr>\n",
       "      <th>3</th>\n",
       "      <td>Frequency</td>\n",
       "      <td>2.0</td>\n",
       "      <td>624</td>\n",
       "      <td>0.058542</td>\n",
       "    </tr>\n",
       "    <tr>\n",
       "      <th>4</th>\n",
       "      <td>Frequency</td>\n",
       "      <td>3.0</td>\n",
       "      <td>8826</td>\n",
       "      <td>0.828033</td>\n",
       "    </tr>\n",
       "  </tbody>\n",
       "</table>\n",
       "</div>"
      ],
      "text/plain": [
       "      col_nm  class  count     ratio\n",
       "0    Recency    1.0   9301  0.872596\n",
       "1    Recency    2.0   1358  0.127404\n",
       "2  Frequency    1.0   1209  0.113425\n",
       "3  Frequency    2.0    624  0.058542\n",
       "4  Frequency    3.0   8826  0.828033"
      ]
     },
     "execution_count": 42,
     "metadata": {},
     "output_type": "execute_result"
    }
   ],
   "source": [
    "DA4 = DA_cat(df, col_cat)\n",
    "DA4"
   ]
  },
  {
   "cell_type": "code",
   "execution_count": 43,
   "metadata": {},
   "outputs": [],
   "source": [
    "df = df.drop(columns=['Recency'], axis=1)"
   ]
  },
  {
   "cell_type": "code",
   "execution_count": 48,
   "metadata": {},
   "outputs": [
    {
     "data": {
      "text/plain": [
       "<AxesSubplot:xlabel='date', ylabel='temp'>"
      ]
     },
     "execution_count": 48,
     "metadata": {},
     "output_type": "execute_result"
    },
    {
     "data": {
      "image/png": "[encoded data removed]",
      "text/plain": [
       "<Figure size 432x288 with 1 Axes>"
      ]
     },
     "metadata": {
      "needs_background": "light"
     },
     "output_type": "display_data"
    }
   ],
   "source": [
    "# 범주형 x 별 y의 평균\n",
    "sns.lineplot(x=df.index, y='temp',data=df)"
   ]
  },
  {
   "cell_type": "code",
   "execution_count": 49,
   "metadata": {},
   "outputs": [
    {
     "data": {
      "text/plain": [
       "<AxesSubplot:xlabel='temp', ylabel='count'>"
      ]
     },
     "execution_count": 49,
     "metadata": {},
     "output_type": "execute_result"
    },
    {
     "data": {
      "image/png": "[encoded data removed]",
      "text/plain": [
       "<Figure size 432x288 with 1 Axes>"
      ]
     },
     "metadata": {
      "needs_background": "light"
     },
     "output_type": "display_data"
    }
   ],
   "source": [
    "sns.scatterplot(x='temp', y='count', data=df)"
   ]
  },
  {
   "cell_type": "markdown",
   "metadata": {},
   "source": [
    "종속 변수 분포 확인 및 전처리"
   ]
  },
  {
   "cell_type": "code",
   "execution_count": 50,
   "metadata": {},
   "outputs": [
    {
     "data": {
      "text/plain": [
       "<AxesSubplot:ylabel='Frequency'>"
      ]
     },
     "execution_count": 50,
     "metadata": {},
     "output_type": "execute_result"
    },
    {
     "data": {
      "image/png": "[encoded data removed]",
      "text/plain": [
       "<Figure size 432x288 with 1 Axes>"
      ]
     },
     "metadata": {
      "needs_background": "light"
     },
     "output_type": "display_data"
    }
   ],
   "source": [
    "df['count'].plot(kind='hist')"
   ]
  },
  {
   "cell_type": "code",
   "execution_count": 51,
   "metadata": {},
   "outputs": [],
   "source": [
    "df['y2'] = np.log1p(df['count'])"
   ]
  },
  {
   "cell_type": "code",
   "execution_count": 52,
   "metadata": {},
   "outputs": [
    {
     "data": {
      "text/plain": [
       "<AxesSubplot:ylabel='Frequency'>"
      ]
     },
     "execution_count": 52,
     "metadata": {},
     "output_type": "execute_result"
    },
    {
     "data": {
      "image/png": "[encoded data removed]",
      "text/plain": [
       "<Figure size 432x288 with 1 Axes>"
      ]
     },
     "metadata": {
      "needs_background": "light"
     },
     "output_type": "display_data"
    }
   ],
   "source": [
    "df['y2'].plot(kind='hist')"
   ]
  },
  {
   "cell_type": "code",
   "execution_count": 53,
   "metadata": {},
   "outputs": [
    {
     "name": "stdout",
     "output_type": "stream",
     "text": [
      "<class 'pandas.core.frame.DataFrame'>\n",
      "DatetimeIndex: 10659 entries, 2011-01-01 00:00:00 to 2012-12-19 23:00:00\n",
      "Data columns (total 7 columns):\n",
      " #   Column     Non-Null Count  Dtype  \n",
      "---  ------     --------------  -----  \n",
      " 0   temp       10659 non-null  float64\n",
      " 1   humidity   10659 non-null  float64\n",
      " 2   windspeed  10659 non-null  float64\n",
      " 3   count      10659 non-null  float64\n",
      " 4   Frequency  10659 non-null  float64\n",
      " 5   Monetary   10659 non-null  float64\n",
      " 6   y2         10659 non-null  float64\n",
      "dtypes: float64(7)\n",
      "memory usage: 666.2 KB\n"
     ]
    }
   ],
   "source": [
    "df.info()"
   ]
  },
  {
   "cell_type": "code",
   "execution_count": 54,
   "metadata": {},
   "outputs": [
    {
     "data": {
      "text/html": [
       "<div>\n",
       "<style scoped>\n",
       "    .dataframe tbody tr th:only-of-type {\n",
       "        vertical-align: middle;\n",
       "    }\n",
       "\n",
       "    .dataframe tbody tr th {\n",
       "        vertical-align: top;\n",
       "    }\n",
       "\n",
       "    .dataframe thead th {\n",
       "        text-align: right;\n",
       "    }\n",
       "</style>\n",
       "<table border=\"1\" class=\"dataframe\">\n",
       "  <thead>\n",
       "    <tr style=\"text-align: right;\">\n",
       "      <th></th>\n",
       "      <th>temp</th>\n",
       "      <th>humidity</th>\n",
       "      <th>windspeed</th>\n",
       "      <th>count</th>\n",
       "      <th>Frequency</th>\n",
       "      <th>Monetary</th>\n",
       "      <th>y2</th>\n",
       "    </tr>\n",
       "    <tr>\n",
       "      <th>date</th>\n",
       "      <th></th>\n",
       "      <th></th>\n",
       "      <th></th>\n",
       "      <th></th>\n",
       "      <th></th>\n",
       "      <th></th>\n",
       "      <th></th>\n",
       "    </tr>\n",
       "  </thead>\n",
       "  <tbody>\n",
       "    <tr>\n",
       "      <th>2011-01-01 00:00:00</th>\n",
       "      <td>9.84</td>\n",
       "      <td>81.0</td>\n",
       "      <td>0.0</td>\n",
       "      <td>16.0</td>\n",
       "      <td>2.0</td>\n",
       "      <td>157.44</td>\n",
       "      <td>2.833213</td>\n",
       "    </tr>\n",
       "    <tr>\n",
       "      <th>2011-01-01 01:00:00</th>\n",
       "      <td>9.02</td>\n",
       "      <td>80.0</td>\n",
       "      <td>0.0</td>\n",
       "      <td>40.0</td>\n",
       "      <td>3.0</td>\n",
       "      <td>360.80</td>\n",
       "      <td>3.713572</td>\n",
       "    </tr>\n",
       "    <tr>\n",
       "      <th>2011-01-01 02:00:00</th>\n",
       "      <td>9.02</td>\n",
       "      <td>80.0</td>\n",
       "      <td>0.0</td>\n",
       "      <td>32.0</td>\n",
       "      <td>3.0</td>\n",
       "      <td>288.64</td>\n",
       "      <td>3.496508</td>\n",
       "    </tr>\n",
       "    <tr>\n",
       "      <th>2011-01-01 03:00:00</th>\n",
       "      <td>9.84</td>\n",
       "      <td>75.0</td>\n",
       "      <td>0.0</td>\n",
       "      <td>13.0</td>\n",
       "      <td>2.0</td>\n",
       "      <td>127.92</td>\n",
       "      <td>2.639057</td>\n",
       "    </tr>\n",
       "    <tr>\n",
       "      <th>2011-01-01 04:00:00</th>\n",
       "      <td>9.84</td>\n",
       "      <td>75.0</td>\n",
       "      <td>0.0</td>\n",
       "      <td>1.0</td>\n",
       "      <td>1.0</td>\n",
       "      <td>9.84</td>\n",
       "      <td>0.693147</td>\n",
       "    </tr>\n",
       "  </tbody>\n",
       "</table>\n",
       "</div>"
      ],
      "text/plain": [
       "                     temp  humidity  windspeed  count  Frequency  Monetary  \\\n",
       "date                                                                         \n",
       "2011-01-01 00:00:00  9.84      81.0        0.0   16.0        2.0    157.44   \n",
       "2011-01-01 01:00:00  9.02      80.0        0.0   40.0        3.0    360.80   \n",
       "2011-01-01 02:00:00  9.02      80.0        0.0   32.0        3.0    288.64   \n",
       "2011-01-01 03:00:00  9.84      75.0        0.0   13.0        2.0    127.92   \n",
       "2011-01-01 04:00:00  9.84      75.0        0.0    1.0        1.0      9.84   \n",
       "\n",
       "                           y2  \n",
       "date                           \n",
       "2011-01-01 00:00:00  2.833213  \n",
       "2011-01-01 01:00:00  3.713572  \n",
       "2011-01-01 02:00:00  3.496508  \n",
       "2011-01-01 03:00:00  2.639057  \n",
       "2011-01-01 04:00:00  0.693147  "
      ]
     },
     "execution_count": 54,
     "metadata": {},
     "output_type": "execute_result"
    }
   ],
   "source": [
    "df.head()"
   ]
  },
  {
   "cell_type": "code",
   "execution_count": 58,
   "metadata": {},
   "outputs": [],
   "source": [
    "import statsmodels.api as sm\n",
    "from patsy import dmatrices\n",
    "y, X = dmatrices('y2 ~ temp + humidity + windspeed + Frequency +Monetary', data=df, return_type='dataframe')"
   ]
  },
  {
   "cell_type": "markdown",
   "metadata": {},
   "source": [
    "VIF 확인 (y값 안섞이게 주의)"
   ]
  },
  {
   "cell_type": "code",
   "execution_count": 59,
   "metadata": {},
   "outputs": [
    {
     "data": {
      "text/html": [
       "<div>\n",
       "<style scoped>\n",
       "    .dataframe tbody tr th:only-of-type {\n",
       "        vertical-align: middle;\n",
       "    }\n",
       "\n",
       "    .dataframe tbody tr th {\n",
       "        vertical-align: top;\n",
       "    }\n",
       "\n",
       "    .dataframe thead th {\n",
       "        text-align: right;\n",
       "    }\n",
       "</style>\n",
       "<table border=\"1\" class=\"dataframe\">\n",
       "  <thead>\n",
       "    <tr style=\"text-align: right;\">\n",
       "      <th></th>\n",
       "      <th>VIF Factor</th>\n",
       "      <th>features</th>\n",
       "    </tr>\n",
       "  </thead>\n",
       "  <tbody>\n",
       "    <tr>\n",
       "      <th>0</th>\n",
       "      <td>47.966320</td>\n",
       "      <td>Intercept</td>\n",
       "    </tr>\n",
       "    <tr>\n",
       "      <th>1</th>\n",
       "      <td>1.568157</td>\n",
       "      <td>temp</td>\n",
       "    </tr>\n",
       "    <tr>\n",
       "      <th>2</th>\n",
       "      <td>1.247653</td>\n",
       "      <td>humidity</td>\n",
       "    </tr>\n",
       "    <tr>\n",
       "      <th>3</th>\n",
       "      <td>1.104879</td>\n",
       "      <td>windspeed</td>\n",
       "    </tr>\n",
       "    <tr>\n",
       "      <th>4</th>\n",
       "      <td>1.181337</td>\n",
       "      <td>Frequency</td>\n",
       "    </tr>\n",
       "    <tr>\n",
       "      <th>5</th>\n",
       "      <td>1.863814</td>\n",
       "      <td>Monetary</td>\n",
       "    </tr>\n",
       "  </tbody>\n",
       "</table>\n",
       "</div>"
      ],
      "text/plain": [
       "   VIF Factor   features\n",
       "0   47.966320  Intercept\n",
       "1    1.568157       temp\n",
       "2    1.247653   humidity\n",
       "3    1.104879  windspeed\n",
       "4    1.181337  Frequency\n",
       "5    1.863814   Monetary"
      ]
     },
     "execution_count": 59,
     "metadata": {},
     "output_type": "execute_result"
    }
   ],
   "source": [
    "from statsmodels.stats.outliers_influence import variance_inflation_factor\n",
    "\n",
    "vif = pd.DataFrame()\n",
    "vif['VIF Factor'] = [variance_inflation_factor(X.values, i) for i in range(X.shape[1])]\n",
    "vif['features']  = X.columns\n",
    "vif"
   ]
  },
  {
   "cell_type": "code",
   "execution_count": 60,
   "metadata": {},
   "outputs": [],
   "source": [
    "from sklearn.model_selection import train_test_split\n",
    "\n",
    "X_train, X_test, y_train, y_test = train_test_split(X,y, test_size=0.3, random_state=0)"
   ]
  },
  {
   "cell_type": "code",
   "execution_count": 61,
   "metadata": {},
   "outputs": [],
   "source": [
    "from sklearn.preprocessing import StandardScaler\n",
    "scaler = StandardScaler()\n",
    "scaler.fit(X_train)\n",
    "X_train_scaled = scaler.transform(X_train)\n",
    "X_test_scaled = scaler.transform(X_test)"
   ]
  },
  {
   "cell_type": "code",
   "execution_count": 62,
   "metadata": {},
   "outputs": [],
   "source": [
    "# 컬럼명 다시 붙여주기\n",
    "X_train_scaled = pd.DataFrame(X_train_scaled, columns = X_train.columns)\n",
    "X_test_scaled = pd.DataFrame(X_test_scaled, columns=X_test.columns)"
   ]
  },
  {
   "cell_type": "markdown",
   "metadata": {},
   "source": [
    "군집화"
   ]
  },
  {
   "cell_type": "code",
   "execution_count": 63,
   "metadata": {},
   "outputs": [],
   "source": [
    "from sklearn.cluster import KMeans\n",
    "\n",
    "def elbow(X):\n",
    "    sse = []\n",
    "    for i in range(1,11):\n",
    "        km = KMeans(n_clusters= i, init='k-means++', random_state=0)\n",
    "        km.fit(X)\n",
    "        sse.append(km.inertia_)\n",
    "        \n",
    "    plt.plot(range(1,11), sse, marker='o')\n",
    "    plt.xlabel('n_clusters')\n",
    "    plt.ylabel('SSE')\n",
    "    plt.show()"
   ]
  },
  {
   "cell_type": "code",
   "execution_count": 64,
   "metadata": {},
   "outputs": [
    {
     "data": {
      "image/png": "[encoded data removed]",
      "text/plain": [
       "<Figure size 432x288 with 1 Axes>"
      ]
     },
     "metadata": {
      "needs_background": "light"
     },
     "output_type": "display_data"
    }
   ],
   "source": [
    "elbow(X_train_scaled)"
   ]
  },
  {
   "cell_type": "code",
   "execution_count": 69,
   "metadata": {},
   "outputs": [
    {
     "name": "stdout",
     "output_type": "stream",
     "text": [
      "[0.239 0.279 0.279 0.248 0.237 0.231 0.22  0.217 0.217]\n"
     ]
    }
   ],
   "source": [
    "from sklearn.metrics import silhouette_samples, silhouette_score\n",
    "\n",
    "def sil(X):\n",
    "    si = []\n",
    "    for i in range(2,11):\n",
    "        km = KMeans(n_clusters=i, init='k-means++', random_state=0)\n",
    "        km.fit(X)\n",
    "        si.append(silhouette_score(X, km.labels_))\n",
    "        \n",
    "    print(np.round(si,3))\n",
    "    \n",
    "sil(X_train_scaled)"
   ]
  },
  {
   "cell_type": "markdown",
   "metadata": {},
   "source": [
    "군집 수 직접 지정해서 군집화"
   ]
  },
  {
   "cell_type": "code",
   "execution_count": 70,
   "metadata": {},
   "outputs": [
    {
     "data": {
      "text/plain": [
       "KMeans(n_clusters=4, random_state=0)"
      ]
     },
     "execution_count": 70,
     "metadata": {},
     "output_type": "execute_result"
    }
   ],
   "source": [
    "kmeans = KMeans(n_clusters=4, init='k-means++', max_iter=300, random_state=0)\n",
    "kmeans.fit(X_train_scaled)"
   ]
  },
  {
   "cell_type": "markdown",
   "metadata": {},
   "source": [
    "군집화 결과 프로파일링"
   ]
  },
  {
   "cell_type": "code",
   "execution_count": 71,
   "metadata": {},
   "outputs": [],
   "source": [
    "# 스케일링 풀고 프로파일링\n",
    "\n",
    "df_profile = pd.DataFrame(scaler.inverse_transform(X_train_scaled), columns=X_train.columns)\n",
    "df_profile['kmeans'] = kmeans.labels_"
   ]
  },
  {
   "cell_type": "code",
   "execution_count": 72,
   "metadata": {},
   "outputs": [
    {
     "name": "stderr",
     "output_type": "stream",
     "text": [
      "c:\\Users\\wagar\\AppData\\Local\\Programs\\Python\\Python310\\lib\\site-packages\\seaborn\\_decorators.py:36: FutureWarning: Pass the following variables as keyword args: x, y. From version 0.12, the only valid positional argument will be `data`, and passing other arguments without an explicit keyword will result in an error or misinterpretation.\n",
      "  warnings.warn(\n"
     ]
    },
    {
     "data": {
      "text/plain": [
       "<AxesSubplot:xlabel='kmeans', ylabel='windspeed'>"
      ]
     },
     "execution_count": 72,
     "metadata": {},
     "output_type": "execute_result"
    },
    {
     "data": {
      "image/png": "[encoded data removed]",
      "text/plain": [
       "<Figure size 432x288 with 1 Axes>"
      ]
     },
     "metadata": {
      "needs_background": "light"
     },
     "output_type": "display_data"
    }
   ],
   "source": [
    "sns.barplot(df_profile['kmeans'], df_profile['windspeed'])"
   ]
  },
  {
   "cell_type": "code",
   "execution_count": 73,
   "metadata": {},
   "outputs": [
    {
     "name": "stderr",
     "output_type": "stream",
     "text": [
      "c:\\Users\\wagar\\AppData\\Local\\Programs\\Python\\Python310\\lib\\site-packages\\seaborn\\_decorators.py:36: FutureWarning: Pass the following variables as keyword args: x, y. From version 0.12, the only valid positional argument will be `data`, and passing other arguments without an explicit keyword will result in an error or misinterpretation.\n",
      "  warnings.warn(\n"
     ]
    },
    {
     "data": {
      "text/plain": [
       "<AxesSubplot:xlabel='kmeans', ylabel='Monetary'>"
      ]
     },
     "execution_count": 73,
     "metadata": {},
     "output_type": "execute_result"
    },
    {
     "data": {
      "image/png": "[encoded data removed]",
      "text/plain": [
       "<Figure size 432x288 with 1 Axes>"
      ]
     },
     "metadata": {
      "needs_background": "light"
     },
     "output_type": "display_data"
    }
   ],
   "source": [
    "sns.barplot(df_profile['kmeans'], df_profile['Monetary'])"
   ]
  },
  {
   "cell_type": "markdown",
   "metadata": {},
   "source": [
    "군집화 결과를 새로운 컬럼으로 추가"
   ]
  },
  {
   "cell_type": "code",
   "execution_count": 74,
   "metadata": {},
   "outputs": [],
   "source": [
    "X_train_scaled['kmeans'] = kmeans.labels_\n",
    "\n",
    "kmeans_test = kmeans.predict(X_test_scaled)\n",
    "X_test_scaled['kmeans'] = kmeans_test"
   ]
  },
  {
   "cell_type": "code",
   "execution_count": 75,
   "metadata": {},
   "outputs": [],
   "source": [
    "from sklearn.linear_model import Ridge, Lasso, ElasticNet, HuberRegressor\n",
    "from sklearn.tree import DecisionTreeRegressor\n",
    "from sklearn.ensemble import RandomForestRegressor\n",
    "from sklearn.neighbors import KNeighborsRegressor\n",
    "from sklearn.kernel_ridge import KernelRidge\n",
    "from sklearn.neural_network import MLPRegressor\n",
    "from sklearn.svm import SVR\n",
    "\n",
    "from sklearn.model_selection import GridSearchCV, train_test_split, KFold, cross_val_score\n",
    "from sklearn.pipeline import Pipeline\n",
    "from sklearn.preprocessing import StandardScaler"
   ]
  },
  {
   "cell_type": "code",
   "execution_count": 76,
   "metadata": {},
   "outputs": [
    {
     "data": {
      "text/plain": [
       "[('Ridge', Ridge()),\n",
       " ('Lasso', Lasso()),\n",
       " ('ElasticNet', ElasticNet()),\n",
       " ('Huber', HuberRegressor()),\n",
       " ('DT', DecisionTreeRegressor()),\n",
       " ('KNN', KNeighborsRegressor()),\n",
       " ('KernelRidge', KernelRidge()),\n",
       " ('MLP', MLPRegressor()),\n",
       " ('SVR', SVR())]"
      ]
     },
     "execution_count": 76,
     "metadata": {},
     "output_type": "execute_result"
    }
   ],
   "source": [
    "models = []\n",
    "models.append(('Ridge', Ridge()))\n",
    "models.append(('Lasso',Lasso()))\n",
    "models.append(('ElasticNet', ElasticNet()))\n",
    "models.append(('Huber', HuberRegressor()))\n",
    "models.append(('DT', DecisionTreeRegressor()))\n",
    "models.append(('KNN', KNeighborsRegressor()))\n",
    "models.append(('KernelRidge', KernelRidge()))\n",
    "models.append(('MLP', MLPRegressor()))\n",
    "models.append(('SVR', SVR()))\n",
    "\n",
    "models"
   ]
  },
  {
   "cell_type": "code",
   "execution_count": 77,
   "metadata": {},
   "outputs": [
    {
     "name": "stdout",
     "output_type": "stream",
     "text": [
      "Ridge 0.88593\n",
      "Lasso 0.17775\n",
      "ElasticNet 0.57264\n",
      "Huber 0.88326\n",
      "DT 0.99869\n",
      "KNN 0.9561\n",
      "KernelRidge -0.13894\n"
     ]
    },
    {
     "name": "stderr",
     "output_type": "stream",
     "text": [
      "c:\\Users\\wagar\\AppData\\Local\\Programs\\Python\\Python310\\lib\\site-packages\\sklearn\\neural_network\\_multilayer_perceptron.py:692: ConvergenceWarning: Stochastic Optimizer: Maximum iterations (200) reached and the optimization hasn't converged yet.\n",
      "  warnings.warn(\n",
      "c:\\Users\\wagar\\AppData\\Local\\Programs\\Python\\Python310\\lib\\site-packages\\sklearn\\neural_network\\_multilayer_perceptron.py:692: ConvergenceWarning: Stochastic Optimizer: Maximum iterations (200) reached and the optimization hasn't converged yet.\n",
      "  warnings.warn(\n",
      "c:\\Users\\wagar\\AppData\\Local\\Programs\\Python\\Python310\\lib\\site-packages\\sklearn\\neural_network\\_multilayer_perceptron.py:692: ConvergenceWarning: Stochastic Optimizer: Maximum iterations (200) reached and the optimization hasn't converged yet.\n",
      "  warnings.warn(\n"
     ]
    },
    {
     "name": "stdout",
     "output_type": "stream",
     "text": [
      "MLP 0.98547\n",
      "SVR 0.97468\n"
     ]
    }
   ],
   "source": [
    "num_folds = 5\n",
    "seed = 7\n",
    "\n",
    "names = []\n",
    "results = []\n",
    "\n",
    "kfold = KFold(n_splits=num_folds, shuffle=True, random_state=seed)\n",
    "\n",
    "for name, model in models:\n",
    "    score = cross_val_score(model, X_train_scaled, y_train.values.ravel(), cv=kfold)\n",
    "    names.append(name)\n",
    "    results.append(score)\n",
    "    print(name, score.mean().round(5))"
   ]
  },
  {
   "cell_type": "code",
   "execution_count": 78,
   "metadata": {},
   "outputs": [
    {
     "name": "stderr",
     "output_type": "stream",
     "text": [
      "c:\\Users\\wagar\\AppData\\Local\\Programs\\Python\\Python310\\lib\\site-packages\\IPython\\core\\pylabtools.py:151: UserWarning: Glyph 8722 (\\N{MINUS SIGN}) missing from current font.\n",
      "  fig.canvas.print_figure(bytes_io, **kw)\n"
     ]
    },
    {
     "data": {
      "image/png": "[encoded data removed]",
      "text/plain": [
       "<Figure size 432x288 with 1 Axes>"
      ]
     },
     "metadata": {
      "needs_background": "light"
     },
     "output_type": "display_data"
    }
   ],
   "source": [
    "fig = plt.figure()\n",
    "fig.suptitle('Algorithm Comparison')\n",
    "ax = fig.add_subplot(111)\n",
    "plt.boxplot(results)\n",
    "ax.set_xticklabels(names)\n",
    "plt.show()"
   ]
  },
  {
   "cell_type": "markdown",
   "metadata": {},
   "source": [
    "파라미터 튜닝 및 최종 모델 선택"
   ]
  },
  {
   "cell_type": "code",
   "execution_count": 79,
   "metadata": {},
   "outputs": [
    {
     "name": "stderr",
     "output_type": "stream",
     "text": [
      "c:\\Users\\wagar\\AppData\\Local\\Programs\\Python\\Python310\\lib\\site-packages\\sklearn\\model_selection\\_validation.py:372: FitFailedWarning: \n",
      "90 fits failed out of a total of 150.\n",
      "The score on these train-test partitions for these parameters will be set to nan.\n",
      "If these failures are not expected, you can try to debug them by setting error_score='raise'.\n",
      "\n",
      "Below are more details about the failures:\n",
      "--------------------------------------------------------------------------------\n",
      "90 fits failed with the following error:\n",
      "Traceback (most recent call last):\n",
      "  File \"c:\\Users\\wagar\\AppData\\Local\\Programs\\Python\\Python310\\lib\\site-packages\\sklearn\\model_selection\\_validation.py\", line 680, in _fit_and_score\n",
      "    estimator.fit(X_train, y_train, **fit_params)\n",
      "  File \"c:\\Users\\wagar\\AppData\\Local\\Programs\\Python\\Python310\\lib\\site-packages\\sklearn\\ensemble\\_forest.py\", line 450, in fit\n",
      "    trees = Parallel(\n",
      "  File \"c:\\Users\\wagar\\AppData\\Local\\Programs\\Python\\Python310\\lib\\site-packages\\joblib\\parallel.py\", line 1043, in __call__\n",
      "    if self.dispatch_one_batch(iterator):\n",
      "  File \"c:\\Users\\wagar\\AppData\\Local\\Programs\\Python\\Python310\\lib\\site-packages\\joblib\\parallel.py\", line 861, in dispatch_one_batch\n",
      "    self._dispatch(tasks)\n",
      "  File \"c:\\Users\\wagar\\AppData\\Local\\Programs\\Python\\Python310\\lib\\site-packages\\joblib\\parallel.py\", line 779, in _dispatch\n",
      "    job = self._backend.apply_async(batch, callback=cb)\n",
      "  File \"c:\\Users\\wagar\\AppData\\Local\\Programs\\Python\\Python310\\lib\\site-packages\\joblib\\_parallel_backends.py\", line 208, in apply_async\n",
      "    result = ImmediateResult(func)\n",
      "  File \"c:\\Users\\wagar\\AppData\\Local\\Programs\\Python\\Python310\\lib\\site-packages\\joblib\\_parallel_backends.py\", line 572, in __init__\n",
      "    self.results = batch()\n",
      "  File \"c:\\Users\\wagar\\AppData\\Local\\Programs\\Python\\Python310\\lib\\site-packages\\joblib\\parallel.py\", line 262, in __call__\n",
      "    return [func(*args, **kwargs)\n",
      "  File \"c:\\Users\\wagar\\AppData\\Local\\Programs\\Python\\Python310\\lib\\site-packages\\joblib\\parallel.py\", line 262, in <listcomp>\n",
      "    return [func(*args, **kwargs)\n",
      "  File \"c:\\Users\\wagar\\AppData\\Local\\Programs\\Python\\Python310\\lib\\site-packages\\sklearn\\utils\\fixes.py\", line 216, in __call__\n",
      "    return self.function(*args, **kwargs)\n",
      "  File \"c:\\Users\\wagar\\AppData\\Local\\Programs\\Python\\Python310\\lib\\site-packages\\sklearn\\ensemble\\_forest.py\", line 185, in _parallel_build_trees\n",
      "    tree.fit(X, y, sample_weight=curr_sample_weight, check_input=False)\n",
      "  File \"c:\\Users\\wagar\\AppData\\Local\\Programs\\Python\\Python310\\lib\\site-packages\\sklearn\\tree\\_classes.py\", line 1315, in fit\n",
      "    super().fit(\n",
      "  File \"c:\\Users\\wagar\\AppData\\Local\\Programs\\Python\\Python310\\lib\\site-packages\\sklearn\\tree\\_classes.py\", line 308, in fit\n",
      "    raise ValueError(\"max_features must be in (0, n_features]\")\n",
      "ValueError: max_features must be in (0, n_features]\n",
      "\n",
      "  warnings.warn(some_fits_failed_message, FitFailedWarning)\n",
      "c:\\Users\\wagar\\AppData\\Local\\Programs\\Python\\Python310\\lib\\site-packages\\sklearn\\model_selection\\_search.py:969: UserWarning: One or more of the test scores are non-finite: [0.99930999 0.99933856 0.99935124 0.99933131 0.99935044 0.99931562\n",
      " 0.99941625 0.99935248 0.99940073 0.99939272 0.99937953 0.99939515\n",
      "        nan        nan        nan        nan        nan        nan\n",
      "        nan        nan        nan        nan        nan        nan\n",
      "        nan        nan        nan        nan        nan        nan]\n",
      "  warnings.warn(\n"
     ]
    },
    {
     "name": "stdout",
     "output_type": "stream",
     "text": [
      "Best 0.999416 using {'max_features': 7, 'n_estimators': 50}\n",
      "0.999310 (0.000262) with {'max_features': 6, 'n_estimators': 50}\n",
      "0.999339 (0.000261) with {'max_features': 6, 'n_estimators': 60}\n",
      "0.999351 (0.000271) with {'max_features': 6, 'n_estimators': 70}\n",
      "0.999331 (0.000291) with {'max_features': 6, 'n_estimators': 80}\n",
      "0.999350 (0.000280) with {'max_features': 6, 'n_estimators': 90}\n",
      "0.999316 (0.000308) with {'max_features': 6, 'n_estimators': 100}\n",
      "0.999416 (0.000301) with {'max_features': 7, 'n_estimators': 50}\n",
      "0.999352 (0.000344) with {'max_features': 7, 'n_estimators': 60}\n",
      "0.999401 (0.000291) with {'max_features': 7, 'n_estimators': 70}\n",
      "0.999393 (0.000332) with {'max_features': 7, 'n_estimators': 80}\n",
      "0.999380 (0.000305) with {'max_features': 7, 'n_estimators': 90}\n",
      "0.999395 (0.000303) with {'max_features': 7, 'n_estimators': 100}\n",
      "nan (nan) with {'max_features': 8, 'n_estimators': 50}\n",
      "nan (nan) with {'max_features': 8, 'n_estimators': 60}\n",
      "nan (nan) with {'max_features': 8, 'n_estimators': 70}\n",
      "nan (nan) with {'max_features': 8, 'n_estimators': 80}\n",
      "nan (nan) with {'max_features': 8, 'n_estimators': 90}\n",
      "nan (nan) with {'max_features': 8, 'n_estimators': 100}\n",
      "nan (nan) with {'max_features': 9, 'n_estimators': 50}\n",
      "nan (nan) with {'max_features': 9, 'n_estimators': 60}\n",
      "nan (nan) with {'max_features': 9, 'n_estimators': 70}\n",
      "nan (nan) with {'max_features': 9, 'n_estimators': 80}\n",
      "nan (nan) with {'max_features': 9, 'n_estimators': 90}\n",
      "nan (nan) with {'max_features': 9, 'n_estimators': 100}\n",
      "nan (nan) with {'max_features': 10, 'n_estimators': 50}\n",
      "nan (nan) with {'max_features': 10, 'n_estimators': 60}\n",
      "nan (nan) with {'max_features': 10, 'n_estimators': 70}\n",
      "nan (nan) with {'max_features': 10, 'n_estimators': 80}\n",
      "nan (nan) with {'max_features': 10, 'n_estimators': 90}\n",
      "nan (nan) with {'max_features': 10, 'n_estimators': 100}\n"
     ]
    }
   ],
   "source": [
    "model = RandomForestRegressor()\n",
    "\n",
    "n_estimators_set = [50, 60, 70, 80, 90,100]\n",
    "max_features_set = [6,7,8,9,10]\n",
    "param_grid = dict(n_estimators=n_estimators_set,\n",
    "                  max_features = max_features_set)\n",
    "\n",
    "grid = GridSearchCV(estimator=model, param_grid=param_grid, cv=kfold)\n",
    "grid_result = grid.fit(X_train_scaled, y_train.values.ravel())\n",
    "print('Best %f using %s' %(grid_result.best_score_, grid_result.best_params_))\n",
    "\n",
    "a = grid_result.cv_results_\n",
    "\n",
    "for i in range(len(a['rank_test_score'])):\n",
    "    print('%f (%f) with %r' %(a['mean_test_score'][i], a['std_test_score'][i], a['params'][i]))"
   ]
  },
  {
   "cell_type": "code",
   "execution_count": 80,
   "metadata": {},
   "outputs": [
    {
     "name": "stdout",
     "output_type": "stream",
     "text": [
      "best_params :  {'max_features': 7, 'n_estimators': 50}\n"
     ]
    },
    {
     "data": {
      "text/plain": [
       "array([0.00000000e+00, 3.11881225e-02, 1.55534450e-04, 1.17918342e-04,\n",
       "       1.12877537e-01, 8.55651337e-01, 9.55124917e-06])"
      ]
     },
     "execution_count": 80,
     "metadata": {},
     "output_type": "execute_result"
    }
   ],
   "source": [
    "fine_tuned_RF = grid_result.best_estimator_\n",
    "print('best_params : ', grid_result.best_params_)\n",
    "fine_tuned_RF.feature_importances_"
   ]
  },
  {
   "cell_type": "code",
   "execution_count": 81,
   "metadata": {},
   "outputs": [
    {
     "data": {
      "text/html": [
       "<div>\n",
       "<style scoped>\n",
       "    .dataframe tbody tr th:only-of-type {\n",
       "        vertical-align: middle;\n",
       "    }\n",
       "\n",
       "    .dataframe tbody tr th {\n",
       "        vertical-align: top;\n",
       "    }\n",
       "\n",
       "    .dataframe thead th {\n",
       "        text-align: right;\n",
       "    }\n",
       "</style>\n",
       "<table border=\"1\" class=\"dataframe\">\n",
       "  <thead>\n",
       "    <tr style=\"text-align: right;\">\n",
       "      <th></th>\n",
       "      <th>col</th>\n",
       "      <th>F1</th>\n",
       "    </tr>\n",
       "  </thead>\n",
       "  <tbody>\n",
       "    <tr>\n",
       "      <th>5</th>\n",
       "      <td>Monetary</td>\n",
       "      <td>0.855651</td>\n",
       "    </tr>\n",
       "    <tr>\n",
       "      <th>4</th>\n",
       "      <td>Frequency</td>\n",
       "      <td>0.112878</td>\n",
       "    </tr>\n",
       "    <tr>\n",
       "      <th>1</th>\n",
       "      <td>temp</td>\n",
       "      <td>0.031188</td>\n",
       "    </tr>\n",
       "    <tr>\n",
       "      <th>2</th>\n",
       "      <td>humidity</td>\n",
       "      <td>0.000156</td>\n",
       "    </tr>\n",
       "    <tr>\n",
       "      <th>3</th>\n",
       "      <td>windspeed</td>\n",
       "      <td>0.000118</td>\n",
       "    </tr>\n",
       "    <tr>\n",
       "      <th>6</th>\n",
       "      <td>kmeans</td>\n",
       "      <td>0.000010</td>\n",
       "    </tr>\n",
       "    <tr>\n",
       "      <th>0</th>\n",
       "      <td>Intercept</td>\n",
       "      <td>0.000000</td>\n",
       "    </tr>\n",
       "  </tbody>\n",
       "</table>\n",
       "</div>"
      ],
      "text/plain": [
       "         col        F1\n",
       "5   Monetary  0.855651\n",
       "4  Frequency  0.112878\n",
       "1       temp  0.031188\n",
       "2   humidity  0.000156\n",
       "3  windspeed  0.000118\n",
       "6     kmeans  0.000010\n",
       "0  Intercept  0.000000"
      ]
     },
     "execution_count": 81,
     "metadata": {},
     "output_type": "execute_result"
    }
   ],
   "source": [
    "pd.DataFrame({'col':X_train_scaled.columns, 'F1': fine_tuned_RF.feature_importances_}).sort_values('F1',ascending=False)"
   ]
  },
  {
   "cell_type": "code",
   "execution_count": 82,
   "metadata": {},
   "outputs": [
    {
     "data": {
      "text/plain": [
       "<AxesSubplot:>"
      ]
     },
     "execution_count": 82,
     "metadata": {},
     "output_type": "execute_result"
    },
    {
     "data": {
      "image/png": "[encoded data removed]",
      "text/plain": [
       "<Figure size 432x288 with 1 Axes>"
      ]
     },
     "metadata": {
      "needs_background": "light"
     },
     "output_type": "display_data"
    }
   ],
   "source": [
    "importances = pd.Series(fine_tuned_RF.feature_importances_, index=X_train_scaled.columns)\n",
    "importances.plot(kind='bar')"
   ]
  },
  {
   "cell_type": "markdown",
   "metadata": {},
   "source": [
    "Test Set 활용하여 예측 수행"
   ]
  },
  {
   "cell_type": "code",
   "execution_count": 85,
   "metadata": {},
   "outputs": [
    {
     "name": "stdout",
     "output_type": "stream",
     "text": [
      "r2 :  0.9984117476488702\n",
      "mse :  52.40222667091917\n",
      "rmse :  7.238938228146388\n",
      "mape :  762.197744918165\n"
     ]
    }
   ],
   "source": [
    "y_pred = fine_tuned_RF.predict(X_test_scaled)\n",
    "\n",
    "from sklearn.metrics import mean_absolute_error, mean_squared_error, r2_score\n",
    "r2 = r2_score(np.expm1(y_test), np.expm1(y_pred))\n",
    "mse = mean_squared_error(np.expm1(y_test), np.expm1(y_pred))\n",
    "rmse = np.sqrt(mse)\n",
    "\n",
    "# MAPE\n",
    "def mp(y_test, y_pred):\n",
    "    y_test, y_pred = np.array(y_test), np.array(y_pred)\n",
    "    return np.mean(np.abs(y_test - y_pred) / y_test) * 100\n",
    "\n",
    "mape = mp(np.expm1(y_test), np.expm1(y_pred))\n",
    "\n",
    "print('r2 : ', r2)\n",
    "print('mse : ', mse)\n",
    "print('rmse : ', rmse)\n",
    "print('mape : ', mape)"
   ]
  },
  {
   "cell_type": "code",
   "execution_count": 86,
   "metadata": {},
   "outputs": [
    {
     "data": {
      "text/plain": [
       "(456, 1)"
      ]
     },
     "execution_count": 86,
     "metadata": {},
     "output_type": "execute_result"
    }
   ],
   "source": [
    "# 데이터를 2011년 8월 자료로만 줄임\n",
    "data = dfts[(dfts.index.year == 2011) & (dfts.index.month==8)]\n",
    "data.shape"
   ]
  },
  {
   "cell_type": "code",
   "execution_count": 87,
   "metadata": {},
   "outputs": [
    {
     "data": {
      "image/png": "[encoded data removed]",
      "text/plain": [
       "<Figure size 432x288 with 1 Axes>"
      ]
     },
     "metadata": {
      "needs_background": "light"
     },
     "output_type": "display_data"
    }
   ],
   "source": [
    "fig = data.plot()"
   ]
  },
  {
   "cell_type": "code",
   "execution_count": 88,
   "metadata": {},
   "outputs": [
    {
     "name": "stderr",
     "output_type": "stream",
     "text": [
      "c:\\Users\\wagar\\AppData\\Local\\Programs\\Python\\Python310\\lib\\site-packages\\statsmodels\\tsa\\seasonal.py:338: UserWarning: Glyph 8722 (\\N{MINUS SIGN}) missing from current font.\n",
      "  fig.tight_layout()\n",
      "c:\\Users\\wagar\\AppData\\Local\\Programs\\Python\\Python310\\lib\\site-packages\\IPython\\core\\pylabtools.py:151: UserWarning: Glyph 8722 (\\N{MINUS SIGN}) missing from current font.\n",
      "  fig.canvas.print_figure(bytes_io, **kw)\n"
     ]
    },
    {
     "data": {
      "image/png": "[encoded data removed]",
      "text/plain": [
       "<Figure size 720x720 with 4 Axes>"
      ]
     },
     "metadata": {
      "needs_background": "light"
     },
     "output_type": "display_data"
    }
   ],
   "source": [
    "decomposition = sm.tsa.seasonal_decompose(data['count'], model='additive', period=1)\n",
    "fig = decomposition.plot()\n",
    "fig.set_size_inches(10,10)\n",
    "plt.show()"
   ]
  },
  {
   "cell_type": "code",
   "execution_count": 89,
   "metadata": {},
   "outputs": [],
   "source": [
    "train_data, test_data = train_test_split(data, test_size=0.2, shuffle=False)"
   ]
  },
  {
   "cell_type": "code",
   "execution_count": 92,
   "metadata": {},
   "outputs": [
    {
     "name": "stderr",
     "output_type": "stream",
     "text": [
      "c:\\Users\\wagar\\AppData\\Local\\Programs\\Python\\Python310\\lib\\site-packages\\statsmodels\\graphics\\tsaplots.py:348: FutureWarning: The default method 'yw' can produce PACF values outside of the [-1,1] interval. After 0.13, the default will change tounadjusted Yule-Walker ('ywm'). You can use this method now by setting method='ywm'.\n",
      "  warnings.warn(\n",
      "c:\\Users\\wagar\\AppData\\Local\\Programs\\Python\\Python310\\lib\\site-packages\\IPython\\core\\pylabtools.py:151: UserWarning: Glyph 8722 (\\N{MINUS SIGN}) missing from current font.\n",
      "  fig.canvas.print_figure(bytes_io, **kw)\n"
     ]
    },
    {
     "data": {
      "image/png": "[encoded data removed]",
      "text/plain": [
       "<Figure size 720x360 with 2 Axes>"
      ]
     },
     "metadata": {
      "needs_background": "light"
     },
     "output_type": "display_data"
    }
   ],
   "source": [
    "fig, ax = plt.subplots(1,2, figsize=(10,5))\n",
    "fig.suptitle('Raw Data')\n",
    "\n",
    "sm.graphics.tsa.plot_acf(train_data.values.squeeze(), lags=30, ax = ax[0])\n",
    "sm.graphics.tsa.plot_pacf(train_data.values.squeeze(), lags=30, ax = ax[1])\n",
    "plt.show()"
   ]
  },
  {
   "cell_type": "markdown",
   "metadata": {},
   "source": [
    "ACF 그래프가 점진적으로 감소하는 것은 전형적인 None-Stationary 데이터이다. -> 즉, 정상성이 없음"
   ]
  },
  {
   "cell_type": "code",
   "execution_count": 93,
   "metadata": {},
   "outputs": [
    {
     "name": "stdout",
     "output_type": "stream",
     "text": [
      "----Raw data----\n",
      "                     count\n",
      "date                      \n",
      "2011-08-01 00:00:00   29.0\n",
      "2011-08-01 01:00:00   17.0\n",
      "2011-08-01 02:00:00   11.0\n",
      "2011-08-01 03:00:00    4.0\n",
      "2011-08-01 04:00:00    4.0\n",
      "...                    ...\n",
      "2011-08-15 23:00:00   88.0\n",
      "2011-08-16 00:00:00   31.0\n",
      "2011-08-16 01:00:00   16.0\n",
      "2011-08-16 02:00:00    4.0\n",
      "2011-08-16 03:00:00    6.0\n",
      "\n",
      "[364 rows x 1 columns]\n",
      "----Differenced Data----\n",
      "date\n",
      "2011-08-01 01:00:00   -12.0\n",
      "2011-08-01 02:00:00    -6.0\n",
      "2011-08-01 03:00:00    -7.0\n",
      "2011-08-01 04:00:00     0.0\n",
      "2011-08-01 05:00:00    22.0\n",
      "                       ... \n",
      "2011-08-15 23:00:00   -10.0\n",
      "2011-08-16 00:00:00   -57.0\n",
      "2011-08-16 01:00:00   -15.0\n",
      "2011-08-16 02:00:00   -12.0\n",
      "2011-08-16 03:00:00     2.0\n",
      "Name: count, Length: 363, dtype: float64\n"
     ]
    }
   ],
   "source": [
    "# Differencing\n",
    "\n",
    "diff_train_data = train_data.copy()\n",
    "diff_train_data = diff_train_data['count'].diff()\n",
    "diff_train_data = diff_train_data.dropna()\n",
    "\n",
    "print('----Raw data----')\n",
    "print(train_data)\n",
    "\n",
    "print('----Differenced Data----')\n",
    "print(diff_train_data)"
   ]
  },
  {
   "cell_type": "code",
   "execution_count": 94,
   "metadata": {},
   "outputs": [
    {
     "name": "stderr",
     "output_type": "stream",
     "text": [
      "c:\\Users\\wagar\\AppData\\Local\\Programs\\Python\\Python310\\lib\\site-packages\\IPython\\core\\pylabtools.py:151: UserWarning: Glyph 8722 (\\N{MINUS SIGN}) missing from current font.\n",
      "  fig.canvas.print_figure(bytes_io, **kw)\n"
     ]
    },
    {
     "data": {
      "image/png": "[encoded data removed]",
      "text/plain": [
       "<Figure size 864x576 with 2 Axes>"
      ]
     },
     "metadata": {
      "needs_background": "light"
     },
     "output_type": "display_data"
    }
   ],
   "source": [
    "plt.figure(figsize=(12,8))\n",
    "plt.subplot(211)\n",
    "plt.plot(train_data['count'])\n",
    "\n",
    "plt.subplot(212)\n",
    "plt.plot(diff_train_data,'orange')\n",
    "plt.legend(['Differenced Data (Stationary)'])\n",
    "plt.show()"
   ]
  },
  {
   "cell_type": "code",
   "execution_count": 96,
   "metadata": {},
   "outputs": [
    {
     "name": "stderr",
     "output_type": "stream",
     "text": [
      "c:\\Users\\wagar\\AppData\\Local\\Programs\\Python\\Python310\\lib\\site-packages\\statsmodels\\graphics\\tsaplots.py:348: FutureWarning: The default method 'yw' can produce PACF values outside of the [-1,1] interval. After 0.13, the default will change tounadjusted Yule-Walker ('ywm'). You can use this method now by setting method='ywm'.\n",
      "  warnings.warn(\n",
      "c:\\Users\\wagar\\AppData\\Local\\Programs\\Python\\Python310\\lib\\site-packages\\IPython\\core\\pylabtools.py:151: UserWarning: Glyph 8722 (\\N{MINUS SIGN}) missing from current font.\n",
      "  fig.canvas.print_figure(bytes_io, **kw)\n"
     ]
    },
    {
     "data": {
      "image/png": "[encoded data removed]",
      "text/plain": [
       "<Figure size 720x360 with 2 Axes>"
      ]
     },
     "metadata": {
      "needs_background": "light"
     },
     "output_type": "display_data"
    }
   ],
   "source": [
    "fig, ax = plt.subplots(1,2, figsize=(10,5))\n",
    "fig.suptitle('Differenced Data')\n",
    "\n",
    "sm.graphics.tsa.plot_acf(diff_train_data.values.squeeze(), lags=30, ax=ax[0])\n",
    "sm.graphics.tsa.plot_pacf(diff_train_data.values.squeeze(), lags=30, ax=ax[1])\n",
    "plt.show()"
   ]
  },
  {
   "cell_type": "markdown",
   "metadata": {},
   "source": [
    "기본 모델 생성"
   ]
  },
  {
   "cell_type": "code",
   "execution_count": 109,
   "metadata": {},
   "outputs": [
    {
     "data": {
      "text/html": [
       "<table class=\"simpletable\">\n",
       "<caption>SARIMAX Results</caption>\n",
       "<tr>\n",
       "  <th>Dep. Variable:</th>           <td>y</td>        <th>  No. Observations:  </th>    <td>364</td>   \n",
       "</tr>\n",
       "<tr>\n",
       "  <th>Model:</th>            <td>ARIMA(1, 1, 1)</td>  <th>  Log Likelihood     </th> <td>-2122.750</td>\n",
       "</tr>\n",
       "<tr>\n",
       "  <th>Date:</th>            <td>Sun, 21 Aug 2022</td> <th>  AIC                </th> <td>4251.501</td> \n",
       "</tr>\n",
       "<tr>\n",
       "  <th>Time:</th>                <td>16:38:41</td>     <th>  BIC                </th> <td>4263.184</td> \n",
       "</tr>\n",
       "<tr>\n",
       "  <th>Sample:</th>                  <td>0</td>        <th>  HQIC               </th> <td>4256.145</td> \n",
       "</tr>\n",
       "<tr>\n",
       "  <th></th>                      <td> - 364</td>      <th>                     </th>     <td> </td>    \n",
       "</tr>\n",
       "<tr>\n",
       "  <th>Covariance Type:</th>        <td>opg</td>       <th>                     </th>     <td> </td>    \n",
       "</tr>\n",
       "</table>\n",
       "<table class=\"simpletable\">\n",
       "<tr>\n",
       "     <td></td>       <th>coef</th>     <th>std err</th>      <th>z</th>      <th>P>|z|</th>  <th>[0.025</th>    <th>0.975]</th>  \n",
       "</tr>\n",
       "<tr>\n",
       "  <th>ar.L1</th>  <td>   -0.1120</td> <td>    0.104</td> <td>   -1.076</td> <td> 0.282</td> <td>   -0.316</td> <td>    0.092</td>\n",
       "</tr>\n",
       "<tr>\n",
       "  <th>ma.L1</th>  <td>    0.5537</td> <td>    0.097</td> <td>    5.735</td> <td> 0.000</td> <td>    0.364</td> <td>    0.743</td>\n",
       "</tr>\n",
       "<tr>\n",
       "  <th>sigma2</th> <td> 7023.6132</td> <td>  380.324</td> <td>   18.467</td> <td> 0.000</td> <td> 6278.193</td> <td> 7769.034</td>\n",
       "</tr>\n",
       "</table>\n",
       "<table class=\"simpletable\">\n",
       "<tr>\n",
       "  <th>Ljung-Box (L1) (Q):</th>     <td>0.02</td> <th>  Jarque-Bera (JB):  </th> <td>65.81</td>\n",
       "</tr>\n",
       "<tr>\n",
       "  <th>Prob(Q):</th>                <td>0.88</td> <th>  Prob(JB):          </th> <td>0.00</td> \n",
       "</tr>\n",
       "<tr>\n",
       "  <th>Heteroskedasticity (H):</th> <td>0.70</td> <th>  Skew:              </th> <td>-0.03</td>\n",
       "</tr>\n",
       "<tr>\n",
       "  <th>Prob(H) (two-sided):</th>    <td>0.05</td> <th>  Kurtosis:          </th> <td>5.09</td> \n",
       "</tr>\n",
       "</table><br/><br/>Warnings:<br/>[1] Covariance matrix calculated using the outer product of gradients (complex-step)."
      ],
      "text/plain": [
       "<class 'statsmodels.iolib.summary.Summary'>\n",
       "\"\"\"\n",
       "                               SARIMAX Results                                \n",
       "==============================================================================\n",
       "Dep. Variable:                      y   No. Observations:                  364\n",
       "Model:                 ARIMA(1, 1, 1)   Log Likelihood               -2122.750\n",
       "Date:                Sun, 21 Aug 2022   AIC                           4251.501\n",
       "Time:                        16:38:41   BIC                           4263.184\n",
       "Sample:                             0   HQIC                          4256.145\n",
       "                                - 364                                         \n",
       "Covariance Type:                  opg                                         \n",
       "==============================================================================\n",
       "                 coef    std err          z      P>|z|      [0.025      0.975]\n",
       "------------------------------------------------------------------------------\n",
       "ar.L1         -0.1120      0.104     -1.076      0.282      -0.316       0.092\n",
       "ma.L1          0.5537      0.097      5.735      0.000       0.364       0.743\n",
       "sigma2      7023.6132    380.324     18.467      0.000    6278.193    7769.034\n",
       "===================================================================================\n",
       "Ljung-Box (L1) (Q):                   0.02   Jarque-Bera (JB):                65.81\n",
       "Prob(Q):                              0.88   Prob(JB):                         0.00\n",
       "Heteroskedasticity (H):               0.70   Skew:                            -0.03\n",
       "Prob(H) (two-sided):                  0.05   Kurtosis:                         5.09\n",
       "===================================================================================\n",
       "\n",
       "Warnings:\n",
       "[1] Covariance matrix calculated using the outer product of gradients (complex-step).\n",
       "\"\"\""
      ]
     },
     "execution_count": 109,
     "metadata": {},
     "output_type": "execute_result"
    }
   ],
   "source": [
    "from statsmodels.tsa.arima.model import ARIMA\n",
    "\n",
    "model = sm.tsa.arima.ARIMA(train_data.values, order=(1,1,1))\n",
    "model_fit = model.fit()\n",
    "model_fit.summary()"
   ]
  },
  {
   "cell_type": "code",
   "execution_count": 110,
   "metadata": {},
   "outputs": [
    {
     "data": {
      "text/html": [
       "<table class=\"simpletable\">\n",
       "<caption>SARIMAX Results</caption>\n",
       "<tr>\n",
       "  <th>Dep. Variable:</th>           <td>y</td>        <th>  No. Observations:  </th>    <td>364</td>   \n",
       "</tr>\n",
       "<tr>\n",
       "  <th>Model:</th>            <td>ARIMA(0, 1, 1)</td>  <th>  Log Likelihood     </th> <td>-2123.377</td>\n",
       "</tr>\n",
       "<tr>\n",
       "  <th>Date:</th>            <td>Sun, 21 Aug 2022</td> <th>  AIC                </th> <td>4250.754</td> \n",
       "</tr>\n",
       "<tr>\n",
       "  <th>Time:</th>                <td>16:40:01</td>     <th>  BIC                </th> <td>4258.543</td> \n",
       "</tr>\n",
       "<tr>\n",
       "  <th>Sample:</th>                  <td>0</td>        <th>  HQIC               </th> <td>4253.850</td> \n",
       "</tr>\n",
       "<tr>\n",
       "  <th></th>                      <td> - 364</td>      <th>                     </th>     <td> </td>    \n",
       "</tr>\n",
       "<tr>\n",
       "  <th>Covariance Type:</th>        <td>opg</td>       <th>                     </th>     <td> </td>    \n",
       "</tr>\n",
       "</table>\n",
       "<table class=\"simpletable\">\n",
       "<tr>\n",
       "     <td></td>       <th>coef</th>     <th>std err</th>      <th>z</th>      <th>P>|z|</th>  <th>[0.025</th>    <th>0.975]</th>  \n",
       "</tr>\n",
       "<tr>\n",
       "  <th>ma.L1</th>  <td>    0.4724</td> <td>    0.041</td> <td>   11.602</td> <td> 0.000</td> <td>    0.393</td> <td>    0.552</td>\n",
       "</tr>\n",
       "<tr>\n",
       "  <th>sigma2</th> <td> 7047.6759</td> <td>  361.804</td> <td>   19.479</td> <td> 0.000</td> <td> 6338.552</td> <td> 7756.799</td>\n",
       "</tr>\n",
       "</table>\n",
       "<table class=\"simpletable\">\n",
       "<tr>\n",
       "  <th>Ljung-Box (L1) (Q):</th>     <td>0.33</td> <th>  Jarque-Bera (JB):  </th> <td>73.53</td>\n",
       "</tr>\n",
       "<tr>\n",
       "  <th>Prob(Q):</th>                <td>0.56</td> <th>  Prob(JB):          </th> <td>0.00</td> \n",
       "</tr>\n",
       "<tr>\n",
       "  <th>Heteroskedasticity (H):</th> <td>0.71</td> <th>  Skew:              </th> <td>-0.12</td>\n",
       "</tr>\n",
       "<tr>\n",
       "  <th>Prob(H) (two-sided):</th>    <td>0.06</td> <th>  Kurtosis:          </th> <td>5.19</td> \n",
       "</tr>\n",
       "</table><br/><br/>Warnings:<br/>[1] Covariance matrix calculated using the outer product of gradients (complex-step)."
      ],
      "text/plain": [
       "<class 'statsmodels.iolib.summary.Summary'>\n",
       "\"\"\"\n",
       "                               SARIMAX Results                                \n",
       "==============================================================================\n",
       "Dep. Variable:                      y   No. Observations:                  364\n",
       "Model:                 ARIMA(0, 1, 1)   Log Likelihood               -2123.377\n",
       "Date:                Sun, 21 Aug 2022   AIC                           4250.754\n",
       "Time:                        16:40:01   BIC                           4258.543\n",
       "Sample:                             0   HQIC                          4253.850\n",
       "                                - 364                                         \n",
       "Covariance Type:                  opg                                         \n",
       "==============================================================================\n",
       "                 coef    std err          z      P>|z|      [0.025      0.975]\n",
       "------------------------------------------------------------------------------\n",
       "ma.L1          0.4724      0.041     11.602      0.000       0.393       0.552\n",
       "sigma2      7047.6759    361.804     19.479      0.000    6338.552    7756.799\n",
       "===================================================================================\n",
       "Ljung-Box (L1) (Q):                   0.33   Jarque-Bera (JB):                73.53\n",
       "Prob(Q):                              0.56   Prob(JB):                         0.00\n",
       "Heteroskedasticity (H):               0.71   Skew:                            -0.12\n",
       "Prob(H) (two-sided):                  0.06   Kurtosis:                         5.19\n",
       "===================================================================================\n",
       "\n",
       "Warnings:\n",
       "[1] Covariance matrix calculated using the outer product of gradients (complex-step).\n",
       "\"\"\""
      ]
     },
     "execution_count": 110,
     "metadata": {},
     "output_type": "execute_result"
    }
   ],
   "source": [
    "model = ARIMA(train_data.values, order=(0,1,1))\n",
    "model_fit = model.fit()\n",
    "model_fit.summary()"
   ]
  },
  {
   "cell_type": "markdown",
   "metadata": {},
   "source": [
    "최적 모델 탐색"
   ]
  },
  {
   "cell_type": "code",
   "execution_count": 111,
   "metadata": {},
   "outputs": [
    {
     "name": "stdout",
     "output_type": "stream",
     "text": [
      "Examples of parameter combinations for Seasonal ARIMA...\n"
     ]
    },
    {
     "data": {
      "text/plain": [
       "[(0, 1, 0),\n",
       " (0, 1, 1),\n",
       " (0, 1, 2),\n",
       " (1, 1, 0),\n",
       " (1, 1, 1),\n",
       " (1, 1, 2),\n",
       " (2, 1, 0),\n",
       " (2, 1, 1),\n",
       " (2, 1, 2)]"
      ]
     },
     "execution_count": 111,
     "metadata": {},
     "output_type": "execute_result"
    }
   ],
   "source": [
    "print('Examples of parameter combinations for Seasonal ARIMA...')\n",
    "p = range(0,3)\n",
    "d = range(1,2)\n",
    "q = range(0,3)\n",
    "\n",
    "pdq = list(itertools.product(p,d,q))\n",
    "pdq"
   ]
  },
  {
   "cell_type": "code",
   "execution_count": 113,
   "metadata": {},
   "outputs": [
    {
     "name": "stdout",
     "output_type": "stream",
     "text": [
      "ARIMA : (0, 1, 0) >> AIC : 4313.04\n",
      "ARIMA : (0, 1, 1) >> AIC : 4250.75\n",
      "ARIMA : (0, 1, 2) >> AIC : 4250.07\n",
      "ARIMA : (1, 1, 0) >> AIC : 4277.77\n",
      "ARIMA : (1, 1, 1) >> AIC : 4251.5\n",
      "ARIMA : (1, 1, 2) >> AIC : 4196.09\n",
      "ARIMA : (2, 1, 0) >> AIC : 4236.56\n",
      "ARIMA : (2, 1, 1) >> AIC : 4238.4\n",
      "ARIMA : (2, 1, 2) >> AIC : 4192.68\n"
     ]
    }
   ],
   "source": [
    "aic = []\n",
    "for i in pdq:\n",
    "    model = ARIMA(train_data.values, order=(i))\n",
    "    model_fit = model.fit()\n",
    "    print(f'ARIMA : {i} >> AIC : {round(model_fit.aic,2)}')\n",
    "    aic.append(round(model_fit.aic,2))"
   ]
  },
  {
   "cell_type": "code",
   "execution_count": 114,
   "metadata": {},
   "outputs": [
    {
     "data": {
      "text/plain": [
       "[((2, 1, 2), 4192.68)]"
      ]
     },
     "execution_count": 114,
     "metadata": {},
     "output_type": "execute_result"
    }
   ],
   "source": [
    "# Search optimal parameters\n",
    "\n",
    "optimal = [(pdq[i], j) for i , j in enumerate(aic) if j == min(aic)]\n",
    "optimal"
   ]
  },
  {
   "cell_type": "code",
   "execution_count": 116,
   "metadata": {},
   "outputs": [
    {
     "data": {
      "text/html": [
       "<table class=\"simpletable\">\n",
       "<caption>SARIMAX Results</caption>\n",
       "<tr>\n",
       "  <th>Dep. Variable:</th>           <td>y</td>        <th>  No. Observations:  </th>    <td>364</td>   \n",
       "</tr>\n",
       "<tr>\n",
       "  <th>Model:</th>            <td>ARIMA(2, 1, 2)</td>  <th>  Log Likelihood     </th> <td>-2091.341</td>\n",
       "</tr>\n",
       "<tr>\n",
       "  <th>Date:</th>            <td>Sun, 21 Aug 2022</td> <th>  AIC                </th> <td>4192.681</td> \n",
       "</tr>\n",
       "<tr>\n",
       "  <th>Time:</th>                <td>16:45:00</td>     <th>  BIC                </th> <td>4212.153</td> \n",
       "</tr>\n",
       "<tr>\n",
       "  <th>Sample:</th>                  <td>0</td>        <th>  HQIC               </th> <td>4200.421</td> \n",
       "</tr>\n",
       "<tr>\n",
       "  <th></th>                      <td> - 364</td>      <th>                     </th>     <td> </td>    \n",
       "</tr>\n",
       "<tr>\n",
       "  <th>Covariance Type:</th>        <td>opg</td>       <th>                     </th>     <td> </td>    \n",
       "</tr>\n",
       "</table>\n",
       "<table class=\"simpletable\">\n",
       "<tr>\n",
       "     <td></td>       <th>coef</th>     <th>std err</th>      <th>z</th>      <th>P>|z|</th>  <th>[0.025</th>    <th>0.975]</th>  \n",
       "</tr>\n",
       "<tr>\n",
       "  <th>ar.L1</th>  <td>    0.8789</td> <td>    0.117</td> <td>    7.508</td> <td> 0.000</td> <td>    0.649</td> <td>    1.108</td>\n",
       "</tr>\n",
       "<tr>\n",
       "  <th>ar.L2</th>  <td>   -0.2174</td> <td>    0.122</td> <td>   -1.783</td> <td> 0.075</td> <td>   -0.456</td> <td>    0.022</td>\n",
       "</tr>\n",
       "<tr>\n",
       "  <th>ma.L1</th>  <td>   -0.6175</td> <td>    0.890</td> <td>   -0.694</td> <td> 0.488</td> <td>   -2.361</td> <td>    1.126</td>\n",
       "</tr>\n",
       "<tr>\n",
       "  <th>ma.L2</th>  <td>   -0.3823</td> <td>    0.355</td> <td>   -1.078</td> <td> 0.281</td> <td>   -1.077</td> <td>    0.313</td>\n",
       "</tr>\n",
       "<tr>\n",
       "  <th>sigma2</th> <td> 5835.9461</td> <td> 4953.625</td> <td>    1.178</td> <td> 0.239</td> <td>-3872.981</td> <td> 1.55e+04</td>\n",
       "</tr>\n",
       "</table>\n",
       "<table class=\"simpletable\">\n",
       "<tr>\n",
       "  <th>Ljung-Box (L1) (Q):</th>     <td>0.00</td> <th>  Jarque-Bera (JB):  </th> <td>113.54</td>\n",
       "</tr>\n",
       "<tr>\n",
       "  <th>Prob(Q):</th>                <td>0.99</td> <th>  Prob(JB):          </th>  <td>0.00</td> \n",
       "</tr>\n",
       "<tr>\n",
       "  <th>Heteroskedasticity (H):</th> <td>0.76</td> <th>  Skew:              </th>  <td>0.67</td> \n",
       "</tr>\n",
       "<tr>\n",
       "  <th>Prob(H) (two-sided):</th>    <td>0.13</td> <th>  Kurtosis:          </th>  <td>5.38</td> \n",
       "</tr>\n",
       "</table><br/><br/>Warnings:<br/>[1] Covariance matrix calculated using the outer product of gradients (complex-step)."
      ],
      "text/plain": [
       "<class 'statsmodels.iolib.summary.Summary'>\n",
       "\"\"\"\n",
       "                               SARIMAX Results                                \n",
       "==============================================================================\n",
       "Dep. Variable:                      y   No. Observations:                  364\n",
       "Model:                 ARIMA(2, 1, 2)   Log Likelihood               -2091.341\n",
       "Date:                Sun, 21 Aug 2022   AIC                           4192.681\n",
       "Time:                        16:45:00   BIC                           4212.153\n",
       "Sample:                             0   HQIC                          4200.421\n",
       "                                - 364                                         \n",
       "Covariance Type:                  opg                                         \n",
       "==============================================================================\n",
       "                 coef    std err          z      P>|z|      [0.025      0.975]\n",
       "------------------------------------------------------------------------------\n",
       "ar.L1          0.8789      0.117      7.508      0.000       0.649       1.108\n",
       "ar.L2         -0.2174      0.122     -1.783      0.075      -0.456       0.022\n",
       "ma.L1         -0.6175      0.890     -0.694      0.488      -2.361       1.126\n",
       "ma.L2         -0.3823      0.355     -1.078      0.281      -1.077       0.313\n",
       "sigma2      5835.9461   4953.625      1.178      0.239   -3872.981    1.55e+04\n",
       "===================================================================================\n",
       "Ljung-Box (L1) (Q):                   0.00   Jarque-Bera (JB):               113.54\n",
       "Prob(Q):                              0.99   Prob(JB):                         0.00\n",
       "Heteroskedasticity (H):               0.76   Skew:                             0.67\n",
       "Prob(H) (two-sided):                  0.13   Kurtosis:                         5.38\n",
       "===================================================================================\n",
       "\n",
       "Warnings:\n",
       "[1] Covariance matrix calculated using the outer product of gradients (complex-step).\n",
       "\"\"\""
      ]
     },
     "execution_count": 116,
     "metadata": {},
     "output_type": "execute_result"
    }
   ],
   "source": [
    "model_opt = ARIMA(train_data.values, order=optimal[0][0])\n",
    "model_opt_fit = model_opt.fit()\n",
    "model_opt_fit.summary()"
   ]
  },
  {
   "cell_type": "code",
   "execution_count": 121,
   "metadata": {},
   "outputs": [
    {
     "data": {
      "text/plain": [
       "0.016509773509415737"
      ]
     },
     "execution_count": 121,
     "metadata": {},
     "output_type": "execute_result"
    }
   ],
   "source": [
    "prediction = model_opt_fit.forecast(len(test_data))\n",
    "\n",
    "r2 = r2_score(test_data, prediction)\n",
    "r2"
   ]
  },
  {
   "cell_type": "code",
   "execution_count": 122,
   "metadata": {},
   "outputs": [
    {
     "data": {
      "image/png": "[encoded data removed]",
      "text/plain": [
       "<Figure size 864x432 with 1 Axes>"
      ]
     },
     "metadata": {
      "needs_background": "light"
     },
     "output_type": "display_data"
    }
   ],
   "source": [
    "fig, ax = plt.subplots(figsize=(12,6))\n",
    "\n",
    "ax.plot(test_data.index, prediction, color='orange', label='Prediction')\n",
    "\n",
    "data.plot(ax=ax);\n",
    "plt.show()"
   ]
  },
  {
   "cell_type": "code",
   "execution_count": 123,
   "metadata": {},
   "outputs": [
    {
     "data": {
      "text/plain": [
       "20979.468639215454"
      ]
     },
     "execution_count": 123,
     "metadata": {},
     "output_type": "execute_result"
    }
   ],
   "source": [
    "mean_squared_error(test_data, prediction)"
   ]
  },
  {
   "cell_type": "code",
   "execution_count": 125,
   "metadata": {},
   "outputs": [
    {
     "data": {
      "text/plain": [
       "108.09912524083343"
      ]
     },
     "execution_count": 125,
     "metadata": {},
     "output_type": "execute_result"
    }
   ],
   "source": [
    "mae = mean_absolute_error(test_data, prediction)\n",
    "mae"
   ]
  },
  {
   "cell_type": "markdown",
   "metadata": {},
   "source": [
    "계절성 반영 시 SARIMA 모델링"
   ]
  },
  {
   "cell_type": "code",
   "execution_count": 126,
   "metadata": {},
   "outputs": [
    {
     "name": "stdout",
     "output_type": "stream",
     "text": [
      "Examples of parameter combinations for Seasoanal ARIMA...\n"
     ]
    },
    {
     "data": {
      "text/plain": [
       "[(0, 1, 0, 7),\n",
       " (0, 1, 1, 7),\n",
       " (0, 1, 2, 7),\n",
       " (1, 1, 0, 7),\n",
       " (1, 1, 1, 7),\n",
       " (1, 1, 2, 7),\n",
       " (2, 1, 0, 7),\n",
       " (2, 1, 1, 7),\n",
       " (2, 1, 2, 7)]"
      ]
     },
     "execution_count": 126,
     "metadata": {},
     "output_type": "execute_result"
    }
   ],
   "source": [
    "print(\"Examples of parameter combinations for Seasoanal ARIMA...\")\n",
    "p = range(0,3)\n",
    "d = range(1,2)\n",
    "q = range(0,3)\n",
    "\n",
    "pdq = list(itertools.product(p,d,q))\n",
    "seasonal_pdq = [(x[0], x[1], x[2], 7) for x in itertools.product(p,d,q)]\n",
    "seasonal_pdq"
   ]
  },
  {
   "cell_type": "code",
   "execution_count": 127,
   "metadata": {},
   "outputs": [
    {
     "name": "stdout",
     "output_type": "stream",
     "text": [
      "SARIMA : (0, 1, 0)(0, 1, 0, 7) >> AIC : 4572.25\n",
      "SARIMA : (0, 1, 0)(0, 1, 1, 7) >> AIC : 4261.5\n",
      "SARIMA : (0, 1, 0)(0, 1, 2, 7) >> AIC : 4236.78\n",
      "SARIMA : (0, 1, 0)(1, 1, 0, 7) >> AIC : 4346.58\n",
      "SARIMA : (0, 1, 0)(1, 1, 1, 7) >> AIC : 4230.88\n",
      "SARIMA : (0, 1, 0)(1, 1, 2, 7) >> AIC : 4227.12\n",
      "SARIMA : (0, 1, 0)(2, 1, 0, 7) >> AIC : 4324.8\n",
      "SARIMA : (0, 1, 0)(2, 1, 1, 7) >> AIC : 4228.58\n",
      "SARIMA : (0, 1, 0)(2, 1, 2, 7) >> AIC : 4228.98\n",
      "SARIMA : (0, 1, 1)(0, 1, 0, 7) >> AIC : 4472.44\n",
      "SARIMA : (0, 1, 1)(0, 1, 1, 7) >> AIC : 4197.85\n",
      "SARIMA : (0, 1, 1)(0, 1, 2, 7) >> AIC : 4190.14\n",
      "SARIMA : (0, 1, 1)(1, 1, 0, 7) >> AIC : 4286.48\n",
      "SARIMA : (0, 1, 1)(1, 1, 1, 7) >> AIC : 4187.24\n",
      "SARIMA : (0, 1, 1)(1, 1, 2, 7) >> AIC : 4196.09\n",
      "SARIMA : (0, 1, 1)(2, 1, 0, 7) >> AIC : 4268.11\n",
      "SARIMA : (0, 1, 1)(2, 1, 1, 7) >> AIC : 4182.24\n",
      "SARIMA : (0, 1, 1)(2, 1, 2, 7) >> AIC : 4189.68\n",
      "SARIMA : (0, 1, 2)(0, 1, 0, 7) >> AIC : 4474.17\n",
      "SARIMA : (0, 1, 2)(0, 1, 1, 7) >> AIC : 4197.96\n",
      "SARIMA : (0, 1, 2)(0, 1, 2, 7) >> AIC : 4188.07\n",
      "SARIMA : (0, 1, 2)(1, 1, 0, 7) >> AIC : 4288.25\n",
      "SARIMA : (0, 1, 2)(1, 1, 1, 7) >> AIC : 4185.4\n",
      "SARIMA : (0, 1, 2)(1, 1, 2, 7) >> AIC : 4194.15\n",
      "SARIMA : (0, 1, 2)(2, 1, 0, 7) >> AIC : 4270.03\n",
      "SARIMA : (0, 1, 2)(2, 1, 1, 7) >> AIC : 4182.81\n",
      "SARIMA : (0, 1, 2)(2, 1, 2, 7) >> AIC : 4186.93\n",
      "SARIMA : (1, 1, 0)(0, 1, 0, 7) >> AIC : 4519.98\n",
      "SARIMA : (1, 1, 0)(0, 1, 1, 7) >> AIC : 4224.81\n",
      "SARIMA : (1, 1, 0)(0, 1, 2, 7) >> AIC : 4210.56\n",
      "SARIMA : (1, 1, 0)(1, 1, 0, 7) >> AIC : 4297.35\n",
      "SARIMA : (1, 1, 0)(1, 1, 1, 7) >> AIC : 4205.15\n",
      "SARIMA : (1, 1, 0)(1, 1, 2, 7) >> AIC : 4220.77\n",
      "SARIMA : (1, 1, 0)(2, 1, 0, 7) >> AIC : 4282.27\n",
      "SARIMA : (1, 1, 0)(2, 1, 1, 7) >> AIC : 4197.44\n"
     ]
    },
    {
     "name": "stderr",
     "output_type": "stream",
     "text": [
      "c:\\Users\\wagar\\AppData\\Local\\Programs\\Python\\Python310\\lib\\site-packages\\statsmodels\\base\\model.py:604: ConvergenceWarning: Maximum Likelihood optimization failed to converge. Check mle_retvals\n",
      "  warnings.warn(\"Maximum Likelihood optimization failed to \"\n"
     ]
    },
    {
     "name": "stdout",
     "output_type": "stream",
     "text": [
      "SARIMA : (1, 1, 0)(2, 1, 2, 7) >> AIC : 4207.76\n",
      "SARIMA : (1, 1, 1)(0, 1, 0, 7) >> AIC : 4474.34\n",
      "SARIMA : (1, 1, 1)(0, 1, 1, 7) >> AIC : 4198.97\n",
      "SARIMA : (1, 1, 1)(0, 1, 2, 7) >> AIC : 4190.22\n",
      "SARIMA : (1, 1, 1)(1, 1, 0, 7) >> AIC : 4288.31\n",
      "SARIMA : (1, 1, 1)(1, 1, 1, 7) >> AIC : 4187.32\n",
      "SARIMA : (1, 1, 1)(1, 1, 2, 7) >> AIC : 4196.35\n",
      "SARIMA : (1, 1, 1)(2, 1, 0, 7) >> AIC : 4270.07\n",
      "SARIMA : (1, 1, 1)(2, 1, 1, 7) >> AIC : 4183.45\n",
      "SARIMA : (1, 1, 1)(2, 1, 2, 7) >> AIC : 4189.44\n",
      "SARIMA : (1, 1, 2)(0, 1, 0, 7) >> AIC : 4421.86\n",
      "SARIMA : (1, 1, 2)(0, 1, 1, 7) >> AIC : 4150.66\n",
      "SARIMA : (1, 1, 2)(0, 1, 2, 7) >> AIC : 4141.32\n",
      "SARIMA : (1, 1, 2)(1, 1, 0, 7) >> AIC : 4287.23\n",
      "SARIMA : (1, 1, 2)(1, 1, 1, 7) >> AIC : 4139.87\n"
     ]
    },
    {
     "name": "stderr",
     "output_type": "stream",
     "text": [
      "c:\\Users\\wagar\\AppData\\Local\\Programs\\Python\\Python310\\lib\\site-packages\\statsmodels\\base\\model.py:604: ConvergenceWarning: Maximum Likelihood optimization failed to converge. Check mle_retvals\n",
      "  warnings.warn(\"Maximum Likelihood optimization failed to \"\n"
     ]
    },
    {
     "name": "stdout",
     "output_type": "stream",
     "text": [
      "SARIMA : (1, 1, 2)(1, 1, 2, 7) >> AIC : 4141.33\n",
      "SARIMA : (1, 1, 2)(2, 1, 0, 7) >> AIC : 4226.17\n",
      "SARIMA : (1, 1, 2)(2, 1, 1, 7) >> AIC : 4140.72\n"
     ]
    },
    {
     "name": "stderr",
     "output_type": "stream",
     "text": [
      "c:\\Users\\wagar\\AppData\\Local\\Programs\\Python\\Python310\\lib\\site-packages\\statsmodels\\base\\model.py:604: ConvergenceWarning: Maximum Likelihood optimization failed to converge. Check mle_retvals\n",
      "  warnings.warn(\"Maximum Likelihood optimization failed to \"\n"
     ]
    },
    {
     "name": "stdout",
     "output_type": "stream",
     "text": [
      "SARIMA : (1, 1, 2)(2, 1, 2, 7) >> AIC : 4142.33\n",
      "SARIMA : (2, 1, 0)(0, 1, 0, 7) >> AIC : 4449.53\n",
      "SARIMA : (2, 1, 0)(0, 1, 1, 7) >> AIC : 4183.9\n",
      "SARIMA : (2, 1, 0)(0, 1, 2, 7) >> AIC : 4177.57\n",
      "SARIMA : (2, 1, 0)(1, 1, 0, 7) >> AIC : 4284.58\n",
      "SARIMA : (2, 1, 0)(1, 1, 1, 7) >> AIC : 4175.94\n",
      "SARIMA : (2, 1, 0)(1, 1, 2, 7) >> AIC : 4182.55\n",
      "SARIMA : (2, 1, 0)(2, 1, 0, 7) >> AIC : 4256.46\n",
      "SARIMA : (2, 1, 0)(2, 1, 1, 7) >> AIC : 4175.27\n"
     ]
    },
    {
     "name": "stderr",
     "output_type": "stream",
     "text": [
      "c:\\Users\\wagar\\AppData\\Local\\Programs\\Python\\Python310\\lib\\site-packages\\statsmodels\\base\\model.py:604: ConvergenceWarning: Maximum Likelihood optimization failed to converge. Check mle_retvals\n",
      "  warnings.warn(\"Maximum Likelihood optimization failed to \"\n"
     ]
    },
    {
     "name": "stdout",
     "output_type": "stream",
     "text": [
      "SARIMA : (2, 1, 0)(2, 1, 2, 7) >> AIC : 4179.2\n",
      "SARIMA : (2, 1, 1)(0, 1, 0, 7) >> AIC : 4450.49\n",
      "SARIMA : (2, 1, 1)(0, 1, 1, 7) >> AIC : 4185.62\n",
      "SARIMA : (2, 1, 1)(0, 1, 2, 7) >> AIC : 4145.43\n",
      "SARIMA : (2, 1, 1)(1, 1, 0, 7) >> AIC : 4245.92\n",
      "SARIMA : (2, 1, 1)(1, 1, 1, 7) >> AIC : 4142.92\n",
      "SARIMA : (2, 1, 1)(1, 1, 2, 7) >> AIC : 4162.64\n"
     ]
    },
    {
     "name": "stderr",
     "output_type": "stream",
     "text": [
      "c:\\Users\\wagar\\AppData\\Local\\Programs\\Python\\Python310\\lib\\site-packages\\statsmodels\\base\\model.py:604: ConvergenceWarning: Maximum Likelihood optimization failed to converge. Check mle_retvals\n",
      "  warnings.warn(\"Maximum Likelihood optimization failed to \"\n"
     ]
    },
    {
     "name": "stdout",
     "output_type": "stream",
     "text": [
      "SARIMA : (2, 1, 1)(2, 1, 0, 7) >> AIC : 4220.79\n",
      "SARIMA : (2, 1, 1)(2, 1, 1, 7) >> AIC : 4142.27\n",
      "SARIMA : (2, 1, 1)(2, 1, 2, 7) >> AIC : 4142.98\n",
      "SARIMA : (2, 1, 2)(0, 1, 0, 7) >> AIC : 4388.5\n"
     ]
    },
    {
     "name": "stderr",
     "output_type": "stream",
     "text": [
      "c:\\Users\\wagar\\AppData\\Local\\Programs\\Python\\Python310\\lib\\site-packages\\statsmodels\\base\\model.py:604: ConvergenceWarning: Maximum Likelihood optimization failed to converge. Check mle_retvals\n",
      "  warnings.warn(\"Maximum Likelihood optimization failed to \"\n"
     ]
    },
    {
     "name": "stdout",
     "output_type": "stream",
     "text": [
      "SARIMA : (2, 1, 2)(0, 1, 1, 7) >> AIC : 4181.84\n",
      "SARIMA : (2, 1, 2)(0, 1, 2, 7) >> AIC : 4170.11\n"
     ]
    },
    {
     "name": "stderr",
     "output_type": "stream",
     "text": [
      "c:\\Users\\wagar\\AppData\\Local\\Programs\\Python\\Python310\\lib\\site-packages\\statsmodels\\base\\model.py:604: ConvergenceWarning: Maximum Likelihood optimization failed to converge. Check mle_retvals\n",
      "  warnings.warn(\"Maximum Likelihood optimization failed to \"\n"
     ]
    },
    {
     "name": "stdout",
     "output_type": "stream",
     "text": [
      "SARIMA : (2, 1, 2)(1, 1, 0, 7) >> AIC : 4246.16\n",
      "SARIMA : (2, 1, 2)(1, 1, 1, 7) >> AIC : 4165.27\n",
      "SARIMA : (2, 1, 2)(1, 1, 2, 7) >> AIC : 4150.5\n",
      "SARIMA : (2, 1, 2)(2, 1, 0, 7) >> AIC : 4253.74\n",
      "SARIMA : (2, 1, 2)(2, 1, 1, 7) >> AIC : 4153.63\n",
      "SARIMA : (2, 1, 2)(2, 1, 2, 7) >> AIC : 4139.82\n"
     ]
    }
   ],
   "source": [
    "aic = []\n",
    "params = []\n",
    "\n",
    "for i in pdq:\n",
    "    for j in seasonal_pdq:\n",
    "        try:\n",
    "            model = SARIMAX(train_data.values, order=(i), seasonal_order=(j))\n",
    "            model_fit = model.fit()\n",
    "            print(f'SARIMA : {i}{j} >> AIC : {round(model_fit.aic,2)}')\n",
    "            aic.append(round(model_fit.aic,2))\n",
    "            params.append((i,j))\n",
    "            \n",
    "        except:\n",
    "            continue"
   ]
  },
  {
   "cell_type": "code",
   "execution_count": 128,
   "metadata": {},
   "outputs": [
    {
     "data": {
      "text/plain": [
       "[(((2, 1, 2), (2, 1, 2, 7)), 4139.82)]"
      ]
     },
     "execution_count": 128,
     "metadata": {},
     "output_type": "execute_result"
    }
   ],
   "source": [
    "optimal = [(params[i],j) for i,j in enumerate(aic) if j == min(aic)]\n",
    "optimal"
   ]
  },
  {
   "cell_type": "code",
   "execution_count": 129,
   "metadata": {},
   "outputs": [
    {
     "data": {
      "text/html": [
       "<table class=\"simpletable\">\n",
       "<caption>SARIMAX Results</caption>\n",
       "<tr>\n",
       "  <th>Dep. Variable:</th>                 <td>y</td>               <th>  No. Observations:  </th>    <td>364</td>   \n",
       "</tr>\n",
       "<tr>\n",
       "  <th>Model:</th>           <td>SARIMAX(2, 1, 2)x(2, 1, 2, 7)</td> <th>  Log Likelihood     </th> <td>-2060.909</td>\n",
       "</tr>\n",
       "<tr>\n",
       "  <th>Date:</th>                  <td>Sun, 21 Aug 2022</td>        <th>  AIC                </th> <td>4139.819</td> \n",
       "</tr>\n",
       "<tr>\n",
       "  <th>Time:</th>                      <td>17:03:13</td>            <th>  BIC                </th> <td>4174.693</td> \n",
       "</tr>\n",
       "<tr>\n",
       "  <th>Sample:</th>                        <td>0</td>               <th>  HQIC               </th> <td>4153.691</td> \n",
       "</tr>\n",
       "<tr>\n",
       "  <th></th>                            <td> - 364</td>             <th>                     </th>     <td> </td>    \n",
       "</tr>\n",
       "<tr>\n",
       "  <th>Covariance Type:</th>              <td>opg</td>              <th>                     </th>     <td> </td>    \n",
       "</tr>\n",
       "</table>\n",
       "<table class=\"simpletable\">\n",
       "<tr>\n",
       "      <td></td>        <th>coef</th>     <th>std err</th>      <th>z</th>      <th>P>|z|</th>  <th>[0.025</th>    <th>0.975]</th>  \n",
       "</tr>\n",
       "<tr>\n",
       "  <th>ar.L1</th>    <td>    0.9201</td> <td>    0.135</td> <td>    6.834</td> <td> 0.000</td> <td>    0.656</td> <td>    1.184</td>\n",
       "</tr>\n",
       "<tr>\n",
       "  <th>ar.L2</th>    <td>   -0.2209</td> <td>    0.131</td> <td>   -1.682</td> <td> 0.092</td> <td>   -0.478</td> <td>    0.036</td>\n",
       "</tr>\n",
       "<tr>\n",
       "  <th>ma.L1</th>    <td>   -0.6882</td> <td>    2.654</td> <td>   -0.259</td> <td> 0.795</td> <td>   -5.889</td> <td>    4.513</td>\n",
       "</tr>\n",
       "<tr>\n",
       "  <th>ma.L2</th>    <td>   -0.3115</td> <td>    0.873</td> <td>   -0.357</td> <td> 0.721</td> <td>   -2.023</td> <td>    1.400</td>\n",
       "</tr>\n",
       "<tr>\n",
       "  <th>ar.S.L7</th>  <td>   -0.6366</td> <td>    0.572</td> <td>   -1.112</td> <td> 0.266</td> <td>   -1.759</td> <td>    0.485</td>\n",
       "</tr>\n",
       "<tr>\n",
       "  <th>ar.S.L14</th> <td>   -0.0065</td> <td>    0.146</td> <td>   -0.045</td> <td> 0.964</td> <td>   -0.293</td> <td>    0.279</td>\n",
       "</tr>\n",
       "<tr>\n",
       "  <th>ma.S.L7</th>  <td>   -0.5230</td> <td>    0.777</td> <td>   -0.674</td> <td> 0.501</td> <td>   -2.045</td> <td>    0.999</td>\n",
       "</tr>\n",
       "<tr>\n",
       "  <th>ma.S.L14</th> <td>   -0.4729</td> <td>    0.587</td> <td>   -0.806</td> <td> 0.420</td> <td>   -1.623</td> <td>    0.677</td>\n",
       "</tr>\n",
       "<tr>\n",
       "  <th>sigma2</th>   <td> 5610.2944</td> <td> 1.45e+04</td> <td>    0.386</td> <td> 0.700</td> <td>-2.29e+04</td> <td> 3.41e+04</td>\n",
       "</tr>\n",
       "</table>\n",
       "<table class=\"simpletable\">\n",
       "<tr>\n",
       "  <th>Ljung-Box (L1) (Q):</th>     <td>0.03</td> <th>  Jarque-Bera (JB):  </th> <td>124.42</td>\n",
       "</tr>\n",
       "<tr>\n",
       "  <th>Prob(Q):</th>                <td>0.86</td> <th>  Prob(JB):          </th>  <td>0.00</td> \n",
       "</tr>\n",
       "<tr>\n",
       "  <th>Heteroskedasticity (H):</th> <td>0.77</td> <th>  Skew:              </th>  <td>0.73</td> \n",
       "</tr>\n",
       "<tr>\n",
       "  <th>Prob(H) (two-sided):</th>    <td>0.16</td> <th>  Kurtosis:          </th>  <td>5.50</td> \n",
       "</tr>\n",
       "</table><br/><br/>Warnings:<br/>[1] Covariance matrix calculated using the outer product of gradients (complex-step)."
      ],
      "text/plain": [
       "<class 'statsmodels.iolib.summary.Summary'>\n",
       "\"\"\"\n",
       "                                     SARIMAX Results                                     \n",
       "=========================================================================================\n",
       "Dep. Variable:                                 y   No. Observations:                  364\n",
       "Model:             SARIMAX(2, 1, 2)x(2, 1, 2, 7)   Log Likelihood               -2060.909\n",
       "Date:                           Sun, 21 Aug 2022   AIC                           4139.819\n",
       "Time:                                   17:03:13   BIC                           4174.693\n",
       "Sample:                                        0   HQIC                          4153.691\n",
       "                                           - 364                                         \n",
       "Covariance Type:                             opg                                         \n",
       "==============================================================================\n",
       "                 coef    std err          z      P>|z|      [0.025      0.975]\n",
       "------------------------------------------------------------------------------\n",
       "ar.L1          0.9201      0.135      6.834      0.000       0.656       1.184\n",
       "ar.L2         -0.2209      0.131     -1.682      0.092      -0.478       0.036\n",
       "ma.L1         -0.6882      2.654     -0.259      0.795      -5.889       4.513\n",
       "ma.L2         -0.3115      0.873     -0.357      0.721      -2.023       1.400\n",
       "ar.S.L7       -0.6366      0.572     -1.112      0.266      -1.759       0.485\n",
       "ar.S.L14      -0.0065      0.146     -0.045      0.964      -0.293       0.279\n",
       "ma.S.L7       -0.5230      0.777     -0.674      0.501      -2.045       0.999\n",
       "ma.S.L14      -0.4729      0.587     -0.806      0.420      -1.623       0.677\n",
       "sigma2      5610.2944   1.45e+04      0.386      0.700   -2.29e+04    3.41e+04\n",
       "===================================================================================\n",
       "Ljung-Box (L1) (Q):                   0.03   Jarque-Bera (JB):               124.42\n",
       "Prob(Q):                              0.86   Prob(JB):                         0.00\n",
       "Heteroskedasticity (H):               0.77   Skew:                             0.73\n",
       "Prob(H) (two-sided):                  0.16   Kurtosis:                         5.50\n",
       "===================================================================================\n",
       "\n",
       "Warnings:\n",
       "[1] Covariance matrix calculated using the outer product of gradients (complex-step).\n",
       "\"\"\""
      ]
     },
     "execution_count": 129,
     "metadata": {},
     "output_type": "execute_result"
    }
   ],
   "source": [
    "model_opt = SARIMAX(train_data.values, order=optimal[0][0][0], seasonal_order=optimal[0][0][1])\n",
    "model_opt_fit = model_opt.fit()\n",
    "model_opt_fit.summary()"
   ]
  },
  {
   "cell_type": "code",
   "execution_count": 138,
   "metadata": {},
   "outputs": [],
   "source": [
    "prediction = model_opt_fit.get_forecast(len(test_data))\n",
    "prediction_value = prediction.predicted_mean\n",
    "predict_index = list(test_data.index)\n",
    "r2 = r2_score(test_data, prediction_value)"
   ]
  },
  {
   "cell_type": "code",
   "execution_count": 140,
   "metadata": {},
   "outputs": [],
   "source": [
    "predicted_ub = prediction.conf_int()[:,0]\n",
    "predicted_lb = prediction.conf_int()[:,1]"
   ]
  },
  {
   "cell_type": "code",
   "execution_count": 141,
   "metadata": {},
   "outputs": [
    {
     "name": "stderr",
     "output_type": "stream",
     "text": [
      "c:\\Users\\wagar\\AppData\\Local\\Programs\\Python\\Python310\\lib\\site-packages\\IPython\\core\\pylabtools.py:151: UserWarning: Glyph 8722 (\\N{MINUS SIGN}) missing from current font.\n",
      "  fig.canvas.print_figure(bytes_io, **kw)\n"
     ]
    },
    {
     "data": {
      "image/png": "[encoded data removed]",
      "text/plain": [
       "<Figure size 864x432 with 1 Axes>"
      ]
     },
     "metadata": {
      "needs_background": "light"
     },
     "output_type": "display_data"
    }
   ],
   "source": [
    "fig, ax = plt.subplots(figsize=(12,6))\n",
    "\n",
    "ax.plot(predict_index, prediction_value, color='orange', label='Prediction')\n",
    "ax.fill_between(predict_index, predicted_lb, predicted_ub, color='k', alpha=0.1, label = '0.95 Prediction')\n",
    "\n",
    "data.plot(ax=ax)\n",
    "\n",
    "plt.show()"
   ]
  },
  {
   "cell_type": "code",
   "execution_count": null,
   "metadata": {},
   "outputs": [],
   "source": []
  }
 ],
 "metadata": {
  "kernelspec": {
   "display_name": "Python 3.10.6 64-bit",
   "language": "python",
   "name": "python3"
  },
  "language_info": {
   "codemirror_mode": {
    "name": "ipython",
    "version": 3
   },
   "file_extension": ".py",
   "mimetype": "text/x-python",
   "name": "python",
   "nbconvert_exporter": "python",
   "pygments_lexer": "ipython3",
   "version": "3.10.6"
  },
  "orig_nbformat": 4,
  "vscode": {
   "interpreter": {
    "hash": "3bca2543b8101edd63d2d1b99aee8dd9a39c6a97fc4f450cf710205e940bdbfe"
   }
  }
 },
 "nbformat": 4,
 "nbformat_minor": 2
}
