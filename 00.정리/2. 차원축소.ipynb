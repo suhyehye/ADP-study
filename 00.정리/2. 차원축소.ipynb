{
 "cells": [
  {
   "cell_type": "markdown",
   "metadata": {},
   "source": [
    "## 차원 축소\n",
    "### PCA (Principa Component Analysis / 주성분분석)\n",
    "\n",
    "- 분산이 데이터의 특성을 가장 잘 나타내는 것으로 간주하여 데이터 변동성이 가장 큰 방향으로 축을 생성하고 새롭게 생성된 축으로 데이터를 투영하는 방식\n",
    "- 여러 변수들의 변량을 주성분이라는 서로 상관관계가 높은 변수들의 선형결합으로 만들어 변수를 요약 및 축소하는 기법\n",
    "- 다중공선성이 존재하는 경우, 상관성이 적은 주성분으로 변수들을 축소\n",
    "- 주성분 분석을 통해 군집분석을 수행하면 군집화 결과와 연산속도 개선가능\n",
    "\n",
    "주성분은 원 변수들 집합에서 k개의 관찰변수 가중치의 결합이다. 이중, 주성분1은 가장 많은 분산을 설명하는 k개의 가중치 결합이다."
   ]
  },
  {
   "cell_type": "code",
   "execution_count": 14,
   "metadata": {},
   "outputs": [
    {
     "data": {
      "text/html": [
       "<div>\n",
       "<style scoped>\n",
       "    .dataframe tbody tr th:only-of-type {\n",
       "        vertical-align: middle;\n",
       "    }\n",
       "\n",
       "    .dataframe tbody tr th {\n",
       "        vertical-align: top;\n",
       "    }\n",
       "\n",
       "    .dataframe thead th {\n",
       "        text-align: right;\n",
       "    }\n",
       "</style>\n",
       "<table border=\"1\" class=\"dataframe\">\n",
       "  <thead>\n",
       "    <tr style=\"text-align: right;\">\n",
       "      <th></th>\n",
       "      <th>Unnamed: 0</th>\n",
       "      <th>mpg</th>\n",
       "      <th>cyl</th>\n",
       "      <th>disp</th>\n",
       "      <th>hp</th>\n",
       "      <th>drat</th>\n",
       "      <th>wt</th>\n",
       "      <th>qsec</th>\n",
       "      <th>vs</th>\n",
       "      <th>am</th>\n",
       "      <th>gear</th>\n",
       "      <th>carb</th>\n",
       "    </tr>\n",
       "  </thead>\n",
       "  <tbody>\n",
       "    <tr>\n",
       "      <th>0</th>\n",
       "      <td>Mazda RX4</td>\n",
       "      <td>21.0</td>\n",
       "      <td>6</td>\n",
       "      <td>160.0</td>\n",
       "      <td>110</td>\n",
       "      <td>3.90</td>\n",
       "      <td>2.620</td>\n",
       "      <td>16.46</td>\n",
       "      <td>0</td>\n",
       "      <td>1</td>\n",
       "      <td>4</td>\n",
       "      <td>4</td>\n",
       "    </tr>\n",
       "    <tr>\n",
       "      <th>1</th>\n",
       "      <td>Mazda RX4 Wag</td>\n",
       "      <td>21.0</td>\n",
       "      <td>6</td>\n",
       "      <td>160.0</td>\n",
       "      <td>110</td>\n",
       "      <td>3.90</td>\n",
       "      <td>2.875</td>\n",
       "      <td>17.02</td>\n",
       "      <td>0</td>\n",
       "      <td>1</td>\n",
       "      <td>4</td>\n",
       "      <td>4</td>\n",
       "    </tr>\n",
       "    <tr>\n",
       "      <th>2</th>\n",
       "      <td>Datsun 710</td>\n",
       "      <td>22.8</td>\n",
       "      <td>4</td>\n",
       "      <td>108.0</td>\n",
       "      <td>93</td>\n",
       "      <td>3.85</td>\n",
       "      <td>2.320</td>\n",
       "      <td>18.61</td>\n",
       "      <td>1</td>\n",
       "      <td>1</td>\n",
       "      <td>4</td>\n",
       "      <td>1</td>\n",
       "    </tr>\n",
       "    <tr>\n",
       "      <th>3</th>\n",
       "      <td>Hornet 4 Drive</td>\n",
       "      <td>21.4</td>\n",
       "      <td>6</td>\n",
       "      <td>258.0</td>\n",
       "      <td>110</td>\n",
       "      <td>3.08</td>\n",
       "      <td>3.215</td>\n",
       "      <td>19.44</td>\n",
       "      <td>1</td>\n",
       "      <td>0</td>\n",
       "      <td>3</td>\n",
       "      <td>1</td>\n",
       "    </tr>\n",
       "    <tr>\n",
       "      <th>4</th>\n",
       "      <td>Hornet Sportabout</td>\n",
       "      <td>18.7</td>\n",
       "      <td>8</td>\n",
       "      <td>360.0</td>\n",
       "      <td>175</td>\n",
       "      <td>3.15</td>\n",
       "      <td>3.440</td>\n",
       "      <td>17.02</td>\n",
       "      <td>0</td>\n",
       "      <td>0</td>\n",
       "      <td>3</td>\n",
       "      <td>2</td>\n",
       "    </tr>\n",
       "  </tbody>\n",
       "</table>\n",
       "</div>"
      ],
      "text/plain": [
       "          Unnamed: 0   mpg  cyl   disp   hp  drat     wt   qsec  vs  am  gear  \\\n",
       "0          Mazda RX4  21.0    6  160.0  110  3.90  2.620  16.46   0   1     4   \n",
       "1      Mazda RX4 Wag  21.0    6  160.0  110  3.90  2.875  17.02   0   1     4   \n",
       "2         Datsun 710  22.8    4  108.0   93  3.85  2.320  18.61   1   1     4   \n",
       "3     Hornet 4 Drive  21.4    6  258.0  110  3.08  3.215  19.44   1   0     3   \n",
       "4  Hornet Sportabout  18.7    8  360.0  175  3.15  3.440  17.02   0   0     3   \n",
       "\n",
       "   carb  \n",
       "0     4  \n",
       "1     4  \n",
       "2     1  \n",
       "3     1  \n",
       "4     2  "
      ]
     },
     "execution_count": 14,
     "metadata": {},
     "output_type": "execute_result"
    }
   ],
   "source": [
    "import pandas as pd\n",
    "data = pd.read_csv('./data/mtcars.csv')\n",
    "data.head()"
   ]
  },
  {
   "cell_type": "code",
   "execution_count": 15,
   "metadata": {},
   "outputs": [
    {
     "data": {
      "text/html": [
       "<div>\n",
       "<style scoped>\n",
       "    .dataframe tbody tr th:only-of-type {\n",
       "        vertical-align: middle;\n",
       "    }\n",
       "\n",
       "    .dataframe tbody tr th {\n",
       "        vertical-align: top;\n",
       "    }\n",
       "\n",
       "    .dataframe thead th {\n",
       "        text-align: right;\n",
       "    }\n",
       "</style>\n",
       "<table border=\"1\" class=\"dataframe\">\n",
       "  <thead>\n",
       "    <tr style=\"text-align: right;\">\n",
       "      <th></th>\n",
       "      <th>주성분1</th>\n",
       "      <th>주성분2</th>\n",
       "      <th>주성분3</th>\n",
       "      <th>주성분4</th>\n",
       "    </tr>\n",
       "    <tr>\n",
       "      <th>Unnamed: 0</th>\n",
       "      <th></th>\n",
       "      <th></th>\n",
       "      <th></th>\n",
       "      <th></th>\n",
       "    </tr>\n",
       "  </thead>\n",
       "  <tbody>\n",
       "    <tr>\n",
       "      <th>Mazda RX4</th>\n",
       "      <td>0.657213</td>\n",
       "      <td>1.735446</td>\n",
       "      <td>-0.601199</td>\n",
       "      <td>0.115522</td>\n",
       "    </tr>\n",
       "    <tr>\n",
       "      <th>Mazda RX4 Wag</th>\n",
       "      <td>0.629396</td>\n",
       "      <td>1.550033</td>\n",
       "      <td>-0.382322</td>\n",
       "      <td>0.202307</td>\n",
       "    </tr>\n",
       "    <tr>\n",
       "      <th>Datsun 710</th>\n",
       "      <td>2.779397</td>\n",
       "      <td>-0.146457</td>\n",
       "      <td>-0.241238</td>\n",
       "      <td>-0.249139</td>\n",
       "    </tr>\n",
       "    <tr>\n",
       "      <th>Hornet 4 Drive</th>\n",
       "      <td>0.311771</td>\n",
       "      <td>-2.363019</td>\n",
       "      <td>-0.135759</td>\n",
       "      <td>-0.511862</td>\n",
       "    </tr>\n",
       "    <tr>\n",
       "      <th>Hornet Sportabout</th>\n",
       "      <td>-1.974489</td>\n",
       "      <td>-0.754402</td>\n",
       "      <td>-1.134402</td>\n",
       "      <td>0.075653</td>\n",
       "    </tr>\n",
       "  </tbody>\n",
       "</table>\n",
       "</div>"
      ],
      "text/plain": [
       "                       주성분1      주성분2      주성분3      주성분4\n",
       "Unnamed: 0                                               \n",
       "Mazda RX4          0.657213  1.735446 -0.601199  0.115522\n",
       "Mazda RX4 Wag      0.629396  1.550033 -0.382322  0.202307\n",
       "Datsun 710         2.779397 -0.146457 -0.241238 -0.249139\n",
       "Hornet 4 Drive     0.311771 -2.363019 -0.135759 -0.511862\n",
       "Hornet Sportabout -1.974489 -0.754402 -1.134402  0.075653"
      ]
     },
     "execution_count": 15,
     "metadata": {},
     "output_type": "execute_result"
    }
   ],
   "source": [
    "from sklearn.decomposition import PCA\n",
    "from sklearn.preprocessing import StandardScaler\n",
    "\n",
    "scaler = StandardScaler()\n",
    "scaled_df = scaler.fit_transform(data.iloc[:, 1:])\n",
    "\n",
    "pca = PCA(n_components=4)\n",
    "pca.fit(scaled_df)\n",
    "\n",
    "comp = pca.transform(scaled_df)\n",
    "pca_df = pd.DataFrame(comp, columns=['주성분1', '주성분2', '주성분3', '주성분4'], index=data.iloc[:, 0])\n",
    "pca_df.head()"
   ]
  },
  {
   "cell_type": "code",
   "execution_count": 16,
   "metadata": {},
   "outputs": [
    {
     "data": {
      "text/html": [
       "<div>\n",
       "<style scoped>\n",
       "    .dataframe tbody tr th:only-of-type {\n",
       "        vertical-align: middle;\n",
       "    }\n",
       "\n",
       "    .dataframe tbody tr th {\n",
       "        vertical-align: top;\n",
       "    }\n",
       "\n",
       "    .dataframe thead th {\n",
       "        text-align: right;\n",
       "    }\n",
       "</style>\n",
       "<table border=\"1\" class=\"dataframe\">\n",
       "  <thead>\n",
       "    <tr style=\"text-align: right;\">\n",
       "      <th></th>\n",
       "      <th>주성분1</th>\n",
       "      <th>주성분2</th>\n",
       "      <th>주성분3</th>\n",
       "      <th>주성분4</th>\n",
       "    </tr>\n",
       "  </thead>\n",
       "  <tbody>\n",
       "    <tr>\n",
       "      <th>mpg</th>\n",
       "      <td>0.362531</td>\n",
       "      <td>0.016124</td>\n",
       "      <td>-0.225744</td>\n",
       "      <td>-0.022540</td>\n",
       "    </tr>\n",
       "    <tr>\n",
       "      <th>cyl</th>\n",
       "      <td>-0.373916</td>\n",
       "      <td>0.043744</td>\n",
       "      <td>-0.175311</td>\n",
       "      <td>-0.002592</td>\n",
       "    </tr>\n",
       "    <tr>\n",
       "      <th>disp</th>\n",
       "      <td>-0.368185</td>\n",
       "      <td>-0.049324</td>\n",
       "      <td>-0.061484</td>\n",
       "      <td>0.256608</td>\n",
       "    </tr>\n",
       "    <tr>\n",
       "      <th>hp</th>\n",
       "      <td>-0.330057</td>\n",
       "      <td>0.248784</td>\n",
       "      <td>0.140015</td>\n",
       "      <td>-0.067676</td>\n",
       "    </tr>\n",
       "    <tr>\n",
       "      <th>drat</th>\n",
       "      <td>0.294151</td>\n",
       "      <td>0.274694</td>\n",
       "      <td>0.161189</td>\n",
       "      <td>0.854829</td>\n",
       "    </tr>\n",
       "    <tr>\n",
       "      <th>wt</th>\n",
       "      <td>-0.346103</td>\n",
       "      <td>-0.143038</td>\n",
       "      <td>0.341819</td>\n",
       "      <td>0.245899</td>\n",
       "    </tr>\n",
       "    <tr>\n",
       "      <th>qsec</th>\n",
       "      <td>0.200456</td>\n",
       "      <td>-0.463375</td>\n",
       "      <td>0.403169</td>\n",
       "      <td>0.068077</td>\n",
       "    </tr>\n",
       "    <tr>\n",
       "      <th>vs</th>\n",
       "      <td>0.306511</td>\n",
       "      <td>-0.231647</td>\n",
       "      <td>0.428815</td>\n",
       "      <td>-0.214849</td>\n",
       "    </tr>\n",
       "    <tr>\n",
       "      <th>am</th>\n",
       "      <td>0.234943</td>\n",
       "      <td>0.429418</td>\n",
       "      <td>-0.205767</td>\n",
       "      <td>-0.030463</td>\n",
       "    </tr>\n",
       "    <tr>\n",
       "      <th>gear</th>\n",
       "      <td>0.206916</td>\n",
       "      <td>0.462349</td>\n",
       "      <td>0.289780</td>\n",
       "      <td>-0.264691</td>\n",
       "    </tr>\n",
       "    <tr>\n",
       "      <th>carb</th>\n",
       "      <td>-0.214018</td>\n",
       "      <td>0.413571</td>\n",
       "      <td>0.528545</td>\n",
       "      <td>-0.126789</td>\n",
       "    </tr>\n",
       "  </tbody>\n",
       "</table>\n",
       "</div>"
      ],
      "text/plain": [
       "          주성분1      주성분2      주성분3      주성분4\n",
       "mpg   0.362531  0.016124 -0.225744 -0.022540\n",
       "cyl  -0.373916  0.043744 -0.175311 -0.002592\n",
       "disp -0.368185 -0.049324 -0.061484  0.256608\n",
       "hp   -0.330057  0.248784  0.140015 -0.067676\n",
       "drat  0.294151  0.274694  0.161189  0.854829\n",
       "wt   -0.346103 -0.143038  0.341819  0.245899\n",
       "qsec  0.200456 -0.463375  0.403169  0.068077\n",
       "vs    0.306511 -0.231647  0.428815 -0.214849\n",
       "am    0.234943  0.429418 -0.205767 -0.030463\n",
       "gear  0.206916  0.462349  0.289780 -0.264691\n",
       "carb -0.214018  0.413571  0.528545 -0.126789"
      ]
     },
     "execution_count": 16,
     "metadata": {},
     "output_type": "execute_result"
    }
   ],
   "source": [
    "loadings = pd.DataFrame(pca.components_.T, columns=['주성분1', '주성분2', '주성분3', '주성분4'], index=data.columns[1:])\n",
    "loadings"
   ]
  },
  {
   "cell_type": "code",
   "execution_count": 17,
   "metadata": {},
   "outputs": [
    {
     "data": {
      "text/html": [
       "<div>\n",
       "<style scoped>\n",
       "    .dataframe tbody tr th:only-of-type {\n",
       "        vertical-align: middle;\n",
       "    }\n",
       "\n",
       "    .dataframe tbody tr th {\n",
       "        vertical-align: top;\n",
       "    }\n",
       "\n",
       "    .dataframe thead th {\n",
       "        text-align: right;\n",
       "    }\n",
       "</style>\n",
       "<table border=\"1\" class=\"dataframe\">\n",
       "  <thead>\n",
       "    <tr style=\"text-align: right;\">\n",
       "      <th></th>\n",
       "      <th>주성분1</th>\n",
       "      <th>주성분2</th>\n",
       "      <th>주성분3</th>\n",
       "      <th>주성분4</th>\n",
       "    </tr>\n",
       "  </thead>\n",
       "  <tbody>\n",
       "    <tr>\n",
       "      <th>0</th>\n",
       "      <td>2.611814</td>\n",
       "      <td>1.654076</td>\n",
       "      <td>0.804630</td>\n",
       "      <td>0.527536</td>\n",
       "    </tr>\n",
       "    <tr>\n",
       "      <th>0</th>\n",
       "      <td>0.600764</td>\n",
       "      <td>0.240952</td>\n",
       "      <td>0.057018</td>\n",
       "      <td>0.024509</td>\n",
       "    </tr>\n",
       "  </tbody>\n",
       "</table>\n",
       "</div>"
      ],
      "text/plain": [
       "       주성분1      주성분2      주성분3      주성분4\n",
       "0  2.611814  1.654076  0.804630  0.527536\n",
       "0  0.600764  0.240952  0.057018  0.024509"
      ]
     },
     "execution_count": 17,
     "metadata": {},
     "output_type": "execute_result"
    }
   ],
   "source": [
    "ax = pd.DataFrame(pca_df.std()).T\n",
    "pca_summary = pd.concat([ax, pd.DataFrame(pca.explained_variance_ratio_).set_index(ax.columns).T])\n",
    "pca_summary"
   ]
  },
  {
   "cell_type": "code",
   "execution_count": 18,
   "metadata": {},
   "outputs": [],
   "source": [
    "import numpy as np\n",
    "\n",
    "proportion = pca.explained_variance_ratio_\n",
    "s=0\n",
    "result = []\n",
    "for i in range(len(proportion)):\n",
    "    s = s + proportion[i]\n",
    "    result.append(np.round(s,4))\n",
    "    \n",
    "pca_summary.loc[1] = result"
   ]
  },
  {
   "cell_type": "code",
   "execution_count": 19,
   "metadata": {},
   "outputs": [
    {
     "data": {
      "text/html": [
       "<div>\n",
       "<style scoped>\n",
       "    .dataframe tbody tr th:only-of-type {\n",
       "        vertical-align: middle;\n",
       "    }\n",
       "\n",
       "    .dataframe tbody tr th {\n",
       "        vertical-align: top;\n",
       "    }\n",
       "\n",
       "    .dataframe thead th {\n",
       "        text-align: right;\n",
       "    }\n",
       "</style>\n",
       "<table border=\"1\" class=\"dataframe\">\n",
       "  <thead>\n",
       "    <tr style=\"text-align: right;\">\n",
       "      <th></th>\n",
       "      <th>주성분1</th>\n",
       "      <th>주성분2</th>\n",
       "      <th>주성분3</th>\n",
       "      <th>주성분4</th>\n",
       "    </tr>\n",
       "  </thead>\n",
       "  <tbody>\n",
       "    <tr>\n",
       "      <th>표준편차</th>\n",
       "      <td>2.611814</td>\n",
       "      <td>1.654076</td>\n",
       "      <td>0.804630</td>\n",
       "      <td>0.527536</td>\n",
       "    </tr>\n",
       "    <tr>\n",
       "      <th>변동량</th>\n",
       "      <td>0.600764</td>\n",
       "      <td>0.240952</td>\n",
       "      <td>0.057018</td>\n",
       "      <td>0.024509</td>\n",
       "    </tr>\n",
       "    <tr>\n",
       "      <th>누적변동량</th>\n",
       "      <td>0.600800</td>\n",
       "      <td>0.841700</td>\n",
       "      <td>0.898700</td>\n",
       "      <td>0.923200</td>\n",
       "    </tr>\n",
       "  </tbody>\n",
       "</table>\n",
       "</div>"
      ],
      "text/plain": [
       "           주성분1      주성분2      주성분3      주성분4\n",
       "표준편차   2.611814  1.654076  0.804630  0.527536\n",
       "변동량    0.600764  0.240952  0.057018  0.024509\n",
       "누적변동량  0.600800  0.841700  0.898700  0.923200"
      ]
     },
     "execution_count": 19,
     "metadata": {},
     "output_type": "execute_result"
    }
   ],
   "source": [
    "pca_summary.index = ['표준편차','변동량','누적변동량']\n",
    "pca_summary"
   ]
  },
  {
   "cell_type": "markdown",
   "metadata": {},
   "source": [
    "주성분 1,2만으로 전체 변동의 84%를 설명할 수 있다."
   ]
  },
  {
   "cell_type": "code",
   "execution_count": 20,
   "metadata": {},
   "outputs": [
    {
     "data": {
      "image/png": "[encoded data removed]",
      "text/plain": [
       "<Figure size 576x432 with 1 Axes>"
      ]
     },
     "metadata": {
      "needs_background": "light"
     },
     "output_type": "display_data"
    }
   ],
   "source": [
    "import matplotlib.pyplot as plt\n",
    "%matplotlib inline\n",
    "\n",
    "per_var = np.round(pca.explained_variance_, decimals=1)\n",
    "labels = ['주성분' + str(x) for x in range(1, len(per_var) + 1)]\n",
    "\n",
    "plt.figure(figsize=(8,6))\n",
    "plt.title('Scree plot', fontsize=15)\n",
    "plt.plot(range(1,5), per_var, marker='o', markerfacecolor='w', markersize=8, markeredgecolor='k', color='r')\n",
    "plt.show()"
   ]
  },
  {
   "cell_type": "markdown",
   "metadata": {},
   "source": [
    "팔꿈치 그림은 주성분이 3개일 때 팔꿈치 모양 존재"
   ]
  },
  {
   "cell_type": "code",
   "execution_count": 26,
   "metadata": {},
   "outputs": [],
   "source": [
    "def biplot(score, coeff, labels=None, index=None):\n",
    "    xs = score[:,0]\n",
    "    ys = score[:,1]\n",
    "    n = coeff.shape[0]\n",
    "    \n",
    "    scalex = 1.0/(xs.max() - xs.min())\n",
    "    scaley = 1.0/(ys.max() - ys.min())\n",
    "    \n",
    "    plt.figure(figsize=(12,9))\n",
    "    plt.scatter(xs * scalex, ys * scaley, s=5)\n",
    "    \n",
    "    for i in range(n):\n",
    "        plt.arrow(0,0,coeff[i,0], coeff[i,1], color='r', alpha=0.5, head_width=0.01)\n",
    "        if labels is None:\n",
    "            plt.text(coeff[i,0]*1.15, coeff[i,1], 'Var'+str(i+1), color='green', ha='center', va='center')\n",
    "            \n",
    "        else:\n",
    "            plt.text(coeff[i,0]*1.15, coeff[i,1]*1.15, labels[i], color='g', ha='center', va='center')\n",
    "            \n",
    "    for i in range(score.shape[0]):\n",
    "        if index is None:\n",
    "            plt.text((xs*scalex)[i], (ys*scaley)[i], str[i])\n",
    "            \n",
    "        else:\n",
    "            plt.text((xs*scalex)[i], (ys*scaley)[i], index[i])\n",
    "            \n",
    "    plt.title('PCA - Biplot', fontsize=15)\n",
    "    plt.xlabel('Comp. {}'.format(1))\n",
    "    plt.ylabel('Comp. {}'.format(2))\n",
    "    plt.grid()"
   ]
  },
  {
   "cell_type": "code",
   "execution_count": 27,
   "metadata": {},
   "outputs": [
    {
     "data": {
      "image/png": "[encoded data removed]",
      "text/plain": [
       "<Figure size 864x648 with 1 Axes>"
      ]
     },
     "metadata": {
      "needs_background": "light"
     },
     "output_type": "display_data"
    }
   ],
   "source": [
    "biplot(comp, np.transpose(pca.components_), labels=data.columns[1:], index=data.iloc[:,0])"
   ]
  },
  {
   "cell_type": "markdown",
   "metadata": {},
   "source": [
    "화살표의 길이가 길수록 원변수의 분산을 잘 설명하는 변수라고 할 수 있다.\n",
    "\n",
    "화살표는 원변수와 PC의 상관계수를 뜻하며 PC와 평행할수록 해당 PC에 큰 영향"
   ]
  },
  {
   "cell_type": "markdown",
   "metadata": {},
   "source": [
    "## LDA(Linear Discriminant Analysis / 선형 판별 분석)\n",
    "- 지도학습의 분류에서 사용하기 쉽도록 개별 클래스를 분별할 수 있는 기준을 최대한 유지하면서 차원을 축소함\n",
    "- 입력 데이터의 결정값 클래스를 최대한으로 분리할 수 있는 축을 찾는다.\n",
    "- 클래스간 분산과 클래스 내부 분산의 비율을 최대화 하는 방식으로 차원을 축소한다.\n",
    "- 즉, 클래스간 분산은 크게 클래스 내부 분산은 최대한 작게 가져간다."
   ]
  },
  {
   "cell_type": "code",
   "execution_count": 28,
   "metadata": {},
   "outputs": [],
   "source": [
    "from sklearn.discriminant_analysis import LinearDiscriminantAnalysis\n",
    "from sklearn.datasets import load_iris\n",
    "from sklearn.metrics import confusion_matrix\n",
    "\n",
    "data = pd.DataFrame(load_iris().data, columns=load_iris().feature_names)\n",
    "data['target'] = load_iris().target"
   ]
  },
  {
   "cell_type": "code",
   "execution_count": 29,
   "metadata": {},
   "outputs": [],
   "source": [
    "scaled_df = scaler.fit_transform(data.iloc[:,:-1])"
   ]
  },
  {
   "cell_type": "code",
   "execution_count": 30,
   "metadata": {},
   "outputs": [],
   "source": [
    "lda = LinearDiscriminantAnalysis(n_components=2)\n",
    "\n",
    "lda_iris = lda.fit_transform(scaled_df, data.target)"
   ]
  },
  {
   "cell_type": "code",
   "execution_count": 31,
   "metadata": {},
   "outputs": [],
   "source": [
    "from sklearn.ensemble import GradientBoostingClassifier\n",
    "from sklearn.model_selection import cross_val_score"
   ]
  },
  {
   "cell_type": "code",
   "execution_count": 32,
   "metadata": {},
   "outputs": [
    {
     "data": {
      "text/plain": [
       "0.9600000000000002"
      ]
     },
     "execution_count": 32,
     "metadata": {},
     "output_type": "execute_result"
    }
   ],
   "source": [
    "gb = GradientBoostingClassifier(random_state=42)\n",
    "\n",
    "score = cross_val_score(gb, data.iloc[:,:-1], data.target, scoring='accuracy', cv=5)\n",
    "score.mean()"
   ]
  },
  {
   "cell_type": "code",
   "execution_count": 34,
   "metadata": {},
   "outputs": [
    {
     "data": {
      "text/plain": [
       "0.96"
      ]
     },
     "execution_count": 34,
     "metadata": {},
     "output_type": "execute_result"
    }
   ],
   "source": [
    "score = cross_val_score(gb, lda_iris, data.target, scoring='accuracy', cv=5)\n",
    "score.mean()"
   ]
  },
  {
   "cell_type": "markdown",
   "metadata": {},
   "source": [
    "Lda로 차원을 2차원으로 축소한 후 train/validation을 진행했는데 성능상 별차이가 없는 것을 확인했다.\n",
    "\n",
    "항상 이렇지는 않음"
   ]
  },
  {
   "cell_type": "code",
   "execution_count": null,
   "metadata": {},
   "outputs": [],
   "source": []
  }
 ],
 "metadata": {
  "kernelspec": {
   "display_name": "Python 3.10.6 64-bit",
   "language": "python",
   "name": "python3"
  },
  "language_info": {
   "codemirror_mode": {
    "name": "ipython",
    "version": 3
   },
   "file_extension": ".py",
   "mimetype": "text/x-python",
   "name": "python",
   "nbconvert_exporter": "python",
   "pygments_lexer": "ipython3",
   "version": "3.10.6"
  },
  "orig_nbformat": 4,
  "vscode": {
   "interpreter": {
    "hash": "3bca2543b8101edd63d2d1b99aee8dd9a39c6a97fc4f450cf710205e940bdbfe"
   }
  }
 },
 "nbformat": 4,
 "nbformat_minor": 2
}
