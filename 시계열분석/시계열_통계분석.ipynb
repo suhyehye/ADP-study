{
 "cells": [
  {
   "cell_type": "markdown",
   "metadata": {},
   "source": [
    "#### ARIMA 모델 생성\n",
    "- trend : constant를 가지고 있는지 c:constant/nc : no constant\n",
    "- disp : 수렴 정보를 나타냄\n",
    "\n",
    "정상 시계열임을 확인하고 ARIMA로 예측 모형을 만듦\n",
    "\n",
    "일단 (AR = 0, 차분=1, MA=1) 파라미터로 ARIMA 모델 학습"
   ]
  },
  {
   "cell_type": "code",
   "execution_count": null,
   "metadata": {},
   "outputs": [],
   "source": [
    "import warnings\n",
    "warnings.filterwarnings('ignore')\n",
    "warnings.filterwarnings(method='ignore')\n",
    "from statsmodels.tsa.arima_model import ARIMA\n",
    "\n",
    "model = "
   ]
  }
 ],
 "metadata": {
  "kernelspec": {
   "display_name": "Python 3.9.13 ('base')",
   "language": "python",
   "name": "python3"
  },
  "language_info": {
   "name": "python",
   "version": "3.9.13"
  },
  "orig_nbformat": 4,
  "vscode": {
   "interpreter": {
    "hash": "52818dd643fc9f5a8fce08c8b039dd81d49395af727292e49f8c7c99a8916ae9"
   }
  }
 },
 "nbformat": 4,
 "nbformat_minor": 2
}
