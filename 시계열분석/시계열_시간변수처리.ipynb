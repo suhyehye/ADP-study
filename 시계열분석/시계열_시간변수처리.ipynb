{
 "cells": [
  {
   "cell_type": "markdown",
   "metadata": {},
   "source": [
    "#### 시간 데이터 변환 포맷\n",
    "- %y : 년(OO), %Y : 년(OOOO)\n",
    "- %m : 월(숫자), %d : 일(숫자)\n",
    "- %H : 시간, %M : 분, %S : 초\n",
    "- %b : 월(Short) #영어로 된 월 문자열, %B : 월(Full) #영어로 된 월 문자열\n",
    "- %D : 월/일/년\n",
    "- %a : 요일(영어로된 요일 문자열), %A : 요일(FULL)\n",
    "- weekday : 월요일이 0, 일요일이 6"
   ]
  },
  {
   "cell_type": "code",
   "execution_count": 1,
   "metadata": {},
   "outputs": [
    {
     "data": {
      "text/plain": [
       "(5, datetime.date(2022, 9, 24), datetime.time(4, 17, 53, 920557))"
      ]
     },
     "execution_count": 1,
     "metadata": {},
     "output_type": "execute_result"
    }
   ],
   "source": [
    "import time\n",
    "from datetime import datetime, date, timedelta\n",
    "\n",
    "datetime.now().weekday(), datetime.now().date(), datetime.now().time()"
   ]
  },
  {
   "cell_type": "code",
   "execution_count": 3,
   "metadata": {},
   "outputs": [
    {
     "data": {
      "text/plain": [
       "(datetime.timedelta(days=5, seconds=63000),\n",
       " datetime.timedelta(days=7),\n",
       " datetime.date(2022, 9, 24),\n",
       " datetime.date(2022, 10, 1))"
      ]
     },
     "execution_count": 3,
     "metadata": {},
     "output_type": "execute_result"
    }
   ],
   "source": [
    "week = timedelta(weeks=1)\n",
    "next_week = date.today() + week\n",
    "timedelta(days=5, hours=17, minutes=30), week, date.today(), next_week"
   ]
  },
  {
   "cell_type": "markdown",
   "metadata": {},
   "source": [
    "#### 시간데이터 타입 변환\n",
    "1. str로 변환 : timestamp -> datetime -> str"
   ]
  },
  {
   "cell_type": "code",
   "execution_count": 4,
   "metadata": {},
   "outputs": [
    {
     "data": {
      "text/plain": [
       "(1663960897.515383, float, '1663960897.515383', str)"
      ]
     },
     "execution_count": 4,
     "metadata": {},
     "output_type": "execute_result"
    }
   ],
   "source": [
    "timestamp1 = time.time()\n",
    "timestamp_to_str = str(timestamp1)\n",
    "timestamp1, type(timestamp1), timestamp_to_str, type(timestamp_to_str)"
   ]
  },
  {
   "cell_type": "code",
   "execution_count": 5,
   "metadata": {},
   "outputs": [
    {
     "data": {
      "text/plain": [
       "(datetime.datetime(2022, 9, 24, 4, 23, 1, 564698),\n",
       " datetime.datetime,\n",
       " '2022-09-24 04:23:01',\n",
       " str)"
      ]
     },
     "execution_count": 5,
     "metadata": {},
     "output_type": "execute_result"
    }
   ],
   "source": [
    "datetime_to_str = datetime.now().strftime('%Y-%m-%d %H:%M:%S')\n",
    "datetime.now(), type(datetime.now()), datetime_to_str, type(datetime_to_str)"
   ]
  },
  {
   "cell_type": "markdown",
   "metadata": {},
   "source": [
    "2. timestamp로 변환 : str -> strptime -> datetime -> timestamp"
   ]
  },
  {
   "cell_type": "code",
   "execution_count": 7,
   "metadata": {},
   "outputs": [
    {
     "data": {
      "text/plain": [
       "('2018-05-16 12:00:00',\n",
       " str,\n",
       " datetime.datetime(2018, 5, 16, 12, 0),\n",
       " datetime.datetime,\n",
       " 1526439600.0,\n",
       " str)"
      ]
     },
     "execution_count": 7,
     "metadata": {},
     "output_type": "execute_result"
    }
   ],
   "source": [
    "str1 = '2018-05-16 12:00:00'\n",
    "str_to_datetime = datetime.strptime(str1, '%Y-%m-%d %H:%M:%S')\n",
    "datetime_to_timestamp = time.mktime(str_to_datetime.timetuple())\n",
    "\n",
    "str1, type(str1), str_to_datetime, type(str_to_datetime), datetime_to_timestamp, type(datetime_to_str)"
   ]
  },
  {
   "cell_type": "markdown",
   "metadata": {},
   "source": [
    "3. datetime으로 변환 \n",
    "- str -> datetime : strptime이용\n",
    "- timestamp -> datetime : fromtimestamp이용"
   ]
  },
  {
   "cell_type": "code",
   "execution_count": 9,
   "metadata": {},
   "outputs": [
    {
     "data": {
      "text/plain": [
       "('2018-05-16 12:00:00',\n",
       " str,\n",
       " datetime.datetime(2018, 5, 16, 12, 0),\n",
       " datetime.datetime)"
      ]
     },
     "execution_count": 9,
     "metadata": {},
     "output_type": "execute_result"
    }
   ],
   "source": [
    "str1 = '2018-05-16 12:00:00'\n",
    "str_to_datetime = datetime.strptime(str1,'%Y-%m-%d %H:%M:%S')\n",
    "str1, type(str1), str_to_datetime, type(str_to_datetime)"
   ]
  },
  {
   "cell_type": "code",
   "execution_count": 11,
   "metadata": {},
   "outputs": [
    {
     "data": {
      "text/plain": [
       "(1663962499.847751,\n",
       " float,\n",
       " datetime.datetime(2022, 9, 24, 4, 48, 19, 847721),\n",
       " datetime.datetime)"
      ]
     },
     "execution_count": 11,
     "metadata": {},
     "output_type": "execute_result"
    }
   ],
   "source": [
    "timestamp_to_datetime = datetime.fromtimestamp(time.time())\n",
    "time.time(), type(time.time()), timestamp_to_datetime, type(timestamp_to_datetime)"
   ]
  },
  {
   "cell_type": "markdown",
   "metadata": {},
   "source": [
    "#### Pandas 이용"
   ]
  },
  {
   "cell_type": "code",
   "execution_count": 12,
   "metadata": {},
   "outputs": [
    {
     "data": {
      "text/plain": [
       "(Timestamp('2019-12-22 13:30:59'), pandas._libs.tslibs.timestamps.Timestamp)"
      ]
     },
     "execution_count": 12,
     "metadata": {},
     "output_type": "execute_result"
    }
   ],
   "source": [
    "import pandas as pd\n",
    "\n",
    "pd_ts = pd.Timestamp(2019, 12, 22, 13, 30, 59)\n",
    "pd_ts, type(pd_ts)"
   ]
  },
  {
   "cell_type": "code",
   "execution_count": 14,
   "metadata": {},
   "outputs": [
    {
     "data": {
      "text/plain": [
       "(1577021459.0, datetime.date(2019, 12, 22), datetime.time(13, 30, 59))"
      ]
     },
     "execution_count": 14,
     "metadata": {},
     "output_type": "execute_result"
    }
   ],
   "source": [
    "pd_ts.timestamp(), pd_ts.date(), pd_ts.time()"
   ]
  },
  {
   "cell_type": "code",
   "execution_count": 15,
   "metadata": {},
   "outputs": [
    {
     "data": {
      "text/plain": [
       "('2019-12-22 13:30:59', str)"
      ]
     },
     "execution_count": 15,
     "metadata": {},
     "output_type": "execute_result"
    }
   ],
   "source": [
    "pd_ts.strftime('%Y-%m-%d %H:%M:%S'), type(pd_ts.strftime('%Y-%m-%d %H:%M:%S'))"
   ]
  },
  {
   "cell_type": "code",
   "execution_count": 16,
   "metadata": {},
   "outputs": [
    {
     "data": {
      "text/plain": [
       "(Timestamp('2022-09-24 04:52:05.950211'),\n",
       " Timestamp('2022-09-24 04:52:05.950331'),\n",
       " pandas._libs.tslibs.timestamps.Timestamp)"
      ]
     },
     "execution_count": 16,
     "metadata": {},
     "output_type": "execute_result"
    }
   ],
   "source": [
    "pd.Timestamp.now(), pd.Timestamp.today(), type(pd.Timestamp.today())"
   ]
  },
  {
   "cell_type": "code",
   "execution_count": 17,
   "metadata": {},
   "outputs": [
    {
     "data": {
      "text/plain": [
       "('2020-03-02 00:00:00',\n",
       " str,\n",
       " Timestamp('2020-03-02 00:00:00'),\n",
       " pandas._libs.tslibs.timestamps.Timestamp)"
      ]
     },
     "execution_count": 17,
     "metadata": {},
     "output_type": "execute_result"
    }
   ],
   "source": [
    "t1 = '2020-03-02 00:00:00'\n",
    "t2 = pd.to_datetime(t1)\n",
    "t1, type(t1), t2, type(t2)"
   ]
  },
  {
   "cell_type": "code",
   "execution_count": null,
   "metadata": {},
   "outputs": [],
   "source": []
  }
 ],
 "metadata": {
  "kernelspec": {
   "display_name": "Python 3.9.13 ('base')",
   "language": "python",
   "name": "python3"
  },
  "language_info": {
   "codemirror_mode": {
    "name": "ipython",
    "version": 3
   },
   "file_extension": ".py",
   "mimetype": "text/x-python",
   "name": "python",
   "nbconvert_exporter": "python",
   "pygments_lexer": "ipython3",
   "version": "3.9.13"
  },
  "orig_nbformat": 4,
  "vscode": {
   "interpreter": {
    "hash": "52818dd643fc9f5a8fce08c8b039dd81d49395af727292e49f8c7c99a8916ae9"
   }
  }
 },
 "nbformat": 4,
 "nbformat_minor": 2
}
