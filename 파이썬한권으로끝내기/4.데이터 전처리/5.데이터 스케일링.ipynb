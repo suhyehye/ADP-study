{
 "cells": [
  {
   "cell_type": "code",
   "execution_count": 1,
   "metadata": {},
   "outputs": [
    {
     "name": "stdout",
     "output_type": "stream",
     "text": [
      "X_train :  (120, 4) X_test :  (30, 4)\n",
      "y_train :  (120,) y_test :  (30,)\n"
     ]
    }
   ],
   "source": [
    "import pandas as pd\n",
    "from sklearn.model_selection import train_test_split\n",
    "from sklearn.datasets import load_iris\n",
    "\n",
    "iris = load_iris()\n",
    "iris = pd.DataFrame(iris.data, columns = iris.feature_names)\n",
    "iris['Class'] = load_iris().target\n",
    "iris['Class'] = iris['Class'].map({0:'Setosa', 1:'Versicolour',2:'Virginica'})\n",
    "\n",
    "X_train, X_test, y_train, y_test = train_test_split(iris.drop(columns = 'Class'),iris['Class'],test_size=0.2,stratify=iris['Class'])\n",
    "print(\"X_train : \",X_train.shape, 'X_test : ',X_test.shape)\n",
    "print(\"y_train : \",y_train.shape, 'y_test : ',y_test.shape)"
   ]
  },
  {
   "cell_type": "code",
   "execution_count": 2,
   "metadata": {},
   "outputs": [
    {
     "name": "stdout",
     "output_type": "stream",
     "text": [
      "\t\t(min, max) (mean,std)\n",
      "Train_scaled (-2.55,  3) (0.00, 1.00)\n",
      "Test_scaled (-2.07, 3.22) (-0.07, 1.00)\n"
     ]
    }
   ],
   "source": [
    "#StandardScaler\n",
    "from sklearn.preprocessing import StandardScaler\n",
    "stdScaler = StandardScaler()\n",
    "\n",
    "stdScaler.fit(X_train)\n",
    "X_train_sc = stdScaler.transform(X_train)\n",
    "\n",
    "X_test_sc = stdScaler.transform(X_test)\n",
    "\n",
    "#결과 확인\n",
    "print(\"\\t\\t(min, max) (mean,std)\")\n",
    "print(\"Train_scaled (%.2f, %2.f) (%.2f, %.2f)\" %(X_train_sc.min(),X_train_sc.max(),X_train_sc.mean(),X_train_sc.std()))\n",
    "print(\"Test_scaled (%.2f, %.2f) (%.2f, %.2f)\" %(X_test_sc.min(),X_test_sc.max(),X_test_sc.mean(),X_test_sc.std()))"
   ]
  },
  {
   "cell_type": "code",
   "execution_count": 3,
   "metadata": {},
   "outputs": [
    {
     "name": "stdout",
     "output_type": "stream",
     "text": [
      "\t\t(min, max) (mean,std)\n",
      "Train_scaled (0.00,  1) (0.47, 0.27)\n",
      "Test_scaled (0.04, 1.09) (0.45, 0.26)\n"
     ]
    }
   ],
   "source": [
    "#Min-Max Sclaer\n",
    "from sklearn.preprocessing import MinMaxScaler\n",
    "\n",
    "MmScaler = MinMaxScaler()\n",
    "\n",
    "MmScaler.fit(X_train)\n",
    "X_train_sc = MmScaler.transform(X_train)\n",
    "\n",
    "X_test_sc = MmScaler.transform(X_test)\n",
    "\n",
    "#결과 확인\n",
    "print(\"\\t\\t(min, max) (mean,std)\")\n",
    "print(\"Train_scaled (%.2f, %2.f) (%.2f, %.2f)\" %(X_train_sc.min(),X_train_sc.max(),X_train_sc.mean(),X_train_sc.std()))\n",
    "print(\"Test_scaled (%.2f, %.2f) (%.2f, %.2f)\" %(X_test_sc.min(),X_test_sc.max(),X_test_sc.mean(),X_test_sc.std()))"
   ]
  },
  {
   "cell_type": "code",
   "execution_count": 5,
   "metadata": {},
   "outputs": [
    {
     "name": "stdout",
     "output_type": "stream",
     "text": [
      "\t\t(min, max) (mean,std)\n",
      "Train_scaled (0.04,  1) (0.63, 0.24)\n",
      "Test_scaled (0.08, 1.05) (0.62, 0.24)\n"
     ]
    }
   ],
   "source": [
    "#Max Abs Scaler\n",
    "from sklearn.preprocessing import MaxAbsScaler\n",
    "MaScaler = MaxAbsScaler()\n",
    "\n",
    "X_train_sc = MaScaler.fit(X_train)\n",
    "X_train_sc = MaScaler.transform(X_train)\n",
    "X_test_sc = MaScaler.transform(X_test)\n",
    "\n",
    "#결과 확인\n",
    "print(\"\\t\\t(min, max) (mean,std)\")\n",
    "print(\"Train_scaled (%.2f, %2.f) (%.2f, %.2f)\" %(X_train_sc.min(),X_train_sc.max(),X_train_sc.mean(),X_train_sc.std()))\n",
    "print(\"Test_scaled (%.2f, %.2f) (%.2f, %.2f)\" %(X_test_sc.min(),X_test_sc.max(),X_test_sc.mean(),X_test_sc.std()))"
   ]
  },
  {
   "cell_type": "code",
   "execution_count": 6,
   "metadata": {},
   "outputs": [
    {
     "name": "stdout",
     "output_type": "stream",
     "text": [
      "\t\t(min, max) (mean,std)\n",
      "Train_scaled (-2.00,  2) (-0.03, 0.64)\n",
      "Test_scaled (-1.60, 2.80) (-0.06, 0.67)\n"
     ]
    }
   ],
   "source": [
    "#Robust Scaler\n",
    "from sklearn.preprocessing import RobustScaler\n",
    "RuScaler = RobustScaler()\n",
    "\n",
    "X_train_sc = RuScaler.fit_transform(X_train)\n",
    "X_test_sc = RuScaler.transform(X_test)\n",
    "\n",
    "#결과 확인\n",
    "print(\"\\t\\t(min, max) (mean,std)\")\n",
    "print(\"Train_scaled (%.2f, %2.f) (%.2f, %.2f)\" %(X_train_sc.min(),X_train_sc.max(),X_train_sc.mean(),X_train_sc.std()))\n",
    "print(\"Test_scaled (%.2f, %.2f) (%.2f, %.2f)\" %(X_test_sc.min(),X_test_sc.max(),X_test_sc.mean(),X_test_sc.std()))"
   ]
  },
  {
   "cell_type": "code",
   "execution_count": 7,
   "metadata": {},
   "outputs": [
    {
     "data": {
      "text/html": [
       "<div>\n",
       "<style scoped>\n",
       "    .dataframe tbody tr th:only-of-type {\n",
       "        vertical-align: middle;\n",
       "    }\n",
       "\n",
       "    .dataframe tbody tr th {\n",
       "        vertical-align: top;\n",
       "    }\n",
       "\n",
       "    .dataframe thead th {\n",
       "        text-align: right;\n",
       "    }\n",
       "</style>\n",
       "<table border=\"1\" class=\"dataframe\">\n",
       "  <thead>\n",
       "    <tr style=\"text-align: right;\">\n",
       "      <th></th>\n",
       "      <th>0</th>\n",
       "      <th>1</th>\n",
       "      <th>2</th>\n",
       "      <th>3</th>\n",
       "    </tr>\n",
       "  </thead>\n",
       "  <tbody>\n",
       "    <tr>\n",
       "      <th>0</th>\n",
       "      <td>-0.857143</td>\n",
       "      <td>0.4</td>\n",
       "      <td>-0.833333</td>\n",
       "      <td>-0.766667</td>\n",
       "    </tr>\n",
       "    <tr>\n",
       "      <th>1</th>\n",
       "      <td>-0.214286</td>\n",
       "      <td>-1.4</td>\n",
       "      <td>-0.111111</td>\n",
       "      <td>-0.033333</td>\n",
       "    </tr>\n",
       "    <tr>\n",
       "      <th>2</th>\n",
       "      <td>1.357143</td>\n",
       "      <td>0.0</td>\n",
       "      <td>0.472222</td>\n",
       "      <td>0.633333</td>\n",
       "    </tr>\n",
       "    <tr>\n",
       "      <th>3</th>\n",
       "      <td>-0.571429</td>\n",
       "      <td>0.0</td>\n",
       "      <td>-0.777778</td>\n",
       "      <td>-0.766667</td>\n",
       "    </tr>\n",
       "    <tr>\n",
       "      <th>4</th>\n",
       "      <td>0.500000</td>\n",
       "      <td>-0.4</td>\n",
       "      <td>0.055556</td>\n",
       "      <td>0.100000</td>\n",
       "    </tr>\n",
       "  </tbody>\n",
       "</table>\n",
       "</div>"
      ],
      "text/plain": [
       "          0    1         2         3\n",
       "0 -0.857143  0.4 -0.833333 -0.766667\n",
       "1 -0.214286 -1.4 -0.111111 -0.033333\n",
       "2  1.357143  0.0  0.472222  0.633333\n",
       "3 -0.571429  0.0 -0.777778 -0.766667\n",
       "4  0.500000 -0.4  0.055556  0.100000"
      ]
     },
     "execution_count": 7,
     "metadata": {},
     "output_type": "execute_result"
    }
   ],
   "source": [
    "#원본 스케일로 변경\n",
    "pd.DataFrame(X_train_sc).head()"
   ]
  },
  {
   "cell_type": "code",
   "execution_count": 8,
   "metadata": {},
   "outputs": [
    {
     "data": {
      "text/html": [
       "<div>\n",
       "<style scoped>\n",
       "    .dataframe tbody tr th:only-of-type {\n",
       "        vertical-align: middle;\n",
       "    }\n",
       "\n",
       "    .dataframe tbody tr th {\n",
       "        vertical-align: top;\n",
       "    }\n",
       "\n",
       "    .dataframe thead th {\n",
       "        text-align: right;\n",
       "    }\n",
       "</style>\n",
       "<table border=\"1\" class=\"dataframe\">\n",
       "  <thead>\n",
       "    <tr style=\"text-align: right;\">\n",
       "      <th></th>\n",
       "      <th>0</th>\n",
       "      <th>1</th>\n",
       "      <th>2</th>\n",
       "      <th>3</th>\n",
       "    </tr>\n",
       "  </thead>\n",
       "  <tbody>\n",
       "    <tr>\n",
       "      <th>0</th>\n",
       "      <td>4.6</td>\n",
       "      <td>3.2</td>\n",
       "      <td>1.4</td>\n",
       "      <td>0.2</td>\n",
       "    </tr>\n",
       "    <tr>\n",
       "      <th>1</th>\n",
       "      <td>5.5</td>\n",
       "      <td>2.3</td>\n",
       "      <td>4.0</td>\n",
       "      <td>1.3</td>\n",
       "    </tr>\n",
       "    <tr>\n",
       "      <th>2</th>\n",
       "      <td>7.7</td>\n",
       "      <td>3.0</td>\n",
       "      <td>6.1</td>\n",
       "      <td>2.3</td>\n",
       "    </tr>\n",
       "    <tr>\n",
       "      <th>3</th>\n",
       "      <td>5.0</td>\n",
       "      <td>3.0</td>\n",
       "      <td>1.6</td>\n",
       "      <td>0.2</td>\n",
       "    </tr>\n",
       "    <tr>\n",
       "      <th>4</th>\n",
       "      <td>6.5</td>\n",
       "      <td>2.8</td>\n",
       "      <td>4.6</td>\n",
       "      <td>1.5</td>\n",
       "    </tr>\n",
       "  </tbody>\n",
       "</table>\n",
       "</div>"
      ],
      "text/plain": [
       "     0    1    2    3\n",
       "0  4.6  3.2  1.4  0.2\n",
       "1  5.5  2.3  4.0  1.3\n",
       "2  7.7  3.0  6.1  2.3\n",
       "3  5.0  3.0  1.6  0.2\n",
       "4  6.5  2.8  4.6  1.5"
      ]
     },
     "execution_count": 8,
     "metadata": {},
     "output_type": "execute_result"
    }
   ],
   "source": [
    "X_original = RuScaler.inverse_transform(X_train_sc)\n",
    "pd.DataFrame(X_original).head()"
   ]
  },
  {
   "cell_type": "code",
   "execution_count": null,
   "metadata": {},
   "outputs": [],
   "source": []
  }
 ],
 "metadata": {
  "interpreter": {
   "hash": "29a5d830ee5eb5eabdb10511c29aaced43bbb583532fb9ecb44e50060afee3b8"
  },
  "kernelspec": {
   "display_name": "Python 3.10.4 64-bit (windows store)",
   "language": "python",
   "name": "python3"
  },
  "language_info": {
   "codemirror_mode": {
    "name": "ipython",
    "version": 3
   },
   "file_extension": ".py",
   "mimetype": "text/x-python",
   "name": "python",
   "nbconvert_exporter": "python",
   "pygments_lexer": "ipython3",
   "version": "3.10.4"
  },
  "orig_nbformat": 4
 },
 "nbformat": 4,
 "nbformat_minor": 2
}
