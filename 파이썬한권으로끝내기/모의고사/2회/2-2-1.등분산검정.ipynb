{
 "cells": [
  {
   "cell_type": "markdown",
   "metadata": {},
   "source": [
    "회사 제품의 금속 재질 함유량의 분산이 1.3을 넘으면 불량이라고 판단한다. 회사에서는 품질경영팀으로부터 제조사별로 금속 함유량이 차이가 난다고 제보를 받았다. 해당 금속 함유량 데이터에 대한 검정을 수행하시오. (유의확률 : 0.0.5)"
   ]
  },
  {
   "cell_type": "markdown",
   "metadata": {},
   "source": [
    "1. 귀무가설과 대립가설을 작성하시오."
   ]
  },
  {
   "cell_type": "markdown",
   "metadata": {},
   "source": [
    "H0 : 분산은 1.3이다.\n",
    "\n",
    "H1 : 분산은 1.3이 아니다. "
   ]
  },
  {
   "cell_type": "code",
   "execution_count": 1,
   "metadata": {},
   "outputs": [
    {
     "data": {
      "text/html": [
       "<div>\n",
       "<style scoped>\n",
       "    .dataframe tbody tr th:only-of-type {\n",
       "        vertical-align: middle;\n",
       "    }\n",
       "\n",
       "    .dataframe tbody tr th {\n",
       "        vertical-align: top;\n",
       "    }\n",
       "\n",
       "    .dataframe thead th {\n",
       "        text-align: right;\n",
       "    }\n",
       "</style>\n",
       "<table border=\"1\" class=\"dataframe\">\n",
       "  <thead>\n",
       "    <tr style=\"text-align: right;\">\n",
       "      <th></th>\n",
       "      <th>metalicity</th>\n",
       "    </tr>\n",
       "  </thead>\n",
       "  <tbody>\n",
       "    <tr>\n",
       "      <th>0</th>\n",
       "      <td>42.731551</td>\n",
       "    </tr>\n",
       "    <tr>\n",
       "      <th>1</th>\n",
       "      <td>46.429668</td>\n",
       "    </tr>\n",
       "    <tr>\n",
       "      <th>2</th>\n",
       "      <td>45.754023</td>\n",
       "    </tr>\n",
       "    <tr>\n",
       "      <th>3</th>\n",
       "      <td>45.808060</td>\n",
       "    </tr>\n",
       "    <tr>\n",
       "      <th>4</th>\n",
       "      <td>44.072529</td>\n",
       "    </tr>\n",
       "  </tbody>\n",
       "</table>\n",
       "</div>"
      ],
      "text/plain": [
       "   metalicity\n",
       "0   42.731551\n",
       "1   46.429668\n",
       "2   45.754023\n",
       "3   45.808060\n",
       "4   44.072529"
      ]
     },
     "execution_count": 1,
     "metadata": {},
     "output_type": "execute_result"
    }
   ],
   "source": [
    "import pandas as pd\n",
    "import numpy as np\n",
    "\n",
    "df = pd.read_csv('metalicity.txt')\n",
    "df.head()"
   ]
  },
  {
   "cell_type": "code",
   "execution_count": 2,
   "metadata": {},
   "outputs": [
    {
     "name": "stdout",
     "output_type": "stream",
     "text": [
      "ShapiroResult(statistic=0.9822470545768738, pvalue=0.050023749470710754)\n"
     ]
    }
   ],
   "source": [
    "#정규성\n",
    "import scipy.stats as stats\n",
    "print(stats.shapiro(df['metalicity']))"
   ]
  },
  {
   "cell_type": "markdown",
   "metadata": {},
   "source": [
    "p-value값이 0.05 이상이므로 귀무가설을 기각하지 못해 정규성을 띈다고 판단."
   ]
  },
  {
   "cell_type": "code",
   "execution_count": 3,
   "metadata": {},
   "outputs": [
    {
     "data": {
      "text/plain": [
       "array([43.6866453 , 47.24898688, 45.88582943, 43.46353093, 45.8829902 ,\n",
       "       46.09826148, 45.58019072, 44.89450347, 45.12325057, 43.90293102,\n",
       "       43.50333523, 43.08288333, 43.56299973, 45.69500768, 45.21691397,\n",
       "       47.18687866, 45.55266175, 45.15571367, 45.41414351, 43.59520329,\n",
       "       46.92593922, 45.78901763, 44.90014155, 45.53026619, 44.70952381,\n",
       "       46.56521465, 44.96026707, 47.43869418, 44.8606071 , 47.04941868,\n",
       "       45.9209461 , 46.15539731, 45.68237337, 44.88943973, 46.96479701,\n",
       "       44.30487813, 44.89652783, 43.74121067, 46.77270107, 43.25001153,\n",
       "       44.52857222, 43.50898697, 44.43417479, 46.46147715, 44.12799693,\n",
       "       45.08845349, 46.05505653, 45.41626277, 44.4097221 , 45.38059528,\n",
       "       42.86735993, 44.79425934, 44.27889751, 46.35073885, 44.03653463,\n",
       "       44.18346557, 43.79041292, 46.1613029 , 46.98485602, 42.90162649,\n",
       "       45.79071712, 45.79045446, 45.85031647, 44.93182975, 45.60855241,\n",
       "       44.11740939, 45.16887561, 44.66694928, 46.27012878, 45.65413615,\n",
       "       46.06306689, 45.71181719, 46.69278611, 46.0585041 , 44.92690768,\n",
       "       48.74459833, 46.03674278, 44.48544307, 46.78972991, 47.06128266,\n",
       "       45.26572689, 44.50957692, 44.46093366, 46.67433223, 47.85139502,\n",
       "       44.52496436, 45.61558393, 44.2903206 , 45.33559261, 44.67959978,\n",
       "       44.02501184, 45.74933932, 45.23261495, 47.07694804, 45.79322343,\n",
       "       44.72210212, 45.2325881 , 45.27130791, 44.89954797, 45.11470179,\n",
       "       45.87528968, 44.61968587, 45.54809722, 44.34400802, 44.44188984,\n",
       "       44.52793658, 47.07253403, 45.5076918 , 46.08173111, 44.19722942,\n",
       "       46.44289416, 44.26392858, 44.69554188, 44.25300297, 45.86664489,\n",
       "       45.92514651, 45.33951535, 44.32067219, 45.00412179, 45.97327363,\n",
       "       46.24419905, 43.12770703, 45.46455214, 45.23698057, 41.33145827,\n",
       "       43.79457105, 46.71365075, 45.05906248, 45.84191065, 47.00670451,\n",
       "       45.49083697, 44.80147286, 45.30535943, 44.62377053, 45.54979385,\n",
       "       45.7083359 , 44.96825333, 45.74606484, 45.83183203, 43.83810962,\n",
       "       45.01493895, 44.13155711, 44.54993048, 45.85411766, 46.16943917,\n",
       "       43.06981504, 44.39042071, 43.96593605, 44.39277329, 44.58552133])"
      ]
     },
     "execution_count": 3,
     "metadata": {},
     "output_type": "execute_result"
    }
   ],
   "source": [
    "# 정규분포이며, 해당 데이터의 평균을 갖고 분산이 1.3인 150행의 데이터를 만들어 등분산 검정 진행\n",
    "\n",
    "test = np.random.normal(45.32, 1.3**0.5, 150)\n",
    "test"
   ]
  },
  {
   "cell_type": "code",
   "execution_count": 4,
   "metadata": {},
   "outputs": [
    {
     "data": {
      "text/plain": [
       "LeveneResult(statistic=6.894154695617867, pvalue=0.009094306817031371)"
      ]
     },
     "execution_count": 4,
     "metadata": {},
     "output_type": "execute_result"
    }
   ],
   "source": [
    "stats.levene(df['metalicity'],test)"
   ]
  },
  {
   "cell_type": "markdown",
   "metadata": {},
   "source": [
    "p-value값이 0.05보다 작아 귀무가설인 '제품들의 금속재질 함유량 분산은 1.3이다'를 기각한다. 즉, 제품의 금속 재질 함유량 분산은 1.3이 아니라고 할수 있다. "
   ]
  },
  {
   "cell_type": "code",
   "execution_count": null,
   "metadata": {},
   "outputs": [],
   "source": []
  }
 ],
 "metadata": {
  "interpreter": {
   "hash": "bca38b256e388d16d702f8ff11aac94336c8494cf1cdc3923ce8c8c692506c0d"
  },
  "kernelspec": {
   "display_name": "Python 3.9.12 ('base')",
   "language": "python",
   "name": "python3"
  },
  "language_info": {
   "codemirror_mode": {
    "name": "ipython",
    "version": 3
   },
   "file_extension": ".py",
   "mimetype": "text/x-python",
   "name": "python",
   "nbconvert_exporter": "python",
   "pygments_lexer": "ipython3",
   "version": "3.9.12"
  },
  "orig_nbformat": 4
 },
 "nbformat": 4,
 "nbformat_minor": 2
}
