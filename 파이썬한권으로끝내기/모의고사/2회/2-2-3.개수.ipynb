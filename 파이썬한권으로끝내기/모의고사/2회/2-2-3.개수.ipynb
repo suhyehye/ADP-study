{
 "cells": [
  {
   "cell_type": "markdown",
   "metadata": {},
   "source": [
    "제품 1,2를 만드는 데 재료 a,b,c가 일부 사용되며, 제품 1,2를 만들 때 12만원과 18만원을 벌수 있다. 재료는 한정적으로 주어지는데, 이때 최대 수익을 낼 수 있을 떄의 제품 1과 2의 개수를 구하라."
   ]
  },
  {
   "cell_type": "code",
   "execution_count": null,
   "metadata": {},
   "outputs": [],
   "source": [
    "import pandas as pd\n",
    "import numpy as np\n",
    "\n",
    "supply = {'a' : 1300,'b' : 1000, 'c':1200}"
   ]
  },
  {
   "cell_type": "code",
   "execution_count": 1,
   "metadata": {},
   "outputs": [
    {
     "ename": "NameError",
     "evalue": "name 'a' is not defined",
     "output_type": "error",
     "traceback": [
      "\u001b[1;31m---------------------------------------------------------------------------\u001b[0m",
      "\u001b[1;31mNameError\u001b[0m                                 Traceback (most recent call last)",
      "\u001b[1;32mc:\\Users\\suhye\\.vscode\\Adp실기\\데이터분석전문가_파이썬\\모의고사\\2회\\2-2-3.개수.ipynb Cell 3'\u001b[0m in \u001b[0;36m<cell line: 1>\u001b[1;34m()\u001b[0m\n\u001b[1;32m----> <a href='vscode-notebook-cell:/c%3A/Users/suhye/.vscode/Adp%EC%8B%A4%EA%B8%B0/%EB%8D%B0%EC%9D%B4%ED%84%B0%EB%B6%84%EC%84%9D%EC%A0%84%EB%AC%B8%EA%B0%80_%ED%8C%8C%EC%9D%B4%EC%8D%AC/%EB%AA%A8%EC%9D%98%EA%B3%A0%EC%82%AC/2%ED%9A%8C/2-2-3.%EA%B0%9C%EC%88%98.ipynb#ch0000004?line=0'>1</a>\u001b[0m x \u001b[39m=\u001b[39m \u001b[39m20\u001b[39m \u001b[39m*\u001b[39m a \u001b[39m+\u001b[39m \u001b[39m20\u001b[39m \u001b[39m*\u001b[39m b \u001b[39m+\u001b[39m \u001b[39m20\u001b[39m \u001b[39m*\u001b[39m c\n\u001b[0;32m      <a href='vscode-notebook-cell:/c%3A/Users/suhye/.vscode/Adp%EC%8B%A4%EA%B8%B0/%EB%8D%B0%EC%9D%B4%ED%84%B0%EB%B6%84%EC%84%9D%EC%A0%84%EB%AC%B8%EA%B0%80_%ED%8C%8C%EC%9D%B4%EC%8D%AC/%EB%AA%A8%EC%9D%98%EA%B3%A0%EC%82%AC/2%ED%9A%8C/2-2-3.%EA%B0%9C%EC%88%98.ipynb#ch0000004?line=1'>2</a>\u001b[0m y \u001b[39m=\u001b[39m \u001b[39m40\u001b[39m \u001b[39m*\u001b[39m a \u001b[39m+\u001b[39m \u001b[39m30\u001b[39m \u001b[39m*\u001b[39m b \u001b[39m+\u001b[39m \u001b[39m30\u001b[39m \u001b[39m*\u001b[39m c\n",
      "\u001b[1;31mNameError\u001b[0m: name 'a' is not defined"
     ]
    }
   ],
   "source": [
    "x = 20 * a + 20 * b + 20 * c\n",
    "y = 40 * a + 30 * b + 30 * c"
   ]
  },
  {
   "cell_type": "code",
   "execution_count": null,
   "metadata": {},
   "outputs": [],
   "source": []
  }
 ],
 "metadata": {
  "interpreter": {
   "hash": "bca38b256e388d16d702f8ff11aac94336c8494cf1cdc3923ce8c8c692506c0d"
  },
  "kernelspec": {
   "display_name": "Python 3.9.12 ('base')",
   "language": "python",
   "name": "python3"
  },
  "language_info": {
   "codemirror_mode": {
    "name": "ipython",
    "version": 3
   },
   "file_extension": ".py",
   "mimetype": "text/x-python",
   "name": "python",
   "nbconvert_exporter": "python",
   "pygments_lexer": "ipython3",
   "version": "3.9.12"
  },
  "orig_nbformat": 4
 },
 "nbformat": 4,
 "nbformat_minor": 2
}
