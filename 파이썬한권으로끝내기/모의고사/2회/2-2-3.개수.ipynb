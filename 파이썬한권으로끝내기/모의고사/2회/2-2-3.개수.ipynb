{
 "cells": [
  {
   "cell_type": "markdown",
   "metadata": {},
   "source": [
    "제품 1,2를 만드는 데 재료 a,b,c가 일부 사용되며, 제품 1,2를 만들 때 12만원과 18만원을 벌수 있다. 재료는 한정적으로 주어지는데, 이때 최대 수익을 낼 수 있을 떄의 제품 1과 2의 개수를 구하라.\n",
    "\n",
    "\n",
    "재료 공급량 {'a' :1300, 'b':1000, 'c':1200}"
   ]
  },
  {
   "cell_type": "code",
   "execution_count": 8,
   "metadata": {},
   "outputs": [
    {
     "name": "stdout",
     "output_type": "stream",
     "text": [
      "촤대 수익은  600 만원 이다.\n",
      "제품 1 수량 :  5\n",
      "제품 2 수량 :  30\n"
     ]
    }
   ],
   "source": [
    "import pandas as pd\n",
    "import numpy as np\n",
    "\n",
    "#제품1 : x, 제품2 : y\n",
    "\n",
    "x=0\n",
    "y=32\n",
    "\n",
    "max_profit = 32*18\n",
    "material_a = 20  #1300 - 32*40\n",
    "material_b = 40  #1000 - 32*30\n",
    "material_c = 240  #1200 - 32*30\n",
    "\n",
    "while((material_a > 0))  or (material_b > 0 ) or (material_c > 0):\n",
    "    y -= 1\n",
    "    material_a += 40\n",
    "    material_b += 30\n",
    "    material_c += 30\n",
    "    \n",
    "    while ((material_a >= 20 ) and (material_b >= 20) and (material_c >= 20)):\n",
    "        x += 1\n",
    "        material_a -= 20\n",
    "        material_b -= 20\n",
    "        material_c -= 20\n",
    "        \n",
    "        if (y*18 + x*12) > max_profit:\n",
    "            max_profit = (y*18 + x*12)\n",
    "            result_x = x\n",
    "            result_y = y\n",
    "            \n",
    "    if y == 0 :\n",
    "        break\n",
    "    \n",
    "print('촤대 수익은 ',max_profit, '만원 이다.')\n",
    "print('제품 1 수량 : ',result_x)\n",
    "print('제품 2 수량 : ', result_y)\n"
   ]
  },
  {
   "cell_type": "code",
   "execution_count": 1,
   "metadata": {},
   "outputs": [
    {
     "name": "stdout",
     "output_type": "stream",
     "text": [
      "40\n"
     ]
    }
   ],
   "source": [
    "print(1000 - 32*30)"
   ]
  },
  {
   "cell_type": "code",
   "execution_count": null,
   "metadata": {},
   "outputs": [],
   "source": []
  }
 ],
 "metadata": {
  "interpreter": {
   "hash": "bca38b256e388d16d702f8ff11aac94336c8494cf1cdc3923ce8c8c692506c0d"
  },
  "kernelspec": {
   "display_name": "Python 3.9.12 ('base')",
   "language": "python",
   "name": "python3"
  },
  "language_info": {
   "codemirror_mode": {
    "name": "ipython",
    "version": 3
   },
   "file_extension": ".py",
   "mimetype": "text/x-python",
   "name": "python",
   "nbconvert_exporter": "python",
   "pygments_lexer": "ipython3",
   "version": "3.9.12"
  },
  "orig_nbformat": 4
 },
 "nbformat": 4,
 "nbformat_minor": 2
}
