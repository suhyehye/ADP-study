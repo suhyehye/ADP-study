{
 "cells": [
  {
   "cell_type": "code",
   "execution_count": 24,
   "id": "f382239e",
   "metadata": {},
   "outputs": [
    {
     "name": "stdout",
     "output_type": "stream",
     "text": [
      "^C\n",
      "Requirement already satisfied: tensorflow in c:\\users\\suhye\\anaconda3\\lib\\site-packages (2.9.1)\n",
      "Requirement already satisfied: tensorflow-estimator<2.10.0,>=2.9.0rc0 in c:\\users\\suhye\\anaconda3\\lib\\site-packages (from tensorflow) (2.9.0)\n",
      "Requirement already satisfied: gast<=0.4.0,>=0.2.1 in c:\\users\\suhye\\anaconda3\\lib\\site-packages (from tensorflow) (0.4.0)\n",
      "Requirement already satisfied: packaging in c:\\users\\suhye\\anaconda3\\lib\\site-packages (from tensorflow) (21.3)\n",
      "Requirement already satisfied: grpcio<2.0,>=1.24.3 in c:\\users\\suhye\\anaconda3\\lib\\site-packages (from tensorflow) (1.42.0)\n",
      "Requirement already satisfied: numpy>=1.20 in c:\\users\\suhye\\anaconda3\\lib\\site-packages (from tensorflow) (1.21.5)\n",
      "Requirement already satisfied: protobuf<3.20,>=3.9.2 in c:\\users\\suhye\\anaconda3\\lib\\site-packages (from tensorflow) (3.19.1)\n",
      "Requirement already satisfied: google-pasta>=0.1.1 in c:\\users\\suhye\\anaconda3\\lib\\site-packages (from tensorflow) (0.2.0)\n",
      "Requirement already satisfied: tensorboard<2.10,>=2.9 in c:\\users\\suhye\\anaconda3\\lib\\site-packages (from tensorflow) (2.9.0)\n",
      "Requirement already satisfied: wrapt>=1.11.0 in c:\\users\\suhye\\anaconda3\\lib\\site-packages (from tensorflow) (1.12.1)\n",
      "Requirement already satisfied: h5py>=2.9.0 in c:\\users\\suhye\\anaconda3\\lib\\site-packages (from tensorflow) (3.6.0)\n",
      "Requirement already satisfied: tensorflow-io-gcs-filesystem>=0.23.1 in c:\\users\\suhye\\anaconda3\\lib\\site-packages (from tensorflow) (0.26.0)\n",
      "Requirement already satisfied: astunparse>=1.6.0 in c:\\users\\suhye\\anaconda3\\lib\\site-packages (from tensorflow) (1.6.3)\n",
      "Requirement already satisfied: termcolor>=1.1.0 in c:\\users\\suhye\\anaconda3\\lib\\site-packages (from tensorflow) (1.1.0)\n",
      "Requirement already satisfied: typing-extensions>=3.6.6 in c:\\users\\suhye\\anaconda3\\lib\\site-packages (from tensorflow) (4.1.1)\n",
      "Requirement already satisfied: opt-einsum>=2.3.2 in c:\\users\\suhye\\anaconda3\\lib\\site-packages (from tensorflow) (3.3.0)\n",
      "Requirement already satisfied: flatbuffers<2,>=1.12 in c:\\users\\suhye\\anaconda3\\lib\\site-packages (from tensorflow) (1.12)\n",
      "Requirement already satisfied: six>=1.12.0 in c:\\users\\suhye\\anaconda3\\lib\\site-packages (from tensorflow) (1.16.0)\n",
      "Requirement already satisfied: absl-py>=1.0.0 in c:\\users\\suhye\\anaconda3\\lib\\site-packages (from tensorflow) (1.0.0)\n",
      "Requirement already satisfied: keras<2.10.0,>=2.9.0rc0 in c:\\users\\suhye\\anaconda3\\lib\\site-packages (from tensorflow) (2.9.0)\n",
      "Requirement already satisfied: libclang>=13.0.0 in c:\\users\\suhye\\anaconda3\\lib\\site-packages (from tensorflow) (14.0.1)\n",
      "Requirement already satisfied: setuptools in c:\\users\\suhye\\anaconda3\\lib\\site-packages (from tensorflow) (61.2.0)\n",
      "Requirement already satisfied: keras-preprocessing>=1.1.1 in c:\\users\\suhye\\anaconda3\\lib\\site-packages (from tensorflow) (1.1.2)\n",
      "Requirement already satisfied: wheel<1.0,>=0.23.0 in c:\\users\\suhye\\anaconda3\\lib\\site-packages (from astunparse>=1.6.0->tensorflow) (0.37.1)\n",
      "Requirement already satisfied: tensorboard-data-server<0.7.0,>=0.6.0 in c:\\users\\suhye\\anaconda3\\lib\\site-packages (from tensorboard<2.10,>=2.9->tensorflow) (0.6.1)\n",
      "Requirement already satisfied: markdown>=2.6.8 in c:\\users\\suhye\\anaconda3\\lib\\site-packages (from tensorboard<2.10,>=2.9->tensorflow) (3.3.4)\n",
      "Requirement already satisfied: requests<3,>=2.21.0 in c:\\users\\suhye\\anaconda3\\lib\\site-packages (from tensorboard<2.10,>=2.9->tensorflow) (2.27.1)\n",
      "Requirement already satisfied: tensorboard-plugin-wit>=1.6.0 in c:\\users\\suhye\\anaconda3\\lib\\site-packages (from tensorboard<2.10,>=2.9->tensorflow) (1.8.1)\n",
      "Requirement already satisfied: google-auth<3,>=1.6.3 in c:\\users\\suhye\\anaconda3\\lib\\site-packages (from tensorboard<2.10,>=2.9->tensorflow) (1.33.0)\n",
      "Requirement already satisfied: google-auth-oauthlib<0.5,>=0.4.1 in c:\\users\\suhye\\anaconda3\\lib\\site-packages (from tensorboard<2.10,>=2.9->tensorflow) (0.4.6)\n",
      "Requirement already satisfied: werkzeug>=1.0.1 in c:\\users\\suhye\\anaconda3\\lib\\site-packages (from tensorboard<2.10,>=2.9->tensorflow) (2.0.3)\n",
      "Requirement already satisfied: cachetools<5.0,>=2.0.0 in c:\\users\\suhye\\anaconda3\\lib\\site-packages (from google-auth<3,>=1.6.3->tensorboard<2.10,>=2.9->tensorflow) (4.2.2)\n",
      "Requirement already satisfied: pyasn1-modules>=0.2.1 in c:\\users\\suhye\\anaconda3\\lib\\site-packages (from google-auth<3,>=1.6.3->tensorboard<2.10,>=2.9->tensorflow) (0.2.8)\n",
      "Requirement already satisfied: rsa<5,>=3.1.4 in c:\\users\\suhye\\anaconda3\\lib\\site-packages (from google-auth<3,>=1.6.3->tensorboard<2.10,>=2.9->tensorflow) (4.7.2)\n",
      "Requirement already satisfied: requests-oauthlib>=0.7.0 in c:\\users\\suhye\\anaconda3\\lib\\site-packages (from google-auth-oauthlib<0.5,>=0.4.1->tensorboard<2.10,>=2.9->tensorflow) (1.3.1)\n",
      "Requirement already satisfied: pyasn1<0.5.0,>=0.4.6 in c:\\users\\suhye\\anaconda3\\lib\\site-packages (from pyasn1-modules>=0.2.1->google-auth<3,>=1.6.3->tensorboard<2.10,>=2.9->tensorflow) (0.4.8)\n",
      "Requirement already satisfied: urllib3<1.27,>=1.21.1 in c:\\users\\suhye\\anaconda3\\lib\\site-packages (from requests<3,>=2.21.0->tensorboard<2.10,>=2.9->tensorflow) (1.26.9)\n",
      "Requirement already satisfied: idna<4,>=2.5 in c:\\users\\suhye\\anaconda3\\lib\\site-packages (from requests<3,>=2.21.0->tensorboard<2.10,>=2.9->tensorflow) (3.3)\n",
      "Requirement already satisfied: certifi>=2017.4.17 in c:\\users\\suhye\\anaconda3\\lib\\site-packages (from requests<3,>=2.21.0->tensorboard<2.10,>=2.9->tensorflow) (2021.10.8)\n",
      "Requirement already satisfied: charset-normalizer~=2.0.0 in c:\\users\\suhye\\anaconda3\\lib\\site-packages (from requests<3,>=2.21.0->tensorboard<2.10,>=2.9->tensorflow) (2.0.4)\n",
      "Requirement already satisfied: oauthlib>=3.0.0 in c:\\users\\suhye\\anaconda3\\lib\\site-packages (from requests-oauthlib>=0.7.0->google-auth-oauthlib<0.5,>=0.4.1->tensorboard<2.10,>=2.9->tensorflow) (3.2.0)\n",
      "Requirement already satisfied: pyparsing!=3.0.5,>=2.0.2 in c:\\users\\suhye\\anaconda3\\lib\\site-packages (from packaging->tensorflow) (3.0.4)\n",
      "Requirement already satisfied: keras in c:\\users\\suhye\\anaconda3\\lib\\site-packages (2.9.0)\n"
     ]
    }
   ],
   "source": [
    "!pip install tensorflow\n",
    "!pip install keras"
   ]
  },
  {
   "cell_type": "code",
   "execution_count": 38,
   "id": "d5928894",
   "metadata": {},
   "outputs": [],
   "source": [
    "from keras.datasets import imdb\n",
    "(x_train, y_train),(x_test, y_test) = imdb.load_data()"
   ]
  },
  {
   "cell_type": "code",
   "execution_count": 39,
   "id": "253aa0de",
   "metadata": {},
   "outputs": [
    {
     "name": "stdout",
     "output_type": "stream",
     "text": [
      "(25000,) (25000,)\n"
     ]
    }
   ],
   "source": [
    "print(x_train.shape, x_test.shape)"
   ]
  },
  {
   "cell_type": "code",
   "execution_count": 40,
   "id": "eacdb0ca",
   "metadata": {},
   "outputs": [
    {
     "data": {
      "text/plain": [
       "array([1, 0, 0, ..., 0, 1, 0], dtype=int64)"
      ]
     },
     "execution_count": 40,
     "metadata": {},
     "output_type": "execute_result"
    }
   ],
   "source": [
    "y_train"
   ]
  },
  {
   "cell_type": "code",
   "execution_count": 41,
   "id": "a2886258",
   "metadata": {},
   "outputs": [
    {
     "data": {
      "text/plain": [
       "array([0, 1, 1, ..., 0, 0, 0], dtype=int64)"
      ]
     },
     "execution_count": 41,
     "metadata": {},
     "output_type": "execute_result"
    }
   ],
   "source": [
    "y_test"
   ]
  },
  {
   "cell_type": "code",
   "execution_count": 42,
   "id": "8c73332d",
   "metadata": {},
   "outputs": [
    {
     "name": "stdout",
     "output_type": "stream",
     "text": [
      "train dataset for MNB : \n",
      "                                                  reviews  label\n",
      "0      ilm was just brilliant casting location scener...      1\n",
      "1      ir big boobs bad music and a giant safety pin ...      0\n",
      "2      as to be one of the worst films of the 1990s w...      0\n",
      "3      ots excel at storytelling the traditional sort...      1\n",
      "4      mistake of my life br br i picked this movie u...      0\n",
      "...                                                  ...    ...\n",
      "24995  s a racist movie but worthy of study and enjoy...      1\n",
      "24996  ugosi plays a doctor who will do anything to k...      0\n",
      "24997  ar away galaxy is a planet called ceta it's na...      0\n",
      "24998  grees had me hooked i looked forward to it com...      1\n",
      "24999  ig fan of the original film it's hard to watch...      0\n",
      "\n",
      "[25000 rows x 2 columns]\n",
      "test dataset for MNB : \n",
      "                                                  reviews  label\n",
      "0      <sos> please give this one a miss br br kristy...      0\n",
      "1      <sos> this film requires a lot of patience bec...      1\n",
      "2      <sos> many animation buffs consider wladyslaw ...      1\n",
      "3      <sos> i generally love this type of movie howe...      0\n",
      "4      <sos> like some other people wrote i'm a die h...      1\n",
      "...                                                  ...    ...\n",
      "24995  <sos> the book is better than the film mostly ...      1\n",
      "24996  <sos> the largest crowd to ever see a wrestlin...      1\n",
      "24997  <sos> i suppose that to say this is an all out...      0\n",
      "24998  <sos> in love 2 is the third movie it seemed t...      0\n",
      "24999  <sos> a good ol' boy film is almost required t...      0\n",
      "\n",
      "[25000 rows x 2 columns]\n"
     ]
    }
   ],
   "source": [
    "import pandas as pd\n",
    "\n",
    "word_to_index = imdb.get_word_index()\n",
    "index_to_word = {}\n",
    "\n",
    "for key, value in word_to_index.items():\n",
    "    index_to_word [value+3] = key\n",
    "    \n",
    "for index, token in enumerate(('<pad>', '<sos>', '<unk>')):\n",
    "    index_to_word[index] = token\n",
    "    \n",
    "train_reviews = []\n",
    "\n",
    "for x in x_train:\n",
    "    tmp = ' '.join([index_to_word[index] for index in x])\n",
    "    train_reviews.append(tmp)\n",
    "    \n",
    "test_reviews = []\n",
    "for x in x_test:\n",
    "    tmp = ' '.join([index_to_word[index] for index in x])\n",
    "    test_reviews.append(tmp)\n",
    "    \n",
    "train = pd.concat([pd.DataFrame(train_reviews), pd.DataFrame(y_train)], axis=1)\n",
    "train.columns = ['reviews','label']\n",
    "train['reviews'] = train['reviews'].str[6:]\n",
    "\n",
    "test = pd.concat([pd.DataFrame(test_reviews), pd.DataFrame(y_test)], axis=1)\n",
    "test.columns = ['reviews','label']\n",
    "train['reviews'] = train['reviews'].str[6:]\n",
    "\n",
    "print(\"train dataset for MNB : \\n\",train)\n",
    "print(\"test dataset for MNB : \\n\",test)\n"
   ]
  },
  {
   "cell_type": "code",
   "execution_count": 43,
   "id": "b96f2e10",
   "metadata": {},
   "outputs": [
    {
     "name": "stdout",
     "output_type": "stream",
     "text": [
      "(25000,) (25000,)\n",
      "(25000,) (25000,)\n"
     ]
    }
   ],
   "source": [
    "x_train, x_test = train['reviews'].values, test['reviews'].values\n",
    "y_train, y_test = train['label'].values, test['label'].values\n",
    "\n",
    "print(x_train.shape, y_train.shape)\n",
    "print(x_test.shape, y_test.shape)"
   ]
  },
  {
   "cell_type": "code",
   "execution_count": 44,
   "id": "c7b72157",
   "metadata": {},
   "outputs": [
    {
     "data": {
      "text/plain": [
       "(25000, 76521)"
      ]
     },
     "execution_count": 44,
     "metadata": {},
     "output_type": "execute_result"
    }
   ],
   "source": [
    "from sklearn.feature_extraction.text import CountVectorizer\n",
    "cv = CountVectorizer(binary=False)\n",
    "x_traincv = cv.fit_transform(x_train)\n",
    "x_traincv.shape"
   ]
  },
  {
   "cell_type": "code",
   "execution_count": 45,
   "id": "3e3e2e45",
   "metadata": {},
   "outputs": [
    {
     "name": "stdout",
     "output_type": "stream",
     "text": [
      "['ilm' 'was' 'just' 'brilliant' 'casting' 'location' 'scenery' 'story'\n",
      " 'direction' 'everyone' 'really' 'suited' 'the' 'part' 'they' 'played'\n",
      " 'and' 'you' 'could' 'imagine' 'being' 'there' 'robert' 'redford' 'is'\n",
      " 'an' 'amazing' 'actor' 'now' 'same' 'director' 'norman' 'father' 'came'\n",
      " 'from' 'scottish' 'island' 'as' 'myself' 'so' 'loved' 'fact' 'real'\n",
      " 'connection' 'with' 'this' 'film' 'witty' 'remarks' 'throughout' 'were'\n",
      " 'great' 'it' 'much' 'that' 'bought' 'soon' 'released' 'for' 'retail'\n",
      " 'would' 'recommend' 'to' 'watch' 'fly' 'fishing' 'cried' 'at' 'end' 'sad'\n",
      " 'know' 'what' 'say' 'if' 'cry' 'must' 'have' 'been' 'good' 'definitely'\n",
      " 'also' 'congratulations' 'two' 'little' 'boy' 'of' 'paul' 'children'\n",
      " 'are' 'often' 'left' 'out' 'praising' 'list' 'think' 'because' 'stars'\n",
      " 'play' 'them' 'all' 'grown' 'up' 'such' 'big' 'profile' 'whole' 'but'\n",
      " 'these' 'should' 'be' 'praised' 'done' 'don' 'lovely' 'true' 'someone'\n",
      " 'life' 'after' 'shared' 'us']\n"
     ]
    }
   ],
   "source": [
    "print(cv.inverse_transform(x_traincv)[0])"
   ]
  },
  {
   "cell_type": "code",
   "execution_count": 46,
   "id": "9e95b2cf",
   "metadata": {},
   "outputs": [
    {
     "name": "stdout",
     "output_type": "stream",
     "text": [
      "['était', 'état', 'étc', 'évery', 'êxtase', 'ís', 'ísnt', 'østbye', 'über', 'üvegtigris']\n"
     ]
    },
    {
     "name": "stderr",
     "output_type": "stream",
     "text": [
      "C:\\Users\\suhye\\anaconda3\\lib\\site-packages\\sklearn\\utils\\deprecation.py:87: FutureWarning: Function get_feature_names is deprecated; get_feature_names is deprecated in 1.0 and will be removed in 1.2. Please use get_feature_names_out instead.\n",
      "  warnings.warn(msg, category=FutureWarning)\n"
     ]
    }
   ],
   "source": [
    "print(cv.get_feature_names()[-10:])"
   ]
  },
  {
   "cell_type": "code",
   "execution_count": 47,
   "id": "2187c7eb",
   "metadata": {},
   "outputs": [
    {
     "data": {
      "text/plain": [
       "MultinomialNB()"
      ]
     },
     "execution_count": 47,
     "metadata": {},
     "output_type": "execute_result"
    }
   ],
   "source": [
    "from sklearn.naive_bayes import MultinomialNB\n",
    "mnb = MultinomialNB()\n",
    "mnb.fit(x_traincv, y_train)"
   ]
  },
  {
   "cell_type": "code",
   "execution_count": 48,
   "id": "bb8b2f71",
   "metadata": {},
   "outputs": [
    {
     "name": "stdout",
     "output_type": "stream",
     "text": [
      "[0 1 1 ... 0 0 1]\n"
     ]
    }
   ],
   "source": [
    "print(pred)"
   ]
  },
  {
   "cell_type": "code",
   "execution_count": 49,
   "id": "2bad4321",
   "metadata": {},
   "outputs": [
    {
     "name": "stdout",
     "output_type": "stream",
     "text": [
      "accuracy score :  0.81932\n"
     ]
    }
   ],
   "source": [
    "from sklearn.metrics import accuracy_score, classification_report\n",
    "\n",
    "x_testcv = cv.transform(x_test)\n",
    "pred = mnb.predict(x_testcv)\n",
    "acc = accuracy_score(y_test,pred)\n",
    "print('accuracy score : ',acc)"
   ]
  },
  {
   "cell_type": "code",
   "execution_count": 50,
   "id": "a458fa1f",
   "metadata": {},
   "outputs": [
    {
     "name": "stdout",
     "output_type": "stream",
     "text": [
      "              precision    recall  f1-score   support\n",
      "\n",
      "           0       0.79      0.87      0.83     12500\n",
      "           1       0.85      0.77      0.81     12500\n",
      "\n",
      "    accuracy                           0.82     25000\n",
      "   macro avg       0.82      0.82      0.82     25000\n",
      "weighted avg       0.82      0.82      0.82     25000\n",
      "\n"
     ]
    }
   ],
   "source": [
    "from sklearn.metrics import classification_report\n",
    "print(classification_report(y_test,pred))"
   ]
  },
  {
   "cell_type": "code",
   "execution_count": null,
   "id": "8e0748c9",
   "metadata": {},
   "outputs": [],
   "source": []
  }
 ],
 "metadata": {
  "kernelspec": {
   "display_name": "Python 3 (ipykernel)",
   "language": "python",
   "name": "python3"
  },
  "language_info": {
   "codemirror_mode": {
    "name": "ipython",
    "version": 3
   },
   "file_extension": ".py",
   "mimetype": "text/x-python",
   "name": "python",
   "nbconvert_exporter": "python",
   "pygments_lexer": "ipython3",
   "version": "3.9.12"
  }
 },
 "nbformat": 4,
 "nbformat_minor": 5
}
