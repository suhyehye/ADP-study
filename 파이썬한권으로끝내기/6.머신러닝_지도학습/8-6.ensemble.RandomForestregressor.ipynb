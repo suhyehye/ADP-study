{
 "cells": [
  {
   "cell_type": "code",
   "execution_count": 5,
   "metadata": {},
   "outputs": [
    {
     "name": "stdout",
     "output_type": "stream",
     "text": [
      "(143, 13) (62, 13) (143,) (62,)\n"
     ]
    }
   ],
   "source": [
    "import pandas as pd\n",
    "car = pd.read_csv('CarPrice_Assignment.csv')\n",
    "car_num = car.select_dtypes(['number'])\n",
    "features = list(car_num.columns.difference(['car_ID','symboling','price']))\n",
    "\n",
    "x = car_num[features]\n",
    "y = car_num['price']\n",
    "\n",
    "from sklearn.model_selection import train_test_split\n",
    "\n",
    "x_train, x_test, y_train, y_test = train_test_split(x,y,test_size=0.3, random_state=1)\n",
    "\n",
    "print(x_train.shape, x_test.shape, y_train.shape, y_test.shape)"
   ]
  },
  {
   "cell_type": "code",
   "execution_count": 6,
   "metadata": {},
   "outputs": [
    {
     "name": "stdout",
     "output_type": "stream",
     "text": [
      "MSE\t4096553.937\n",
      "MAE\t1325.463\n",
      "RMSE\t2023.995\n",
      "ACC\t93.214%\n"
     ]
    }
   ],
   "source": [
    "from sklearn.ensemble import RandomForestRegressor\n",
    "import numpy as np\n",
    "\n",
    "reg = RandomForestRegressor()\n",
    "pred = reg.fit(x_train,y_train).predict(x_test)\n",
    "\n",
    "from sklearn.metrics import mean_squared_error, mean_absolute_error,mean_squared_error\n",
    "\n",
    "mse = mean_squared_error(y_test,pred)\n",
    "mae = mean_absolute_error(y_test,pred)\n",
    "rmse = np.sqrt(mse)\n",
    "acc = reg.score(x_test,y_test)\n",
    "\n",
    "print('MSE\\t{}'.format(round(mse,3)))\n",
    "print('MAE\\t{}'.format(round(mae,3)))\n",
    "print('RMSE\\t{}'.format(round(rmse,3)))\n",
    "print('ACC\\t{}%'.format(round(acc*100,3)))"
   ]
  },
  {
   "cell_type": "code",
   "execution_count": 7,
   "metadata": {},
   "outputs": [
    {
     "name": "stdout",
     "output_type": "stream",
     "text": [
      "          feature_nm  importances\n",
      "0          boreratio     0.003639\n",
      "1          carheight     0.003829\n",
      "2          carlength     0.007932\n",
      "3           carwidth     0.020014\n",
      "4            citympg     0.005280\n",
      "5   compressionratio     0.004443\n",
      "6         curbweight     0.187626\n",
      "7         enginesize     0.668302\n",
      "8         highwaympg     0.050972\n",
      "9         horsepower     0.023220\n",
      "10           peakrpm     0.007148\n",
      "11            stroke     0.004001\n",
      "12         wheelbase     0.013594\n"
     ]
    }
   ],
   "source": [
    "importances = reg.feature_importances_\n",
    "column_nm = pd.DataFrame(features)\n",
    "feature_importances = pd.concat([column_nm,\n",
    "                                 pd.DataFrame(importances)],\n",
    "                                axis=1)\n",
    "feature_importances.columns = ['feature_nm','importances']\n",
    "print(feature_importances)"
   ]
  },
  {
   "cell_type": "code",
   "execution_count": 10,
   "metadata": {},
   "outputs": [
    {
     "data": {
      "image/png": "[encoded data removed]",
      "text/plain": [
       "<Figure size 432x288 with 1 Axes>"
      ]
     },
     "metadata": {
      "needs_background": "light"
     },
     "output_type": "display_data"
    }
   ],
   "source": [
    "import matplotlib.pyplot as plt\n",
    "\n",
    "n_features = x_train.shape[1]\n",
    "importances = reg.feature_importances_\n",
    "column_nm = features\n",
    "\n",
    "plt.barh(range(n_features),importances, align = 'center')\n",
    "plt.yticks(np.arange(n_features),column_nm)\n",
    "plt.xlabel('feature importances')\n",
    "plt.ylabel('feature')\n",
    "\n",
    "plt.ylim(-1,n_features)\n",
    "plt.show()"
   ]
  },
  {
   "cell_type": "code",
   "execution_count": null,
   "metadata": {},
   "outputs": [],
   "source": []
  }
 ],
 "metadata": {
  "interpreter": {
   "hash": "29a5d830ee5eb5eabdb10511c29aaced43bbb583532fb9ecb44e50060afee3b8"
  },
  "kernelspec": {
   "display_name": "Python 3.10.4 64-bit (windows store)",
   "language": "python",
   "name": "python3"
  },
  "language_info": {
   "codemirror_mode": {
    "name": "ipython",
    "version": 3
   },
   "file_extension": ".py",
   "mimetype": "text/x-python",
   "name": "python",
   "nbconvert_exporter": "python",
   "pygments_lexer": "ipython3",
   "version": "3.10.4"
  },
  "orig_nbformat": 4
 },
 "nbformat": 4,
 "nbformat_minor": 2
}
