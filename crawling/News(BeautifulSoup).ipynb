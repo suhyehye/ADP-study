{
 "cells": [
  {
   "cell_type": "code",
   "execution_count": 3,
   "id": "f51ffd70",
   "metadata": {},
   "outputs": [],
   "source": [
    "import urllib.request as ure\n",
    "from bs4 import BeautifulSoup as bs\n",
    "\n",
    "news = 'https://www.forbes.com/'\n",
    "soup = bs(ure.urlopen(news).read(),'html.parser')"
   ]
  },
  {
   "cell_type": "code",
   "execution_count": 4,
   "id": "94ef580a",
   "metadata": {},
   "outputs": [
    {
     "data": {
      "text/plain": [
       "[<a aria-hidden=\"false\" class=\"happening__title\" data-ga-track=\"Breaking Article 1\" href=\"https://www.forbes.com/sites/roberthart/2022/02/14/us-canada-bridge-reopens-after-six-day-freedom-convoy-blockade/\" tabindex=\"0\">U.S.-Canada Bridge Reopens After Six-Day ‘Freedom Convoy’ Blockade</a>,\n",
       " <a aria-hidden=\"false\" class=\"happening__title\" data-ga-track=\"Breaking Article 2\" href=\"https://www.forbes.com/sites/siladityaray/2022/02/14/lapd-declares-unlawful-assembly-after-rams-fans-super-bowl-celebrations-get-rowdy/\" tabindex=\"0\">LAPD Declares Unlawful Assembly After Rams Fans’ Super Bowl Celebrations Get Rowdy</a>,\n",
       " <a aria-hidden=\"false\" class=\"happening__title\" data-ga-track=\"Breaking Article 3\" href=\"https://www.forbes.com/sites/siladityaray/2022/02/14/russian-skater-kamila-valieva-can-compete-at-beijing-olympics-despite-doping-violation-tribunal-rules/\" tabindex=\"0\">Russian Skater Kamila Valieva Can Compete At Beijing Olympics After Failed Drugs Test, Tribunal Rules</a>,\n",
       " <a aria-hidden=\"false\" class=\"happening__title\" data-ga-track=\"Breaking Article 4\" href=\"https://www.forbes.com/sites/brettknight/2022/02/13/super-bowl-56-rams-bengals/\" tabindex=\"0\">LA Rams Edge Cincinnati Bengals In A Super Bowl Comeback They Couldn’t Have Scripted Better</a>,\n",
       " <a aria-hidden=\"false\" class=\"happening__title\" data-ga-track=\"Breaking Article 5\" href=\"https://www.forbes.com/sites/dereksaul/2022/02/13/qb-rumor-mill-rams-stafford-raiders-carr-in-colts-wentz-out-and-cardinals-and-murray-on-the-rocks/\" tabindex=\"0\">QB Rumor Mill: Rams' Stafford, Raiders' Carr In, Colts' Wentz Out And Cardinals And Murray On The Rocks</a>,\n",
       " <a aria-hidden=\"false\" class=\"happening__title\" data-ga-track=\"Breaking Article 6\" href=\"https://www.forbes.com/sites/masonbissada/2022/02/13/a-wave-of-up-to-a-million-poland-hungary-israel-brace-for-potential-surge-of-ukrainian-refugees/\" tabindex=\"0\">‘A Wave Of Up To A Million’: Poland, Hungary, Israel Brace For Potential Surge Of Ukrainian Refugees</a>,\n",
       " <a aria-hidden=\"true\" class=\"happening__title\" data-ga-track=\"Breaking Article 7\" href=\"https://www.forbes.com/sites/dereksaul/2022/02/13/biden-to-ukraines-zelensky-us-will-react-swiftly-and-decisively-if-necessary/\" tabindex=\"-1\">Biden To Ukraine’s Zelensky: U.S. Will React ‘Swiftly And Decisively’ If Necessary</a>,\n",
       " <a aria-hidden=\"true\" class=\"happening__title\" data-ga-track=\"Breaking Article 8\" href=\"https://www.forbes.com/sites/dereksaul/2022/02/13/freedom-convoy-arrests-canada-clears-protesters-from-crucial-bridge-between-us-and-canada/\" tabindex=\"-1\">‘Freedom Convoy’ Arrests: Canada Clears Protesters From Crucial Bridge Between U.S. And Canada</a>,\n",
       " <a aria-hidden=\"true\" class=\"happening__title\" data-ga-track=\"Breaking Article 9\" href=\"https://www.forbes.com/sites/lisakim/2022/02/12/poland-opens-border-to-americans-fleeing-ukraine-as-fears-of-russian-invasion-rise/\" tabindex=\"-1\">Poland Opens Border To Americans Fleeing Ukraine As Fears Of Russian Invasion Rise</a>,\n",
       " <a aria-hidden=\"true\" class=\"happening__title\" data-ga-track=\"Breaking Article 10\" href=\"https://www.forbes.com/sites/annakaplan/2022/02/12/rapper-kodak-black-reportedly-shot-outside-after-party-for-justin-bieber-concert/\" tabindex=\"-1\">Rapper Kodak Black Reportedly Shot Outside After-Party For Justin Bieber Concert</a>,\n",
       " <a aria-hidden=\"true\" class=\"happening__title\" data-ga-track=\"Breaking Article 11\" href=\"https://www.forbes.com/sites/annakaplan/2022/02/12/biden-tells-putin-us-will-impose-swift-and-severe-costs-if-russia-invades-ukraine/\" tabindex=\"-1\">Biden Tells Putin U.S. Will Impose ‘Swift And Severe Costs’ If Russia Invades Ukraine</a>,\n",
       " <a aria-hidden=\"true\" class=\"happening__title\" data-ga-track=\"Breaking Article 12\" href=\"https://www.forbes.com/sites/lisakim/2022/02/12/dutch-airline-klm-suspends-flights-to-ukraine-amid-rising-fears-of-russian-invasion/\" tabindex=\"-1\">Dutch Airline KLM Suspends Flights To Ukraine Amid Rising Fears Of Russian Invasion</a>,\n",
       " <a aria-hidden=\"true\" class=\"happening__title\" data-ga-track=\"Breaking Article 13\" href=\"https://www.forbes.com/sites/lisakim/2022/02/12/canadian-police-clearing-protesters-from-key-bridge-connecting-canada-and-us/\" tabindex=\"-1\">Holdouts Still Blocking Key Bridge Connecting Canada And U.S. After Police Clear Away Most Protesters</a>,\n",
       " <a aria-hidden=\"true\" class=\"happening__title\" data-ga-track=\"Breaking Article 14\" href=\"https://www.forbes.com/sites/annakaplan/2022/02/12/us-uk-pull-military-trainers-out-of-ukraine-with-russian-attack-possible-any-day-now/\" tabindex=\"-1\">U.S., U.K. Pull Military Trainers Out Of Ukraine With Russian Attack Possible ‘Any Day Now’</a>,\n",
       " <a aria-hidden=\"true\" class=\"happening__title\" data-ga-track=\"Breaking Article 15\" href=\"https://www.forbes.com/sites/zacharysmith/2022/02/11/walmart-reportedly-scraps-mask-mandate-for-vaccinated-staff/\" tabindex=\"-1\">Walmart Reportedly Scraps Mask Mandate For Vaccinated Staff</a>,\n",
       " <a aria-hidden=\"true\" class=\"happening__title\" data-ga-track=\"Breaking Article 16\" href=\"https://www.forbes.com/sites/zacharysmith/2022/02/11/judge-authorizes-canadian-police-to-clear-protesters-blocking-crucial-bridge-to-us/\" tabindex=\"-1\">Judge Authorizes Canadian Police To Clear Protesters Blocking Crucial Bridge To U.S.</a>,\n",
       " <a aria-hidden=\"true\" class=\"happening__title\" data-ga-track=\"Breaking Article 17\" href=\"https://www.forbes.com/sites/nicholasreimann/2022/02/11/biden-and-putin-will-talk-saturday-as-ukraine-crisis-reaches-fever-pitch/\" tabindex=\"-1\">Biden And Putin Will Talk Saturday As Ukraine Crisis Reaches Fever Pitch</a>,\n",
       " <a aria-hidden=\"true\" class=\"happening__title\" data-ga-track=\"Breaking Article 18\" href=\"https://www.forbes.com/sites/marisadellatto/2022/02/11/netflix-orders-series-on-crypto-couple-only-three-days-after-they-came-to-fame-highlighting-rise-of-insta-doc/\" tabindex=\"-1\">Netflix Orders Series On Crypto Couple Only Three Days After They Came To Fame, Highlighting Rise Of ‘Insta-Doc’</a>,\n",
       " <a aria-hidden=\"true\" class=\"happening__title\" data-ga-track=\"Breaking Article 19\" href=\"https://www.forbes.com/sites/alisondurkee/2022/02/11/biden-could-interview-supreme-court-nominees-next-week-heres-what-we-know-about-his-decision-so-far/\" tabindex=\"-1\">Biden Could Interview Supreme Court Nominees Next Week—Here’s What We Know About His Decision So Far</a>,\n",
       " <a aria-hidden=\"true\" class=\"happening__title\" data-ga-track=\"Breaking Article 20\" href=\"https://www.forbes.com/sites/nicholasreimann/2022/02/11/gatorade-colors-coin-tosses-and-an-octopus-here-are-some-odd-super-bowl-bets-you-can-legally-make/\" tabindex=\"-1\">Gatorade Colors, Coin Tosses And An Octopus: Here Are Some Odd Super Bowl Bets You Can (Legally) Make</a>,\n",
       " <a aria-hidden=\"true\" class=\"happening__title\" data-ga-track=\"Breaking Article 21\" href=\"https://www.forbes.com/sites/zacharysmith/2022/02/11/fda-authorizes-eli-lilly-antibody-treatment-that-fights-omicron/\" tabindex=\"-1\">FDA Authorizes Eli Lilly Antibody Treatment That Fights Omicron</a>]"
      ]
     },
     "execution_count": 4,
     "metadata": {},
     "output_type": "execute_result"
    }
   ],
   "source": [
    "soup.find_all('a',{\"class\":\"happening__title\"})"
   ]
  },
  {
   "cell_type": "markdown",
   "id": "d458d1df",
   "metadata": {},
   "source": [
    "## 기사제목만"
   ]
  },
  {
   "cell_type": "code",
   "execution_count": 5,
   "id": "e527028a",
   "metadata": {},
   "outputs": [
    {
     "name": "stdout",
     "output_type": "stream",
     "text": [
      "U.S.-Canada Bridge Reopens After Six-Day ‘Freedom Convoy’ Blockade\n",
      "LAPD Declares Unlawful Assembly After Rams Fans’ Super Bowl Celebrations Get Rowdy\n",
      "Russian Skater Kamila Valieva Can Compete At Beijing Olympics After Failed Drugs Test, Tribunal Rules\n",
      "LA Rams Edge Cincinnati Bengals In A Super Bowl Comeback They Couldn’t Have Scripted Better\n",
      "QB Rumor Mill: Rams' Stafford, Raiders' Carr In, Colts' Wentz Out And Cardinals And Murray On The Rocks\n",
      "‘A Wave Of Up To A Million’: Poland, Hungary, Israel Brace For Potential Surge Of Ukrainian Refugees\n",
      "Biden To Ukraine’s Zelensky: U.S. Will React ‘Swiftly And Decisively’ If Necessary\n",
      "‘Freedom Convoy’ Arrests: Canada Clears Protesters From Crucial Bridge Between U.S. And Canada\n",
      "Poland Opens Border To Americans Fleeing Ukraine As Fears Of Russian Invasion Rise\n",
      "Rapper Kodak Black Reportedly Shot Outside After-Party For Justin Bieber Concert\n",
      "Biden Tells Putin U.S. Will Impose ‘Swift And Severe Costs’ If Russia Invades Ukraine\n",
      "Dutch Airline KLM Suspends Flights To Ukraine Amid Rising Fears Of Russian Invasion\n",
      "Holdouts Still Blocking Key Bridge Connecting Canada And U.S. After Police Clear Away Most Protesters\n",
      "U.S., U.K. Pull Military Trainers Out Of Ukraine With Russian Attack Possible ‘Any Day Now’\n",
      "Walmart Reportedly Scraps Mask Mandate For Vaccinated Staff\n",
      "Judge Authorizes Canadian Police To Clear Protesters Blocking Crucial Bridge To U.S.\n",
      "Biden And Putin Will Talk Saturday As Ukraine Crisis Reaches Fever Pitch\n",
      "Netflix Orders Series On Crypto Couple Only Three Days After They Came To Fame, Highlighting Rise Of ‘Insta-Doc’\n",
      "Biden Could Interview Supreme Court Nominees Next Week—Here’s What We Know About His Decision So Far\n",
      "Gatorade Colors, Coin Tosses And An Octopus: Here Are Some Odd Super Bowl Bets You Can (Legally) Make\n",
      "FDA Authorizes Eli Lilly Antibody Treatment That Fights Omicron\n"
     ]
    }
   ],
   "source": [
    "for i in soup.find_all('a',{\"class\":\"happening__title\"}):\n",
    "    print(i.text)"
   ]
  },
  {
   "cell_type": "markdown",
   "id": "77925f57",
   "metadata": {},
   "source": [
    "## URL만"
   ]
  },
  {
   "cell_type": "code",
   "execution_count": 6,
   "id": "8af2bc54",
   "metadata": {},
   "outputs": [
    {
     "name": "stdout",
     "output_type": "stream",
     "text": [
      "https://www.forbes.com/sites/roberthart/2022/02/14/us-canada-bridge-reopens-after-six-day-freedom-convoy-blockade/\n",
      "https://www.forbes.com/sites/siladityaray/2022/02/14/lapd-declares-unlawful-assembly-after-rams-fans-super-bowl-celebrations-get-rowdy/\n",
      "https://www.forbes.com/sites/siladityaray/2022/02/14/russian-skater-kamila-valieva-can-compete-at-beijing-olympics-despite-doping-violation-tribunal-rules/\n",
      "https://www.forbes.com/sites/brettknight/2022/02/13/super-bowl-56-rams-bengals/\n",
      "https://www.forbes.com/sites/dereksaul/2022/02/13/qb-rumor-mill-rams-stafford-raiders-carr-in-colts-wentz-out-and-cardinals-and-murray-on-the-rocks/\n",
      "https://www.forbes.com/sites/masonbissada/2022/02/13/a-wave-of-up-to-a-million-poland-hungary-israel-brace-for-potential-surge-of-ukrainian-refugees/\n",
      "https://www.forbes.com/sites/dereksaul/2022/02/13/biden-to-ukraines-zelensky-us-will-react-swiftly-and-decisively-if-necessary/\n",
      "https://www.forbes.com/sites/dereksaul/2022/02/13/freedom-convoy-arrests-canada-clears-protesters-from-crucial-bridge-between-us-and-canada/\n",
      "https://www.forbes.com/sites/lisakim/2022/02/12/poland-opens-border-to-americans-fleeing-ukraine-as-fears-of-russian-invasion-rise/\n",
      "https://www.forbes.com/sites/annakaplan/2022/02/12/rapper-kodak-black-reportedly-shot-outside-after-party-for-justin-bieber-concert/\n",
      "https://www.forbes.com/sites/annakaplan/2022/02/12/biden-tells-putin-us-will-impose-swift-and-severe-costs-if-russia-invades-ukraine/\n",
      "https://www.forbes.com/sites/lisakim/2022/02/12/dutch-airline-klm-suspends-flights-to-ukraine-amid-rising-fears-of-russian-invasion/\n",
      "https://www.forbes.com/sites/lisakim/2022/02/12/canadian-police-clearing-protesters-from-key-bridge-connecting-canada-and-us/\n",
      "https://www.forbes.com/sites/annakaplan/2022/02/12/us-uk-pull-military-trainers-out-of-ukraine-with-russian-attack-possible-any-day-now/\n",
      "https://www.forbes.com/sites/zacharysmith/2022/02/11/walmart-reportedly-scraps-mask-mandate-for-vaccinated-staff/\n",
      "https://www.forbes.com/sites/zacharysmith/2022/02/11/judge-authorizes-canadian-police-to-clear-protesters-blocking-crucial-bridge-to-us/\n",
      "https://www.forbes.com/sites/nicholasreimann/2022/02/11/biden-and-putin-will-talk-saturday-as-ukraine-crisis-reaches-fever-pitch/\n",
      "https://www.forbes.com/sites/marisadellatto/2022/02/11/netflix-orders-series-on-crypto-couple-only-three-days-after-they-came-to-fame-highlighting-rise-of-insta-doc/\n",
      "https://www.forbes.com/sites/alisondurkee/2022/02/11/biden-could-interview-supreme-court-nominees-next-week-heres-what-we-know-about-his-decision-so-far/\n",
      "https://www.forbes.com/sites/nicholasreimann/2022/02/11/gatorade-colors-coin-tosses-and-an-octopus-here-are-some-odd-super-bowl-bets-you-can-legally-make/\n",
      "https://www.forbes.com/sites/zacharysmith/2022/02/11/fda-authorizes-eli-lilly-antibody-treatment-that-fights-omicron/\n"
     ]
    }
   ],
   "source": [
    "for i in soup.find_all('a',{\"class\":\"happening__title\"}):\n",
    "    print(i.get('href'))"
   ]
  },
  {
   "cell_type": "code",
   "execution_count": 7,
   "id": "b06eff34",
   "metadata": {},
   "outputs": [],
   "source": [
    "article1 = 'https://www.forbes.com/sites/roberthart/2022/02/14/us-canada-bridge-reopens-after-six-day-freedom-convoy-blockade/?sh=1ce021a2672f'\n",
    "soup2 = bs(ure.urlopen(article1).read(),'html.parser')"
   ]
  },
  {
   "cell_type": "code",
   "execution_count": 8,
   "id": "9e466eb2",
   "metadata": {},
   "outputs": [
    {
     "name": "stdout",
     "output_type": "stream",
     "text": [
      "The Ambassador Bridge, a crucial link between the U.S. and Canada, reopened late Sunday evening after police cleared remaining anti-Covid restriction protesters, ending an almost week-long blockade that snarled North America’s busiest trade route. \n",
      "Protestors against Covid-19 vaccine mandates block the roadway at the Ambassador Bridge border ... [+] crossing in Windsor, Ontario, Canada\n",
      "Normal transport across Ambassador Bridge—which links Detroit and Windsor, Ontario—resumed late Sunday night, according to the Canada Border Services Agency, which advised against “non-essential travel.” \n",
      "A Windsor police official said between 20 and 30 people had been arrested at the bridge and numerous vehicles seized after a judge authorized the removal of the protestors on Friday, according to Reuters.\n",
      "The force said “enforcement is ongoing in the demonstration area” early Monday morning and urged members of the public to keep avoiding the area.\n",
      "“There will be zero tolerance for illegal activity,” the police said on Twitter. \n",
      "$2.16 billion. That’s roughly how much cargo is usually carried across the Bridge in a six-day period, based on a Reuters estimate of around $360 million a day. The figure represents 25% of all trade between the U.S. and Canada.\n",
      "Other protests. Blockades like the one at Ambassador Bridge have cropped up across Canada, with one convoy having brought capital Ottawa to a near-standstill for almost three weeks. The Canadian protests have inspired similar “Freedom Convoys” around the world, including New Zealand, France, Belgium, \n",
      "As of Sunday morning, the protesters raised $9.3 million on GiveSendGo, a Christian crowdfunding site. The site, which protesters moved to after GoFundMe froze funds raised on their platform, was inaccessible and listed as “under maintenance” on Monday morning. According to DailyDot reporter Mikael Thalen, the site was reportedly hacked and the names of those who donated to the Freedom Convoy leaked. GiveSendGo could not be reached by Forbes for comment. \n",
      "‘Freedom Convoy’ Arrests: Canada Clears Protesters From Crucial Bridge Between U.S. And Canada (Forbes)\n",
      "Canadian Protest Convoy Raises $8.7 Million As Donations Flow Into Christian Site A Day After Ontario Court Freezes Monetary Access (Forbes)\n",
      "Canada protests: After police cleared bridge, is this the end? (BBC)\n",
      "Freedom convoys: legitimate Covid protest or vehicle for darker beliefs? (Observer)\n",
      "Full coverage and live updates on the Coronavirus\n",
      "\n"
     ]
    }
   ],
   "source": [
    "for i in soup2.find_all('p'):\n",
    "    print(i.text)"
   ]
  },
  {
   "cell_type": "code",
   "execution_count": 14,
   "id": "8e79d419",
   "metadata": {},
   "outputs": [],
   "source": [
    "happening = soup.find_all('a',{'class':'happening__title'})"
   ]
  },
  {
   "cell_type": "code",
   "execution_count": 15,
   "id": "398c74ae",
   "metadata": {},
   "outputs": [],
   "source": [
    "rows = []\n",
    "for i in range(len(happening)):\n",
    "    happeningtitle = happening[i].text\n",
    "    happeningurl = happening[i].get('href')\n",
    "    soup2 = bs(ure.urlopen(happeningurl).read(),'html.parser')\n",
    "    txt=\"\"\n",
    "    for j in soup2.find_all('p'):\n",
    "        txt = txt+j.text\n",
    "        rows.append({'Title':happeningtitle,'URL':happeningurl,'Text':txt})"
   ]
  },
  {
   "cell_type": "code",
   "execution_count": 16,
   "id": "efe45ea0",
   "metadata": {},
   "outputs": [
    {
     "data": {
      "text/html": [
       "<div>\n",
       "<style scoped>\n",
       "    .dataframe tbody tr th:only-of-type {\n",
       "        vertical-align: middle;\n",
       "    }\n",
       "\n",
       "    .dataframe tbody tr th {\n",
       "        vertical-align: top;\n",
       "    }\n",
       "\n",
       "    .dataframe thead th {\n",
       "        text-align: right;\n",
       "    }\n",
       "</style>\n",
       "<table border=\"1\" class=\"dataframe\">\n",
       "  <thead>\n",
       "    <tr style=\"text-align: right;\">\n",
       "      <th></th>\n",
       "      <th>Title</th>\n",
       "      <th>URL</th>\n",
       "      <th>Text</th>\n",
       "    </tr>\n",
       "  </thead>\n",
       "  <tbody>\n",
       "    <tr>\n",
       "      <th>0</th>\n",
       "      <td>U.S.-Canada Bridge Reopens After Six-Day ‘Free...</td>\n",
       "      <td>https://www.forbes.com/sites/roberthart/2022/0...</td>\n",
       "      <td>The Ambassador Bridge, a crucial link between ...</td>\n",
       "    </tr>\n",
       "    <tr>\n",
       "      <th>1</th>\n",
       "      <td>U.S.-Canada Bridge Reopens After Six-Day ‘Free...</td>\n",
       "      <td>https://www.forbes.com/sites/roberthart/2022/0...</td>\n",
       "      <td>The Ambassador Bridge, a crucial link between ...</td>\n",
       "    </tr>\n",
       "    <tr>\n",
       "      <th>2</th>\n",
       "      <td>U.S.-Canada Bridge Reopens After Six-Day ‘Free...</td>\n",
       "      <td>https://www.forbes.com/sites/roberthart/2022/0...</td>\n",
       "      <td>The Ambassador Bridge, a crucial link between ...</td>\n",
       "    </tr>\n",
       "    <tr>\n",
       "      <th>3</th>\n",
       "      <td>U.S.-Canada Bridge Reopens After Six-Day ‘Free...</td>\n",
       "      <td>https://www.forbes.com/sites/roberthart/2022/0...</td>\n",
       "      <td>The Ambassador Bridge, a crucial link between ...</td>\n",
       "    </tr>\n",
       "    <tr>\n",
       "      <th>4</th>\n",
       "      <td>U.S.-Canada Bridge Reopens After Six-Day ‘Free...</td>\n",
       "      <td>https://www.forbes.com/sites/roberthart/2022/0...</td>\n",
       "      <td>The Ambassador Bridge, a crucial link between ...</td>\n",
       "    </tr>\n",
       "    <tr>\n",
       "      <th>...</th>\n",
       "      <td>...</td>\n",
       "      <td>...</td>\n",
       "      <td>...</td>\n",
       "    </tr>\n",
       "    <tr>\n",
       "      <th>274</th>\n",
       "      <td>FDA Authorizes Eli Lilly Antibody Treatment Th...</td>\n",
       "      <td>https://www.forbes.com/sites/zacharysmith/2022...</td>\n",
       "      <td>The Food and Drug Administration on Friday iss...</td>\n",
       "    </tr>\n",
       "    <tr>\n",
       "      <th>275</th>\n",
       "      <td>FDA Authorizes Eli Lilly Antibody Treatment Th...</td>\n",
       "      <td>https://www.forbes.com/sites/zacharysmith/2022...</td>\n",
       "      <td>The Food and Drug Administration on Friday iss...</td>\n",
       "    </tr>\n",
       "    <tr>\n",
       "      <th>276</th>\n",
       "      <td>FDA Authorizes Eli Lilly Antibody Treatment Th...</td>\n",
       "      <td>https://www.forbes.com/sites/zacharysmith/2022...</td>\n",
       "      <td>The Food and Drug Administration on Friday iss...</td>\n",
       "    </tr>\n",
       "    <tr>\n",
       "      <th>277</th>\n",
       "      <td>FDA Authorizes Eli Lilly Antibody Treatment Th...</td>\n",
       "      <td>https://www.forbes.com/sites/zacharysmith/2022...</td>\n",
       "      <td>The Food and Drug Administration on Friday iss...</td>\n",
       "    </tr>\n",
       "    <tr>\n",
       "      <th>278</th>\n",
       "      <td>FDA Authorizes Eli Lilly Antibody Treatment Th...</td>\n",
       "      <td>https://www.forbes.com/sites/zacharysmith/2022...</td>\n",
       "      <td>The Food and Drug Administration on Friday iss...</td>\n",
       "    </tr>\n",
       "  </tbody>\n",
       "</table>\n",
       "<p>279 rows × 3 columns</p>\n",
       "</div>"
      ],
      "text/plain": [
       "                                                 Title  \\\n",
       "0    U.S.-Canada Bridge Reopens After Six-Day ‘Free...   \n",
       "1    U.S.-Canada Bridge Reopens After Six-Day ‘Free...   \n",
       "2    U.S.-Canada Bridge Reopens After Six-Day ‘Free...   \n",
       "3    U.S.-Canada Bridge Reopens After Six-Day ‘Free...   \n",
       "4    U.S.-Canada Bridge Reopens After Six-Day ‘Free...   \n",
       "..                                                 ...   \n",
       "274  FDA Authorizes Eli Lilly Antibody Treatment Th...   \n",
       "275  FDA Authorizes Eli Lilly Antibody Treatment Th...   \n",
       "276  FDA Authorizes Eli Lilly Antibody Treatment Th...   \n",
       "277  FDA Authorizes Eli Lilly Antibody Treatment Th...   \n",
       "278  FDA Authorizes Eli Lilly Antibody Treatment Th...   \n",
       "\n",
       "                                                   URL  \\\n",
       "0    https://www.forbes.com/sites/roberthart/2022/0...   \n",
       "1    https://www.forbes.com/sites/roberthart/2022/0...   \n",
       "2    https://www.forbes.com/sites/roberthart/2022/0...   \n",
       "3    https://www.forbes.com/sites/roberthart/2022/0...   \n",
       "4    https://www.forbes.com/sites/roberthart/2022/0...   \n",
       "..                                                 ...   \n",
       "274  https://www.forbes.com/sites/zacharysmith/2022...   \n",
       "275  https://www.forbes.com/sites/zacharysmith/2022...   \n",
       "276  https://www.forbes.com/sites/zacharysmith/2022...   \n",
       "277  https://www.forbes.com/sites/zacharysmith/2022...   \n",
       "278  https://www.forbes.com/sites/zacharysmith/2022...   \n",
       "\n",
       "                                                  Text  \n",
       "0    The Ambassador Bridge, a crucial link between ...  \n",
       "1    The Ambassador Bridge, a crucial link between ...  \n",
       "2    The Ambassador Bridge, a crucial link between ...  \n",
       "3    The Ambassador Bridge, a crucial link between ...  \n",
       "4    The Ambassador Bridge, a crucial link between ...  \n",
       "..                                                 ...  \n",
       "274  The Food and Drug Administration on Friday iss...  \n",
       "275  The Food and Drug Administration on Friday iss...  \n",
       "276  The Food and Drug Administration on Friday iss...  \n",
       "277  The Food and Drug Administration on Friday iss...  \n",
       "278  The Food and Drug Administration on Friday iss...  \n",
       "\n",
       "[279 rows x 3 columns]"
      ]
     },
     "execution_count": 16,
     "metadata": {},
     "output_type": "execute_result"
    }
   ],
   "source": [
    "import pandas as pd\n",
    "df = pd.DataFrame(rows,columns=['Title','URL','Text'])\n",
    "df"
   ]
  },
  {
   "cell_type": "code",
   "execution_count": null,
   "id": "32d08b9c",
   "metadata": {},
   "outputs": [],
   "source": []
  }
 ],
 "metadata": {
  "kernelspec": {
   "display_name": "Python 3",
   "language": "python",
   "name": "python3"
  },
  "language_info": {
   "codemirror_mode": {
    "name": "ipython",
    "version": 3
   },
   "file_extension": ".py",
   "mimetype": "text/x-python",
   "name": "python",
   "nbconvert_exporter": "python",
   "pygments_lexer": "ipython3",
   "version": "3.8.8"
  }
 },
 "nbformat": 4,
 "nbformat_minor": 5
}
