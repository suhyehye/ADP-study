{
 "cells": [
  {
   "cell_type": "markdown",
   "id": "ab0e0f99",
   "metadata": {},
   "source": [
    " ## 1. 필요한 라이브러리 로딩"
   ]
  },
  {
   "cell_type": "code",
   "execution_count": 1,
   "id": "8506ba48",
   "metadata": {},
   "outputs": [],
   "source": [
    "import pandas as pd\n",
    "import numpy as np"
   ]
  },
  {
   "cell_type": "markdown",
   "id": "7c14277f",
   "metadata": {},
   "source": [
    "## 2. 데이터 불러오기"
   ]
  },
  {
   "cell_type": "code",
   "execution_count": 2,
   "id": "57dc12af",
   "metadata": {},
   "outputs": [
    {
     "data": {
      "text/plain": [
       "[    0                                                  1\n",
       " 0 NaN  This article needs additional citations for ve...,\n",
       "     Year       Democratic       Republican\n",
       " 0   1952  46.9% 2,146,269  52.7% 2,415,789\n",
       " 1   1956  43.3% 1,981,769  56.5% 2,585,252\n",
       " 2   1960  51.1% 2,556,282  48.7% 2,439,956\n",
       " 3   1964  64.9% 3,130,954  34.7% 1,673,657\n",
       " 4   1968  47.6% 2,259,405  44.0% 2,090,017\n",
       " 5   1972  39.1% 1,796,951  59.1% 2,714,521\n",
       " 6   1976  50.4% 2,328,677  47.7% 2,205,604\n",
       " 7   1980  42.5% 1,937,540  49.6% 2,261,872\n",
       " 8   1984  46.0% 2,228,131  53.3% 2,584,323\n",
       " 9   1988  48.4% 2,194,944  50.7% 2,300,087\n",
       " 10  1992  45.2% 2,239,164  36.1% 1,791,841\n",
       " 11  1996  49.2% 2,215,819  40.0% 1,801,169\n",
       " 12  2000  50.6% 2,485,967  46.4% 2,281,127\n",
       " 13  2004  50.9% 2,938,095  48.4% 2,793,847\n",
       " 14  2008  54.5% 3,276,363  44.2% 2,655,885\n",
       " 15  2012  52.0% 2,990,274  46.6% 2,680,434\n",
       " 16  2016  47.5% 2,926,441  48.2% 2,970,733\n",
       " 17  2020  50.0% 3,458,229  48.8% 3,377,647,\n",
       "   .mw-parser-output .navbar{display:inline;font-size:88%;font-weight:normal}.mw-parser-output .navbar-collapse{float:left;text-align:left}.mw-parser-output .navbar-boxtext{word-spacing:0}.mw-parser-output .navbar ul{display:inline-block;white-space:nowrap;line-height:inherit}.mw-parser-output .navbar-brackets::before{margin-right:-0.125em;content:\"[ \"}.mw-parser-output .navbar-brackets::after{margin-left:-0.125em;content:\" ]\"}.mw-parser-output .navbar li{word-spacing:-0.125em}.mw-parser-output .navbar a>span,.mw-parser-output .navbar a>abbr{text-decoration:inherit}.mw-parser-output .navbar-mini abbr{font-variant:small-caps;border-bottom:none;text-decoration:none;cursor:inherit}.mw-parser-output .navbar-ct-full{font-size:114%;margin:0 7em}.mw-parser-output .navbar-ct-mini{font-size:114%;margin:0 4em}vte Commonwealth of Pennsylvania  \\\n",
       " 0                               Harrisburg (capital)                                                                                                                                                                                                                                                                                                                                                                                                                                                                                                                                                                                                                                                                                                                                                                                                                         \n",
       " 1                                             Topics                                                                                                                                                                                                                                                                                                                                                                                                                                                                                                                                                                                                                                                                                                                                                                                                                         \n",
       " 2                                            Society                                                                                                                                                                                                                                                                                                                                                                                                                                                                                                                                                                                                                                                                                                                                                                                                                         \n",
       " 3                                        Metro areas                                                                                                                                                                                                                                                                                                                                                                                                                                                                                                                                                                                                                                                                                                                                                                                                                         \n",
       " 4                                     Largest cities                                                                                                                                                                                                                                                                                                                                                                                                                                                                                                                                                                                                                                                                                                                                                                                                                         \n",
       " 5                              Largestmunicipalities                                                                                                                                                                                                                                                                                                                                                                                                                                                                                                                                                                                                                                                                                                                                                                                                                         \n",
       " 6                                            Regions                                                                                                                                                                                                                                                                                                                                                                                                                                                                                                                                                                                                                                                                                                                                                                                                                         \n",
       " 7                                           Counties                                                                                                                                                                                                                                                                                                                                                                                                                                                                                                                                                                                                                                                                                                                                                                                                                         \n",
       " 8                                Pennsylvania portal                                                                                                                                                                                                                                                                                                                                                                                                                                                                                                                                                                                                                                                                                                                                                                                                                         \n",
       " \n",
       "   .mw-parser-output .navbar{display:inline;font-size:88%;font-weight:normal}.mw-parser-output .navbar-collapse{float:left;text-align:left}.mw-parser-output .navbar-boxtext{word-spacing:0}.mw-parser-output .navbar ul{display:inline-block;white-space:nowrap;line-height:inherit}.mw-parser-output .navbar-brackets::before{margin-right:-0.125em;content:\"[ \"}.mw-parser-output .navbar-brackets::after{margin-left:-0.125em;content:\" ]\"}.mw-parser-output .navbar li{word-spacing:-0.125em}.mw-parser-output .navbar a>span,.mw-parser-output .navbar a>abbr{text-decoration:inherit}.mw-parser-output .navbar-mini abbr{font-variant:small-caps;border-bottom:none;text-decoration:none;cursor:inherit}.mw-parser-output .navbar-ct-full{font-size:114%;margin:0 7em}.mw-parser-output .navbar-ct-mini{font-size:114%;margin:0 4em}vte Commonwealth of Pennsylvania.1  \\\n",
       " 0                               Harrisburg (capital)                                                                                                                                                                                                                                                                                                                                                                                                                                                                                                                                                                                                                                                                                                                                                                                                                           \n",
       " 1  Outline Delegations Government History Geograp...                                                                                                                                                                                                                                                                                                                                                                                                                                                                                                                                                                                                                                                                                                                                                                                                                           \n",
       " 2  Agriculture Culture Crime Demographics Economy...                                                                                                                                                                                                                                                                                                                                                                                                                                                                                                                                                                                                                                                                                                                                                                                                                           \n",
       " 3  Altoona Baltimore-Washington Erie Harrisburg–Y...                                                                                                                                                                                                                                                                                                                                                                                                                                                                                                                                                                                                                                                                                                                                                                                                                           \n",
       " 4  Allentown Altoona Bethlehem Butler Chester DuB...                                                                                                                                                                                                                                                                                                                                                                                                                                                                                                                                                                                                                                                                                                                                                                                                                           \n",
       " 5  Abington Bensalem Bethel Park Bristol Cheltenh...                                                                                                                                                                                                                                                                                                                                                                                                                                                                                                                                                                                                                                                                                                                                                                                                                           \n",
       " 6  Allegheny Mountains Allegheny National Forest ...                                                                                                                                                                                                                                                                                                                                                                                                                                                                                                                                                                                                                                                                                                                                                                                                                           \n",
       " 7  Adams Allegheny Armstrong Beaver Bedford Berks...                                                                                                                                                                                                                                                                                                                                                                                                                                                                                                                                                                                                                                                                                                                                                                                                                           \n",
       " 8                                Pennsylvania portal                                                                                                                                                                                                                                                                                                                                                                                                                                                                                                                                                                                                                                                                                                                                                                                                                           \n",
       " \n",
       "   .mw-parser-output .navbar{display:inline;font-size:88%;font-weight:normal}.mw-parser-output .navbar-collapse{float:left;text-align:left}.mw-parser-output .navbar-boxtext{word-spacing:0}.mw-parser-output .navbar ul{display:inline-block;white-space:nowrap;line-height:inherit}.mw-parser-output .navbar-brackets::before{margin-right:-0.125em;content:\"[ \"}.mw-parser-output .navbar-brackets::after{margin-left:-0.125em;content:\" ]\"}.mw-parser-output .navbar li{word-spacing:-0.125em}.mw-parser-output .navbar a>span,.mw-parser-output .navbar a>abbr{text-decoration:inherit}.mw-parser-output .navbar-mini abbr{font-variant:small-caps;border-bottom:none;text-decoration:none;cursor:inherit}.mw-parser-output .navbar-ct-full{font-size:114%;margin:0 7em}.mw-parser-output .navbar-ct-mini{font-size:114%;margin:0 4em}vte Commonwealth of Pennsylvania.2  \n",
       " 0                               Harrisburg (capital)                                                                                                                                                                                                                                                                                                                                                                                                                                                                                                                                                                                                                                                                                                                                                                                                                          \n",
       " 1                               Seal of Pennsylvania                                                                                                                                                                                                                                                                                                                                                                                                                                                                                                                                                                                                                                                                                                                                                                                                                          \n",
       " 2                               Seal of Pennsylvania                                                                                                                                                                                                                                                                                                                                                                                                                                                                                                                                                                                                                                                                                                                                                                                                                          \n",
       " 3                               Seal of Pennsylvania                                                                                                                                                                                                                                                                                                                                                                                                                                                                                                                                                                                                                                                                                                                                                                                                                          \n",
       " 4                               Seal of Pennsylvania                                                                                                                                                                                                                                                                                                                                                                                                                                                                                                                                                                                                                                                                                                                                                                                                                          \n",
       " 5                               Seal of Pennsylvania                                                                                                                                                                                                                                                                                                                                                                                                                                                                                                                                                                                                                                                                                                                                                                                                                          \n",
       " 6                               Seal of Pennsylvania                                                                                                                                                                                                                                                                                                                                                                                                                                                                                                                                                                                                                                                                                                                                                                                                                          \n",
       " 7                               Seal of Pennsylvania                                                                                                                                                                                                                                                                                                                                                                                                                                                                                                                                                                                                                                                                                                                                                                                                                          \n",
       " 8                                Pennsylvania portal                                                                                                                                                                                                                                                                                                                                                                                                                                                                                                                                                                                                                                                                                                                                                                                                                          ,\n",
       "   vtePolitics of the United States by polity  \\\n",
       " 0                                     States   \n",
       " 1                           Federal district   \n",
       " 2                              Insular areas   \n",
       " \n",
       "         vtePolitics of the United States by polity.1  \n",
       " 0  Alabama Alaska Arizona Arkansas California Col...  \n",
       " 1                                   Washington, D.C.  \n",
       " 2  American Samoa Guam Northern Mariana Islands P...  ,\n",
       "                                        0              1\n",
       " 0  Authority control: National libraries  United States]"
      ]
     },
     "execution_count": 2,
     "metadata": {},
     "output_type": "execute_result"
    }
   ],
   "source": [
    "table_PA = pd.read_html('http://en.wikipedia.org/wiki/Politics_of_Pennsylvania')\n",
    "table_PA"
   ]
  },
  {
   "cell_type": "code",
   "execution_count": 3,
   "id": "193c1773",
   "metadata": {},
   "outputs": [
    {
     "data": {
      "text/plain": [
       "5"
      ]
     },
     "execution_count": 3,
     "metadata": {},
     "output_type": "execute_result"
    }
   ],
   "source": [
    "len(table_PA)"
   ]
  },
  {
   "cell_type": "markdown",
   "id": "e5d0878a",
   "metadata": {},
   "source": [
    "### 5개의 테이블이 크롤링됨 => 크롤링하고 싶은 테이블 하나 지정해서 크롤링 다시하기"
   ]
  },
  {
   "cell_type": "code",
   "execution_count": 5,
   "id": "4ce41a5a",
   "metadata": {},
   "outputs": [
    {
     "data": {
      "text/plain": [
       "1"
      ]
     },
     "execution_count": 5,
     "metadata": {},
     "output_type": "execute_result"
    }
   ],
   "source": [
    "table_PA = pd.read_html('https://en.wikipedia.org/wiki/Politics_of_Pennsylvania',match='Presidential election results')\n",
    "len(table_PA)"
   ]
  },
  {
   "cell_type": "code",
   "execution_count": 6,
   "id": "039eb05f",
   "metadata": {},
   "outputs": [
    {
     "data": {
      "text/html": [
       "<div>\n",
       "<style scoped>\n",
       "    .dataframe tbody tr th:only-of-type {\n",
       "        vertical-align: middle;\n",
       "    }\n",
       "\n",
       "    .dataframe tbody tr th {\n",
       "        vertical-align: top;\n",
       "    }\n",
       "\n",
       "    .dataframe thead th {\n",
       "        text-align: right;\n",
       "    }\n",
       "</style>\n",
       "<table border=\"1\" class=\"dataframe\">\n",
       "  <thead>\n",
       "    <tr style=\"text-align: right;\">\n",
       "      <th></th>\n",
       "      <th>Year</th>\n",
       "      <th>Democratic</th>\n",
       "      <th>Republican</th>\n",
       "    </tr>\n",
       "  </thead>\n",
       "  <tbody>\n",
       "    <tr>\n",
       "      <th>0</th>\n",
       "      <td>1952</td>\n",
       "      <td>46.9% 2,146,269</td>\n",
       "      <td>52.7% 2,415,789</td>\n",
       "    </tr>\n",
       "    <tr>\n",
       "      <th>1</th>\n",
       "      <td>1956</td>\n",
       "      <td>43.3% 1,981,769</td>\n",
       "      <td>56.5% 2,585,252</td>\n",
       "    </tr>\n",
       "    <tr>\n",
       "      <th>2</th>\n",
       "      <td>1960</td>\n",
       "      <td>51.1% 2,556,282</td>\n",
       "      <td>48.7% 2,439,956</td>\n",
       "    </tr>\n",
       "    <tr>\n",
       "      <th>3</th>\n",
       "      <td>1964</td>\n",
       "      <td>64.9% 3,130,954</td>\n",
       "      <td>34.7% 1,673,657</td>\n",
       "    </tr>\n",
       "    <tr>\n",
       "      <th>4</th>\n",
       "      <td>1968</td>\n",
       "      <td>47.6% 2,259,405</td>\n",
       "      <td>44.0% 2,090,017</td>\n",
       "    </tr>\n",
       "  </tbody>\n",
       "</table>\n",
       "</div>"
      ],
      "text/plain": [
       "   Year       Democratic       Republican\n",
       "0  1952  46.9% 2,146,269  52.7% 2,415,789\n",
       "1  1956  43.3% 1,981,769  56.5% 2,585,252\n",
       "2  1960  51.1% 2,556,282  48.7% 2,439,956\n",
       "3  1964  64.9% 3,130,954  34.7% 1,673,657\n",
       "4  1968  47.6% 2,259,405  44.0% 2,090,017"
      ]
     },
     "execution_count": 6,
     "metadata": {},
     "output_type": "execute_result"
    }
   ],
   "source": [
    "df = table_PA[0]\n",
    "df.head()"
   ]
  },
  {
   "cell_type": "markdown",
   "id": "349457d9",
   "metadata": {},
   "source": [
    "### 데이터가 %로 이루어져 있어서 숫자(str)로 변환해줌"
   ]
  },
  {
   "cell_type": "code",
   "execution_count": 7,
   "id": "925424b8",
   "metadata": {},
   "outputs": [
    {
     "data": {
      "text/html": [
       "<div>\n",
       "<style scoped>\n",
       "    .dataframe tbody tr th:only-of-type {\n",
       "        vertical-align: middle;\n",
       "    }\n",
       "\n",
       "    .dataframe tbody tr th {\n",
       "        vertical-align: top;\n",
       "    }\n",
       "\n",
       "    .dataframe thead th {\n",
       "        text-align: right;\n",
       "    }\n",
       "</style>\n",
       "<table border=\"1\" class=\"dataframe\">\n",
       "  <thead>\n",
       "    <tr style=\"text-align: right;\">\n",
       "      <th></th>\n",
       "      <th>Year</th>\n",
       "      <th>Democratic</th>\n",
       "      <th>Republican</th>\n",
       "    </tr>\n",
       "  </thead>\n",
       "  <tbody>\n",
       "    <tr>\n",
       "      <th>0</th>\n",
       "      <td>1952</td>\n",
       "      <td>46.9</td>\n",
       "      <td>52.7</td>\n",
       "    </tr>\n",
       "    <tr>\n",
       "      <th>1</th>\n",
       "      <td>1956</td>\n",
       "      <td>43.3</td>\n",
       "      <td>56.5</td>\n",
       "    </tr>\n",
       "    <tr>\n",
       "      <th>2</th>\n",
       "      <td>1960</td>\n",
       "      <td>51.1</td>\n",
       "      <td>48.7</td>\n",
       "    </tr>\n",
       "    <tr>\n",
       "      <th>3</th>\n",
       "      <td>1964</td>\n",
       "      <td>64.9</td>\n",
       "      <td>34.7</td>\n",
       "    </tr>\n",
       "    <tr>\n",
       "      <th>4</th>\n",
       "      <td>1968</td>\n",
       "      <td>47.6</td>\n",
       "      <td>44.0</td>\n",
       "    </tr>\n",
       "  </tbody>\n",
       "</table>\n",
       "</div>"
      ],
      "text/plain": [
       "   Year Democratic Republican\n",
       "0  1952       46.9       52.7\n",
       "1  1956       43.3       56.5\n",
       "2  1960       51.1       48.7\n",
       "3  1964       64.9       34.7\n",
       "4  1968       47.6       44.0"
      ]
     },
     "execution_count": 7,
     "metadata": {},
     "output_type": "execute_result"
    }
   ],
   "source": [
    "df['Democratic'] = df['Democratic'].str[:4]\n",
    "df['Republican'] = df['Republican'].str[:4]\n",
    "df.head()"
   ]
  },
  {
   "cell_type": "markdown",
   "id": "67a90836",
   "metadata": {},
   "source": [
    "## 3. 크롤링한 데이터 정보 확인"
   ]
  },
  {
   "cell_type": "code",
   "execution_count": 8,
   "id": "5e6775c9",
   "metadata": {},
   "outputs": [
    {
     "name": "stdout",
     "output_type": "stream",
     "text": [
      "<class 'pandas.core.frame.DataFrame'>\n",
      "RangeIndex: 18 entries, 0 to 17\n",
      "Data columns (total 3 columns):\n",
      " #   Column      Non-Null Count  Dtype \n",
      "---  ------      --------------  ----- \n",
      " 0   Year        18 non-null     int64 \n",
      " 1   Democratic  18 non-null     object\n",
      " 2   Republican  18 non-null     object\n",
      "dtypes: int64(1), object(2)\n",
      "memory usage: 560.0+ bytes\n"
     ]
    }
   ],
   "source": [
    "df.info()"
   ]
  },
  {
   "cell_type": "markdown",
   "id": "b2d7a7fc",
   "metadata": {},
   "source": [
    "### 데이터가 숫자형식으로 변환되어 있지 않음"
   ]
  },
  {
   "cell_type": "code",
   "execution_count": 9,
   "id": "45b93b67",
   "metadata": {},
   "outputs": [
    {
     "name": "stdout",
     "output_type": "stream",
     "text": [
      "<class 'pandas.core.frame.DataFrame'>\n",
      "RangeIndex: 18 entries, 0 to 17\n",
      "Data columns (total 3 columns):\n",
      " #   Column      Non-Null Count  Dtype  \n",
      "---  ------      --------------  -----  \n",
      " 0   Year        18 non-null     int64  \n",
      " 1   Democratic  18 non-null     float64\n",
      " 2   Republican  18 non-null     float64\n",
      "dtypes: float64(2), int64(1)\n",
      "memory usage: 560.0 bytes\n"
     ]
    }
   ],
   "source": [
    "df[['Democratic','Republican']] = df[['Democratic','Republican']].apply(pd.to_numeric)\n",
    "df.info()"
   ]
  },
  {
   "cell_type": "code",
   "execution_count": null,
   "id": "94f511a9",
   "metadata": {},
   "outputs": [],
   "source": []
  }
 ],
 "metadata": {
  "kernelspec": {
   "display_name": "Python 3",
   "language": "python",
   "name": "python3"
  },
  "language_info": {
   "codemirror_mode": {
    "name": "ipython",
    "version": 3
   },
   "file_extension": ".py",
   "mimetype": "text/x-python",
   "name": "python",
   "nbconvert_exporter": "python",
   "pygments_lexer": "ipython3",
   "version": "3.8.8"
  }
 },
 "nbformat": 4,
 "nbformat_minor": 5
}
