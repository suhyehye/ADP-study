{
 "cells": [
  {
   "cell_type": "markdown",
   "metadata": {},
   "source": [
    "공장에서는 시제품의 농도가 60이라고 주장하며 품질관리팀에서 10개의 샘플을 뽑았다. 유의수준 5%에서 다음을 검정하시오.\n",
    "\n",
    "1. 연구가설, 귀무가설을 작성하시오.\n",
    "- 귀무가설 : 시제품의 농도는 60%이다.\n",
    "- 대립가설 : 시제품의 농도는 60%가 아니다."
   ]
  },
  {
   "cell_type": "markdown",
   "metadata": {},
   "source": [
    "2. 유효한 샘플의 수를 계산하시오."
   ]
  },
  {
   "cell_type": "code",
   "execution_count": 4,
   "metadata": {},
   "outputs": [
    {
     "name": "stdout",
     "output_type": "stream",
     "text": [
      "17.434448657758008\n"
     ]
    }
   ],
   "source": [
    "import numpy as np\n",
    "\n",
    "data = [52,50,62,75,26,45,62,35,57,14]\n",
    "mu = 60\n",
    "a = 0.05\n",
    "std = np.std(data)\n",
    "print(std)"
   ]
  },
  {
   "cell_type": "markdown",
   "metadata": {},
   "source": [
    "유효한 샘플의 수는 최소 표본크기를 계산하여 설정할 수 있다. 최소 표본크기의 계산은 허용 오차식을 바탕으로 한다. 허용할 수 있는 오차한계와 신뢰수준이 주어졌을 때, 샘플로부터 추정한 표준편차를 사용해 표본의 크기를 구할 수 있다. 오차한계를 5, 신뢰수준을 0.05로 설정한 뒤 샘플의 표준편차를 구한다."
   ]
  },
  {
   "cell_type": "code",
   "execution_count": 5,
   "metadata": {},
   "outputs": [
    {
     "data": {
      "text/plain": [
       "40.85590828532381"
      ]
     },
     "execution_count": 5,
     "metadata": {},
     "output_type": "execute_result"
    }
   ],
   "source": [
    "(stats.t.ppf(q = 0.05, df=9) * std/5) **2"
   ]
  },
  {
   "cell_type": "markdown",
   "metadata": {},
   "source": [
    "유효한 샘플의 수는 40 이상이다."
   ]
  },
  {
   "cell_type": "markdown",
   "metadata": {},
   "source": [
    "3. 검정통계량을 구하고 연구가설 채택 여부를 작성하시오."
   ]
  },
  {
   "cell_type": "code",
   "execution_count": 10,
   "metadata": {},
   "outputs": [
    {
     "data": {
      "text/plain": [
       "WilcoxonResult(statistic=9.5, pvalue=0.064453125)"
      ]
     },
     "execution_count": 10,
     "metadata": {},
     "output_type": "execute_result"
    }
   ],
   "source": [
    "from scipy import stats\n",
    "import pandas as pd\n",
    "\n",
    "stats.wilcoxon(pd.Series(data) - 60)"
   ]
  },
  {
   "cell_type": "markdown",
   "metadata": {},
   "source": [
    "p-value값이 0.05보다 크기 때문에 귀무가설을 기각하지 않는다. 즉, 유의수준 0.05하에서 공장의 시제품은 60이라고 할 수 있다."
   ]
  },
  {
   "cell_type": "code",
   "execution_count": null,
   "metadata": {},
   "outputs": [],
   "source": []
  }
 ],
 "metadata": {
  "kernelspec": {
   "display_name": "Python 3.10.6 64-bit",
   "language": "python",
   "name": "python3"
  },
  "language_info": {
   "codemirror_mode": {
    "name": "ipython",
    "version": 3
   },
   "file_extension": ".py",
   "mimetype": "text/x-python",
   "name": "python",
   "nbconvert_exporter": "python",
   "pygments_lexer": "ipython3",
   "version": "3.10.6"
  },
  "orig_nbformat": 4,
  "vscode": {
   "interpreter": {
    "hash": "3bca2543b8101edd63d2d1b99aee8dd9a39c6a97fc4f450cf710205e940bdbfe"
   }
  }
 },
 "nbformat": 4,
 "nbformat_minor": 2
}
