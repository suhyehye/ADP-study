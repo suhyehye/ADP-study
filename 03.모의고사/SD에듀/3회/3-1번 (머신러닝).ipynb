{
 "cells": [
  {
   "cell_type": "markdown",
   "metadata": {},
   "source": [
    "1. 데이터를 탐색하고 탐색 결과를 제시하시오."
   ]
  },
  {
   "cell_type": "code",
   "execution_count": 18,
   "metadata": {},
   "outputs": [
    {
     "data": {
      "text/html": [
       "<div>\n",
       "<style scoped>\n",
       "    .dataframe tbody tr th:only-of-type {\n",
       "        vertical-align: middle;\n",
       "    }\n",
       "\n",
       "    .dataframe tbody tr th {\n",
       "        vertical-align: top;\n",
       "    }\n",
       "\n",
       "    .dataframe thead th {\n",
       "        text-align: right;\n",
       "    }\n",
       "</style>\n",
       "<table border=\"1\" class=\"dataframe\">\n",
       "  <thead>\n",
       "    <tr style=\"text-align: right;\">\n",
       "      <th></th>\n",
       "      <th>is_canceled</th>\n",
       "      <th>deposit_type</th>\n",
       "      <th>lead_time</th>\n",
       "      <th>stays_in_weekend_nights</th>\n",
       "      <th>stays_in_week_nights</th>\n",
       "      <th>is_repeated_guest</th>\n",
       "      <th>previous_cancellations</th>\n",
       "      <th>previous_bookings_not_canceled</th>\n",
       "      <th>booking_changes</th>\n",
       "      <th>days_in_waiting_list</th>\n",
       "      <th>adr</th>\n",
       "    </tr>\n",
       "  </thead>\n",
       "  <tbody>\n",
       "    <tr>\n",
       "      <th>0</th>\n",
       "      <td>0</td>\n",
       "      <td>No Deposit</td>\n",
       "      <td>105.0</td>\n",
       "      <td>2</td>\n",
       "      <td>5</td>\n",
       "      <td>NaN</td>\n",
       "      <td>0</td>\n",
       "      <td>0</td>\n",
       "      <td>1</td>\n",
       "      <td>0</td>\n",
       "      <td>131.50</td>\n",
       "    </tr>\n",
       "    <tr>\n",
       "      <th>1</th>\n",
       "      <td>0</td>\n",
       "      <td>No Deposit</td>\n",
       "      <td>303.0</td>\n",
       "      <td>2</td>\n",
       "      <td>2</td>\n",
       "      <td>NaN</td>\n",
       "      <td>0</td>\n",
       "      <td>0</td>\n",
       "      <td>0</td>\n",
       "      <td>0</td>\n",
       "      <td>73.95</td>\n",
       "    </tr>\n",
       "    <tr>\n",
       "      <th>2</th>\n",
       "      <td>0</td>\n",
       "      <td>No Deposit</td>\n",
       "      <td>33.0</td>\n",
       "      <td>2</td>\n",
       "      <td>3</td>\n",
       "      <td>0.0</td>\n",
       "      <td>0</td>\n",
       "      <td>0</td>\n",
       "      <td>0</td>\n",
       "      <td>0</td>\n",
       "      <td>NaN</td>\n",
       "    </tr>\n",
       "    <tr>\n",
       "      <th>3</th>\n",
       "      <td>0</td>\n",
       "      <td>No Deposit</td>\n",
       "      <td>48.0</td>\n",
       "      <td>0</td>\n",
       "      <td>1</td>\n",
       "      <td>0.0</td>\n",
       "      <td>0</td>\n",
       "      <td>0</td>\n",
       "      <td>1</td>\n",
       "      <td>0</td>\n",
       "      <td>80.30</td>\n",
       "    </tr>\n",
       "    <tr>\n",
       "      <th>4</th>\n",
       "      <td>0</td>\n",
       "      <td>No Deposit</td>\n",
       "      <td>216.0</td>\n",
       "      <td>4</td>\n",
       "      <td>7</td>\n",
       "      <td>0.0</td>\n",
       "      <td>0</td>\n",
       "      <td>0</td>\n",
       "      <td>2</td>\n",
       "      <td>0</td>\n",
       "      <td>60.90</td>\n",
       "    </tr>\n",
       "  </tbody>\n",
       "</table>\n",
       "</div>"
      ],
      "text/plain": [
       "   is_canceled deposit_type  lead_time  stays_in_weekend_nights  \\\n",
       "0            0   No Deposit      105.0                        2   \n",
       "1            0   No Deposit      303.0                        2   \n",
       "2            0   No Deposit       33.0                        2   \n",
       "3            0   No Deposit       48.0                        0   \n",
       "4            0   No Deposit      216.0                        4   \n",
       "\n",
       "   stays_in_week_nights  is_repeated_guest  previous_cancellations  \\\n",
       "0                     5                NaN                       0   \n",
       "1                     2                NaN                       0   \n",
       "2                     3                0.0                       0   \n",
       "3                     1                0.0                       0   \n",
       "4                     7                0.0                       0   \n",
       "\n",
       "   previous_bookings_not_canceled  booking_changes  days_in_waiting_list  \\\n",
       "0                               0                1                     0   \n",
       "1                               0                0                     0   \n",
       "2                               0                0                     0   \n",
       "3                               0                1                     0   \n",
       "4                               0                2                     0   \n",
       "\n",
       "      adr  \n",
       "0  131.50  \n",
       "1   73.95  \n",
       "2     NaN  \n",
       "3   80.30  \n",
       "4   60.90  "
      ]
     },
     "execution_count": 18,
     "metadata": {},
     "output_type": "execute_result"
    }
   ],
   "source": [
    "import pandas as pd\n",
    "\n",
    "df = pd.read_csv('../data/hotel_bookings.csv')\n",
    "df.head()"
   ]
  },
  {
   "cell_type": "code",
   "execution_count": 19,
   "metadata": {},
   "outputs": [
    {
     "name": "stdout",
     "output_type": "stream",
     "text": [
      "<class 'pandas.core.frame.DataFrame'>\n",
      "RangeIndex: 20000 entries, 0 to 19999\n",
      "Data columns (total 11 columns):\n",
      " #   Column                          Non-Null Count  Dtype  \n",
      "---  ------                          --------------  -----  \n",
      " 0   is_canceled                     20000 non-null  int64  \n",
      " 1   deposit_type                    20000 non-null  object \n",
      " 2   lead_time                       19995 non-null  float64\n",
      " 3   stays_in_weekend_nights         20000 non-null  int64  \n",
      " 4   stays_in_week_nights            20000 non-null  int64  \n",
      " 5   is_repeated_guest               19642 non-null  float64\n",
      " 6   previous_cancellations          20000 non-null  int64  \n",
      " 7   previous_bookings_not_canceled  20000 non-null  int64  \n",
      " 8   booking_changes                 20000 non-null  int64  \n",
      " 9   days_in_waiting_list            20000 non-null  int64  \n",
      " 10  adr                             18937 non-null  float64\n",
      "dtypes: float64(3), int64(7), object(1)\n",
      "memory usage: 1.7+ MB\n"
     ]
    }
   ],
   "source": [
    "df.info()"
   ]
  },
  {
   "cell_type": "markdown",
   "metadata": {},
   "source": [
    "종속변수는 is_canceled이며, 대부분의 데이터는 수치형이지만, 하나의 명목형 변수가 존재하기 때문에 인코딩을 통한 변환이 필요해 보임"
   ]
  },
  {
   "cell_type": "code",
   "execution_count": 20,
   "metadata": {},
   "outputs": [
    {
     "data": {
      "text/plain": [
       "is_canceled                          0\n",
       "deposit_type                         0\n",
       "lead_time                            5\n",
       "stays_in_weekend_nights              0\n",
       "stays_in_week_nights                 0\n",
       "is_repeated_guest                  358\n",
       "previous_cancellations               0\n",
       "previous_bookings_not_canceled       0\n",
       "booking_changes                      0\n",
       "days_in_waiting_list                 0\n",
       "adr                               1063\n",
       "dtype: int64"
      ]
     },
     "execution_count": 20,
     "metadata": {},
     "output_type": "execute_result"
    }
   ],
   "source": [
    "df.isna().sum()"
   ]
  },
  {
   "cell_type": "markdown",
   "metadata": {},
   "source": [
    "3개의 변수에서 결측치가 발견 되었다."
   ]
  },
  {
   "cell_type": "code",
   "execution_count": 27,
   "metadata": {},
   "outputs": [
    {
     "data": {
      "text/plain": [
       "0    17600\n",
       "1     2400\n",
       "Name: is_canceled, dtype: int64"
      ]
     },
     "execution_count": 27,
     "metadata": {},
     "output_type": "execute_result"
    }
   ],
   "source": [
    "df.is_canceled.value_counts()"
   ]
  },
  {
   "cell_type": "markdown",
   "metadata": {},
   "source": [
    "종속변수는 2가지 클래스로 구성되어 있으며, 대부분이 1 클래스 이므로 오버 샘플링 또는 언더 샘플링 기법을 사용할 필요가 있어보임"
   ]
  },
  {
   "cell_type": "code",
   "execution_count": 22,
   "metadata": {},
   "outputs": [
    {
     "data": {
      "text/html": [
       "<div>\n",
       "<style scoped>\n",
       "    .dataframe tbody tr th:only-of-type {\n",
       "        vertical-align: middle;\n",
       "    }\n",
       "\n",
       "    .dataframe tbody tr th {\n",
       "        vertical-align: top;\n",
       "    }\n",
       "\n",
       "    .dataframe thead th {\n",
       "        text-align: right;\n",
       "    }\n",
       "</style>\n",
       "<table border=\"1\" class=\"dataframe\">\n",
       "  <thead>\n",
       "    <tr style=\"text-align: right;\">\n",
       "      <th></th>\n",
       "      <th>is_canceled</th>\n",
       "      <th>lead_time</th>\n",
       "      <th>stays_in_weekend_nights</th>\n",
       "      <th>stays_in_week_nights</th>\n",
       "      <th>is_repeated_guest</th>\n",
       "      <th>previous_cancellations</th>\n",
       "      <th>previous_bookings_not_canceled</th>\n",
       "      <th>booking_changes</th>\n",
       "      <th>days_in_waiting_list</th>\n",
       "      <th>adr</th>\n",
       "    </tr>\n",
       "  </thead>\n",
       "  <tbody>\n",
       "    <tr>\n",
       "      <th>count</th>\n",
       "      <td>20000.00000</td>\n",
       "      <td>19995.000000</td>\n",
       "      <td>20000.000000</td>\n",
       "      <td>20000.000000</td>\n",
       "      <td>19642.000000</td>\n",
       "      <td>20000.000000</td>\n",
       "      <td>20000.000000</td>\n",
       "      <td>20000.000000</td>\n",
       "      <td>20000.000000</td>\n",
       "      <td>18937.000000</td>\n",
       "    </tr>\n",
       "    <tr>\n",
       "      <th>mean</th>\n",
       "      <td>0.12000</td>\n",
       "      <td>85.978345</td>\n",
       "      <td>0.892550</td>\n",
       "      <td>2.380400</td>\n",
       "      <td>0.038133</td>\n",
       "      <td>0.032900</td>\n",
       "      <td>0.169050</td>\n",
       "      <td>0.269400</td>\n",
       "      <td>1.983950</td>\n",
       "      <td>101.410239</td>\n",
       "    </tr>\n",
       "    <tr>\n",
       "      <th>std</th>\n",
       "      <td>0.32497</td>\n",
       "      <td>96.427240</td>\n",
       "      <td>0.952077</td>\n",
       "      <td>1.777345</td>\n",
       "      <td>0.191521</td>\n",
       "      <td>0.455552</td>\n",
       "      <td>1.502426</td>\n",
       "      <td>0.687566</td>\n",
       "      <td>15.927212</td>\n",
       "      <td>49.245097</td>\n",
       "    </tr>\n",
       "    <tr>\n",
       "      <th>min</th>\n",
       "      <td>0.00000</td>\n",
       "      <td>0.000000</td>\n",
       "      <td>0.000000</td>\n",
       "      <td>0.000000</td>\n",
       "      <td>0.000000</td>\n",
       "      <td>0.000000</td>\n",
       "      <td>0.000000</td>\n",
       "      <td>0.000000</td>\n",
       "      <td>0.000000</td>\n",
       "      <td>-6.380000</td>\n",
       "    </tr>\n",
       "    <tr>\n",
       "      <th>25%</th>\n",
       "      <td>0.00000</td>\n",
       "      <td>11.000000</td>\n",
       "      <td>0.000000</td>\n",
       "      <td>1.000000</td>\n",
       "      <td>0.000000</td>\n",
       "      <td>0.000000</td>\n",
       "      <td>0.000000</td>\n",
       "      <td>0.000000</td>\n",
       "      <td>0.000000</td>\n",
       "      <td>68.800000</td>\n",
       "    </tr>\n",
       "    <tr>\n",
       "      <th>50%</th>\n",
       "      <td>0.00000</td>\n",
       "      <td>51.000000</td>\n",
       "      <td>1.000000</td>\n",
       "      <td>2.000000</td>\n",
       "      <td>0.000000</td>\n",
       "      <td>0.000000</td>\n",
       "      <td>0.000000</td>\n",
       "      <td>0.000000</td>\n",
       "      <td>0.000000</td>\n",
       "      <td>94.500000</td>\n",
       "    </tr>\n",
       "    <tr>\n",
       "      <th>75%</th>\n",
       "      <td>0.00000</td>\n",
       "      <td>132.000000</td>\n",
       "      <td>2.000000</td>\n",
       "      <td>3.000000</td>\n",
       "      <td>0.000000</td>\n",
       "      <td>0.000000</td>\n",
       "      <td>0.000000</td>\n",
       "      <td>0.000000</td>\n",
       "      <td>0.000000</td>\n",
       "      <td>126.000000</td>\n",
       "    </tr>\n",
       "    <tr>\n",
       "      <th>max</th>\n",
       "      <td>1.00000</td>\n",
       "      <td>629.000000</td>\n",
       "      <td>13.000000</td>\n",
       "      <td>30.000000</td>\n",
       "      <td>1.000000</td>\n",
       "      <td>26.000000</td>\n",
       "      <td>66.000000</td>\n",
       "      <td>17.000000</td>\n",
       "      <td>379.000000</td>\n",
       "      <td>451.500000</td>\n",
       "    </tr>\n",
       "  </tbody>\n",
       "</table>\n",
       "</div>"
      ],
      "text/plain": [
       "       is_canceled     lead_time  stays_in_weekend_nights  \\\n",
       "count  20000.00000  19995.000000             20000.000000   \n",
       "mean       0.12000     85.978345                 0.892550   \n",
       "std        0.32497     96.427240                 0.952077   \n",
       "min        0.00000      0.000000                 0.000000   \n",
       "25%        0.00000     11.000000                 0.000000   \n",
       "50%        0.00000     51.000000                 1.000000   \n",
       "75%        0.00000    132.000000                 2.000000   \n",
       "max        1.00000    629.000000                13.000000   \n",
       "\n",
       "       stays_in_week_nights  is_repeated_guest  previous_cancellations  \\\n",
       "count          20000.000000       19642.000000            20000.000000   \n",
       "mean               2.380400           0.038133                0.032900   \n",
       "std                1.777345           0.191521                0.455552   \n",
       "min                0.000000           0.000000                0.000000   \n",
       "25%                1.000000           0.000000                0.000000   \n",
       "50%                2.000000           0.000000                0.000000   \n",
       "75%                3.000000           0.000000                0.000000   \n",
       "max               30.000000           1.000000               26.000000   \n",
       "\n",
       "       previous_bookings_not_canceled  booking_changes  days_in_waiting_list  \\\n",
       "count                    20000.000000     20000.000000          20000.000000   \n",
       "mean                         0.169050         0.269400              1.983950   \n",
       "std                          1.502426         0.687566             15.927212   \n",
       "min                          0.000000         0.000000              0.000000   \n",
       "25%                          0.000000         0.000000              0.000000   \n",
       "50%                          0.000000         0.000000              0.000000   \n",
       "75%                          0.000000         0.000000              0.000000   \n",
       "max                         66.000000        17.000000            379.000000   \n",
       "\n",
       "                adr  \n",
       "count  18937.000000  \n",
       "mean     101.410239  \n",
       "std       49.245097  \n",
       "min       -6.380000  \n",
       "25%       68.800000  \n",
       "50%       94.500000  \n",
       "75%      126.000000  \n",
       "max      451.500000  "
      ]
     },
     "execution_count": 22,
     "metadata": {},
     "output_type": "execute_result"
    }
   ],
   "source": [
    "df.describe()"
   ]
  },
  {
   "cell_type": "code",
   "execution_count": 28,
   "metadata": {},
   "outputs": [
    {
     "data": {
      "image/png": "[encoded data removed]",
      "text/plain": [
       "<Figure size 432x288 with 1 Axes>"
      ]
     },
     "metadata": {
      "needs_background": "light"
     },
     "output_type": "display_data"
    },
    {
     "data": {
      "image/png": "[encoded data removed]",
      "text/plain": [
       "<Figure size 432x288 with 1 Axes>"
      ]
     },
     "metadata": {
      "needs_background": "light"
     },
     "output_type": "display_data"
    },
    {
     "data": {
      "image/png": "[encoded data removed]",
      "text/plain": [
       "<Figure size 432x288 with 1 Axes>"
      ]
     },
     "metadata": {
      "needs_background": "light"
     },
     "output_type": "display_data"
    },
    {
     "data": {
      "image/png": "[encoded data removed]",
      "text/plain": [
       "<Figure size 432x288 with 1 Axes>"
      ]
     },
     "metadata": {
      "needs_background": "light"
     },
     "output_type": "display_data"
    },
    {
     "data": {
      "image/png": "[encoded data removed]",
      "text/plain": [
       "<Figure size 432x288 with 1 Axes>"
      ]
     },
     "metadata": {
      "needs_background": "light"
     },
     "output_type": "display_data"
    },
    {
     "data": {
      "image/png": "[encoded data removed]",
      "text/plain": [
       "<Figure size 432x288 with 1 Axes>"
      ]
     },
     "metadata": {
      "needs_background": "light"
     },
     "output_type": "display_data"
    }
   ],
   "source": [
    "num_col = ['lead_time','is_repeated_guest','previous_bookings_not_canceled','booking_changes','days_in_waiting_list','adr']\n",
    "for col in num_col:\n",
    "    sns.boxplot(x='is_canceled', y=col, data=df)\n",
    "    plt.show()"
   ]
  },
  {
   "cell_type": "code",
   "execution_count": 30,
   "metadata": {},
   "outputs": [
    {
     "data": {
      "text/plain": [
       "No Deposit    19138\n",
       "Non Refund      834\n",
       "Refundable       28\n",
       "Name: deposit_type, dtype: int64"
      ]
     },
     "execution_count": 30,
     "metadata": {},
     "output_type": "execute_result"
    }
   ],
   "source": [
    "df.deposit_type.value_counts()"
   ]
  },
  {
   "cell_type": "markdown",
   "metadata": {},
   "source": [
    "deposit_type 변수는 20000개 관측치 중 19171개의 관측치가 No Deposit으로 구성되어 있다."
   ]
  },
  {
   "cell_type": "markdown",
   "metadata": {},
   "source": [
    "2. 결측치를 탐색하고 대체 방법 및 근거를 제시하시오."
   ]
  },
  {
   "cell_type": "code",
   "execution_count": 31,
   "metadata": {},
   "outputs": [
    {
     "data": {
      "text/plain": [
       "is_canceled                          0\n",
       "deposit_type                         0\n",
       "lead_time                            5\n",
       "stays_in_weekend_nights              0\n",
       "stays_in_week_nights                 0\n",
       "is_repeated_guest                  358\n",
       "previous_cancellations               0\n",
       "previous_bookings_not_canceled       0\n",
       "booking_changes                      0\n",
       "days_in_waiting_list                 0\n",
       "adr                               1063\n",
       "dtype: int64"
      ]
     },
     "execution_count": 31,
     "metadata": {},
     "output_type": "execute_result"
    }
   ],
   "source": [
    "df.isna().sum()"
   ]
  },
  {
   "cell_type": "code",
   "execution_count": 32,
   "metadata": {},
   "outputs": [
    {
     "data": {
      "text/plain": [
       "is_canceled                       0.00000\n",
       "deposit_type                      0.00000\n",
       "lead_time                         0.00025\n",
       "stays_in_weekend_nights           0.00000\n",
       "stays_in_week_nights              0.00000\n",
       "is_repeated_guest                 0.01790\n",
       "previous_cancellations            0.00000\n",
       "previous_bookings_not_canceled    0.00000\n",
       "booking_changes                   0.00000\n",
       "days_in_waiting_list              0.00000\n",
       "adr                               0.05315\n",
       "dtype: float64"
      ]
     },
     "execution_count": 32,
     "metadata": {},
     "output_type": "execute_result"
    }
   ],
   "source": [
    "df.isna().sum()/len(df)"
   ]
  },
  {
   "cell_type": "markdown",
   "metadata": {},
   "source": [
    "결측치가 존재하는 변수는 lead_time, is_repeated_guest, adr이다. lead_time 변수는 1% 미만이므로 결측치가 있는 행을 삭제한다. is_repeated_guest 변수의 결측치는 최빈값으로 대체한다. adr 변수의 결측치는 deposit_type별 평균 adr로 대체한다."
   ]
  },
  {
   "cell_type": "code",
   "execution_count": 36,
   "metadata": {},
   "outputs": [
    {
     "data": {
      "text/plain": [
       "is_canceled                       0\n",
       "deposit_type                      0\n",
       "lead_time                         0\n",
       "stays_in_weekend_nights           0\n",
       "stays_in_week_nights              0\n",
       "is_repeated_guest                 0\n",
       "previous_cancellations            0\n",
       "previous_bookings_not_canceled    0\n",
       "booking_changes                   0\n",
       "days_in_waiting_list              0\n",
       "adr                               0\n",
       "dtype: int64"
      ]
     },
     "execution_count": 36,
     "metadata": {},
     "output_type": "execute_result"
    }
   ],
   "source": [
    "hotel_nonull = df.copy()\n",
    "\n",
    "#lead_time변수의 결측치 삭제\n",
    "hotel_nonull.dropna(subset=['lead_time'], axis=0, inplace=True)\n",
    "\n",
    "# is_repeated_guest변수는 binary이기 때문에 최빈값으로 대체\n",
    "hotel_nonull['is_repeated_guest'] = hotel_nonull['is_repeated_guest'].fillna(0)\n",
    "\n",
    "# adr 변수는 연속형 변수이기 때문에 평균 대치법을 사용\n",
    "# 보증금 유형에 따라 adr이 다르기 때문에 adr 그룹별 평균을 이용해 평균 대체\n",
    "fill_mean_func = lambda g:g.fillna(g.mean)\n",
    "hotel_nonull = hotel_nonull.groupby('deposit_type').apply(fill_mean_func)\n",
    "\n",
    "# hotel_nonull.index = hotel_nonull.index.droplevel(0)\n",
    "hotel_nonull.sort_index(inplace=True)\n",
    "\n",
    "hotel_nonull.isna().sum()"
   ]
  },
  {
   "cell_type": "markdown",
   "metadata": {},
   "source": [
    "3. 데이터의 질을 향상시킬 수 있는 방법을 제안하시오."
   ]
  },
  {
   "cell_type": "markdown",
   "metadata": {},
   "source": [
    "IQR 방식으로 lead_time 변수의 이상치를 보정해주어 극단적인 값을 제거함으로써 모델의 특정 값이 영향을 주는 경우를 방지한다. 또는 is_repeated_guest 변수에서 1에 해당하는 데이터를 더 수집해 해당 변수의 불균형을 해소한다."
   ]
  },
  {
   "cell_type": "markdown",
   "metadata": {},
   "source": [
    "4. 데이터 불균형을 시각화하여 식별하고 불균형 판단 근거를 작성하시오."
   ]
  },
  {
   "cell_type": "code",
   "execution_count": 39,
   "metadata": {},
   "outputs": [
    {
     "data": {
      "image/png": "[encoded data removed]",
      "text/plain": [
       "<Figure size 432x288 with 1 Axes>"
      ]
     },
     "metadata": {
      "needs_background": "light"
     },
     "output_type": "display_data"
    },
    {
     "name": "stdout",
     "output_type": "stream",
     "text": [
      "0 비율 :  88.0\n",
      "1 비율 :  12.0\n"
     ]
    }
   ],
   "source": [
    "import seaborn as sns\n",
    "import matplotlib.pyplot as plt\n",
    "from matplotlib import font_manager, rc\n",
    "\n",
    "font_path = 'C:/Windows/Fonts/NGULIM.TTF'\n",
    "font = font_manager.FontProperties(fname=font_path).get_name()\n",
    "rc('font', family=font)\n",
    "\n",
    "sns.countplot(x='is_canceled', data=hotel_nonull)\n",
    "plt.title('데이터 불균형 시각화', fontsize=14)\n",
    "plt.show()\n",
    "\n",
    "ratio0 = round(len(hotel_nonull[hotel_nonull['is_canceled'] == 0]) / len(hotel_nonull)*100,2)\n",
    "ratio1 = round(len(hotel_nonull[hotel_nonull['is_canceled'] == 1])/ len(hotel_nonull) *100, 2)\n",
    "print('0 비율 : ',ratio0)\n",
    "print('1 비율 : ', ratio1)"
   ]
  },
  {
   "cell_type": "markdown",
   "metadata": {},
   "source": [
    "is_canceled 변수는 0과 1로 구성된 binary 형태의 데이터이다. 0인 데이터와 1인 데이터가 각각 88:12의 비율이므로 0인 데이터가 전체 데이터의 90% 가까이 차지한다. 0인 관측값의 수와 1인 관측값의 수가 균등하지 않기 때문에 해당 데이터는 불균형하다고 판단한다."
   ]
  },
  {
   "cell_type": "markdown",
   "metadata": {},
   "source": [
    "5. 오버 샘플링 기법을 설명하고, 비교한 뒤 2개 기법을 선정하고 근거를 제시하시오."
   ]
  },
  {
   "cell_type": "markdown",
   "metadata": {},
   "source": [
    "오버 샘플링 기법은 비중이 적은 데이터를 추가로 생성해 늘려 데이터 불균형을 극복하는 방식이다. 소수 레이블을 가진 데이터셋을 다수 레이블을 가진 데이터셋의 수만큼 증식시켜 학습에 충분한 데이터를 확보하는 기법이다. 언더 샘플링은 데이터 손실의 문제로 인해 예측 성능이 저하되는 경향이 있으므로, 일반적으로 불균형한 데이터를 처리하는 방식으로 오버 샘플링을 사용한다.\n",
    "\n",
    "- 랜덤 오버 샘플링 : 소수 클래스에 속하는 데이터의 관측치를 단순 복사하는 방식으로 데이터를 증식한다. 과적합 발생 가능성이 있지만, 사용방법이 간단하다.\n",
    "- SMOTE : 적은 데이터셋에 있는 개별 데이터의 k-최근접 이웃을 찾아, 해당 데이터와 k개 이웃들의 차이를 일정한 값으로 만들어 기존 데이터와 약간의 차이를 지닌 새로운 데이터를 생성하는 방식이다. Random Oversampling기법보다 처리 속도가 느리지만, 데이터를 단순하게 동일하게 증식시키는 방식이 아니기 때문에, 과적합 문제를 예방할 수 있다."
   ]
  },
  {
   "cell_type": "markdown",
   "metadata": {},
   "source": [
    "6. 기법을 선정한 이유를 작성하고, 원 데이터를 포함해 3개의 데이터셋을 구성하시오.\n",
    "\n",
    "오버샘플링 방식으로 Random Oversampling과 SMOTE를 선택한다. 그 이유는 RandomOverSampling은 간단하게 데이터 불균형 문제를 해결할 수 있고, SMOTE는 과적합을 방지할 수 있기 때문이다."
   ]
  },
  {
   "cell_type": "code",
   "execution_count": 40,
   "metadata": {},
   "outputs": [],
   "source": [
    "hotel_nonull = pd.get_dummies(hotel_nonull)"
   ]
  },
  {
   "cell_type": "code",
   "execution_count": 44,
   "metadata": {},
   "outputs": [
    {
     "name": "stdout",
     "output_type": "stream",
     "text": [
      "time :  4.70258641242981\n"
     ]
    }
   ],
   "source": [
    "from imblearn.over_sampling import RandomOverSampler, SMOTE\n",
    "import time\n",
    "\n",
    "X = hotel_nonull[hotel_nonull.columns.difference(['is_canceled'])]\n",
    "y = hotel_nonull['is_canceled']\n",
    "\n",
    "start = time.time()\n",
    "\n",
    "ros = RandomOverSampler(random_state=42)\n",
    "X_ro , y_ro = ros.fit_resample(X,y)\n",
    "print('time : ', time.time() - start)"
   ]
  },
  {
   "cell_type": "code",
   "execution_count": 45,
   "metadata": {},
   "outputs": [
    {
     "name": "stdout",
     "output_type": "stream",
     "text": [
      "time 5.540963172912598\n"
     ]
    }
   ],
   "source": [
    "start = time.time()\n",
    "sm = SMOTE(random_state=42)\n",
    "X_sm, y_sm = sm.fit_resample(X,y)\n",
    "print('time', time.time() - start)"
   ]
  },
  {
   "cell_type": "markdown",
   "metadata": {},
   "source": [
    "7. 오버샘플링 데이터와 원데이터를 사용해 정확도 측면 모델 하나와 속도 측면의 모델 하나를 선정하고 그 이유를 설명하시오."
   ]
  },
  {
   "cell_type": "code",
   "execution_count": 48,
   "metadata": {},
   "outputs": [
    {
     "name": "stdout",
     "output_type": "stream",
     "text": [
      "Train 정확도 :  0.9487996999249813\n",
      "              precision    recall  f1-score   support\n",
      "\n",
      "           0       0.93      1.00      0.96      3519\n",
      "           1       0.93      0.44      0.60       480\n",
      "\n",
      "    accuracy                           0.93      3999\n",
      "   macro avg       0.93      0.72      0.78      3999\n",
      "weighted avg       0.93      0.93      0.92      3999\n",
      "\n",
      "Time :  35.148492097854614\n"
     ]
    }
   ],
   "source": [
    "from sklearn.model_selection import train_test_split\n",
    "from sklearn.ensemble import RandomForestClassifier\n",
    "from sklearn.metrics import classification_report\n",
    "\n",
    "start = time.time()\n",
    "X_train, X_test, y_train, y_test = train_test_split(X,y, test_size=0.2, stratify=y, random_state=100)\n",
    "clf = RandomForestClassifier(n_estimators=100, min_samples_split=10)\n",
    "clf.fit(X_train, y_train)\n",
    "pred = clf.predict(X_test)\n",
    "\n",
    "print('Train 정확도 : ', clf.score(X_train, y_train))\n",
    "print(classification_report(y_test, pred))\n",
    "print(\"Time : \", time.time() - start)"
   ]
  },
  {
   "cell_type": "code",
   "execution_count": 50,
   "metadata": {},
   "outputs": [
    {
     "name": "stdout",
     "output_type": "stream",
     "text": [
      "train정확도 :  0.9822392725206024\n",
      "              precision    recall  f1-score   support\n",
      "\n",
      "           0       0.98      0.94      0.96      3519\n",
      "           1       0.94      0.98      0.96      3519\n",
      "\n",
      "    accuracy                           0.96      7038\n",
      "   macro avg       0.96      0.96      0.96      7038\n",
      "weighted avg       0.96      0.96      0.96      7038\n",
      "\n",
      "time :  64.20275521278381\n"
     ]
    }
   ],
   "source": [
    "start = time.time()\n",
    "X_train_ro, X_test_ro, y_train_ro, y_test_ro = train_test_split(X_ro, y_ro, test_size=0.2, stratify=y_ro, random_state=100)\n",
    "clf_ro = RandomForestClassifier(n_estimators=100, min_samples_split=10, random_state=100)\n",
    "clf_ro.fit(X_train_ro, y_train_ro)\n",
    "pred_ro = clf_ro.predict(X_test_ro)\n",
    "\n",
    "print('train정확도 : ', clf_ro.score(X_train_ro, y_train_ro))\n",
    "print(classification_report(y_test_ro, pred_ro))\n",
    "print('time : ', time.time() - start)"
   ]
  },
  {
   "cell_type": "code",
   "execution_count": 51,
   "metadata": {},
   "outputs": [
    {
     "name": "stdout",
     "output_type": "stream",
     "text": [
      "train정확도 :  0.9801079852230747\n",
      "              precision    recall  f1-score   support\n",
      "\n",
      "           0       0.94      0.76      0.84      3519\n",
      "           1       0.80      0.95      0.87      3519\n",
      "\n",
      "    accuracy                           0.85      7038\n",
      "   macro avg       0.87      0.85      0.85      7038\n",
      "weighted avg       0.87      0.85      0.85      7038\n",
      "\n",
      "time :  127.07815432548523\n"
     ]
    }
   ],
   "source": [
    "startstart = time.time()\n",
    "X_train_sm, X_test_sm, y_train_sm, y_test_sm = train_test_split(X_sm, y_sm, test_size=0.2, stratify=y_sm, random_state=100)\n",
    "clf_ro = RandomForestClassifier(n_estimators=100, min_samples_split=10, random_state=100)\n",
    "clf_ro.fit(X_train_sm, y_train_sm)\n",
    "pred_sm = clf_ro.predict(X_test_sm)\n",
    "\n",
    "print('train정확도 : ', clf_ro.score(X_train_sm, y_train_sm))\n",
    "print(classification_report(y_test_sm, pred_sm))\n",
    "print('time : ', time.time() - start)"
   ]
  },
  {
   "cell_type": "markdown",
   "metadata": {},
   "source": [
    "정확도 측면에서는 SMOTE를 속도 측면에서는 RandomOverSampling을 선정한다. train, test 데이터셋의 성능이 세가지 데이터셋 가운데 가장 우수하기 때문이다. 속도측면에서는 원본 데이터셋의 모델링 속도가 가장 빠르지만, 이는 원본 데이터가 오버 샘플링 데이터들에 비해 사이즈가 작기 때문이다. 이 점을 감안한다면 RandomOverSampling방식의 수행속도가 SMOTE보다 빠르기 때문에 RandomOverSampling 기법을 선택한다."
   ]
  },
  {
   "cell_type": "markdown",
   "metadata": {},
   "source": [
    "8. 원데이터와 오버 샘플링 데이터를 가지고 각각 분류한 결과를 바탕으로, 오버 샘플링이 성능에 미친 영향에 대해 작성하시오.\n",
    "\n",
    "원본 데이터로 랜덤포레스트 분류 예측을 수행했을 때, train score는 95%의 정확도를 가진다. 오버 샘플링 데이터로 동일한 분류 알고리즘을 수행하면, train score는 98%의 정확도를 가진다. 학습 단계에서는 두 방식 모두 높은 정확도를 보여준다.\n",
    "\n",
    "하지만, test 데이터로 모델의 최종 성능을 비교해보면 오버 샘플링이 분석 정확도에 긍정적인 영향을 주었다는 것을 알 수 있다. 특히 오버 샘플링은 데이터의 불균형으로 인한 과적합을 방지하고, 예측 모델의 일반화를 가능하게 했다는 점에서 영향을 주었다. \n",
    "\n",
    "원본 데이터의 test 데이터로 측정한 모델 성능은 Macro Average가 72%, Weight Average가 90%이다. 이는 train score보다 낮은 수치이므로 데이터 학습 시 불균형 문제로 인해 과적합"
   ]
  },
  {
   "cell_type": "code",
   "execution_count": null,
   "metadata": {},
   "outputs": [],
   "source": []
  }
 ],
 "metadata": {
  "kernelspec": {
   "display_name": "Python 3.10.6 64-bit",
   "language": "python",
   "name": "python3"
  },
  "language_info": {
   "codemirror_mode": {
    "name": "ipython",
    "version": 3
   },
   "file_extension": ".py",
   "mimetype": "text/x-python",
   "name": "python",
   "nbconvert_exporter": "python",
   "pygments_lexer": "ipython3",
   "version": "3.10.6"
  },
  "orig_nbformat": 4,
  "vscode": {
   "interpreter": {
    "hash": "3bca2543b8101edd63d2d1b99aee8dd9a39c6a97fc4f450cf710205e940bdbfe"
   }
  }
 },
 "nbformat": 4,
 "nbformat_minor": 2
}
