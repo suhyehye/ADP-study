{
 "cells": [
  {
   "cell_type": "markdown",
   "metadata": {},
   "source": [
    "1. 제품 1,2를 만드는 데 재료 a,b,c가 일부 사용되며, 제품 1과 2를 만들 때, 12만원과 18만원을 벌 수 있다. 재료는 한정적으로 주어지는데, 이때 최대 수익을 낼 수 있을 때의 제품 1과 2의 개수를 구하여라.\n",
    "\n",
    "재료 공급량 : a 1300, b 1000, c 1200\n",
    "- 재품 1 : a 20, b 20, c 20\n",
    "- 제품 2 : a 40, b 30, c 30"
   ]
  },
  {
   "cell_type": "markdown",
   "metadata": {},
   "source": [
    "제품 2를 최대로 만드는 경우에서 제품 2의 개수를 하나씩 줄여가면서 제품1을 만드는 방식으로 풀 수 있다. 즉 반복문을 사용한다.\n",
    "\n",
    "원재료로 제품 2를 만들 수 있는 최대 수량은 32이며, 남은 원재료는 a = 20, b = 40, c = 240이 된다."
   ]
  },
  {
   "cell_type": "code",
   "execution_count": 4,
   "metadata": {},
   "outputs": [
    {
     "name": "stdout",
     "output_type": "stream",
     "text": [
      "최대 수익 :  600\n",
      "제품 1 수량 :  5\n",
      "제품 2 수량 :  30\n"
     ]
    }
   ],
   "source": [
    "x = 0\n",
    "y = 32\n",
    "\n",
    "max_profit = 32*18\n",
    "material_a = 20     # 1300 - 32*40\n",
    "material_b = 40     # 1000 - 32*30\n",
    "material_c = 240    # 1200 - 32*30\n",
    "\n",
    "while ((material_a > 0) or (material_b > 0) or (material_c > 0)):\n",
    "    y -= 1\n",
    "    material_a +=40\n",
    "    material_b += 30\n",
    "    material_c += 30\n",
    "    \n",
    "    while((material_a >= 20) and (material_b >= 20) and (material_c >=20)):\n",
    "        x += 1\n",
    "        material_a -= 20\n",
    "        material_b -= 20\n",
    "        material_c -= 20\n",
    "        \n",
    "        if (y*18 + x*12) > max_profit:\n",
    "            max_profit = (y*18 + x*12)\n",
    "            result_x = x\n",
    "            result_y = y\n",
    "            \n",
    "    if y == 0:\n",
    "        break\n",
    "    \n",
    "print('최대 수익 : ', max_profit)\n",
    "print('제품 1 수량 : ', result_x)\n",
    "print('제품 2 수량 : ', result_y)"
   ]
  },
  {
   "cell_type": "code",
   "execution_count": null,
   "metadata": {},
   "outputs": [],
   "source": []
  }
 ],
 "metadata": {
  "kernelspec": {
   "display_name": "Python 3.10.6 64-bit",
   "language": "python",
   "name": "python3"
  },
  "language_info": {
   "codemirror_mode": {
    "name": "ipython",
    "version": 3
   },
   "file_extension": ".py",
   "mimetype": "text/x-python",
   "name": "python",
   "nbconvert_exporter": "python",
   "pygments_lexer": "ipython3",
   "version": "3.10.6"
  },
  "orig_nbformat": 4,
  "vscode": {
   "interpreter": {
    "hash": "3bca2543b8101edd63d2d1b99aee8dd9a39c6a97fc4f450cf710205e940bdbfe"
   }
  }
 },
 "nbformat": 4,
 "nbformat_minor": 2
}
