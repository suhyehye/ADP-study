{
 "cells": [
  {
   "cell_type": "code",
   "execution_count": 1,
   "metadata": {},
   "outputs": [
    {
     "data": {
      "text/html": [
       "<div>\n",
       "<style scoped>\n",
       "    .dataframe tbody tr th:only-of-type {\n",
       "        vertical-align: middle;\n",
       "    }\n",
       "\n",
       "    .dataframe tbody tr th {\n",
       "        vertical-align: top;\n",
       "    }\n",
       "\n",
       "    .dataframe thead th {\n",
       "        text-align: right;\n",
       "    }\n",
       "</style>\n",
       "<table border=\"1\" class=\"dataframe\">\n",
       "  <thead>\n",
       "    <tr style=\"text-align: right;\">\n",
       "      <th></th>\n",
       "      <th>ID</th>\n",
       "      <th>Name</th>\n",
       "      <th>Age</th>\n",
       "      <th>Nationality</th>\n",
       "      <th>Overall</th>\n",
       "      <th>Club</th>\n",
       "      <th>Preferred_Foot</th>\n",
       "      <th>Work_Rate</th>\n",
       "      <th>Position</th>\n",
       "      <th>Jersey_Number</th>\n",
       "      <th>Contract_Valid_Until</th>\n",
       "      <th>Height</th>\n",
       "      <th>Weight_lb</th>\n",
       "      <th>Release_Clause</th>\n",
       "      <th>Value</th>\n",
       "      <th>Wage</th>\n",
       "    </tr>\n",
       "  </thead>\n",
       "  <tbody>\n",
       "    <tr>\n",
       "      <th>0</th>\n",
       "      <td>158023</td>\n",
       "      <td>L. Messi</td>\n",
       "      <td>31</td>\n",
       "      <td>Argentina</td>\n",
       "      <td>94</td>\n",
       "      <td>FC Barcelona</td>\n",
       "      <td>Left</td>\n",
       "      <td>Medium/ Medium</td>\n",
       "      <td>RF</td>\n",
       "      <td>10</td>\n",
       "      <td>2021</td>\n",
       "      <td>5'7</td>\n",
       "      <td>159</td>\n",
       "      <td>226500</td>\n",
       "      <td>110500</td>\n",
       "      <td>565</td>\n",
       "    </tr>\n",
       "    <tr>\n",
       "      <th>1</th>\n",
       "      <td>20801</td>\n",
       "      <td>Cristiano Ronaldo</td>\n",
       "      <td>33</td>\n",
       "      <td>Portugal</td>\n",
       "      <td>94</td>\n",
       "      <td>Juventus</td>\n",
       "      <td>Right</td>\n",
       "      <td>High/ Low</td>\n",
       "      <td>ST</td>\n",
       "      <td>7</td>\n",
       "      <td>2022</td>\n",
       "      <td>6'2</td>\n",
       "      <td>183</td>\n",
       "      <td>127100</td>\n",
       "      <td>77000</td>\n",
       "      <td>405</td>\n",
       "    </tr>\n",
       "    <tr>\n",
       "      <th>2</th>\n",
       "      <td>190871</td>\n",
       "      <td>Neymar Jr</td>\n",
       "      <td>26</td>\n",
       "      <td>Brazil</td>\n",
       "      <td>92</td>\n",
       "      <td>Paris Saint-Germain</td>\n",
       "      <td>Right</td>\n",
       "      <td>High/ Medium</td>\n",
       "      <td>LW</td>\n",
       "      <td>10</td>\n",
       "      <td>2022</td>\n",
       "      <td>5'9</td>\n",
       "      <td>150</td>\n",
       "      <td>228100</td>\n",
       "      <td>118500</td>\n",
       "      <td>290</td>\n",
       "    </tr>\n",
       "    <tr>\n",
       "      <th>3</th>\n",
       "      <td>193080</td>\n",
       "      <td>De Gea</td>\n",
       "      <td>27</td>\n",
       "      <td>Spain</td>\n",
       "      <td>91</td>\n",
       "      <td>Manchester United</td>\n",
       "      <td>Right</td>\n",
       "      <td>Medium/ Medium</td>\n",
       "      <td>GK</td>\n",
       "      <td>1</td>\n",
       "      <td>2020</td>\n",
       "      <td>6'4</td>\n",
       "      <td>168</td>\n",
       "      <td>138600</td>\n",
       "      <td>72000</td>\n",
       "      <td>260</td>\n",
       "    </tr>\n",
       "    <tr>\n",
       "      <th>4</th>\n",
       "      <td>192985</td>\n",
       "      <td>K. De Bruyne</td>\n",
       "      <td>27</td>\n",
       "      <td>Belgium</td>\n",
       "      <td>91</td>\n",
       "      <td>Manchester City</td>\n",
       "      <td>Right</td>\n",
       "      <td>High/ High</td>\n",
       "      <td>RCM</td>\n",
       "      <td>7</td>\n",
       "      <td>2023</td>\n",
       "      <td>5'11</td>\n",
       "      <td>154</td>\n",
       "      <td>196400</td>\n",
       "      <td>102000</td>\n",
       "      <td>355</td>\n",
       "    </tr>\n",
       "  </tbody>\n",
       "</table>\n",
       "</div>"
      ],
      "text/plain": [
       "       ID               Name  Age Nationality  Overall                 Club  \\\n",
       "0  158023           L. Messi   31   Argentina       94         FC Barcelona   \n",
       "1   20801  Cristiano Ronaldo   33    Portugal       94             Juventus   \n",
       "2  190871          Neymar Jr   26      Brazil       92  Paris Saint-Germain   \n",
       "3  193080             De Gea   27       Spain       91    Manchester United   \n",
       "4  192985       K. De Bruyne   27     Belgium       91      Manchester City   \n",
       "\n",
       "  Preferred_Foot       Work_Rate Position  Jersey_Number  \\\n",
       "0           Left  Medium/ Medium       RF             10   \n",
       "1          Right       High/ Low       ST              7   \n",
       "2          Right    High/ Medium       LW             10   \n",
       "3          Right  Medium/ Medium       GK              1   \n",
       "4          Right      High/ High      RCM              7   \n",
       "\n",
       "   Contract_Valid_Until Height  Weight_lb  Release_Clause   Value  Wage  \n",
       "0                  2021    5'7        159          226500  110500   565  \n",
       "1                  2022    6'2        183          127100   77000   405  \n",
       "2                  2022    5'9        150          228100  118500   290  \n",
       "3                  2020    6'4        168          138600   72000   260  \n",
       "4                  2023   5'11        154          196400  102000   355  "
      ]
     },
     "execution_count": 1,
     "metadata": {},
     "output_type": "execute_result"
    }
   ],
   "source": [
    "import pandas as pd\n",
    "import numpy as np\n",
    "\n",
    "fifa = pd.read_csv(r'../data/FIFA.csv',encoding='euc-kr')\n",
    "fifa.head()"
   ]
  },
  {
   "cell_type": "markdown",
   "metadata": {},
   "source": [
    "1. FIFA 데이터에서 각 선수의 키는 Height변수에 피트로 인치로 입력되어 있습니다. 이를 cm로 변환하여 새로운 변수 Height_cm을 생성하시오.\n",
    "(\"'\" 앞의 숫자는 피트이며, \"'\" 뒤의 숫자는 인치, 1피트 = 30cm, 1인치 = 2.5cm)"
   ]
  },
  {
   "cell_type": "code",
   "execution_count": 2,
   "metadata": {},
   "outputs": [],
   "source": [
    "def createcm(x):\n",
    "    x_list = x.split(\"'\")\n",
    "    cm = int(x_list[0]) * 30 + int(x_list[1]) * 2.5\n",
    "    return cm"
   ]
  },
  {
   "cell_type": "code",
   "execution_count": 3,
   "metadata": {},
   "outputs": [
    {
     "data": {
      "text/html": [
       "<div>\n",
       "<style scoped>\n",
       "    .dataframe tbody tr th:only-of-type {\n",
       "        vertical-align: middle;\n",
       "    }\n",
       "\n",
       "    .dataframe tbody tr th {\n",
       "        vertical-align: top;\n",
       "    }\n",
       "\n",
       "    .dataframe thead th {\n",
       "        text-align: right;\n",
       "    }\n",
       "</style>\n",
       "<table border=\"1\" class=\"dataframe\">\n",
       "  <thead>\n",
       "    <tr style=\"text-align: right;\">\n",
       "      <th></th>\n",
       "      <th>ID</th>\n",
       "      <th>Name</th>\n",
       "      <th>Age</th>\n",
       "      <th>Nationality</th>\n",
       "      <th>Overall</th>\n",
       "      <th>Club</th>\n",
       "      <th>Preferred_Foot</th>\n",
       "      <th>Work_Rate</th>\n",
       "      <th>Position</th>\n",
       "      <th>Jersey_Number</th>\n",
       "      <th>Contract_Valid_Until</th>\n",
       "      <th>Height</th>\n",
       "      <th>Weight_lb</th>\n",
       "      <th>Release_Clause</th>\n",
       "      <th>Value</th>\n",
       "      <th>Wage</th>\n",
       "      <th>Height_cm</th>\n",
       "    </tr>\n",
       "  </thead>\n",
       "  <tbody>\n",
       "    <tr>\n",
       "      <th>0</th>\n",
       "      <td>158023</td>\n",
       "      <td>L. Messi</td>\n",
       "      <td>31</td>\n",
       "      <td>Argentina</td>\n",
       "      <td>94</td>\n",
       "      <td>FC Barcelona</td>\n",
       "      <td>Left</td>\n",
       "      <td>Medium/ Medium</td>\n",
       "      <td>RF</td>\n",
       "      <td>10</td>\n",
       "      <td>2021</td>\n",
       "      <td>5'7</td>\n",
       "      <td>159</td>\n",
       "      <td>226500</td>\n",
       "      <td>110500</td>\n",
       "      <td>565</td>\n",
       "      <td>167.5</td>\n",
       "    </tr>\n",
       "    <tr>\n",
       "      <th>1</th>\n",
       "      <td>20801</td>\n",
       "      <td>Cristiano Ronaldo</td>\n",
       "      <td>33</td>\n",
       "      <td>Portugal</td>\n",
       "      <td>94</td>\n",
       "      <td>Juventus</td>\n",
       "      <td>Right</td>\n",
       "      <td>High/ Low</td>\n",
       "      <td>ST</td>\n",
       "      <td>7</td>\n",
       "      <td>2022</td>\n",
       "      <td>6'2</td>\n",
       "      <td>183</td>\n",
       "      <td>127100</td>\n",
       "      <td>77000</td>\n",
       "      <td>405</td>\n",
       "      <td>185.0</td>\n",
       "    </tr>\n",
       "    <tr>\n",
       "      <th>2</th>\n",
       "      <td>190871</td>\n",
       "      <td>Neymar Jr</td>\n",
       "      <td>26</td>\n",
       "      <td>Brazil</td>\n",
       "      <td>92</td>\n",
       "      <td>Paris Saint-Germain</td>\n",
       "      <td>Right</td>\n",
       "      <td>High/ Medium</td>\n",
       "      <td>LW</td>\n",
       "      <td>10</td>\n",
       "      <td>2022</td>\n",
       "      <td>5'9</td>\n",
       "      <td>150</td>\n",
       "      <td>228100</td>\n",
       "      <td>118500</td>\n",
       "      <td>290</td>\n",
       "      <td>172.5</td>\n",
       "    </tr>\n",
       "    <tr>\n",
       "      <th>3</th>\n",
       "      <td>193080</td>\n",
       "      <td>De Gea</td>\n",
       "      <td>27</td>\n",
       "      <td>Spain</td>\n",
       "      <td>91</td>\n",
       "      <td>Manchester United</td>\n",
       "      <td>Right</td>\n",
       "      <td>Medium/ Medium</td>\n",
       "      <td>GK</td>\n",
       "      <td>1</td>\n",
       "      <td>2020</td>\n",
       "      <td>6'4</td>\n",
       "      <td>168</td>\n",
       "      <td>138600</td>\n",
       "      <td>72000</td>\n",
       "      <td>260</td>\n",
       "      <td>190.0</td>\n",
       "    </tr>\n",
       "    <tr>\n",
       "      <th>4</th>\n",
       "      <td>192985</td>\n",
       "      <td>K. De Bruyne</td>\n",
       "      <td>27</td>\n",
       "      <td>Belgium</td>\n",
       "      <td>91</td>\n",
       "      <td>Manchester City</td>\n",
       "      <td>Right</td>\n",
       "      <td>High/ High</td>\n",
       "      <td>RCM</td>\n",
       "      <td>7</td>\n",
       "      <td>2023</td>\n",
       "      <td>5'11</td>\n",
       "      <td>154</td>\n",
       "      <td>196400</td>\n",
       "      <td>102000</td>\n",
       "      <td>355</td>\n",
       "      <td>177.5</td>\n",
       "    </tr>\n",
       "  </tbody>\n",
       "</table>\n",
       "</div>"
      ],
      "text/plain": [
       "       ID               Name  Age Nationality  Overall                 Club  \\\n",
       "0  158023           L. Messi   31   Argentina       94         FC Barcelona   \n",
       "1   20801  Cristiano Ronaldo   33    Portugal       94             Juventus   \n",
       "2  190871          Neymar Jr   26      Brazil       92  Paris Saint-Germain   \n",
       "3  193080             De Gea   27       Spain       91    Manchester United   \n",
       "4  192985       K. De Bruyne   27     Belgium       91      Manchester City   \n",
       "\n",
       "  Preferred_Foot       Work_Rate Position  Jersey_Number  \\\n",
       "0           Left  Medium/ Medium       RF             10   \n",
       "1          Right       High/ Low       ST              7   \n",
       "2          Right    High/ Medium       LW             10   \n",
       "3          Right  Medium/ Medium       GK              1   \n",
       "4          Right      High/ High      RCM              7   \n",
       "\n",
       "   Contract_Valid_Until Height  Weight_lb  Release_Clause   Value  Wage  \\\n",
       "0                  2021    5'7        159          226500  110500   565   \n",
       "1                  2022    6'2        183          127100   77000   405   \n",
       "2                  2022    5'9        150          228100  118500   290   \n",
       "3                  2020    6'4        168          138600   72000   260   \n",
       "4                  2023   5'11        154          196400  102000   355   \n",
       "\n",
       "   Height_cm  \n",
       "0      167.5  \n",
       "1      185.0  \n",
       "2      172.5  \n",
       "3      190.0  \n",
       "4      177.5  "
      ]
     },
     "execution_count": 3,
     "metadata": {},
     "output_type": "execute_result"
    }
   ],
   "source": [
    "fifa['Height_cm'] = fifa['Height'].apply(createcm)\n",
    "fifa.head()"
   ]
  },
  {
   "cell_type": "markdown",
   "metadata": {},
   "source": [
    "2. 포지션을 의미하는 Position 변수를 아래표를 참고하여 'Fowrward', 'Midfielder', 'Defender', 'GoalKeeper'로 재범주화하고, factor형으로 변환하여 Position_Class라는 변수를 생성하시오."
   ]
  },
  {
   "cell_type": "code",
   "execution_count": 4,
   "metadata": {},
   "outputs": [],
   "source": [
    "p_dict = { 'Forward' : ['LS', 'ST', 'RS', 'LW', 'LF', 'CF', 'RF', 'RW'],\n",
    "          'MidFielder' : ['LAM', 'CAM', 'RAM', 'LM', 'LCM', 'CM', 'RCM', 'RM'],\n",
    "          'Defender': ['LWB', 'LDM', 'CDM', 'RDM', 'RWB', 'LB', 'LCB', 'CB', 'RCB', 'RB'],\n",
    "          'GoalKeeper' :['GK']}"
   ]
  },
  {
   "cell_type": "code",
   "execution_count": 6,
   "metadata": {},
   "outputs": [],
   "source": [
    "def get_key(x):\n",
    "    for key, value in p_dict.items():\n",
    "        if x in value:\n",
    "            y = key\n",
    "            return y"
   ]
  },
  {
   "cell_type": "code",
   "execution_count": 7,
   "metadata": {},
   "outputs": [
    {
     "data": {
      "text/html": [
       "<div>\n",
       "<style scoped>\n",
       "    .dataframe tbody tr th:only-of-type {\n",
       "        vertical-align: middle;\n",
       "    }\n",
       "\n",
       "    .dataframe tbody tr th {\n",
       "        vertical-align: top;\n",
       "    }\n",
       "\n",
       "    .dataframe thead th {\n",
       "        text-align: right;\n",
       "    }\n",
       "</style>\n",
       "<table border=\"1\" class=\"dataframe\">\n",
       "  <thead>\n",
       "    <tr style=\"text-align: right;\">\n",
       "      <th></th>\n",
       "      <th>ID</th>\n",
       "      <th>Name</th>\n",
       "      <th>Age</th>\n",
       "      <th>Nationality</th>\n",
       "      <th>Overall</th>\n",
       "      <th>Club</th>\n",
       "      <th>Preferred_Foot</th>\n",
       "      <th>Work_Rate</th>\n",
       "      <th>Position</th>\n",
       "      <th>Jersey_Number</th>\n",
       "      <th>Contract_Valid_Until</th>\n",
       "      <th>Height</th>\n",
       "      <th>Weight_lb</th>\n",
       "      <th>Release_Clause</th>\n",
       "      <th>Value</th>\n",
       "      <th>Wage</th>\n",
       "      <th>Height_cm</th>\n",
       "      <th>Position_class</th>\n",
       "    </tr>\n",
       "  </thead>\n",
       "  <tbody>\n",
       "    <tr>\n",
       "      <th>0</th>\n",
       "      <td>158023</td>\n",
       "      <td>L. Messi</td>\n",
       "      <td>31</td>\n",
       "      <td>Argentina</td>\n",
       "      <td>94</td>\n",
       "      <td>FC Barcelona</td>\n",
       "      <td>Left</td>\n",
       "      <td>Medium/ Medium</td>\n",
       "      <td>RF</td>\n",
       "      <td>10</td>\n",
       "      <td>2021</td>\n",
       "      <td>5'7</td>\n",
       "      <td>159</td>\n",
       "      <td>226500</td>\n",
       "      <td>110500</td>\n",
       "      <td>565</td>\n",
       "      <td>167.5</td>\n",
       "      <td>Forward</td>\n",
       "    </tr>\n",
       "    <tr>\n",
       "      <th>1</th>\n",
       "      <td>20801</td>\n",
       "      <td>Cristiano Ronaldo</td>\n",
       "      <td>33</td>\n",
       "      <td>Portugal</td>\n",
       "      <td>94</td>\n",
       "      <td>Juventus</td>\n",
       "      <td>Right</td>\n",
       "      <td>High/ Low</td>\n",
       "      <td>ST</td>\n",
       "      <td>7</td>\n",
       "      <td>2022</td>\n",
       "      <td>6'2</td>\n",
       "      <td>183</td>\n",
       "      <td>127100</td>\n",
       "      <td>77000</td>\n",
       "      <td>405</td>\n",
       "      <td>185.0</td>\n",
       "      <td>Forward</td>\n",
       "    </tr>\n",
       "    <tr>\n",
       "      <th>2</th>\n",
       "      <td>190871</td>\n",
       "      <td>Neymar Jr</td>\n",
       "      <td>26</td>\n",
       "      <td>Brazil</td>\n",
       "      <td>92</td>\n",
       "      <td>Paris Saint-Germain</td>\n",
       "      <td>Right</td>\n",
       "      <td>High/ Medium</td>\n",
       "      <td>LW</td>\n",
       "      <td>10</td>\n",
       "      <td>2022</td>\n",
       "      <td>5'9</td>\n",
       "      <td>150</td>\n",
       "      <td>228100</td>\n",
       "      <td>118500</td>\n",
       "      <td>290</td>\n",
       "      <td>172.5</td>\n",
       "      <td>Forward</td>\n",
       "    </tr>\n",
       "    <tr>\n",
       "      <th>3</th>\n",
       "      <td>193080</td>\n",
       "      <td>De Gea</td>\n",
       "      <td>27</td>\n",
       "      <td>Spain</td>\n",
       "      <td>91</td>\n",
       "      <td>Manchester United</td>\n",
       "      <td>Right</td>\n",
       "      <td>Medium/ Medium</td>\n",
       "      <td>GK</td>\n",
       "      <td>1</td>\n",
       "      <td>2020</td>\n",
       "      <td>6'4</td>\n",
       "      <td>168</td>\n",
       "      <td>138600</td>\n",
       "      <td>72000</td>\n",
       "      <td>260</td>\n",
       "      <td>190.0</td>\n",
       "      <td>GoalKeeper</td>\n",
       "    </tr>\n",
       "    <tr>\n",
       "      <th>4</th>\n",
       "      <td>192985</td>\n",
       "      <td>K. De Bruyne</td>\n",
       "      <td>27</td>\n",
       "      <td>Belgium</td>\n",
       "      <td>91</td>\n",
       "      <td>Manchester City</td>\n",
       "      <td>Right</td>\n",
       "      <td>High/ High</td>\n",
       "      <td>RCM</td>\n",
       "      <td>7</td>\n",
       "      <td>2023</td>\n",
       "      <td>5'11</td>\n",
       "      <td>154</td>\n",
       "      <td>196400</td>\n",
       "      <td>102000</td>\n",
       "      <td>355</td>\n",
       "      <td>177.5</td>\n",
       "      <td>MidFielder</td>\n",
       "    </tr>\n",
       "  </tbody>\n",
       "</table>\n",
       "</div>"
      ],
      "text/plain": [
       "       ID               Name  Age Nationality  Overall                 Club  \\\n",
       "0  158023           L. Messi   31   Argentina       94         FC Barcelona   \n",
       "1   20801  Cristiano Ronaldo   33    Portugal       94             Juventus   \n",
       "2  190871          Neymar Jr   26      Brazil       92  Paris Saint-Germain   \n",
       "3  193080             De Gea   27       Spain       91    Manchester United   \n",
       "4  192985       K. De Bruyne   27     Belgium       91      Manchester City   \n",
       "\n",
       "  Preferred_Foot       Work_Rate Position  Jersey_Number  \\\n",
       "0           Left  Medium/ Medium       RF             10   \n",
       "1          Right       High/ Low       ST              7   \n",
       "2          Right    High/ Medium       LW             10   \n",
       "3          Right  Medium/ Medium       GK              1   \n",
       "4          Right      High/ High      RCM              7   \n",
       "\n",
       "   Contract_Valid_Until Height  Weight_lb  Release_Clause   Value  Wage  \\\n",
       "0                  2021    5'7        159          226500  110500   565   \n",
       "1                  2022    6'2        183          127100   77000   405   \n",
       "2                  2022    5'9        150          228100  118500   290   \n",
       "3                  2020    6'4        168          138600   72000   260   \n",
       "4                  2023   5'11        154          196400  102000   355   \n",
       "\n",
       "   Height_cm Position_class  \n",
       "0      167.5        Forward  \n",
       "1      185.0        Forward  \n",
       "2      172.5        Forward  \n",
       "3      190.0     GoalKeeper  \n",
       "4      177.5     MidFielder  "
      ]
     },
     "execution_count": 7,
     "metadata": {},
     "output_type": "execute_result"
    }
   ],
   "source": [
    "fifa['Position_class'] = fifa['Position'].apply(get_key)\n",
    "fifa.head()"
   ]
  },
  {
   "cell_type": "markdown",
   "metadata": {},
   "source": [
    "3. 새로 생성한 Position_Class 변수의 각 범주에 따른 Value 변수 평균값의 차이를 비교하는 일원배치 분산분석을 수행하고 결과를 해석하시오.(데이터는 등분산성 가정을 만족한다고 가정) 그리고 평균값의 차이가 통계적으로 유의하다면 사후검정을 수행하고 설명하시오."
   ]
  },
  {
   "cell_type": "code",
   "execution_count": 8,
   "metadata": {},
   "outputs": [
    {
     "data": {
      "text/plain": [
       "Defender      6763\n",
       "MidFielder    4935\n",
       "Forward       3044\n",
       "GoalKeeper    1900\n",
       "Name: Position_class, dtype: int64"
      ]
     },
     "execution_count": 8,
     "metadata": {},
     "output_type": "execute_result"
    }
   ],
   "source": [
    "import scipy.stats as stats\n",
    "import pingouin as pg\n",
    "from statsmodels.stats.multicomp import pairwise_tukeyhsd\n",
    "from statsmodels.stats.multicomp import MultiComparison\n",
    "\n",
    "fifa.Position_class.value_counts()"
   ]
  },
  {
   "cell_type": "code",
   "execution_count": 9,
   "metadata": {},
   "outputs": [
    {
     "data": {
      "text/plain": [
       "array(['Forward', 'GoalKeeper', 'MidFielder', 'Defender'], dtype=object)"
      ]
     },
     "execution_count": 9,
     "metadata": {},
     "output_type": "execute_result"
    }
   ],
   "source": [
    "fifa['Position_class'].unique()"
   ]
  },
  {
   "cell_type": "code",
   "execution_count": 10,
   "metadata": {},
   "outputs": [],
   "source": [
    "# 포지션별 변수 할당\n",
    "position_list = fifa['Position_class'].unique()\n",
    "\n",
    "forward = fifa[fifa['Position_class'] == position_list[0]]['Value']\n",
    "goalkeeper = fifa[fifa['Position_class'] == position_list[1]]['Value']\n",
    "midfielder = fifa[fifa['Position_class'] == position_list[2]]['Value']\n",
    "defender = fifa[fifa['Position_class'] == position_list[3]]['Value']"
   ]
  },
  {
   "cell_type": "markdown",
   "metadata": {},
   "source": [
    "세 변수의 데이터가 충분히 크기 때문에 정규성을 만족한다고 판단\n",
    "\n",
    "- 귀무가설 : 4가지 포지션에 대해 Value의 평균은 같다.\n",
    "- 대립가설 : 적어도 하나의 포지션에 대한 Value의 평균값에는 차이가 있다."
   ]
  },
  {
   "cell_type": "code",
   "execution_count": 12,
   "metadata": {},
   "outputs": [
    {
     "data": {
      "text/plain": [
       "F_onewayResult(statistic=41.87390580849466, pvalue=5.988667429906719e-27)"
      ]
     },
     "execution_count": 12,
     "metadata": {},
     "output_type": "execute_result"
    }
   ],
   "source": [
    "stats.f_oneway(forward, goalkeeper, midfielder, defender)"
   ]
  },
  {
   "cell_type": "markdown",
   "metadata": {},
   "source": [
    "p-value가 0.05보다 작기 때문에 유의수준 5%에서 귀무가설을 기각한다. 즉 적어도 하나의 포지션의 Value 평균값에는 차이가 존재한다고 판단한다."
   ]
  },
  {
   "cell_type": "code",
   "execution_count": 13,
   "metadata": {},
   "outputs": [
    {
     "data": {
      "image/png": "[encoded data removed]",
      "text/plain": [
       "<Figure size 720x432 with 1 Axes>"
      ]
     },
     "metadata": {
      "needs_background": "light"
     },
     "output_type": "display_data"
    }
   ],
   "source": [
    "mc = MultiComparison(data = fifa['Value'], groups=fifa['Position_class'])\n",
    "tuekeyhsd = mc.tukeyhsd(alpha=0.05)\n",
    "fig = tuekeyhsd.plot_simultaneous()"
   ]
  },
  {
   "cell_type": "code",
   "execution_count": 14,
   "metadata": {},
   "outputs": [
    {
     "data": {
      "text/html": [
       "<table class=\"simpletable\">\n",
       "<caption>Multiple Comparison of Means - Tukey HSD, FWER=0.05</caption>\n",
       "<tr>\n",
       "    <th>group1</th>     <th>group2</th>    <th>meandiff</th>   <th>p-adj</th>    <th>lower</th>     <th>upper</th>   <th>reject</th>\n",
       "</tr>\n",
       "<tr>\n",
       "   <td>Defender</td>    <td>Forward</td>    <td>930.373</td>    <td>0.0</td>   <td>610.7412</td>  <td>1250.0048</td>  <td>True</td> \n",
       "</tr>\n",
       "<tr>\n",
       "   <td>Defender</td>  <td>GoalKeeper</td>  <td>-507.3848</td> <td>0.0034</td>  <td>-887.6281</td> <td>-127.1415</td>  <td>True</td> \n",
       "</tr>\n",
       "<tr>\n",
       "   <td>Defender</td>  <td>MidFielder</td>  <td>760.8787</td>    <td>0.0</td>   <td>486.7109</td>  <td>1035.0465</td>  <td>True</td> \n",
       "</tr>\n",
       "<tr>\n",
       "    <td>Forward</td>  <td>GoalKeeper</td> <td>-1437.7579</td>   <td>0.0</td>  <td>-1865.9257</td> <td>-1009.59</td>   <td>True</td> \n",
       "</tr>\n",
       "<tr>\n",
       "    <td>Forward</td>  <td>MidFielder</td>  <td>-169.4944</td> <td>0.5691</td>  <td>-507.0009</td> <td>168.0122</td>   <td>False</td>\n",
       "</tr>\n",
       "<tr>\n",
       "  <td>GoalKeeper</td> <td>MidFielder</td>  <td>1268.2635</td>   <td>0.0</td>   <td>872.8761</td>  <td>1663.6509</td>  <td>True</td> \n",
       "</tr>\n",
       "</table>"
      ],
      "text/plain": [
       "<class 'statsmodels.iolib.table.SimpleTable'>"
      ]
     },
     "execution_count": 14,
     "metadata": {},
     "output_type": "execute_result"
    }
   ],
   "source": [
    "tuekeyhsd.summary()"
   ]
  },
  {
   "cell_type": "markdown",
   "metadata": {},
   "source": [
    "Forward와 Midfielder를 제외한 모든 변수간에 차이가 있다고 판단했다. 즉, 거의 모든 변수들에 차이가 존재한다고 판단한다."
   ]
  },
  {
   "cell_type": "markdown",
   "metadata": {},
   "source": [
    "4. Preferred Foot(주로 사용하는 발)과 Position_class에 따라 Value의 차이가 있는지를 알아보기 위해 이원배치분산분석을 수행하고 결과를 해석하시오.\n",
    "\n",
    "- 귀무가설1 : Preferred Foot과 Position_class 변수의 상호작용 효과가 없다.\n",
    "- 귀무가설2 : Preferred Foot에 따른 종속변수의 값에는 차이가 없다.\n",
    "- 귀무가설3 : Position_Class에 따른 종속변수의 값에는 차이가 없다.\n",
    "- 대립가설1 : Preferred Foot과 Position_Class 변수의 상호작용 효과가 있다.\n",
    "- 대립가설2 : Preferred Foot에 따른 종속변수의 값에는 차이가 있다.\n",
    "- 대립가설3 : Position_Class에 따른 종속변수의 값에는 차이가 있다."
   ]
  },
  {
   "cell_type": "code",
   "execution_count": 16,
   "metadata": {},
   "outputs": [
    {
     "name": "stdout",
     "output_type": "stream",
     "text": [
      "<class 'pandas.core.frame.DataFrame'>\n",
      "RangeIndex: 16642 entries, 0 to 16641\n",
      "Data columns (total 3 columns):\n",
      " #   Column          Non-Null Count  Dtype \n",
      "---  ------          --------------  ----- \n",
      " 0   Position_class  16642 non-null  object\n",
      " 1   Preferred_Foot  16642 non-null  object\n",
      " 2   Value           16642 non-null  int64 \n",
      "dtypes: int64(1), object(2)\n",
      "memory usage: 390.2+ KB\n"
     ]
    }
   ],
   "source": [
    "anova_data = fifa[['Position_class', 'Preferred_Foot', 'Value']]\n",
    "anova_data.info()"
   ]
  },
  {
   "cell_type": "code",
   "execution_count": 17,
   "metadata": {},
   "outputs": [
    {
     "data": {
      "text/html": [
       "<div>\n",
       "<style scoped>\n",
       "    .dataframe tbody tr th:only-of-type {\n",
       "        vertical-align: middle;\n",
       "    }\n",
       "\n",
       "    .dataframe tbody tr th {\n",
       "        vertical-align: top;\n",
       "    }\n",
       "\n",
       "    .dataframe thead th {\n",
       "        text-align: right;\n",
       "    }\n",
       "</style>\n",
       "<table border=\"1\" class=\"dataframe\">\n",
       "  <thead>\n",
       "    <tr style=\"text-align: right;\">\n",
       "      <th></th>\n",
       "      <th>sum_sq</th>\n",
       "      <th>df</th>\n",
       "      <th>F</th>\n",
       "      <th>PR(&gt;F)</th>\n",
       "    </tr>\n",
       "  </thead>\n",
       "  <tbody>\n",
       "    <tr>\n",
       "      <th>C(Preferred_Foot)</th>\n",
       "      <td>1.522715e+08</td>\n",
       "      <td>1.0</td>\n",
       "      <td>4.691332</td>\n",
       "      <td>3.032930e-02</td>\n",
       "    </tr>\n",
       "    <tr>\n",
       "      <th>C(Position_class)</th>\n",
       "      <td>4.087367e+09</td>\n",
       "      <td>3.0</td>\n",
       "      <td>41.975902</td>\n",
       "      <td>5.151392e-27</td>\n",
       "    </tr>\n",
       "    <tr>\n",
       "      <th>C(Preferred_Foot):C(Position_class)</th>\n",
       "      <td>4.736156e+08</td>\n",
       "      <td>3.0</td>\n",
       "      <td>4.863874</td>\n",
       "      <td>2.207249e-03</td>\n",
       "    </tr>\n",
       "    <tr>\n",
       "      <th>Residual</th>\n",
       "      <td>5.399071e+11</td>\n",
       "      <td>16634.0</td>\n",
       "      <td>NaN</td>\n",
       "      <td>NaN</td>\n",
       "    </tr>\n",
       "  </tbody>\n",
       "</table>\n",
       "</div>"
      ],
      "text/plain": [
       "                                           sum_sq       df          F  \\\n",
       "C(Preferred_Foot)                    1.522715e+08      1.0   4.691332   \n",
       "C(Position_class)                    4.087367e+09      3.0  41.975902   \n",
       "C(Preferred_Foot):C(Position_class)  4.736156e+08      3.0   4.863874   \n",
       "Residual                             5.399071e+11  16634.0        NaN   \n",
       "\n",
       "                                           PR(>F)  \n",
       "C(Preferred_Foot)                    3.032930e-02  \n",
       "C(Position_class)                    5.151392e-27  \n",
       "C(Preferred_Foot):C(Position_class)  2.207249e-03  \n",
       "Residual                                      NaN  "
      ]
     },
     "execution_count": 17,
     "metadata": {},
     "output_type": "execute_result"
    }
   ],
   "source": [
    "from statsmodels.formula.api import ols\n",
    "from statsmodels.stats.anova import anova_lm\n",
    "\n",
    "formula = 'Value ~ C(Preferred_Foot) + C(Position_class) + C(Preferred_Foot) : C(Position_class)'\n",
    "model = ols(formula, anova_data).fit()\n",
    "aov_table = anova_lm(model, typ=2)\n",
    "aov_table"
   ]
  },
  {
   "cell_type": "markdown",
   "metadata": {},
   "source": [
    "- Preferred_Foot 변수의 종속변수에 미치는 영향을 검정한 결과, p-value가 0.05보다 작으므로 귀무가설을 기각한다. 따라서 Preferred_Foot에 따른 Value 차이가 존재한다고 판단\n",
    "- Position_class 변수의 종속변수에 미치는 영향을 검정한 결과, p-value가 0.05보다 작으므로 귀무가설을 기각한다. 따라서 Position_class에 따른 Value 차이가 존재한다고 판단\n",
    "- 두 변수의 교호작용에 대해 검정한 결과 p-value가 0.05보다 작으므로 귀무가설을 기각한다. 따라서 두 변수에서 교호작용이 존재한다는 것을 알 수 있다."
   ]
  },
  {
   "cell_type": "code",
   "execution_count": null,
   "metadata": {},
   "outputs": [],
   "source": []
  }
 ],
 "metadata": {
  "kernelspec": {
   "display_name": "Python 3.10.6 64-bit",
   "language": "python",
   "name": "python3"
  },
  "language_info": {
   "codemirror_mode": {
    "name": "ipython",
    "version": 3
   },
   "file_extension": ".py",
   "mimetype": "text/x-python",
   "name": "python",
   "nbconvert_exporter": "python",
   "pygments_lexer": "ipython3",
   "version": "3.10.6"
  },
  "orig_nbformat": 4,
  "vscode": {
   "interpreter": {
    "hash": "3bca2543b8101edd63d2d1b99aee8dd9a39c6a97fc4f450cf710205e940bdbfe"
   }
  }
 },
 "nbformat": 4,
 "nbformat_minor": 2
}
