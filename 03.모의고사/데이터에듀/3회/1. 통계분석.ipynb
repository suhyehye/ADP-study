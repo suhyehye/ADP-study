{
 "cells": [
  {
   "cell_type": "markdown",
   "metadata": {},
   "source": [
    "1. Urban 변수에 따른 Sales의 차이가 있는지를 통계적으로 검증하기 위한 통계분석을 수행하고, 결과를 해석하시오. (데이터는 정규성을 만족한다고 가정하고 유의수준 0.05하에서 검정)"
   ]
  },
  {
   "cell_type": "code",
   "execution_count": 1,
   "metadata": {},
   "outputs": [
    {
     "data": {
      "text/html": [
       "<div>\n",
       "<style scoped>\n",
       "    .dataframe tbody tr th:only-of-type {\n",
       "        vertical-align: middle;\n",
       "    }\n",
       "\n",
       "    .dataframe tbody tr th {\n",
       "        vertical-align: top;\n",
       "    }\n",
       "\n",
       "    .dataframe thead th {\n",
       "        text-align: right;\n",
       "    }\n",
       "</style>\n",
       "<table border=\"1\" class=\"dataframe\">\n",
       "  <thead>\n",
       "    <tr style=\"text-align: right;\">\n",
       "      <th></th>\n",
       "      <th>Sales</th>\n",
       "      <th>CompPrice</th>\n",
       "      <th>Income</th>\n",
       "      <th>Advertising</th>\n",
       "      <th>Population</th>\n",
       "      <th>Price</th>\n",
       "      <th>ShelveLoc</th>\n",
       "      <th>Age</th>\n",
       "      <th>Education</th>\n",
       "      <th>Urban</th>\n",
       "      <th>US</th>\n",
       "    </tr>\n",
       "  </thead>\n",
       "  <tbody>\n",
       "    <tr>\n",
       "      <th>0</th>\n",
       "      <td>9.50</td>\n",
       "      <td>138</td>\n",
       "      <td>73</td>\n",
       "      <td>11</td>\n",
       "      <td>276</td>\n",
       "      <td>120</td>\n",
       "      <td>Bad</td>\n",
       "      <td>42</td>\n",
       "      <td>17</td>\n",
       "      <td>Yes</td>\n",
       "      <td>Yes</td>\n",
       "    </tr>\n",
       "    <tr>\n",
       "      <th>1</th>\n",
       "      <td>11.22</td>\n",
       "      <td>111</td>\n",
       "      <td>48</td>\n",
       "      <td>16</td>\n",
       "      <td>260</td>\n",
       "      <td>83</td>\n",
       "      <td>Good</td>\n",
       "      <td>65</td>\n",
       "      <td>10</td>\n",
       "      <td>Yes</td>\n",
       "      <td>Yes</td>\n",
       "    </tr>\n",
       "    <tr>\n",
       "      <th>2</th>\n",
       "      <td>10.06</td>\n",
       "      <td>113</td>\n",
       "      <td>35</td>\n",
       "      <td>10</td>\n",
       "      <td>269</td>\n",
       "      <td>80</td>\n",
       "      <td>Medium</td>\n",
       "      <td>59</td>\n",
       "      <td>12</td>\n",
       "      <td>Yes</td>\n",
       "      <td>Yes</td>\n",
       "    </tr>\n",
       "    <tr>\n",
       "      <th>3</th>\n",
       "      <td>7.40</td>\n",
       "      <td>117</td>\n",
       "      <td>100</td>\n",
       "      <td>4</td>\n",
       "      <td>466</td>\n",
       "      <td>97</td>\n",
       "      <td>Medium</td>\n",
       "      <td>55</td>\n",
       "      <td>14</td>\n",
       "      <td>Yes</td>\n",
       "      <td>Yes</td>\n",
       "    </tr>\n",
       "    <tr>\n",
       "      <th>4</th>\n",
       "      <td>4.15</td>\n",
       "      <td>141</td>\n",
       "      <td>64</td>\n",
       "      <td>3</td>\n",
       "      <td>340</td>\n",
       "      <td>128</td>\n",
       "      <td>Bad</td>\n",
       "      <td>38</td>\n",
       "      <td>13</td>\n",
       "      <td>Yes</td>\n",
       "      <td>No</td>\n",
       "    </tr>\n",
       "  </tbody>\n",
       "</table>\n",
       "</div>"
      ],
      "text/plain": [
       "   Sales  CompPrice  Income  Advertising  Population  Price ShelveLoc  Age  \\\n",
       "0   9.50        138      73           11         276    120       Bad   42   \n",
       "1  11.22        111      48           16         260     83      Good   65   \n",
       "2  10.06        113      35           10         269     80    Medium   59   \n",
       "3   7.40        117     100            4         466     97    Medium   55   \n",
       "4   4.15        141      64            3         340    128       Bad   38   \n",
       "\n",
       "   Education Urban   US  \n",
       "0         17   Yes  Yes  \n",
       "1         10   Yes  Yes  \n",
       "2         12   Yes  Yes  \n",
       "3         14   Yes  Yes  \n",
       "4         13   Yes   No  "
      ]
     },
     "execution_count": 1,
     "metadata": {},
     "output_type": "execute_result"
    }
   ],
   "source": [
    "import pandas as pd\n",
    "import numpy as np\n",
    "\n",
    "df = pd.read_csv('../data/Carseats.csv')\n",
    "df.head()"
   ]
  },
  {
   "cell_type": "markdown",
   "metadata": {},
   "source": [
    "- 귀무가설 : Urban 변수에 따른 Sales의 평균에는 차이가 없다.\n",
    "- 대립가설 : 차이가 존재한다."
   ]
  },
  {
   "cell_type": "code",
   "execution_count": 2,
   "metadata": {},
   "outputs": [
    {
     "data": {
      "text/plain": [
       "Yes    282\n",
       "No     118\n",
       "Name: Urban, dtype: int64"
      ]
     },
     "execution_count": 2,
     "metadata": {},
     "output_type": "execute_result"
    }
   ],
   "source": [
    "df.Urban.value_counts()"
   ]
  },
  {
   "cell_type": "code",
   "execution_count": 3,
   "metadata": {},
   "outputs": [
    {
     "data": {
      "text/plain": [
       "F_onewayResult(statistic=0.09465065557659712, pvalue=0.7585069603942085)"
      ]
     },
     "execution_count": 3,
     "metadata": {},
     "output_type": "execute_result"
    }
   ],
   "source": [
    "import scipy.stats as stats\n",
    "y_data = df[df['Urban'] == 'Yes']['Sales']\n",
    "n_data = df[df['Urban'] == 'No']['Sales']\n",
    "stats.f_oneway(y_data, n_data)"
   ]
  },
  {
   "cell_type": "markdown",
   "metadata": {},
   "source": [
    "p-value가 0.05보다 크기 때문에 귀무가설을 채택하여 두 집단의 평균의 차이는 없다고 할 수 있다."
   ]
  },
  {
   "cell_type": "markdown",
   "metadata": {},
   "source": [
    "2. Sales변수와 Comprice, Income, Advertising, Population, Price, Age, Education 변수들 간에 피어슨 상관계수를 이용한 상관관계 분석을 수행하고 이를 해석하시오."
   ]
  },
  {
   "cell_type": "code",
   "execution_count": 7,
   "metadata": {},
   "outputs": [
    {
     "data": {
      "text/plain": [
       "<AxesSubplot:>"
      ]
     },
     "execution_count": 7,
     "metadata": {},
     "output_type": "execute_result"
    },
    {
     "data": {
      "image/png": "[encoded data removed]",
      "text/plain": [
       "<Figure size 432x288 with 2 Axes>"
      ]
     },
     "metadata": {
      "needs_background": "light"
     },
     "output_type": "display_data"
    }
   ],
   "source": [
    "import seaborn as sns\n",
    "df_corr = df.corr(method='pearson')\n",
    "sns.heatmap(df_corr, cmap='RdBu_r', annot=True)"
   ]
  },
  {
   "cell_type": "markdown",
   "metadata": {},
   "source": [
    "Sales 변수와 유의한 상관관계를 가진 변수는 없는 것으로 판단함"
   ]
  },
  {
   "cell_type": "markdown",
   "metadata": {},
   "source": [
    "3. 종속변수를 Sales, 독립변수를 Comprice, Income, Adgertising, Population, Price, Age, Education으로 설정하고, 후진제거법을 활용하여 회귀분석을 실시하고 추정된 회귀식을 작성하시오."
   ]
  },
  {
   "cell_type": "code",
   "execution_count": 48,
   "metadata": {},
   "outputs": [
    {
     "data": {
      "text/html": [
       "<table class=\"simpletable\">\n",
       "<caption>OLS Regression Results</caption>\n",
       "<tr>\n",
       "  <th>Dep. Variable:</th>          <td>Sales</td>      <th>  R-squared:         </th> <td>   0.542</td>\n",
       "</tr>\n",
       "<tr>\n",
       "  <th>Model:</th>                   <td>OLS</td>       <th>  Adj. R-squared:    </th> <td>   0.533</td>\n",
       "</tr>\n",
       "<tr>\n",
       "  <th>Method:</th>             <td>Least Squares</td>  <th>  F-statistic:       </th> <td>   66.18</td>\n",
       "</tr>\n",
       "<tr>\n",
       "  <th>Date:</th>             <td>Tue, 06 Sep 2022</td> <th>  Prob (F-statistic):</th> <td>1.41e-62</td>\n",
       "</tr>\n",
       "<tr>\n",
       "  <th>Time:</th>                 <td>01:23:26</td>     <th>  Log-Likelihood:    </th> <td> -826.32</td>\n",
       "</tr>\n",
       "<tr>\n",
       "  <th>No. Observations:</th>      <td>   400</td>      <th>  AIC:               </th> <td>   1669.</td>\n",
       "</tr>\n",
       "<tr>\n",
       "  <th>Df Residuals:</th>          <td>   392</td>      <th>  BIC:               </th> <td>   1701.</td>\n",
       "</tr>\n",
       "<tr>\n",
       "  <th>Df Model:</th>              <td>     7</td>      <th>                     </th>     <td> </td>   \n",
       "</tr>\n",
       "<tr>\n",
       "  <th>Covariance Type:</th>      <td>nonrobust</td>    <th>                     </th>     <td> </td>   \n",
       "</tr>\n",
       "</table>\n",
       "<table class=\"simpletable\">\n",
       "<tr>\n",
       "       <td></td>          <th>coef</th>     <th>std err</th>      <th>t</th>      <th>P>|t|</th>  <th>[0.025</th>    <th>0.975]</th>  \n",
       "</tr>\n",
       "<tr>\n",
       "  <th>Intercept</th>   <td>    7.7077</td> <td>    1.118</td> <td>    6.896</td> <td> 0.000</td> <td>    5.510</td> <td>    9.905</td>\n",
       "</tr>\n",
       "<tr>\n",
       "  <th>CompPrice</th>   <td>    0.0939</td> <td>    0.008</td> <td>   11.980</td> <td> 0.000</td> <td>    0.079</td> <td>    0.109</td>\n",
       "</tr>\n",
       "<tr>\n",
       "  <th>Income</th>      <td>    0.0129</td> <td>    0.003</td> <td>    3.703</td> <td> 0.000</td> <td>    0.006</td> <td>    0.020</td>\n",
       "</tr>\n",
       "<tr>\n",
       "  <th>Advertising</th> <td>    0.1309</td> <td>    0.015</td> <td>    8.654</td> <td> 0.000</td> <td>    0.101</td> <td>    0.161</td>\n",
       "</tr>\n",
       "<tr>\n",
       "  <th>Population</th>  <td>   -0.0001</td> <td>    0.001</td> <td>   -0.180</td> <td> 0.857</td> <td>   -0.001</td> <td>    0.001</td>\n",
       "</tr>\n",
       "<tr>\n",
       "  <th>Price</th>       <td>   -0.0925</td> <td>    0.005</td> <td>  -18.314</td> <td> 0.000</td> <td>   -0.102</td> <td>   -0.083</td>\n",
       "</tr>\n",
       "<tr>\n",
       "  <th>Age</th>         <td>   -0.0450</td> <td>    0.006</td> <td>   -7.485</td> <td> 0.000</td> <td>   -0.057</td> <td>   -0.033</td>\n",
       "</tr>\n",
       "<tr>\n",
       "  <th>Education</th>   <td>   -0.0400</td> <td>    0.037</td> <td>   -1.077</td> <td> 0.282</td> <td>   -0.113</td> <td>    0.033</td>\n",
       "</tr>\n",
       "</table>\n",
       "<table class=\"simpletable\">\n",
       "<tr>\n",
       "  <th>Omnibus:</th>       <td> 8.263</td> <th>  Durbin-Watson:     </th> <td>   1.969</td>\n",
       "</tr>\n",
       "<tr>\n",
       "  <th>Prob(Omnibus):</th> <td> 0.016</td> <th>  Jarque-Bera (JB):  </th> <td>   7.705</td>\n",
       "</tr>\n",
       "<tr>\n",
       "  <th>Skew:</th>          <td> 0.288</td> <th>  Prob(JB):          </th> <td>  0.0212</td>\n",
       "</tr>\n",
       "<tr>\n",
       "  <th>Kurtosis:</th>      <td> 2.639</td> <th>  Cond. No.          </th> <td>4.05e+03</td>\n",
       "</tr>\n",
       "</table><br/><br/>Notes:<br/>[1] Standard Errors assume that the covariance matrix of the errors is correctly specified.<br/>[2] The condition number is large, 4.05e+03. This might indicate that there are<br/>strong multicollinearity or other numerical problems."
      ],
      "text/plain": [
       "<class 'statsmodels.iolib.summary.Summary'>\n",
       "\"\"\"\n",
       "                            OLS Regression Results                            \n",
       "==============================================================================\n",
       "Dep. Variable:                  Sales   R-squared:                       0.542\n",
       "Model:                            OLS   Adj. R-squared:                  0.533\n",
       "Method:                 Least Squares   F-statistic:                     66.18\n",
       "Date:                Tue, 06 Sep 2022   Prob (F-statistic):           1.41e-62\n",
       "Time:                        01:23:26   Log-Likelihood:                -826.32\n",
       "No. Observations:                 400   AIC:                             1669.\n",
       "Df Residuals:                     392   BIC:                             1701.\n",
       "Df Model:                           7                                         \n",
       "Covariance Type:            nonrobust                                         \n",
       "===============================================================================\n",
       "                  coef    std err          t      P>|t|      [0.025      0.975]\n",
       "-------------------------------------------------------------------------------\n",
       "Intercept       7.7077      1.118      6.896      0.000       5.510       9.905\n",
       "CompPrice       0.0939      0.008     11.980      0.000       0.079       0.109\n",
       "Income          0.0129      0.003      3.703      0.000       0.006       0.020\n",
       "Advertising     0.1309      0.015      8.654      0.000       0.101       0.161\n",
       "Population     -0.0001      0.001     -0.180      0.857      -0.001       0.001\n",
       "Price          -0.0925      0.005    -18.314      0.000      -0.102      -0.083\n",
       "Age            -0.0450      0.006     -7.485      0.000      -0.057      -0.033\n",
       "Education      -0.0400      0.037     -1.077      0.282      -0.113       0.033\n",
       "==============================================================================\n",
       "Omnibus:                        8.263   Durbin-Watson:                   1.969\n",
       "Prob(Omnibus):                  0.016   Jarque-Bera (JB):                7.705\n",
       "Skew:                           0.288   Prob(JB):                       0.0212\n",
       "Kurtosis:                       2.639   Cond. No.                     4.05e+03\n",
       "==============================================================================\n",
       "\n",
       "Notes:\n",
       "[1] Standard Errors assume that the covariance matrix of the errors is correctly specified.\n",
       "[2] The condition number is large, 4.05e+03. This might indicate that there are\n",
       "strong multicollinearity or other numerical problems.\n",
       "\"\"\""
      ]
     },
     "execution_count": 48,
     "metadata": {},
     "output_type": "execute_result"
    }
   ],
   "source": [
    "import statsmodels.formula.api as smf\n",
    "\n",
    "#일단 모든 변수를 선택하여 다 해본다.\n",
    "indi_var_list = [\"CompPrice\", \"Income\", \"Advertising\", \"Population\", \"Price\", \"Age\", \"Education\"]\n",
    "indi_var_formula = \"+\".join(indi_var_list)\n",
    "model = smf.ols(\"Sales ~ \"+indi_var_formula, df)\n",
    "model.fit().summary()"
   ]
  },
  {
   "cell_type": "code",
   "execution_count": 49,
   "metadata": {},
   "outputs": [
    {
     "name": "stdout",
     "output_type": "stream",
     "text": [
      "Population 변수를 제거합니다.\n",
      "Education 변수를 제거합니다.\n",
      "후보 독립변수들 : ['CompPrice', 'Income', 'Advertising', 'Population', 'Price', 'Age', 'Education']\n",
      "후진제거법에 의해 선택된 최종 변수들 : ['CompPrice', 'Income', 'Advertising', 'Price', 'Age']\n"
     ]
    },
    {
     "data": {
      "text/html": [
       "<table class=\"simpletable\">\n",
       "<caption>OLS Regression Results</caption>\n",
       "<tr>\n",
       "  <th>Dep. Variable:</th>          <td>Sales</td>      <th>  R-squared:         </th> <td>   0.540</td>\n",
       "</tr>\n",
       "<tr>\n",
       "  <th>Model:</th>                   <td>OLS</td>       <th>  Adj. R-squared:    </th> <td>   0.534</td>\n",
       "</tr>\n",
       "<tr>\n",
       "  <th>Method:</th>             <td>Least Squares</td>  <th>  F-statistic:       </th> <td>   92.62</td>\n",
       "</tr>\n",
       "<tr>\n",
       "  <th>Date:</th>             <td>Tue, 06 Sep 2022</td> <th>  Prob (F-statistic):</th> <td>2.70e-64</td>\n",
       "</tr>\n",
       "<tr>\n",
       "  <th>Time:</th>                 <td>01:23:56</td>     <th>  Log-Likelihood:    </th> <td> -826.92</td>\n",
       "</tr>\n",
       "<tr>\n",
       "  <th>No. Observations:</th>      <td>   400</td>      <th>  AIC:               </th> <td>   1666.</td>\n",
       "</tr>\n",
       "<tr>\n",
       "  <th>Df Residuals:</th>          <td>   394</td>      <th>  BIC:               </th> <td>   1690.</td>\n",
       "</tr>\n",
       "<tr>\n",
       "  <th>Df Model:</th>              <td>     5</td>      <th>                     </th>     <td> </td>   \n",
       "</tr>\n",
       "<tr>\n",
       "  <th>Covariance Type:</th>      <td>nonrobust</td>    <th>                     </th>     <td> </td>   \n",
       "</tr>\n",
       "</table>\n",
       "<table class=\"simpletable\">\n",
       "<tr>\n",
       "       <td></td>          <th>coef</th>     <th>std err</th>      <th>t</th>      <th>P>|t|</th>  <th>[0.025</th>    <th>0.975]</th>  \n",
       "</tr>\n",
       "<tr>\n",
       "  <th>Intercept</th>   <td>    7.1092</td> <td>    0.944</td> <td>    7.531</td> <td> 0.000</td> <td>    5.253</td> <td>    8.965</td>\n",
       "</tr>\n",
       "<tr>\n",
       "  <th>CompPrice</th>   <td>    0.0939</td> <td>    0.008</td> <td>   12.051</td> <td> 0.000</td> <td>    0.079</td> <td>    0.109</td>\n",
       "</tr>\n",
       "<tr>\n",
       "  <th>Income</th>      <td>    0.0131</td> <td>    0.003</td> <td>    3.779</td> <td> 0.000</td> <td>    0.006</td> <td>    0.020</td>\n",
       "</tr>\n",
       "<tr>\n",
       "  <th>Advertising</th> <td>    0.1306</td> <td>    0.015</td> <td>    8.963</td> <td> 0.000</td> <td>    0.102</td> <td>    0.159</td>\n",
       "</tr>\n",
       "<tr>\n",
       "  <th>Price</th>       <td>   -0.0925</td> <td>    0.005</td> <td>  -18.347</td> <td> 0.000</td> <td>   -0.102</td> <td>   -0.083</td>\n",
       "</tr>\n",
       "<tr>\n",
       "  <th>Age</th>         <td>   -0.0450</td> <td>    0.006</td> <td>   -7.503</td> <td> 0.000</td> <td>   -0.057</td> <td>   -0.033</td>\n",
       "</tr>\n",
       "</table>\n",
       "<table class=\"simpletable\">\n",
       "<tr>\n",
       "  <th>Omnibus:</th>       <td> 9.073</td> <th>  Durbin-Watson:     </th> <td>   1.963</td>\n",
       "</tr>\n",
       "<tr>\n",
       "  <th>Prob(Omnibus):</th> <td> 0.011</td> <th>  Jarque-Bera (JB):  </th> <td>   8.154</td>\n",
       "</tr>\n",
       "<tr>\n",
       "  <th>Skew:</th>          <td> 0.288</td> <th>  Prob(JB):          </th> <td>  0.0170</td>\n",
       "</tr>\n",
       "<tr>\n",
       "  <th>Kurtosis:</th>      <td> 2.602</td> <th>  Cond. No.          </th> <td>1.89e+03</td>\n",
       "</tr>\n",
       "</table><br/><br/>Notes:<br/>[1] Standard Errors assume that the covariance matrix of the errors is correctly specified.<br/>[2] The condition number is large, 1.89e+03. This might indicate that there are<br/>strong multicollinearity or other numerical problems."
      ],
      "text/plain": [
       "<class 'statsmodels.iolib.summary.Summary'>\n",
       "\"\"\"\n",
       "                            OLS Regression Results                            \n",
       "==============================================================================\n",
       "Dep. Variable:                  Sales   R-squared:                       0.540\n",
       "Model:                            OLS   Adj. R-squared:                  0.534\n",
       "Method:                 Least Squares   F-statistic:                     92.62\n",
       "Date:                Tue, 06 Sep 2022   Prob (F-statistic):           2.70e-64\n",
       "Time:                        01:23:56   Log-Likelihood:                -826.92\n",
       "No. Observations:                 400   AIC:                             1666.\n",
       "Df Residuals:                     394   BIC:                             1690.\n",
       "Df Model:                           5                                         \n",
       "Covariance Type:            nonrobust                                         \n",
       "===============================================================================\n",
       "                  coef    std err          t      P>|t|      [0.025      0.975]\n",
       "-------------------------------------------------------------------------------\n",
       "Intercept       7.1092      0.944      7.531      0.000       5.253       8.965\n",
       "CompPrice       0.0939      0.008     12.051      0.000       0.079       0.109\n",
       "Income          0.0131      0.003      3.779      0.000       0.006       0.020\n",
       "Advertising     0.1306      0.015      8.963      0.000       0.102       0.159\n",
       "Price          -0.0925      0.005    -18.347      0.000      -0.102      -0.083\n",
       "Age            -0.0450      0.006     -7.503      0.000      -0.057      -0.033\n",
       "==============================================================================\n",
       "Omnibus:                        9.073   Durbin-Watson:                   1.963\n",
       "Prob(Omnibus):                  0.011   Jarque-Bera (JB):                8.154\n",
       "Skew:                           0.288   Prob(JB):                       0.0170\n",
       "Kurtosis:                       2.602   Cond. No.                     1.89e+03\n",
       "==============================================================================\n",
       "\n",
       "Notes:\n",
       "[1] Standard Errors assume that the covariance matrix of the errors is correctly specified.\n",
       "[2] The condition number is large, 1.89e+03. This might indicate that there are\n",
       "strong multicollinearity or other numerical problems.\n",
       "\"\"\""
      ]
     },
     "execution_count": 49,
     "metadata": {},
     "output_type": "execute_result"
    }
   ],
   "source": [
    "#후진제거법\n",
    "def backward_elimination(df, dep_var, ind_vars, select_criteria = \"AIC\", return_case = \"s\"):\n",
    "    alpha = 0.05\n",
    "    selected_vars = ind_vars.copy()\n",
    "    eliminated_vars = []\n",
    "    done = False\n",
    "    \n",
    "    while done is False:\n",
    "        #step1 : 변수 하나씩을 제외한 n개의 모델을 만들어낸다. (n : 변수 갯수)\n",
    "        model_result_list = []\n",
    "        for var in selected_vars:\n",
    "            var_list = ind_vars.copy()\n",
    "            if len(eliminated_vars)>0:\n",
    "                for el_var in eliminated_vars:\n",
    "                    var_list.remove(el_var)\n",
    "            var_list.remove(var)\n",
    "            this_ind_vars_str = \" + \".join(var_list)\n",
    "            this_model_fit = smf.ols(dep_var+\" ~ \"+this_ind_vars_str, data=df).fit()\n",
    "            this_result = {\n",
    "                \"selected var\" : this_ind_vars_str,\n",
    "                \"eliminated var\" : var,            \n",
    "                \"AIC\" : this_model_fit.aic,\n",
    "                \"rsquared_adj\" : this_model_fit.rsquared_adj\n",
    "            }\n",
    "            model_result_list.append(this_result)\n",
    "        result = pd.DataFrame(model_result_list)\n",
    "        #step2 : n개 모델들 중 가장 좋은 결과를 보인 모델을 선택하고, 제외 후보 변수를 찾는다.\n",
    "        ascending = True\n",
    "        if select_criteria == \"rsquared_adj\":\n",
    "            ascending = False\n",
    "        result.sort_values(by=select_criteria, ascending=ascending, inplace=True)\n",
    "        candidate_var = result.iloc[0, [1]].values[0]\n",
    "        #step3 : 제외 후보 변수로 fitting하여 p-value를 알아보고 유의하다면 종료한다.\n",
    "        candidate_model_fit = smf.ols(dep_var+\" ~ \"+candidate_var, data=df).fit()\n",
    "        if candidate_model_fit.pvalues[candidate_var] > alpha: #유의하지 않다면\n",
    "            eliminated_vars.append(candidate_var) #제거확정\n",
    "            selected_vars.remove(candidate_var)\n",
    "            print(\"{} 변수를 제거합니다.\".format(candidate_var))\n",
    "        else: #유의하다면 종료한다\n",
    "            done = True\n",
    "    if return_case == \"s\":\n",
    "        print(\"후보 독립변수들 : {}\".format(ind_vars))\n",
    "        print(\"후진제거법에 의해 선택된 최종 변수들 : {}\".format(selected_vars))\n",
    "        return selected_vars\n",
    "    elif return_case == \"e\":\n",
    "        return eliminated_vars\n",
    "\n",
    "indi_var_list = [\"CompPrice\", \"Income\", \"Advertising\", \"Population\", \"Price\", \"Age\", \"Education\"]\n",
    "selected_vars = backward_elimination(df, \"Sales\", indi_var_list, \"AIC\")\n",
    "\n",
    "#후진 제거법에 의해 선택된 변수만으로 회귀분석을 해본다.\n",
    "indi_var_formula = \"+\".join(selected_vars)\n",
    "model = smf.ols(\"Sales ~ \"+indi_var_formula, df)\n",
    "model.fit().summary()"
   ]
  },
  {
   "cell_type": "code",
   "execution_count": 51,
   "metadata": {},
   "outputs": [
    {
     "name": "stdout",
     "output_type": "stream",
     "text": [
      "ShapiroResult(statistic=0.9853094220161438, pvalue=0.00044237810652703047)\n"
     ]
    },
    {
     "data": {
      "image/png": "[encoded data removed]",
      "text/plain": [
       "<Figure size 432x288 with 1 Axes>"
      ]
     },
     "metadata": {
      "needs_background": "light"
     },
     "output_type": "display_data"
    },
    {
     "data": {
      "text/plain": [
       "[<matplotlib.lines.Line2D at 0x22813294d30>]"
      ]
     },
     "execution_count": 51,
     "metadata": {},
     "output_type": "execute_result"
    },
    {
     "data": {
      "image/png": "[encoded data removed]",
      "text/plain": [
       "<Figure size 432x288 with 1 Axes>"
      ]
     },
     "metadata": {
      "needs_background": "light"
     },
     "output_type": "display_data"
    }
   ],
   "source": [
    "#잔차 분석을 수행해 본다.\n",
    "import matplotlib.pyplot as plt\n",
    "predict = model.fit().predict(df)\n",
    "predict.name=\"predict\"\n",
    "\n",
    "residual = df[\"Sales\"] - predict\n",
    "residual.name=\"residual\"\n",
    "\n",
    "print(stats.shapiro(residual))\n",
    "\n",
    "# 2. Q-Q plot으로 시각화하여 정규성 체크\n",
    "#    X축은 정규분포곡선의 확률분포 위치값\n",
    "#    Y축은 잔차가 정규분포곡선의 분포와 비교해 얼마나 떨어져 있는지의 값\n",
    "#    붉은선에서 벗어나 있으면(대각선이 아니면) 정규성 없다고 봄\n",
    "\n",
    "stats.probplot(residual, plot=plt)\n",
    "plt.title(\"Q-Q plot\")\n",
    "plt.show()\n",
    "\n",
    "#잔차의 등분산성 검증\n",
    "#붉은색 선이 직선에 가까우면 등분산으로 볼 수 있음\n",
    "sns.regplot(x=predict, y=residual, lowess=True, line_kws={'color': 'red'})\n",
    "plt.plot([predict.min(), predict.max()], [0, 0], '--', color='grey')"
   ]
  },
  {
   "cell_type": "code",
   "execution_count": null,
   "metadata": {},
   "outputs": [],
   "source": []
  }
 ],
 "metadata": {
  "kernelspec": {
   "display_name": "Python 3.10.6 64-bit",
   "language": "python",
   "name": "python3"
  },
  "language_info": {
   "codemirror_mode": {
    "name": "ipython",
    "version": 3
   },
   "file_extension": ".py",
   "mimetype": "text/x-python",
   "name": "python",
   "nbconvert_exporter": "python",
   "pygments_lexer": "ipython3",
   "version": "3.10.6"
  },
  "orig_nbformat": 4,
  "vscode": {
   "interpreter": {
    "hash": "3bca2543b8101edd63d2d1b99aee8dd9a39c6a97fc4f450cf710205e940bdbfe"
   }
  }
 },
 "nbformat": 4,
 "nbformat_minor": 2
}
